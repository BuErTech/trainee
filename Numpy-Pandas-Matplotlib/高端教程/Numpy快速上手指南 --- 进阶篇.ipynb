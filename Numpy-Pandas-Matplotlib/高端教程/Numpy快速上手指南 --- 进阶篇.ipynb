{
 "cells": [
  {
   "cell_type": "markdown",
   "metadata": {
    "id": "5F6F2F8A02A04BBE8FAABA4AFC81C17C"
   },
   "source": [
    "# <center>Numpy快速上手指南 --- 进阶篇</center>\n",
    "\n",
    "这篇文档是参加**「DATA TRAIN|金融行业数据算法练习赛」**的前期学习素材。\n",
    "\n",
    "文档内容转载整理自知乎文章 [Nupmy的详细教程](https://zhuanlan.zhihu.com/p/24988491) 及Scipy官网 [Numpy Quickstart Tutorial](https://docs.scipy.org/doc/numpy-dev/user/quickstart.html)，**将其中的代码在K-Lab上实现Python3下的复盘**，分为基础篇和**进阶篇（本文）**。欢迎点击右上角**「Fork」**按钮动手调试学习Python代码。\n",
    "\n",
    "转载本文请联系 [科赛网](https//:www.kesci.com) 及 [知乎文章原作者](https://www.zhihu.com/people/wen-yi-yang-81/activities) 取得授权，**科赛网**是聚合数据人才和行业问题的在线社区，率先打造国内首款K-Lab 在线数据分析协作平台，为数据工作者的学习与工作带来全新的体验\n",
    "\n",
    "**内容索引**\n",
    "* 1.广播法则\n",
    "* 2.花哨的索引和索引技巧\n",
    "* 3.线性代数\n",
    "* 4.技巧和提示"
   ]
  },
  {
   "cell_type": "markdown",
   "metadata": {
    "id": "E43733000DFF461C803FC15CD4AA191E"
   },
   "source": [
    "## 1. 广播法则(rule)\n",
    "\n",
    "广播法则能使通用函数有意义地处理不具有相同形状的输入。\n",
    "\n",
    "* 广播第一法则：如果所有的输入数组维度不都相同，一个“1”将被重复地添加在维度较小的数组上直至所有的数组拥有一样的维度。\n",
    "\n",
    "* 广播第二法则：确定长度为1的数组沿着特殊的方向表现地好像它有沿着那个方向最大形状的大小。对数组来说，沿着那个维度的数组元素的值理应相同。\n",
    "\n",
    "应用广播法则之后，所有数组的大小必须匹配。更多细节可以从这个[文档找到]。"
   ]
  },
  {
   "cell_type": "markdown",
   "metadata": {
    "id": "BFEC603D9CC6468694E16C2BF36DC923"
   },
   "source": [
    "## 2. 花哨的索引和索引技巧\n",
    "Numpy比普通```Python```序列提供更多的索引功能。除了索引整数和切片，正如我们之前看到的，数组可以被整数数组和布尔数组索引。\n",
    "\n",
    "### 通过数组索引"
   ]
  },
  {
   "cell_type": "code",
   "execution_count": 1,
   "metadata": {
    "id": "8DA84606BC724DBCAD7CC2E8C00B7B57"
   },
   "outputs": [
    {
     "data": {
      "text/plain": [
       "array([ 1,  1,  9, 64, 25])"
      ]
     },
     "execution_count": 1,
     "metadata": {},
     "output_type": "execute_result"
    }
   ],
   "source": [
    "from numpy import * \n",
    "a = arange(12)**2                          # the first 12 square numbers\n",
    "i = array( [ 1,1,3,8,5 ] )                 # an array of indices\n",
    "a[i]                                       # the elements of a at the positions i"
   ]
  },
  {
   "cell_type": "code",
   "execution_count": 2,
   "metadata": {
    "id": "4D9ECBCDE83A42BE86E3248B7B560E7D"
   },
   "outputs": [
    {
     "data": {
      "text/plain": [
       "array([[ 9, 16],\n",
       "       [81, 49]])"
      ]
     },
     "execution_count": 2,
     "metadata": {},
     "output_type": "execute_result"
    }
   ],
   "source": [
    "j = array( [ [ 3, 4], [ 9, 7 ] ] )         # a bidimensional array of indices\n",
    "a[j]                                       # the same shape as j"
   ]
  },
  {
   "cell_type": "markdown",
   "metadata": {
    "id": "8D42C0CB6C0941FAB448A6184F69FE76"
   },
   "source": [
    "当被索引数组a是多维的时，每一个唯一的索引数列指向a的第一维5。以下示例通过将图片标签用调色版转换成色彩图像展示了这种行为。"
   ]
  },
  {
   "cell_type": "code",
   "execution_count": 3,
   "metadata": {
    "id": "0488F62409B94118ACA7589272C3A4C4"
   },
   "outputs": [
    {
     "data": {
      "text/plain": [
       "array([[[  0,   0,   0],\n",
       "        [255,   0,   0],\n",
       "        [  0, 255,   0],\n",
       "        [  0,   0,   0]],\n",
       "\n",
       "       [[  0,   0,   0],\n",
       "        [  0,   0, 255],\n",
       "        [255, 255, 255],\n",
       "        [  0,   0,   0]]])"
      ]
     },
     "execution_count": 3,
     "metadata": {},
     "output_type": "execute_result"
    }
   ],
   "source": [
    "palette = array( [ [0,0,0],                # 黑色\n",
    "                   [255,0,0],              # 红色\n",
    "                   [0,255,0],              # 绿色\n",
    "                   [0,0,255],              # 蓝色\n",
    "                   [255,255,255] ] )       # 白色\n",
    "image = array( [ [ 0, 1, 2, 0 ],           # each value corresponds to a color in the palette\n",
    "                 [ 0, 3, 4, 0 ]  ] )\n",
    "palette[image]                            # the (2,4,3) color image"
   ]
  },
  {
   "cell_type": "markdown",
   "metadata": {
    "id": "D585BB2EFE6D43C7B41D153FAEE5B10C"
   },
   "source": [
    "我们也可以给出不不止一维的索引，每一维的索引数组必须有相同的形状。"
   ]
  },
  {
   "cell_type": "code",
   "execution_count": 4,
   "metadata": {
    "id": "8DFF537E3EAC4CA78B915D110FB7C77D"
   },
   "outputs": [
    {
     "data": {
      "text/plain": [
       "array([[ 0,  1,  2,  3],\n",
       "       [ 4,  5,  6,  7],\n",
       "       [ 8,  9, 10, 11]])"
      ]
     },
     "execution_count": 4,
     "metadata": {},
     "output_type": "execute_result"
    }
   ],
   "source": [
    "a = arange(12).reshape(3,4)\n",
    "a"
   ]
  },
  {
   "cell_type": "code",
   "execution_count": 5,
   "metadata": {
    "collapsed": true,
    "id": "ECABE0C4D7004CB08EB57D3614B6B71B"
   },
   "outputs": [],
   "source": [
    "i = array( [ [0,1],                        # indices for the first dim of a\n",
    "             [1,2] ] )"
   ]
  },
  {
   "cell_type": "code",
   "execution_count": 6,
   "metadata": {
    "collapsed": true,
    "id": "E425A822682C44F0AD0473C4519A49CE"
   },
   "outputs": [],
   "source": [
    "j = array( [ [2,1],                        # indices for the second dim\n",
    "             [3,3] ] )"
   ]
  },
  {
   "cell_type": "code",
   "execution_count": 7,
   "metadata": {
    "id": "A40A2AA348A34F13A4AB93CE7A965854"
   },
   "outputs": [
    {
     "data": {
      "text/plain": [
       "array([[ 2,  5],\n",
       "       [ 7, 11]])"
      ]
     },
     "execution_count": 7,
     "metadata": {},
     "output_type": "execute_result"
    }
   ],
   "source": [
    "a[i,j]                                     # i and j must have equal shape"
   ]
  },
  {
   "cell_type": "code",
   "execution_count": 8,
   "metadata": {
    "id": "944D2F19946E42FF889E3A236E5CDDA6"
   },
   "outputs": [
    {
     "data": {
      "text/plain": [
       "array([[ 2,  6],\n",
       "       [ 6, 10]])"
      ]
     },
     "execution_count": 8,
     "metadata": {},
     "output_type": "execute_result"
    }
   ],
   "source": [
    "a[i,2]"
   ]
  },
  {
   "cell_type": "code",
   "execution_count": 9,
   "metadata": {
    "id": "3E0DA99486AB4DF98D57040DE8209871"
   },
   "outputs": [
    {
     "data": {
      "text/plain": [
       "array([[[ 2,  1],\n",
       "        [ 3,  3]],\n",
       "\n",
       "       [[ 6,  5],\n",
       "        [ 7,  7]],\n",
       "\n",
       "       [[10,  9],\n",
       "        [11, 11]]])"
      ]
     },
     "execution_count": 9,
     "metadata": {},
     "output_type": "execute_result"
    }
   ],
   "source": [
    "a[:,j]                                     # i.e., a[ : , j]"
   ]
  },
  {
   "cell_type": "markdown",
   "metadata": {
    "id": "76E56854382341998E4060FFDCE1C8B3"
   },
   "source": [
    "自然，我们可以把i和j放到序列中(比如说列表)然后通过list索引。"
   ]
  },
  {
   "cell_type": "code",
   "execution_count": 10,
   "metadata": {
    "id": "847668D5453242D7A7F5009DBC97D4C7"
   },
   "outputs": [
    {
     "data": {
      "text/plain": [
       "array([[ 2,  5],\n",
       "       [ 7, 11]])"
      ]
     },
     "execution_count": 10,
     "metadata": {},
     "output_type": "execute_result"
    }
   ],
   "source": [
    "l = [i,j]\n",
    "a[l]                                       # 与 a[i,j] 相等"
   ]
  },
  {
   "cell_type": "markdown",
   "metadata": {
    "id": "B43835B53BEB40E482E71BDBBFB865AE"
   },
   "source": [
    "**然而，我们不能把i和j放在一个数组中，因为这个数组将被解释成索引a的第一维**。\n",
    "\n",
    "```python\n",
    "s = array( [i,j] )\n",
    "a[s]                                       # not what we want\n",
    "# ---------------------------------------------------------------------------\n",
    "# IndexError                                Traceback (most recent call last)\n",
    "# <ipython-input-100-b912f631cc75> in <module>()\n",
    "# ----> 1 a[s]\n",
    "\n",
    "# IndexError: index (3) out of range (0<=index<2) in dimension 0\n",
    "a[tuple(s)]                                # same as a[i,j]\n",
    "```"
   ]
  },
  {
   "cell_type": "markdown",
   "metadata": {
    "id": "1F129E5A9F254DB787BB9F9B9BE2BB44"
   },
   "source": [
    "另一个常用的数组索引用法是搜索时间序列最大值6。"
   ]
  },
  {
   "cell_type": "code",
   "execution_count": 12,
   "metadata": {
    "id": "398C09A4BDE340519485C9903541C8FD"
   },
   "outputs": [
    {
     "data": {
      "text/plain": [
       "array([  20.  ,   51.25,   82.5 ,  113.75,  145.  ])"
      ]
     },
     "execution_count": 12,
     "metadata": {},
     "output_type": "execute_result"
    }
   ],
   "source": [
    "time = linspace(20, 145, 5)                 # time scale\n",
    "data = sin(arange(20)).reshape(5,4)         # 4 time-dependent series\n",
    "time"
   ]
  },
  {
   "cell_type": "code",
   "execution_count": 13,
   "metadata": {
    "id": "503AC2E680F54D298490DBF9D6610E38"
   },
   "outputs": [
    {
     "data": {
      "text/plain": [
       "array([[ 0.        ,  0.84147098,  0.90929743,  0.14112001],\n",
       "       [-0.7568025 , -0.95892427, -0.2794155 ,  0.6569866 ],\n",
       "       [ 0.98935825,  0.41211849, -0.54402111, -0.99999021],\n",
       "       [-0.53657292,  0.42016704,  0.99060736,  0.65028784],\n",
       "       [-0.28790332, -0.96139749, -0.75098725,  0.14987721]])"
      ]
     },
     "execution_count": 13,
     "metadata": {},
     "output_type": "execute_result"
    }
   ],
   "source": [
    "data"
   ]
  },
  {
   "cell_type": "code",
   "execution_count": 14,
   "metadata": {
    "id": "D2EB0459D6B94BF88FC7C32E83A3A420"
   },
   "outputs": [
    {
     "data": {
      "text/plain": [
       "array([2, 0, 3, 1])"
      ]
     },
     "execution_count": 14,
     "metadata": {},
     "output_type": "execute_result"
    }
   ],
   "source": [
    "ind = data.argmax(axis=0)                   # index of the maxima for each series\n",
    "ind "
   ]
  },
  {
   "cell_type": "code",
   "execution_count": 15,
   "metadata": {
    "id": "8C7AA490D58143C680FBAAC6C9EE3EB8"
   },
   "outputs": [
    {
     "data": {
      "text/plain": [
       "array([  82.5 ,   20.  ,  113.75,   51.25])"
      ]
     },
     "execution_count": 15,
     "metadata": {},
     "output_type": "execute_result"
    }
   ],
   "source": [
    "time_max = time[ ind]                       # times corresponding to the maxima\n",
    "data_max = data[ind, range(data.shape[1])] # => data[ind[0],0], data[ind[1],1]...\n",
    "time_max"
   ]
  },
  {
   "cell_type": "code",
   "execution_count": 16,
   "metadata": {
    "id": "2EA359096C004D07913D9CF736738477"
   },
   "outputs": [
    {
     "data": {
      "text/plain": [
       "array([ 0.98935825,  0.84147098,  0.99060736,  0.6569866 ])"
      ]
     },
     "execution_count": 16,
     "metadata": {},
     "output_type": "execute_result"
    }
   ],
   "source": [
    "data_max"
   ]
  },
  {
   "cell_type": "code",
   "execution_count": 17,
   "metadata": {
    "id": "734683BCB491475F9B2C2EFB1E8D8BB0"
   },
   "outputs": [
    {
     "data": {
      "text/plain": [
       "True"
      ]
     },
     "execution_count": 17,
     "metadata": {},
     "output_type": "execute_result"
    }
   ],
   "source": [
    "all(data_max == data.max(axis=0))   # True"
   ]
  },
  {
   "cell_type": "markdown",
   "metadata": {
    "id": "3541BD2631C14621818A7CA5F441E80D"
   },
   "source": [
    "你也可以使用数组索引作为目标来赋值："
   ]
  },
  {
   "cell_type": "code",
   "execution_count": 18,
   "metadata": {
    "id": "EA3A5688CB6E44849EFED2D2699E7DF9"
   },
   "outputs": [
    {
     "data": {
      "text/plain": [
       "array([0, 1, 2, 3, 4])"
      ]
     },
     "execution_count": 18,
     "metadata": {},
     "output_type": "execute_result"
    }
   ],
   "source": [
    "a = arange(5)\n",
    "a "
   ]
  },
  {
   "cell_type": "code",
   "execution_count": 19,
   "metadata": {
    "id": "F245DFE929334B62AA91A5B67661BFBE"
   },
   "outputs": [
    {
     "data": {
      "text/plain": [
       "array([0, 0, 2, 0, 0])"
      ]
     },
     "execution_count": 19,
     "metadata": {},
     "output_type": "execute_result"
    }
   ],
   "source": [
    "a[[1,3,4]] = 0\n",
    "a "
   ]
  },
  {
   "cell_type": "markdown",
   "metadata": {
    "id": "853DF4F56DD146B08D322832C8C061EA"
   },
   "source": [
    "然而，当一个索引列表包含重复时，赋值被多次完成，保留最后的值："
   ]
  },
  {
   "cell_type": "code",
   "execution_count": 20,
   "metadata": {
    "id": "93C8526B153F4AE591A06FEC672F8DE3"
   },
   "outputs": [
    {
     "data": {
      "text/plain": [
       "array([2, 1, 3, 3, 4])"
      ]
     },
     "execution_count": 20,
     "metadata": {},
     "output_type": "execute_result"
    }
   ],
   "source": [
    "a = arange(5)\n",
    "a[[0,0,2]]=[1,2,3]\n",
    "a  "
   ]
  },
  {
   "cell_type": "markdown",
   "metadata": {
    "id": "1ACFDCDD84964E6886F144D431A6126F"
   },
   "source": [
    "这足够合理，但是小心如果你想用Python的+=结构，可能结果并非你所期望："
   ]
  },
  {
   "cell_type": "code",
   "execution_count": 21,
   "metadata": {
    "id": "F47E97710FB24ECA8258228D00D3F8FA"
   },
   "outputs": [
    {
     "data": {
      "text/plain": [
       "array([1, 1, 3, 3, 4])"
      ]
     },
     "execution_count": 21,
     "metadata": {},
     "output_type": "execute_result"
    }
   ],
   "source": [
    "a = arange(5)\n",
    "a[[0,0,2]]+=1\n",
    "a "
   ]
  },
  {
   "cell_type": "markdown",
   "metadata": {
    "id": "5C007F6A2F02448EA4A7C794CC0D503D"
   },
   "source": [
    "即使0在索引列表中出现两次，索引为0的元素仅仅增加一次。**这是因为```Python```要求```a+=1```和```a=a+1```等同**。"
   ]
  },
  {
   "cell_type": "markdown",
   "metadata": {
    "id": "9CE8BE7462C24ADF96717F5469F8B637"
   },
   "source": [
    "### 通过布尔数组索引\n",
    "当我们使用整数数组索引数组时，我们提供一个索引列表去选择。通过布尔数组索引的方法是不同的我们显式地选择数组中我们想要和不想要的元素。    \n",
    "我们能想到的使用布尔数组的索引最自然方式就是使用和原数组一样形状的布尔数组。"
   ]
  },
  {
   "cell_type": "code",
   "execution_count": 22,
   "metadata": {
    "id": "5D0B8A04A82648DF898B12136DCF0C19"
   },
   "outputs": [
    {
     "data": {
      "text/plain": [
       "array([[False, False, False, False],\n",
       "       [False,  True,  True,  True],\n",
       "       [ True,  True,  True,  True]], dtype=bool)"
      ]
     },
     "execution_count": 22,
     "metadata": {},
     "output_type": "execute_result"
    }
   ],
   "source": [
    "a = arange(12).reshape(3,4)\n",
    "b = a > 4\n",
    "b       # b is a boolean with a's shape"
   ]
  },
  {
   "cell_type": "code",
   "execution_count": 23,
   "metadata": {
    "id": "2F436EC52DE4418B8F79B217597E5166"
   },
   "outputs": [
    {
     "data": {
      "text/plain": [
       "array([ 5,  6,  7,  8,  9, 10, 11])"
      ]
     },
     "execution_count": 23,
     "metadata": {},
     "output_type": "execute_result"
    }
   ],
   "source": [
    "a[b]    # 1d array with the selected elements"
   ]
  },
  {
   "cell_type": "markdown",
   "metadata": {
    "id": "45818D963C7E4D428D0609E4B6E0372D"
   },
   "source": [
    "这个属性在赋值时非常有用："
   ]
  },
  {
   "cell_type": "code",
   "execution_count": 24,
   "metadata": {
    "id": "CC5D192359B74067814B53B1615C186F"
   },
   "outputs": [
    {
     "data": {
      "text/plain": [
       "array([[0, 1, 2, 3],\n",
       "       [4, 0, 0, 0],\n",
       "       [0, 0, 0, 0]])"
      ]
     },
     "execution_count": 24,
     "metadata": {},
     "output_type": "execute_result"
    }
   ],
   "source": [
    "a[b] = 0    # All elements of 'a' higher than 4 become 0\n",
    "a"
   ]
  },
  {
   "cell_type": "markdown",
   "metadata": {
    "id": "1F0D38A987C843398A899FB4CED5BA76"
   },
   "source": [
    "你可以参考曼德博集合示例看看如何使用布尔索引来生成曼德博集合的图像。\n",
    "\n",
    "第二种通过布尔来索引的方法更近似于整数索引；对数组的每个维度我们给一个一维布尔数组来选择我们想要的切片。"
   ]
  },
  {
   "cell_type": "code",
   "execution_count": 25,
   "metadata": {
    "id": "AE623CE141B44C58A3356ACD00C537C7"
   },
   "outputs": [
    {
     "data": {
      "text/plain": [
       "array([[ 4,  5,  6,  7],\n",
       "       [ 8,  9, 10, 11]])"
      ]
     },
     "execution_count": 25,
     "metadata": {},
     "output_type": "execute_result"
    }
   ],
   "source": [
    "a = arange(12).reshape(3,4)\n",
    "b1 = array([False,True,True])             # first dim selection\n",
    "b2 = array([True,False,True,False])       # second dim selection\n",
    "a[b1,:]                                   # selecting rows"
   ]
  },
  {
   "cell_type": "code",
   "execution_count": 26,
   "metadata": {
    "id": "861433CE6C6649309742F7882825832B"
   },
   "outputs": [
    {
     "data": {
      "text/plain": [
       "array([[ 4,  5,  6,  7],\n",
       "       [ 8,  9, 10, 11]])"
      ]
     },
     "execution_count": 26,
     "metadata": {},
     "output_type": "execute_result"
    }
   ],
   "source": [
    "a[b1]                                     # same thing"
   ]
  },
  {
   "cell_type": "code",
   "execution_count": 27,
   "metadata": {
    "id": "39075509BAE54D08AB99DC3CFB301A17"
   },
   "outputs": [
    {
     "data": {
      "text/plain": [
       "array([[ 0,  2],\n",
       "       [ 4,  6],\n",
       "       [ 8, 10]])"
      ]
     },
     "execution_count": 27,
     "metadata": {},
     "output_type": "execute_result"
    }
   ],
   "source": [
    "a[:,b2]                                   # selecting columns"
   ]
  },
  {
   "cell_type": "code",
   "execution_count": 28,
   "metadata": {
    "id": "014F39592EBA463594B756D13D4FAA73"
   },
   "outputs": [
    {
     "data": {
      "text/plain": [
       "array([ 4, 10])"
      ]
     },
     "execution_count": 28,
     "metadata": {},
     "output_type": "execute_result"
    }
   ],
   "source": [
    "a[b1,b2]                                  # a weird thing to do"
   ]
  },
  {
   "cell_type": "markdown",
   "metadata": {
    "id": "25BDF8B387FD4DA8B005F5099F775599"
   },
   "source": [
    "注意一维数组的长度必须和你想要切片的维度或轴的长度一致，在之前的例子中，b1是一个秩为1长度为三的数组(a的行数)，b2(长度为4)与a的第二秩(列)相一致。"
   ]
  },
  {
   "cell_type": "markdown",
   "metadata": {
    "id": "DB7AA940E5AB474C84E76574077D7818"
   },
   "source": [
    "### ```ix_()```函数"
   ]
  },
  {
   "cell_type": "markdown",
   "metadata": {
    "id": "8F2D0F3AA9FD48C98141CD3EE0415D03"
   },
   "source": [
    "```ix_```函数可以为了获得多元组的结果而用来结合不同向量。例如，如果你想要用所有向量```a```、```b```和```c```元素组成的三元组来计算```a+b*c```："
   ]
  },
  {
   "cell_type": "code",
   "execution_count": 29,
   "metadata": {
    "collapsed": true,
    "id": "6B3830BC1FA84FEB875D59B0335E68D3"
   },
   "outputs": [],
   "source": [
    "a = array([2,3,4,5])\n",
    "b = array([8,5,4])\n",
    "c = array([5,4,6,8,3])\n",
    "ax,bx,cx = ix_(a,b,c)"
   ]
  },
  {
   "cell_type": "code",
   "execution_count": 30,
   "metadata": {
    "id": "7BB468C8DB51480F917C2607B7F14C8E"
   },
   "outputs": [
    {
     "data": {
      "text/plain": [
       "array([[[2]],\n",
       "\n",
       "       [[3]],\n",
       "\n",
       "       [[4]],\n",
       "\n",
       "       [[5]]])"
      ]
     },
     "execution_count": 30,
     "metadata": {},
     "output_type": "execute_result"
    }
   ],
   "source": [
    "ax"
   ]
  },
  {
   "cell_type": "code",
   "execution_count": 31,
   "metadata": {
    "id": "759060180AAD4301995D750ACF206589"
   },
   "outputs": [
    {
     "data": {
      "text/plain": [
       "array([[[8],\n",
       "        [5],\n",
       "        [4]]])"
      ]
     },
     "execution_count": 31,
     "metadata": {},
     "output_type": "execute_result"
    }
   ],
   "source": [
    "bx"
   ]
  },
  {
   "cell_type": "code",
   "execution_count": 32,
   "metadata": {
    "id": "BDFE7274D97445E49C28C62DEDB5035D"
   },
   "outputs": [
    {
     "data": {
      "text/plain": [
       "array([[[5, 4, 6, 8, 3]]])"
      ]
     },
     "execution_count": 32,
     "metadata": {},
     "output_type": "execute_result"
    }
   ],
   "source": [
    "cx "
   ]
  },
  {
   "cell_type": "code",
   "execution_count": 33,
   "metadata": {
    "id": "25C8623532264D73A14A819F7158D8DB"
   },
   "outputs": [
    {
     "data": {
      "text/plain": [
       "((4, 1, 1), (1, 3, 1), (1, 1, 5))"
      ]
     },
     "execution_count": 33,
     "metadata": {},
     "output_type": "execute_result"
    }
   ],
   "source": [
    "ax.shape, bx.shape, cx.shape"
   ]
  },
  {
   "cell_type": "code",
   "execution_count": 34,
   "metadata": {
    "id": "A1F654ABB40D46BA86E66ADB031B2855"
   },
   "outputs": [
    {
     "data": {
      "text/plain": [
       "array([[[42, 34, 50, 66, 26],\n",
       "        [27, 22, 32, 42, 17],\n",
       "        [22, 18, 26, 34, 14]],\n",
       "\n",
       "       [[43, 35, 51, 67, 27],\n",
       "        [28, 23, 33, 43, 18],\n",
       "        [23, 19, 27, 35, 15]],\n",
       "\n",
       "       [[44, 36, 52, 68, 28],\n",
       "        [29, 24, 34, 44, 19],\n",
       "        [24, 20, 28, 36, 16]],\n",
       "\n",
       "       [[45, 37, 53, 69, 29],\n",
       "        [30, 25, 35, 45, 20],\n",
       "        [25, 21, 29, 37, 17]]])"
      ]
     },
     "execution_count": 34,
     "metadata": {},
     "output_type": "execute_result"
    }
   ],
   "source": [
    "result = ax+bx*cx\n",
    "result"
   ]
  },
  {
   "cell_type": "code",
   "execution_count": 35,
   "metadata": {
    "id": "3D7767EC94644C2787605504533D9D4A"
   },
   "outputs": [
    {
     "data": {
      "text/plain": [
       "17"
      ]
     },
     "execution_count": 35,
     "metadata": {},
     "output_type": "execute_result"
    }
   ],
   "source": [
    "result[3,2,4] "
   ]
  },
  {
   "cell_type": "code",
   "execution_count": 36,
   "metadata": {
    "id": "5ED26B4C305542918DA365FE048C206A"
   },
   "outputs": [
    {
     "data": {
      "text/plain": [
       "17"
      ]
     },
     "execution_count": 36,
     "metadata": {},
     "output_type": "execute_result"
    }
   ],
   "source": [
    "a[3]+b[2]*c[4] "
   ]
  },
  {
   "cell_type": "markdown",
   "metadata": {
    "id": "AC4C91D804A14745819B30C5E028A436"
   },
   "source": [
    "你也可以实行如下简化："
   ]
  },
  {
   "cell_type": "code",
   "execution_count": 37,
   "metadata": {
    "collapsed": true,
    "id": "C38FCE38203E4DB88410B0403C582B6A"
   },
   "outputs": [],
   "source": [
    "def ufunc_reduce(ufct, *vectors):\n",
    "    vs = ix_(*vectors)\n",
    "    r = ufct.identity\n",
    "    for v in vs:\n",
    "        r = ufct(r,v)\n",
    "    return r"
   ]
  },
  {
   "cell_type": "markdown",
   "metadata": {
    "id": "4A5D30B3D1B94251824FFA1A627F2044"
   },
   "source": [
    "然后这样使用它："
   ]
  },
  {
   "cell_type": "code",
   "execution_count": 38,
   "metadata": {
    "id": "E333FFB6E7C54C609E653E810351D66E"
   },
   "outputs": [
    {
     "data": {
      "text/plain": [
       "array([[[15, 14, 16, 18, 13],\n",
       "        [12, 11, 13, 15, 10],\n",
       "        [11, 10, 12, 14,  9]],\n",
       "\n",
       "       [[16, 15, 17, 19, 14],\n",
       "        [13, 12, 14, 16, 11],\n",
       "        [12, 11, 13, 15, 10]],\n",
       "\n",
       "       [[17, 16, 18, 20, 15],\n",
       "        [14, 13, 15, 17, 12],\n",
       "        [13, 12, 14, 16, 11]],\n",
       "\n",
       "       [[18, 17, 19, 21, 16],\n",
       "        [15, 14, 16, 18, 13],\n",
       "        [14, 13, 15, 17, 12]]])"
      ]
     },
     "execution_count": 38,
     "metadata": {},
     "output_type": "execute_result"
    }
   ],
   "source": [
    "ufunc_reduce(add,a,b,c)"
   ]
  },
  {
   "cell_type": "markdown",
   "metadata": {
    "id": "399399FB7C7F40ECBEFC5411F90C4356"
   },
   "source": [
    "这个```reduce```与```ufunc.reduce```(比如说```add.reduce```)相比的优势在于它利用了广播法则，避免了创建一个输出大小乘以向量个数的参数数组。"
   ]
  },
  {
   "cell_type": "markdown",
   "metadata": {
    "id": "05BB56A8649C4F3183BB52A48167203B"
   },
   "source": [
    "### 用字符串索引\n",
    "\n",
    "参见 [RecordArray](https://docs.scipy.org/doc/numpy-1.13.0/user/basics.rec.html)"
   ]
  },
  {
   "cell_type": "markdown",
   "metadata": {
    "id": "A765941D6981495C83AA4CB92620E4B6"
   },
   "source": [
    "## 线性代数\n",
    "\n",
    "### 简单数组运算"
   ]
  },
  {
   "cell_type": "code",
   "execution_count": 39,
   "metadata": {
    "id": "A888DA73A58C495587460E25D7DF7A40"
   },
   "outputs": [
    {
     "name": "stdout",
     "output_type": "stream",
     "text": [
      "[[ 1.  2.]\n",
      " [ 3.  4.]]\n"
     ]
    }
   ],
   "source": [
    "from numpy import *\n",
    "from numpy.linalg import *\n",
    "a = array([[1.0, 2.0], [3.0, 4.0]])\n",
    "print (a)"
   ]
  },
  {
   "cell_type": "code",
   "execution_count": 40,
   "metadata": {
    "id": "5A17F68CE27E4E8E8A19E1D2C593EF1B"
   },
   "outputs": [
    {
     "data": {
      "text/plain": [
       "array([[ 1.,  3.],\n",
       "       [ 2.,  4.]])"
      ]
     },
     "execution_count": 40,
     "metadata": {},
     "output_type": "execute_result"
    }
   ],
   "source": [
    "a.transpose()"
   ]
  },
  {
   "cell_type": "code",
   "execution_count": 41,
   "metadata": {
    "id": "F38EF668E1AC4077B35EEF254D74A723"
   },
   "outputs": [
    {
     "data": {
      "text/plain": [
       "array([[-2. ,  1. ],\n",
       "       [ 1.5, -0.5]])"
      ]
     },
     "execution_count": 41,
     "metadata": {},
     "output_type": "execute_result"
    }
   ],
   "source": [
    "inv(a)"
   ]
  },
  {
   "cell_type": "code",
   "execution_count": 42,
   "metadata": {
    "id": "2753E1F0CA9542E4A752B027C16F6EE9"
   },
   "outputs": [
    {
     "data": {
      "text/plain": [
       "array([[ 1.,  0.],\n",
       "       [ 0.,  1.]])"
      ]
     },
     "execution_count": 42,
     "metadata": {},
     "output_type": "execute_result"
    }
   ],
   "source": [
    "u = eye(2) # unit 2x2 matrix; \"eye\" represents \"I\"\n",
    "u"
   ]
  },
  {
   "cell_type": "code",
   "execution_count": 43,
   "metadata": {
    "id": "82D9C4F7040D4E1EA6D44CE40F843BE4"
   },
   "outputs": [
    {
     "data": {
      "text/plain": [
       "array([[-1.,  0.],\n",
       "       [ 0., -1.]])"
      ]
     },
     "execution_count": 43,
     "metadata": {},
     "output_type": "execute_result"
    }
   ],
   "source": [
    "j = array([[0.0, -1.0], [1.0, 0.0]])\n",
    "dot (j, j) # matrix product"
   ]
  },
  {
   "cell_type": "code",
   "execution_count": 44,
   "metadata": {
    "id": "58E1659647B145DE81AE94D442311963"
   },
   "outputs": [
    {
     "data": {
      "text/plain": [
       "2.0"
      ]
     },
     "execution_count": 44,
     "metadata": {},
     "output_type": "execute_result"
    }
   ],
   "source": [
    "trace(u)  # trace"
   ]
  },
  {
   "cell_type": "code",
   "execution_count": 45,
   "metadata": {
    "id": "D0D17CA568FF4C7488BB0A886FC9D28B"
   },
   "outputs": [
    {
     "data": {
      "text/plain": [
       "array([[-3.],\n",
       "       [ 4.]])"
      ]
     },
     "execution_count": 45,
     "metadata": {},
     "output_type": "execute_result"
    }
   ],
   "source": [
    "y = array([[5.], [7.]])\n",
    "solve(a, y)"
   ]
  },
  {
   "cell_type": "code",
   "execution_count": 46,
   "metadata": {
    "id": "44BE9BE4A08742E7B78C94A4793519CE"
   },
   "outputs": [
    {
     "data": {
      "text/plain": [
       "(array([ 0.+1.j,  0.-1.j]),\n",
       " array([[ 0.70710678+0.j        ,  0.70710678-0.j        ],\n",
       "        [ 0.00000000-0.70710678j,  0.00000000+0.70710678j]]))"
      ]
     },
     "execution_count": 46,
     "metadata": {},
     "output_type": "execute_result"
    }
   ],
   "source": [
    "eig(j)\n",
    "# Parameters:\n",
    "#     square matrix\n",
    "# Returns\n",
    "#     The eigenvalues, each repeated according to its multiplicity.\n",
    "#     The normalized (unit \"length\") eigenvectors, such that the\n",
    "#     column ``v[:,i]`` is the eigenvector corresponding to the\n",
    "#     eigenvalue ``w[i]`` "
   ]
  },
  {
   "cell_type": "markdown",
   "metadata": {
    "id": "E76E7BF27D174DF4A8E994B36269AD7D"
   },
   "source": [
    "### 矩阵类\n",
    "\n",
    "这是一个关于矩阵类的简短介绍。"
   ]
  },
  {
   "cell_type": "code",
   "execution_count": 47,
   "metadata": {
    "id": "60DBDB257B644E6D8D51F9914546FA52"
   },
   "outputs": [
    {
     "data": {
      "text/plain": [
       "matrix([[ 1.,  2.],\n",
       "        [ 3.,  4.]])"
      ]
     },
     "execution_count": 47,
     "metadata": {},
     "output_type": "execute_result"
    }
   ],
   "source": [
    "A = matrix('1.0 2.0; 3.0 4.0')\n",
    "A"
   ]
  },
  {
   "cell_type": "code",
   "execution_count": 48,
   "metadata": {
    "id": "7827528987EB4F0E8D5496649E398A7E"
   },
   "outputs": [
    {
     "data": {
      "text/plain": [
       "numpy.matrixlib.defmatrix.matrix"
      ]
     },
     "execution_count": 48,
     "metadata": {},
     "output_type": "execute_result"
    }
   ],
   "source": [
    "type(A)  # file where class is defined"
   ]
  },
  {
   "cell_type": "code",
   "execution_count": 49,
   "metadata": {
    "id": "5454F742E5B54BD294A4C47CFCA734E5"
   },
   "outputs": [
    {
     "data": {
      "text/plain": [
       "matrix([[ 1.,  3.],\n",
       "        [ 2.,  4.]])"
      ]
     },
     "execution_count": 49,
     "metadata": {},
     "output_type": "execute_result"
    }
   ],
   "source": [
    "A.T  # transpose"
   ]
  },
  {
   "cell_type": "code",
   "execution_count": 50,
   "metadata": {
    "id": "22FCB4DD67FA449E8C406410C3F59CE8"
   },
   "outputs": [
    {
     "data": {
      "text/plain": [
       "matrix([[ 5.],\n",
       "        [ 7.]])"
      ]
     },
     "execution_count": 50,
     "metadata": {},
     "output_type": "execute_result"
    }
   ],
   "source": [
    "X = matrix('5.0 7.0')\n",
    "Y = X.T\n",
    "Y"
   ]
  },
  {
   "cell_type": "code",
   "execution_count": 51,
   "metadata": {
    "id": "651366B05CC6417DA95A6C28A82302CA"
   },
   "outputs": [
    {
     "name": "stdout",
     "output_type": "stream",
     "text": [
      "[[ 19.]\n",
      " [ 43.]]\n"
     ]
    }
   ],
   "source": [
    "print (A*Y)  # matrix multiplication"
   ]
  },
  {
   "cell_type": "code",
   "execution_count": 52,
   "metadata": {
    "id": "E601AC63AE094E2C9E959DE7545C0053"
   },
   "outputs": [
    {
     "name": "stdout",
     "output_type": "stream",
     "text": [
      "[[-2.   1. ]\n",
      " [ 1.5 -0.5]]\n"
     ]
    }
   ],
   "source": [
    "print (A.I)  # inverse"
   ]
  },
  {
   "cell_type": "code",
   "execution_count": 53,
   "metadata": {
    "id": "851928012C274D1280786704AAF8015E"
   },
   "outputs": [
    {
     "data": {
      "text/plain": [
       "matrix([[-3.],\n",
       "        [ 4.]])"
      ]
     },
     "execution_count": 53,
     "metadata": {},
     "output_type": "execute_result"
    }
   ],
   "source": [
    "solve(A, Y)  # solving linear equation"
   ]
  },
  {
   "cell_type": "markdown",
   "metadata": {
    "id": "1457DE2E72A5455280D3E9EBCE29CB7A"
   },
   "source": [
    "### 索引：比较矩阵和二维数组"
   ]
  },
  {
   "cell_type": "markdown",
   "metadata": {
    "id": "B58F33C2BEFA4DA48760F408F1FC4970"
   },
   "source": [
    "注意Numpy中数组和矩阵有些重要的区别。Numpy提供了两个基本的对象：一个N维数组对象和一个通用函数对象。其它对象都是建构在它们之上 的。特别的，矩阵是继承自Numpy数组对象的二维数组对象。对数组和矩阵，索引都必须包含合适的一个或多个这些组合：整数标量、省略号 (ellipses)、整数列表;布尔值，整数或布尔值构成的元组，和一个一维整数或布尔值数组。矩阵可以被用作矩阵的索引，但是通常需要数组、列表或者 其它形式来完成这个任务。\n",
    "\n",
    "像平常在```Python```中一样，索引是从0开始的。传统上我们用矩形的行和列表示一个二维数组或矩阵，其中沿着0轴的方向被穿过的称作行，沿着1轴的方向被穿过的是列。9\n",
    "\n",
    "让我们创建数组和矩阵用来切片："
   ]
  },
  {
   "cell_type": "code",
   "execution_count": 54,
   "metadata": {
    "id": "9CDFE0CEA61543538350AF09AC6F0509"
   },
   "outputs": [
    {
     "data": {
      "text/plain": [
       "array([ 0,  1,  2,  3,  4,  5,  6,  7,  8,  9, 10, 11])"
      ]
     },
     "execution_count": 54,
     "metadata": {},
     "output_type": "execute_result"
    }
   ],
   "source": [
    "A = arange(12)\n",
    "A"
   ]
  },
  {
   "cell_type": "code",
   "execution_count": 55,
   "metadata": {
    "id": "3C84418530104F039A45F685A32551BD"
   },
   "outputs": [
    {
     "name": "stdout",
     "output_type": "stream",
     "text": [
      "<class 'numpy.ndarray'>    <class 'numpy.matrixlib.defmatrix.matrix'>\n"
     ]
    }
   ],
   "source": [
    "A.shape = (3,4)\n",
    "M = mat(A.copy())\n",
    "print (type(A),\"  \",type(M))"
   ]
  },
  {
   "cell_type": "code",
   "execution_count": 56,
   "metadata": {
    "id": "A10A501C159E45FAA8A2B402164A0424"
   },
   "outputs": [
    {
     "name": "stdout",
     "output_type": "stream",
     "text": [
      "[[ 0  1  2  3]\n",
      " [ 4  5  6  7]\n",
      " [ 8  9 10 11]]\n"
     ]
    }
   ],
   "source": [
    "print (A)"
   ]
  },
  {
   "cell_type": "code",
   "execution_count": 57,
   "metadata": {
    "id": "CEF724E6A0BC4985BBB07A1B68102C89"
   },
   "outputs": [
    {
     "name": "stdout",
     "output_type": "stream",
     "text": [
      "[[ 0  1  2  3]\n",
      " [ 4  5  6  7]\n",
      " [ 8  9 10 11]]\n"
     ]
    }
   ],
   "source": [
    "print (M)"
   ]
  },
  {
   "cell_type": "markdown",
   "metadata": {
    "id": "09EAE1037F8C49EEB9CBFD3A2C8143B8"
   },
   "source": [
    "现在，让我们简单的切几片。基本的切片使用切片对象或整数。例如，```A[:]```和```M[:]```的求值将表现得和```Python```索引很相似。然而要注意很重要的一点就是```Numpy```切片数组不创建数据的副本;切片提供统一数据的视图。"
   ]
  },
  {
   "cell_type": "code",
   "execution_count": 58,
   "metadata": {
    "id": "A34ACA6E2C634099839D2E11FAAADB4A"
   },
   "outputs": [
    {
     "name": "stdout",
     "output_type": "stream",
     "text": [
      "[[ 0  1  2  3]\n",
      " [ 4  5  6  7]\n",
      " [ 8  9 10 11]]\n",
      "(3, 4)\n"
     ]
    }
   ],
   "source": [
    "print (A[:])\n",
    "print (A[:].shape)"
   ]
  },
  {
   "cell_type": "code",
   "execution_count": 59,
   "metadata": {
    "id": "2730D7CAF4F24AE89FB22B397F6C3DC0"
   },
   "outputs": [
    {
     "name": "stdout",
     "output_type": "stream",
     "text": [
      "[[ 0  1  2  3]\n",
      " [ 4  5  6  7]\n",
      " [ 8  9 10 11]]\n",
      "(3, 4)\n"
     ]
    }
   ],
   "source": [
    "print (M[:])\n",
    "print (M[:].shape)"
   ]
  },
  {
   "cell_type": "markdown",
   "metadata": {
    "id": "C98387EB1B744C47A949F4CAEB906FC9"
   },
   "source": [
    "现在有些和```Python```索引不同的了：你可以同时使用逗号分割索引来沿着多个轴索引。"
   ]
  },
  {
   "cell_type": "code",
   "execution_count": 60,
   "metadata": {
    "id": "F90317E5FE104AE397432CFF507E8254"
   },
   "outputs": [
    {
     "name": "stdout",
     "output_type": "stream",
     "text": [
      "[1 5 9]\n",
      "(3,)\n"
     ]
    }
   ],
   "source": [
    "print (A[:,1])\n",
    "print (A[:,1].shape)"
   ]
  },
  {
   "cell_type": "code",
   "execution_count": 61,
   "metadata": {
    "id": "CDDD3A99C9984A7A8CABF6417CE4C2FC"
   },
   "outputs": [
    {
     "name": "stdout",
     "output_type": "stream",
     "text": [
      "[[1]\n",
      " [5]\n",
      " [9]]\n",
      "(3, 1)\n"
     ]
    }
   ],
   "source": [
    "print (M[:,1]); \n",
    "print (M[:,1].shape)"
   ]
  },
  {
   "cell_type": "markdown",
   "metadata": {
    "id": "991DA24808394E1681115C880EEF01F8"
   },
   "source": [
    "注意最后两个结果的不同。对二维数组使用一个冒号产生一个一维数组，然而矩阵产生了一个二维矩阵。10     \n",
    "例如，一个```M[2,:]```切片产生了一个形状为(1,4)的矩阵，相比之下，一个数组的切片总是产生一个最低可能维度11的数组。例如，如果C是一个三维数组，```C[...,1]```产生一个二维的数组而```C[1,:,1]```产生一个一维数组。从这时开始，如果相应的矩阵切片结果是相同的话，我们将只展示数组切片的结果。"
   ]
  },
  {
   "cell_type": "markdown",
   "metadata": {
    "id": "0EB48EFC25474BCBA42184C533B58403"
   },
   "source": [
    "假如我们想要一个数组的第一列和第三列，一种方法是使用列表切片："
   ]
  },
  {
   "cell_type": "code",
   "execution_count": 62,
   "metadata": {
    "id": "9536D64AEB50437F85E92AAECE8393F8"
   },
   "outputs": [
    {
     "data": {
      "text/plain": [
       "array([[ 1,  3],\n",
       "       [ 5,  7],\n",
       "       [ 9, 11]])"
      ]
     },
     "execution_count": 62,
     "metadata": {},
     "output_type": "execute_result"
    }
   ],
   "source": [
    "A[:,[1,3]]"
   ]
  },
  {
   "cell_type": "markdown",
   "metadata": {
    "id": "B7BEE28E0EFE40379146A0DB944DCA04"
   },
   "source": [
    "稍微复杂点的方法是使用 ```take()``` 方法 ```method```:"
   ]
  },
  {
   "cell_type": "code",
   "execution_count": 63,
   "metadata": {
    "id": "CC61902EE7664A818222E4BDD67941CD"
   },
   "outputs": [
    {
     "data": {
      "text/plain": [
       "array([[ 1,  3],\n",
       "       [ 5,  7],\n",
       "       [ 9, 11]])"
      ]
     },
     "execution_count": 63,
     "metadata": {},
     "output_type": "execute_result"
    }
   ],
   "source": [
    "A[:,].take([1,3],axis=1)"
   ]
  },
  {
   "cell_type": "markdown",
   "metadata": {
    "id": "24D97D0418D04B3183DF665B8766C1BE"
   },
   "source": [
    "如果我们想跳过第一行，我们可以这样："
   ]
  },
  {
   "cell_type": "code",
   "execution_count": 64,
   "metadata": {
    "id": "E91EA4459F2744738B9079B524168E4A"
   },
   "outputs": [
    {
     "data": {
      "text/plain": [
       "array([[ 5,  7],\n",
       "       [ 9, 11]])"
      ]
     },
     "execution_count": 64,
     "metadata": {},
     "output_type": "execute_result"
    }
   ],
   "source": [
    "A[1:,].take([1,3],axis=1)"
   ]
  },
  {
   "cell_type": "markdown",
   "metadata": {
    "id": "46B0C979FBD94ADD9DD48576F0D72FD9"
   },
   "source": [
    "或者我们仅仅使用```A[1:,[1,3]]```。还有一种方法是通过矩阵向量积(叉积)。"
   ]
  },
  {
   "cell_type": "code",
   "execution_count": 65,
   "metadata": {
    "id": "CDF22B27EFEA4376A97B1002AB1C0F01"
   },
   "outputs": [
    {
     "data": {
      "text/plain": [
       "array([[ 5,  7],\n",
       "       [ 9, 11]])"
      ]
     },
     "execution_count": 65,
     "metadata": {},
     "output_type": "execute_result"
    }
   ],
   "source": [
    "A[ix_((1,2),(1,3))]"
   ]
  },
  {
   "cell_type": "markdown",
   "metadata": {
    "id": "3A6F48FFBDC54D3CA05072674B2F74FF"
   },
   "source": [
    "为了读者的方便，在次写下之前的矩阵："
   ]
  },
  {
   "cell_type": "code",
   "execution_count": 66,
   "metadata": {
    "id": "69D291B96A0445649041A4397E55E38F"
   },
   "outputs": [
    {
     "data": {
      "text/plain": [
       "array([[ 5,  7],\n",
       "       [ 9, 11]])"
      ]
     },
     "execution_count": 66,
     "metadata": {},
     "output_type": "execute_result"
    }
   ],
   "source": [
    "A[ix_((1,2),(1,3))]"
   ]
  },
  {
   "cell_type": "markdown",
   "metadata": {
    "id": "9D24B5FDA40B47BE8DF32C924D48208A"
   },
   "source": [
    "现在让我们做些更复杂的。比如说我们想要保留第一行大于1的列。一种方法是创建布尔索引："
   ]
  },
  {
   "cell_type": "code",
   "execution_count": 67,
   "metadata": {
    "id": "14488E2AE1104A0FA77AF902AC0EE9C5"
   },
   "outputs": [
    {
     "data": {
      "text/plain": [
       "array([False, False,  True,  True], dtype=bool)"
      ]
     },
     "execution_count": 67,
     "metadata": {},
     "output_type": "execute_result"
    }
   ],
   "source": [
    "A[0,:]>1"
   ]
  },
  {
   "cell_type": "code",
   "execution_count": 68,
   "metadata": {
    "id": "530B790B6A2F4D0DA669EA0438E70972"
   },
   "outputs": [
    {
     "data": {
      "text/plain": [
       "array([[ 2,  3],\n",
       "       [ 6,  7],\n",
       "       [10, 11]])"
      ]
     },
     "execution_count": 68,
     "metadata": {},
     "output_type": "execute_result"
    }
   ],
   "source": [
    "A[:,A[0,:]>1]"
   ]
  },
  {
   "cell_type": "markdown",
   "metadata": {
    "id": "A0F3D447913941228F55F6C9ECE2818C"
   },
   "source": [
    "就是我们想要的！但是索引矩阵没这么方便。"
   ]
  },
  {
   "cell_type": "code",
   "execution_count": 69,
   "metadata": {
    "id": "E3497BACC74D4D4F8A58994A683FE23C"
   },
   "outputs": [
    {
     "data": {
      "text/plain": [
       "matrix([[False, False,  True,  True]], dtype=bool)"
      ]
     },
     "execution_count": 69,
     "metadata": {},
     "output_type": "execute_result"
    }
   ],
   "source": [
    "M[0,:]>1"
   ]
  },
  {
   "cell_type": "markdown",
   "metadata": {
    "id": "6E880277C3AD411690EBEF03D724DE29"
   },
   "source": [
    "** <center>indice太多造成无法索引</center>**  \n",
    "```python\n",
    "M[:,M[0,:]>1]\n",
    "---------------------------------------------------------------------------\n",
    "IndexError                                Traceback (most recent call last)\n",
    "<ipython-input-65-79db943ff8d4> in <module>()\n",
    "----> 1 M[:,M[0,:]>1]\n",
    "\n",
    "~/anaconda/lib/python3.6/site-packages/numpy/matrixlib/defmatrix.py in __getitem__(self, index)\n",
    "    316 \n",
    "    317         try:\n",
    "--> 318             out = N.ndarray.__getitem__(self, index)\n",
    "    319         finally:\n",
    "    320             self._getitem = False\n",
    "\n",
    "IndexError: too many indices for array\n",
    "```\n",
    "\n",
    "这个过程的问题是用“矩阵切片”来切片产生一个矩阵12，但是矩阵有个方便的A属性，它的值是数组呈现的。所以我们仅仅做以下替代："
   ]
  },
  {
   "cell_type": "code",
   "execution_count": 70,
   "metadata": {
    "id": "9C7E631C6B274F0D81958837036415DD"
   },
   "outputs": [
    {
     "data": {
      "text/plain": [
       "matrix([[ 2,  3],\n",
       "        [ 6,  7],\n",
       "        [10, 11]])"
      ]
     },
     "execution_count": 70,
     "metadata": {},
     "output_type": "execute_result"
    }
   ],
   "source": [
    "M[:,M.A[0,:]>1]"
   ]
  },
  {
   "cell_type": "markdown",
   "metadata": {
    "id": "934C5F6BC8A84E5497C01B6D456EAD60"
   },
   "source": [
    "如果我们想要在矩阵两个方向有条件地切片，我们必须稍微调整策略，代之以："
   ]
  },
  {
   "cell_type": "code",
   "execution_count": 71,
   "metadata": {
    "id": "2E562715BDCE4299974890B23867FD26"
   },
   "outputs": [
    {
     "data": {
      "text/plain": [
       "array([ 6, 11])"
      ]
     },
     "execution_count": 71,
     "metadata": {},
     "output_type": "execute_result"
    }
   ],
   "source": [
    "A[A[:,0]>2,A[0,:]>1]"
   ]
  },
  {
   "cell_type": "code",
   "execution_count": 72,
   "metadata": {
    "id": "3DEE0114EE154AE68B2D9DD348F7193E"
   },
   "outputs": [
    {
     "data": {
      "text/plain": [
       "matrix([[ 6, 11]])"
      ]
     },
     "execution_count": 72,
     "metadata": {},
     "output_type": "execute_result"
    }
   ],
   "source": [
    "M[M.A[:,0]>2,M.A[0,:]>1]"
   ]
  },
  {
   "cell_type": "markdown",
   "metadata": {
    "id": "1C2C5EC6A08F452C913BF9162A8467B1"
   },
   "source": [
    "我们需要使用向量积```ix_```:"
   ]
  },
  {
   "cell_type": "code",
   "execution_count": 73,
   "metadata": {
    "id": "C9F5EA149B764FC9A3D808CC651A09FE"
   },
   "outputs": [
    {
     "data": {
      "text/plain": [
       "array([[ 6,  7],\n",
       "       [10, 11]])"
      ]
     },
     "execution_count": 73,
     "metadata": {},
     "output_type": "execute_result"
    }
   ],
   "source": [
    "A[ix_(A[:,0]>2,A[0,:]>1)]"
   ]
  },
  {
   "cell_type": "code",
   "execution_count": 74,
   "metadata": {
    "id": "99F925D2723A41A38FB681C526CF7038"
   },
   "outputs": [
    {
     "data": {
      "text/plain": [
       "matrix([[ 6,  7],\n",
       "        [10, 11]])"
      ]
     },
     "execution_count": 74,
     "metadata": {},
     "output_type": "execute_result"
    }
   ],
   "source": [
    "M[ix_(M.A[:,0]>2,M.A[0,:]>1)]"
   ]
  },
  {
   "cell_type": "markdown",
   "metadata": {
    "id": "E33A1BABA9444846A9A8C8448DC1848F"
   },
   "source": [
    "## 技巧和提示\n",
    "\n",
    "下面我们给出简短和有用的提示。\n",
    "\n",
    "### \"自动\" 改变形状\n",
    "\n",
    "更改数组的维度，你可以省略一个尺寸，它将被自动推导出来。"
   ]
  },
  {
   "cell_type": "code",
   "execution_count": 75,
   "metadata": {
    "id": "0AF7F929AE4447618EF9B4E805E792F3"
   },
   "outputs": [
    {
     "data": {
      "text/plain": [
       "(2, 5, 3)"
      ]
     },
     "execution_count": 75,
     "metadata": {},
     "output_type": "execute_result"
    }
   ],
   "source": [
    "a = arange(30)\n",
    "a.shape = 2,-1,3  # -1 means \"whatever is needed\"\n",
    "a.shape "
   ]
  },
  {
   "cell_type": "code",
   "execution_count": 76,
   "metadata": {
    "id": "D626CCD7667B4FC1BCF19C769BF4F0F0"
   },
   "outputs": [
    {
     "data": {
      "text/plain": [
       "array([[[ 0,  1,  2],\n",
       "        [ 3,  4,  5],\n",
       "        [ 6,  7,  8],\n",
       "        [ 9, 10, 11],\n",
       "        [12, 13, 14]],\n",
       "\n",
       "       [[15, 16, 17],\n",
       "        [18, 19, 20],\n",
       "        [21, 22, 23],\n",
       "        [24, 25, 26],\n",
       "        [27, 28, 29]]])"
      ]
     },
     "execution_count": 76,
     "metadata": {},
     "output_type": "execute_result"
    }
   ],
   "source": [
    "a"
   ]
  },
  {
   "cell_type": "markdown",
   "metadata": {
    "id": "2C3238CEA63F4C0EA7EBBB9B723AE9B4"
   },
   "source": [
    "### 向量组合(```stacking```)"
   ]
  },
  {
   "cell_type": "markdown",
   "metadata": {
    "id": "AF549C793B1C4BAE8A259CD61D7E50C9"
   },
   "source": [
    "我们如何用两个相同尺寸的行向量列表构建一个二维数组？在 ```MATLAB``` 中这非常简单：如果 ```x``` 和 ```y``` 是两个相同长度的向量，你仅仅需要做 ```m=[x;y]```。在 ```Numpy``` 中这个过程通过函数 ```column_stack``` 、```dstack```、```hstack``` 和 ```vstack``` 来完成，取决于你想要在那个维度上组合。例如："
   ]
  },
  {
   "cell_type": "code",
   "execution_count": 77,
   "metadata": {
    "id": "9624AA2498654D348A7480ED20FA4F85"
   },
   "outputs": [
    {
     "data": {
      "text/plain": [
       "array([0, 2, 4, 6, 8])"
      ]
     },
     "execution_count": 77,
     "metadata": {},
     "output_type": "execute_result"
    }
   ],
   "source": [
    "x = arange(0,10,2)\n",
    "x "
   ]
  },
  {
   "cell_type": "code",
   "execution_count": 78,
   "metadata": {
    "id": "B91AE89A7E9A4FFDA97E2CD5CC6127A0"
   },
   "outputs": [
    {
     "data": {
      "text/plain": [
       "array([0, 1, 2, 3, 4])"
      ]
     },
     "execution_count": 78,
     "metadata": {},
     "output_type": "execute_result"
    }
   ],
   "source": [
    "y = arange(5)  \n",
    "y"
   ]
  },
  {
   "cell_type": "code",
   "execution_count": 79,
   "metadata": {
    "id": "81F781C678A6400F9E47D7A82E22E328"
   },
   "outputs": [
    {
     "data": {
      "text/plain": [
       "array([[0, 2, 4, 6, 8],\n",
       "       [0, 1, 2, 3, 4]])"
      ]
     },
     "execution_count": 79,
     "metadata": {},
     "output_type": "execute_result"
    }
   ],
   "source": [
    "m = vstack([x,y])           \n",
    "m                                       "
   ]
  },
  {
   "cell_type": "code",
   "execution_count": 80,
   "metadata": {
    "id": "0761D55F43E94A6C9C0E23F774C07D78"
   },
   "outputs": [
    {
     "data": {
      "text/plain": [
       "array([0, 2, 4, 6, 8, 0, 1, 2, 3, 4])"
      ]
     },
     "execution_count": 80,
     "metadata": {},
     "output_type": "execute_result"
    }
   ],
   "source": [
    "xy = hstack([x,y])     \n",
    "xy"
   ]
  },
  {
   "cell_type": "markdown",
   "metadata": {
    "id": "53CBEF202AE2448B983B3EDB12F48386"
   },
   "source": [
    "### 直方图(histogram)\n",
    "\n",
    "```Numpy```中```histogram```函数应用到一个数组返回一对变量：直方图数组和箱式向量。注意：```matplotlib```也有一个用来建立直方图的函数(叫作```hist```,正如```matlab```中一样)与```Numpy```中的不同。    \n",
    "**主要的差别是```pylab.hist```自动绘制直方图，而```numpy.histogram```仅仅产生数据**。"
   ]
  },
  {
   "cell_type": "code",
   "execution_count": 81,
   "metadata": {
    "id": "E30C464B2A51465B971930FBF47BA61C"
   },
   "outputs": [
    {
     "data": {
      "image/png": "[encoded data removed]",
      "text/plain": [
       "<matplotlib.figure.Figure at 0x111451898>"
      ]
     },
     "metadata": {},
     "output_type": "display_data"
    },
    {
     "data": {
      "image/png": "[encoded data removed]",
      "text/plain": [
       "<matplotlib.figure.Figure at 0x11590fe80>"
      ]
     },
     "metadata": {},
     "output_type": "display_data"
    }
   ],
   "source": [
    "import numpy\n",
    "import pylab\n",
    "# Build a vector of 10000 normal deviates with variance 0.5^2 and mean 2\n",
    "mu, sigma = 2, 0.5\n",
    "v = numpy.random.normal(mu,sigma,10000)\n",
    "# Plot a normalized histogram with 50 bins\n",
    "pylab.hist(v, bins=50, normed=1)  \n",
    "pylab.title('Matplotlib Version')# matplotlib version (plot)\n",
    "pylab.show()\n",
    "# Compute the histogram with numpy and then plot it\n",
    "(n, bins) = numpy.histogram(v, bins=50, normed=True)  # NumPy version (no plot)\n",
    "pylab.plot(.5*(bins[1:]+bins[:-1]), n)\n",
    "pylab.title('Numpy Version')\n",
    "pylab.show()"
   ]
  }
 ],
 "metadata": {
  "hide_input": false,
  "kernelspec": {
   "display_name": "Python 3",
   "language": "python",
   "name": "python3"
  },
  "language_info": {
   "codemirror_mode": {
    "name": "ipython",
    "version": 3
   },
   "file_extension": ".py",
   "mimetype": "text/x-python",
   "name": "python",
   "nbconvert_exporter": "python",
   "pygments_lexer": "ipython3",
   "version": "3.6.8"
  },
  "toc": {
   "nav_menu": {},
   "number_sections": false,
   "sideBar": true,
   "skip_h1_title": false,
   "toc_cell": false,
   "toc_position": {},
   "toc_section_display": "block",
   "toc_window_display": false
  },
  "varInspector": {
   "cols": {
    "lenName": 16,
    "lenType": 16,
    "lenVar": 40
   },
   "kernels_config": {
    "python": {
     "delete_cmd_postfix": "",
     "delete_cmd_prefix": "del ",
     "library": "var_list.py",
     "varRefreshCmd": "print(var_dic_list())"
    },
    "r": {
     "delete_cmd_postfix": ") ",
     "delete_cmd_prefix": "rm(",
     "library": "var_list.r",
     "varRefreshCmd": "cat(var_dic_list()) "
    }
   },
   "types_to_exclude": [
    "module",
    "function",
    "builtin_function_or_method",
    "instance",
    "_Feature"
   ],
   "window_display": false
  }
 },
 "nbformat": 4,
 "nbformat_minor": 2
}
