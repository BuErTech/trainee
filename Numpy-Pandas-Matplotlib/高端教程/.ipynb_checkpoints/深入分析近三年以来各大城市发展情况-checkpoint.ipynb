{
 "cells": [
  {
   "cell_type": "markdown",
   "metadata": {
    "id": "B4BEA50168494D959E3598219C42A8BE",
    "mdEditEnable": false
   },
   "source": [
    "# 数据集文档\n",
    "\n",
    "\n",
    "\n",
    "## **背景介绍**\n",
    "\n",
    "本数据集包括了2015年至2017年我国36个主要一线城市、特区的一些年度数据，包括产值、人口、就业、教育、医疗、经济贸易、房地产投资等方面。\n",
    "\n",
    "**包含文件：**  \n",
    "2015年国内主要城市年度数据.csv  \n",
    "2016年国内主要城市年度数据.csv  \n",
    "2017年国内主要城市年度数据.csv      \n",
    "\n",
    "## **数据特征**\n",
    "\n",
    "数据集名称      | 数据类型    | 特征数 | 包含城市数量 | 缺失值 | 相关人物       \n",
    "---------- | ------- | --- | ------ | --- | -----------\n",
    "国内主要城市年度数据 | 数值型、字符型 | 13  | 36     | 有   | 描述性分析（可视化）等\n",
    "\n",
    "## **数据属性**\n",
    "\n",
    "NO | 字段名称        | 数据类型   | 字段描述    \n",
    "-- | ----------- | ------ | --------\n",
    "1  | 地区          | String | 城市名称    \n",
    "2  | 年份          | Int    | 数据所对应的时间\n",
    "3  | 国内生产总值      | Float  | 单位：亿元   \n",
    "4  | 第一产业增加值     | Float  | 单位：亿元   \n",
    "5  | 第二产业增加值     | Float  | 单位：亿元   \n",
    "6  | 第三产业增加值     | Float  | 单位：亿元   \n",
    "7  | 社会商品零售总额    | Float  | 单位：亿元   \n",
    "8  | 货物进出口总额     | Float  | 单位：百万美元 \n",
    "9  | 年末总人口       | Float  | 单位：万人   \n",
    "10 | 在岗职工平均工资    | Int    | 单位：元    \n",
    "11 | 普通高等学校在校学生数 | Float  | 单位：万人   \n",
    "12 | 医院、卫生院数     | Int    | 单位：个    \n",
    "13 | 房地产开发投资额    | Float  | 单位：亿元   \n",
    "\n",
    "## **数据来源**\n",
    "\n",
    "[国家统计局](http://data.stats.gov.cn/easyquery.htm?cn=E0105)\n",
    "\n",
    "\n",
    "\n",
    "### 专栏链接\n",
    "如果觉得对你有帮助，可以订阅一下，以便知道最新发的文章  \n",
    "https://www.kesci.com/home/column/5cb43d67e0ad99002cad14d6  \n",
    "### 往期文章查看  \n",
    "涉及有Python基础和爬虫、数据分析、可视化、ML、DL、NLP、CV，侧重点不同  \n",
    "https://www.kesci.com/home/project/5d0b8902e727f8002c88000f  "
   ]
  },
  {
   "cell_type": "markdown",
   "metadata": {
    "id": "6CCAA7A0BD444D8FAB4DB2E59C4CBC72",
    "mdEditEnable": false
   },
   "source": [
    "### 目标定义"
   ]
  },
  {
   "cell_type": "markdown",
   "metadata": {
    "id": "CA060AE773DA4BDDA9CD827293D85D6B",
    "mdEditEnable": false
   },
   "source": [
    "目标需求分析1：对比2015至2017年主要城市年度数据的变化趋势。  \n",
    "目标需求分析2：对比各个城市在这几年的国内生产总值情况，哪些城市贡献大？  \n",
    "目标需求分析3：对比各个城市第一、二、三产业在这几年的发展状况是怎样的？  \n",
    "目标需求分析4：对比各个城市平均在职工资、学校资源、卫生医院设备情况，看看哪些城市工资高、教学资源丰富、医疗保障水平是怎样的？  \n",
    "目标需求分析5：对比分析哪些城市是房地产投资重地呢？  "
   ]
  },
  {
   "cell_type": "code",
   "execution_count": 1,
   "metadata": {
    "id": "582212ED7981412080190CE1C27C45BF",
    "scrolled": false
   },
   "outputs": [
    {
     "name": "stdout",
     "output_type": "stream",
     "text": [
      "2015年国内主要城市年度数据.csv\t2017年国内主要城市年度数据.csv\r\n",
      "2016年国内主要城市年度数据.csv\r\n"
     ]
    }
   ],
   "source": [
    "# 查看当前挂载的数据集目录\n",
    "!ls /home/kesci/input/govstats2556"
   ]
  },
  {
   "cell_type": "markdown",
   "metadata": {
    "id": "AC7862E6EC7E41F481454BD0C7013EF6",
    "mdEditEnable": false
   },
   "source": [
    "### 1、加载合并数据"
   ]
  },
  {
   "cell_type": "code",
   "execution_count": 2,
   "metadata": {
    "id": "4C62383D94564054B7491D92528A606C",
    "scrolled": false
   },
   "outputs": [
    {
     "name": "stderr",
     "output_type": "stream",
     "text": [
      "/opt/conda/lib/python3.6/importlib/_bootstrap.py:219: RuntimeWarning: numpy.dtype size changed, may indicate binary incompatibility. Expected 96, got 88\n",
      "  return f(*args, **kwds)\n",
      "/opt/conda/lib/python3.6/importlib/_bootstrap.py:219: RuntimeWarning: numpy.dtype size changed, may indicate binary incompatibility. Expected 96, got 88\n",
      "  return f(*args, **kwds)\n"
     ]
    },
    {
     "name": "stdout",
     "output_type": "stream",
     "text": [
      "\n",
      "【特征】>>> Index(['地区', '年份', '国内生产总值', '第一产业增加值', '第二产业增加值', '第三产业增加值', '社会商品零售总额',\n",
      "       '货物进出口总额', '年末总人口', '在岗职工平均工资', '普通高等学校在校学生数', '医院、卫生院数', '房地产开发投资额'],\n",
      "      dtype='object')\n",
      "<class 'pandas.core.frame.DataFrame'>\n",
      "Int64Index: 108 entries, 0 to 107\n",
      "Data columns (total 13 columns):\n",
      "area           108 non-null object\n",
      "year           108 non-null int64\n",
      "total_value    108 non-null float64\n",
      "one_value      108 non-null float64\n",
      "two_value      108 non-null float64\n",
      "three_value    108 non-null float64\n",
      "zero_value     108 non-null float64\n",
      "inout          108 non-null float64\n",
      "population     108 non-null float64\n",
      "pay            108 non-null int64\n",
      "student        108 non-null float64\n",
      "hospitalt      108 non-null int64\n",
      "realty         105 non-null float64\n",
      "dtypes: float64(9), int64(3), object(1)\n",
      "memory usage: 11.8+ KB\n"
     ]
    },
    {
     "data": {
      "text/html": [
       "<div>\n",
       "<style scoped>\n",
       "    .dataframe tbody tr th:only-of-type {\n",
       "        vertical-align: middle;\n",
       "    }\n",
       "\n",
       "    .dataframe tbody tr th {\n",
       "        vertical-align: top;\n",
       "    }\n",
       "\n",
       "    .dataframe thead th {\n",
       "        text-align: right;\n",
       "    }\n",
       "</style>\n",
       "<table border=\"1\" class=\"dataframe\">\n",
       "  <thead>\n",
       "    <tr style=\"text-align: right;\">\n",
       "      <th></th>\n",
       "      <th>area</th>\n",
       "      <th>year</th>\n",
       "      <th>total_value</th>\n",
       "      <th>one_value</th>\n",
       "      <th>two_value</th>\n",
       "      <th>three_value</th>\n",
       "      <th>zero_value</th>\n",
       "      <th>inout</th>\n",
       "      <th>population</th>\n",
       "      <th>pay</th>\n",
       "      <th>student</th>\n",
       "      <th>hospitalt</th>\n",
       "      <th>realty</th>\n",
       "    </tr>\n",
       "  </thead>\n",
       "  <tbody>\n",
       "    <tr>\n",
       "      <th>0</th>\n",
       "      <td>北京</td>\n",
       "      <td>2015</td>\n",
       "      <td>23014.59</td>\n",
       "      <td>140.21</td>\n",
       "      <td>4542.64</td>\n",
       "      <td>18331.74</td>\n",
       "      <td>10338.0</td>\n",
       "      <td>319416.16</td>\n",
       "      <td>1345.20</td>\n",
       "      <td>113073</td>\n",
       "      <td>60.36</td>\n",
       "      <td>701</td>\n",
       "      <td>4177.05</td>\n",
       "    </tr>\n",
       "    <tr>\n",
       "      <th>1</th>\n",
       "      <td>天津</td>\n",
       "      <td>2015</td>\n",
       "      <td>16538.19</td>\n",
       "      <td>208.82</td>\n",
       "      <td>7704.22</td>\n",
       "      <td>8625.15</td>\n",
       "      <td>5257.3</td>\n",
       "      <td>114282.80</td>\n",
       "      <td>1026.90</td>\n",
       "      <td>81486</td>\n",
       "      <td>51.29</td>\n",
       "      <td>661</td>\n",
       "      <td>1871.55</td>\n",
       "    </tr>\n",
       "    <tr>\n",
       "      <th>2</th>\n",
       "      <td>石家庄</td>\n",
       "      <td>2015</td>\n",
       "      <td>5440.60</td>\n",
       "      <td>494.44</td>\n",
       "      <td>2452.40</td>\n",
       "      <td>2493.77</td>\n",
       "      <td>2693.0</td>\n",
       "      <td>12160.29</td>\n",
       "      <td>1028.84</td>\n",
       "      <td>54441</td>\n",
       "      <td>41.98</td>\n",
       "      <td>393</td>\n",
       "      <td>965.13</td>\n",
       "    </tr>\n",
       "    <tr>\n",
       "      <th>3</th>\n",
       "      <td>太原</td>\n",
       "      <td>2015</td>\n",
       "      <td>2735.34</td>\n",
       "      <td>37.40</td>\n",
       "      <td>1020.18</td>\n",
       "      <td>1677.77</td>\n",
       "      <td>1540.8</td>\n",
       "      <td>10677.38</td>\n",
       "      <td>367.39</td>\n",
       "      <td>60516</td>\n",
       "      <td>42.14</td>\n",
       "      <td>247</td>\n",
       "      <td>597.83</td>\n",
       "    </tr>\n",
       "    <tr>\n",
       "      <th>4</th>\n",
       "      <td>呼和浩特</td>\n",
       "      <td>2015</td>\n",
       "      <td>3090.52</td>\n",
       "      <td>126.23</td>\n",
       "      <td>867.08</td>\n",
       "      <td>2097.21</td>\n",
       "      <td>1353.5</td>\n",
       "      <td>2072.75</td>\n",
       "      <td>238.58</td>\n",
       "      <td>53698</td>\n",
       "      <td>23.52</td>\n",
       "      <td>174</td>\n",
       "      <td>509.05</td>\n",
       "    </tr>\n",
       "  </tbody>\n",
       "</table>\n",
       "</div>"
      ],
      "text/plain": [
       "   area  year  total_value  one_value  two_value  three_value  zero_value  \\\n",
       "0    北京  2015     23014.59     140.21    4542.64     18331.74     10338.0   \n",
       "1    天津  2015     16538.19     208.82    7704.22      8625.15      5257.3   \n",
       "2   石家庄  2015      5440.60     494.44    2452.40      2493.77      2693.0   \n",
       "3    太原  2015      2735.34      37.40    1020.18      1677.77      1540.8   \n",
       "4  呼和浩特  2015      3090.52     126.23     867.08      2097.21      1353.5   \n",
       "\n",
       "       inout  population     pay  student  hospitalt   realty  \n",
       "0  319416.16     1345.20  113073    60.36        701  4177.05  \n",
       "1  114282.80     1026.90   81486    51.29        661  1871.55  \n",
       "2   12160.29     1028.84   54441    41.98        393   965.13  \n",
       "3   10677.38      367.39   60516    42.14        247   597.83  \n",
       "4    2072.75      238.58   53698    23.52        174   509.05  "
      ]
     },
     "execution_count": 2,
     "metadata": {},
     "output_type": "execute_result"
    }
   ],
   "source": [
    "\n",
    "import pandas as pd\n",
    "import matplotlib.pyplot as plt\n",
    "%matplotlib inline\n",
    "\n",
    "df1 = pd.read_csv('/home/kesci/input/govstats2556/2015年国内主要城市年度数据.csv')\n",
    "df2 = pd.read_csv('/home/kesci/input/govstats2556/2016年国内主要城市年度数据.csv')\n",
    "df3 = pd.read_csv('/home/kesci/input/govstats2556/2017年国内主要城市年度数据.csv')\n",
    "\n",
    "df = pd.concat([df1, df2, df3], axis=0)  # 以行的维度合并数据\n",
    "\n",
    "print('\\n【特征】>>>', df.columns)\n",
    "# 重置索引和特征名\n",
    "df.index = [i for i in range(df.shape[0])]  # 重置索引\n",
    "df.columns = ['area', 'year', 'total_value', 'one_value',  'two_value', \n",
    "            'three_value','zero_value', 'inout', 'population', 'pay', \n",
    "            'student', 'hospitalt', 'realty']  # 重置列名\n",
    "\n",
    "'''\n",
    "area 地区\t\n",
    "year 年份\n",
    "total_value 国内生产总值\n",
    "one_value 第一产业增加值\t\n",
    "twol_value 第二产业增加值\t\n",
    "three_value 第三产业增加值\t\n",
    "zero_value 社会商品零售总额\t\n",
    "inout 货物进出口总额\t\n",
    "population 年末总人口\t\n",
    "pay 在岗职工平均工资\t\n",
    "student  普通高等学校在校学生数\t\n",
    "hospital 医院、卫生院数\t\n",
    "realty 房地产开发投资额\n",
    "'''\n",
    "\n",
    "df.info()  # 查看数据集基本情况\n",
    "df.head()"
   ]
  },
  {
   "cell_type": "markdown",
   "metadata": {
    "id": "7A9CBE696D78497B8B7B6F3A9646E082",
    "mdEditEnable": false
   },
   "source": [
    "### 2、数据预处理"
   ]
  },
  {
   "cell_type": "code",
   "execution_count": 3,
   "metadata": {
    "id": "48F475428DF44A2C8573D0B49C28E0F6",
    "scrolled": false
   },
   "outputs": [
    {
     "name": "stdout",
     "output_type": "stream",
     "text": [
      "\n",
      "缺失值处理前>>> area           0\n",
      "year           0\n",
      "total_value    0\n",
      "one_value      0\n",
      "two_value      0\n",
      "three_value    0\n",
      "zero_value     0\n",
      "inout          0\n",
      "population     0\n",
      "pay            0\n",
      "student        0\n",
      "hospitalt      0\n",
      "realty         3\n",
      "dtype: int64 \n",
      ">>> (108, 13)\n",
      "\n",
      "缺失值处理后>>> area           0\n",
      "year           0\n",
      "total_value    0\n",
      "one_value      0\n",
      "two_value      0\n",
      "three_value    0\n",
      "zero_value     0\n",
      "inout          0\n",
      "population     0\n",
      "pay            0\n",
      "student        0\n",
      "hospitalt      0\n",
      "realty         0\n",
      "dtype: int64 \n",
      ">>> (108, 13)\n"
     ]
    }
   ],
   "source": [
    "# 探索是否有缺失值\n",
    "print('\\n缺失值处理前>>>', df.isnull().sum(), '\\n>>>', df.shape)  \n",
    "\n",
    "# 缺失值处理\n",
    "''' 第一种方法，丢弃 '''\n",
    "# df = df.dropna() \n",
    "''' 第二种方法，使用均值填充 '''\n",
    "# df = df.fillna(value=df.mean())  \n",
    "\n",
    "# 由于我们发现缺失值只在 \"realty\" 列，因此可以使用以下方式\n",
    "df['realty'] = df['realty'].fillna(value=df['realty'].mean())\n",
    "\n",
    "print('\\n缺失值处理后>>>', df.isnull().sum(), '\\n>>>', df.shape)  "
   ]
  },
  {
   "cell_type": "markdown",
   "metadata": {
    "id": "CA519D236946489C8FBDD0A371F4C0DC",
    "mdEditEnable": false
   },
   "source": [
    "### 3、封装可视化模板和可视化分析"
   ]
  },
  {
   "cell_type": "code",
   "execution_count": 4,
   "metadata": {
    "id": "4649C66EDCC941988D286FA56446C5B1",
    "scrolled": false
   },
   "outputs": [],
   "source": [
    "def plotCity(data, plotType=None):\n",
    "    \n",
    "    # 设置图像风格, 网格型\n",
    "    plt.style.use('ggplot')  \n",
    "    \n",
    "    # 解决中文乱码，坐标轴显示不出负值的问题\n",
    "    plt.rcParams['font.sans-serif'] =['Microsoft YaHei']\n",
    "    plt.rcParams['axes.unicode_minus'] = False\n",
    "    \n",
    "    # 提取各年份的数据\n",
    "    dt2015 = df[df['year'] == 2015]\n",
    "    dt2016 = df[df['year'] == 2016]\n",
    "    dt2017 = df[df['year'] == 2017]\n",
    "    \n",
    "    # 可视化图像的标题\n",
    "    plot_title = ['国内生产总值', '第一产业增加值', '第二产业增加值', \n",
    "                 '第三产业增加值', '社会商品零售总额', '货物进出口总额', \n",
    "                 '在岗职工平均工资', '普通高等学校在校学生数', '医院、卫生院数', \n",
    "                 '房地产开发投资额']\n",
    "                 \n",
    "    # ------------------------------------------------\n",
    "    # 4-1、在没有指明绘制图形类型情况下，采用默认方式\n",
    "    if plotType == None:\n",
    "        text = print(\"\"\"温馨提示：你还没有选择绘制图形的类型.....\\n类型如下...\n",
    "        plot\\t线性图\n",
    "        pie\\t饼图\n",
    "        bar\\t纵向条形图\n",
    "        barh\\t横向条形图\n",
    "        hist\\t直方图\n",
    "        boxplot\\t箱型图\n",
    "        scatter\\t散点图\n",
    "        \\n例子\\n---------\"\"\"\n",
    "        + \"\\nplot(data=data, plotType='plot')\")\n",
    "        return text\n",
    "    \n",
    "    fig = plt.figure()\n",
    "    for i in range(0, len(data) - 1):\n",
    "    # for i in range(0, 4):\n",
    "        ax = fig.add_subplot(5, 2, i + 1)\n",
    "        \n",
    "        # --------------------------------------------------\n",
    "        # 4-2、选择绘制线形图\n",
    "        if plotType == 'plot':\n",
    "            ax.plot(dt2015[data[0]], dt2015[data[i + 1]], marker='o', label='2015')\n",
    "            ax.plot(dt2016[data[0]], dt2016[data[i + 1]], marker='o', label='2016')\n",
    "            ax.plot(dt2017[data[0]], dt2017[data[i + 1]], marker='o', label='2017')\n",
    "            ax.set_title(plot_title[i])  # 标题\n",
    "            ax.set_xticklabels(labels=dt2015[data[0]], rotation=90)  # 设置 X 轴刻度对应的标签\n",
    "            ax.legend(loc='best')  # 图例\n",
    "            fig.subplots_adjust(top=5, bottom=0.1, left=0.9, right= 3.6, \n",
    "                                hspace=0.3, wspace=0.3)  # 调整子图之间间隙\n",
    "            \n",
    "        # --------------------------------------------------\n",
    "        # 4-3、选择绘制饼图\n",
    "        if plotType == 'pie':\n",
    "            ax.pie(x=dt2015[data[i + 1]], labels=dt2015[data[0]], shadow=True,\n",
    "                   autopct='%.2f%%', radius=2.)\n",
    "            ax.set_title(plot_title[i])  # 标题\n",
    "            # ax.legend(loc='right')  # 图例\n",
    "            # 调整子图间距,上下左右\n",
    "            fig.subplots_adjust(top=5, bottom=0.1, left=0.9, right= 3.6, \n",
    "                                hspace=0.8, wspace=0.1)  \n",
    "        \n",
    "        # ---------------------------------------------------\n",
    "        # 4-4、选择绘制纵向条形图\n",
    "        if plotType == 'bar':\n",
    "            bar_width = 0.3\n",
    "            ''' 正 y 轴绘制条形图 '''\n",
    "            ax.bar(x=dt2015.index, height= + dt2015[data[i + 1]],  # 正 y 半轴绘图\n",
    "                   label='正轴2015',  width=bar_width)  \n",
    "            ax.bar(x=dt2015.index + bar_width, height= + dt2016[data[i + 1]], # 正 y 半轴绘图\n",
    "                   label='正轴2016',  width=bar_width)  \n",
    "            ax.bar(x=dt2015.index + 2 * bar_width, height= + dt2017[data[i + 1]], # 正 y 半轴绘图\n",
    "                   label='正轴2017', width=bar_width, color='y')  \n",
    "                   \n",
    "            ''' 负 y 轴绘制条形图 '''\n",
    "            ax.bar(x=dt2015.index, height= - dt2015[data[i + 1]],  # 负 y 半轴绘图\n",
    "                   label='负轴2015',  width=bar_width, color='r')  \n",
    "            ax.bar(x=dt2015.index + bar_width, height= - dt2016[data[i + 1]],  # 负 y 半轴绘图\n",
    "                   label='负轴2016',  width=bar_width, color='c')  \n",
    "            ax.bar(x=dt2015.index + 2 * bar_width, height= - dt2017[data[i + 1]], # 负 y 半轴绘图\n",
    "                   label='负轴2017',  width=bar_width, color='b')  \n",
    "                   \n",
    "            ax.set_title(plot_title[i])  # 标题\n",
    "            ax.set_xticks([i for i in range(dt2015.shape[0])])  # 重置 x 轴刻度值\n",
    "            ax.set_xticklabels(labels=dt2015[data[0]], rotation=90)  # 在 x 轴刻度值上设置标签，旋转 90 度 \n",
    "            ax.legend(loc='best')  # 图例，自动选择最好的位置摆放图例\n",
    "            # 调整子图间距,上下左右\n",
    "            fig.subplots_adjust(top=5, bottom=0.1, left=0.9, right= 3.6, \n",
    "                                hspace=0.3, wspace=0.3)\n",
    "        \n",
    "        # ---------------------------------------------------\n",
    "        # 4-5、选择绘制横向条形图\n",
    "        if plotType == 'barh':\n",
    "            ax.barh(y= + dt2015.index, width= dt2015[data[i + 1]], height=2, \n",
    "                    label='2015') # 正 x 半轴绘图\n",
    "            ax.barh(y= - dt2015.index, width= dt2016[data[i + 1]], height=2, \n",
    "                    label='2016') # 负 x 半轴绘图\n",
    "            \n",
    "            ax.set_title(plot_title[i])  # 标题\n",
    "            ax.set_yticks([i for i in range(dt2015.shape[0])] + \n",
    "                        [-i for i in range(dt2015.shape[0])])  # 重置 y 轴刻度值\n",
    "            ax.set_yticklabels(labels=dt2015[data[0]].tolist() + \n",
    "                                dt2015[data[0]].tolist())  # 在 y 轴刻度值上设置标签\n",
    "            ax.legend(loc='best')\n",
    "            # 调整子图间距,上下左右\n",
    "            fig.subplots_adjust(top=18, bottom=0.1, left=0.9, right= 3.6, \n",
    "                                hspace=0.3, wspace=0.3)\n",
    "                                \n",
    "        # ------------------------------------------------------\n",
    "        # 4-6、选择绘制直方图\n",
    "        color = ['r', 'g', 'c', 'b', 'm', 'r', 'g', 'c', 'b', 'm']\n",
    "        if plotType == 'hist':\n",
    "            ax.hist(x= -dt2015[data[i + 1]], bins=10, color=color[i], label='2015') # 正 x 半轴绘图\n",
    "            ax.hist(x= dt2016[data[i + 1]], bins=10, color=color[-(i + 1)], label='2016')\n",
    "            ax.legend(loc='best')  # 图例\n",
    "            ax.set_title(plot_title[i])  # 标题\n",
    "            # 图像文本设置\n",
    "            ax.text(x=0, y=4, s='LXZ说:直方图用于探索各个元素出现的频次', fontsize=14, color='k')\n",
    "            # 调整子图间距,上下左右\n",
    "            fig.subplots_adjust(top=5, bottom=0.1, left=0.9, right= 3.6, \n",
    "                                hspace=0.3, wspace=0.3)\n",
    "        \n",
    "        # -------------------------------------------------------\n",
    "        # 4-7、选择绘制箱形图\n",
    "        if plotType == 'boxplot':\n",
    "            # patch_artist=True 填充颜色\n",
    "            ax.boxplot(x=[dt2015[data[i + 1]], dt2016[data[i + 1]], \n",
    "                        dt2017[data[i + 1]]], patch_artist=True)\n",
    "            ax.set(title=plot_title[i],\n",
    "                   ylabel='元素值分布',\n",
    "                   xlabel='年份',\n",
    "                   xticklabels=(['2015', '2016', '2017']))\n",
    "            \n",
    "            # 设置箭头标注，s 代表要显示的文字，xy 代表箭头的位置，xytext 代表文字\n",
    "            # 的位置，arrowprops 代表设置箭头的样式\n",
    "            ax.annotate(s='中位数：' + str(dt2016[data[i + 1]].median()), xy=(2, dt2016[data[i + 1]].median()),\n",
    "                       xytext=(2.25, dt2016[data[i + 1]].median() + 50), fontsize=20, color='k',\n",
    "                       arrowprops=dict(arrowstyle=\"->\",connectionstyle='arc3',color='r',))\n",
    "            ax.grid(True)  # 添加网格\n",
    "            # 子图间隙调整           \n",
    "            fig.subplots_adjust(top=5, bottom=0.1, left=0.9, right= 3.6, \n",
    "                                hspace=0.3, wspace=0.3)"
   ]
  },
  {
   "cell_type": "markdown",
   "metadata": {
    "id": "F7A31EAD360F4973975A9D74F97EABFB",
    "mdEditEnable": false
   },
   "source": [
    "### 3-1、在没有选择绘制图形类型时"
   ]
  },
  {
   "cell_type": "code",
   "execution_count": 5,
   "metadata": {
    "id": "4337FCDC8FBA4DA18CEE7E414C185C92",
    "scrolled": false
   },
   "outputs": [
    {
     "name": "stdout",
     "output_type": "stream",
     "text": [
      "温馨提示：你还没有选择绘制图形的类型.....\n",
      "类型如下...\n",
      "        plot\t线性图\n",
      "        pie\t饼图\n",
      "        bar\t纵向条形图\n",
      "        barh\t横向条形图\n",
      "        hist\t直方图\n",
      "        boxplot\t箱型图\n",
      "        scatter\t散点图\n",
      "        \n",
      "例子\n",
      "---------\n",
      "plot(data=data, plotType='plot')\n"
     ]
    }
   ],
   "source": [
    "# -------------------------\n",
    "# 测试调用\n",
    "data = ['area', 'total_value', 'one_value',  'two_value', \n",
    "        'three_value','zero_value', 'inout', 'pay', \n",
    "        'student', 'hospitalt', 'realty']    \n",
    "plotCity(data)"
   ]
  },
  {
   "cell_type": "markdown",
   "metadata": {
    "id": "CC4D2352D2BC46B6842DBE8FEC2CBEEF",
    "mdEditEnable": false
   },
   "source": [
    "### 3-2、线形图可视化分析"
   ]
  },
  {
   "cell_type": "code",
   "execution_count": 6,
   "metadata": {
    "id": "0E6E2A6CE46941B2891282BF435F4596",
    "scrolled": false
   },
   "outputs": [
    {
     "data": {
      "text/html": [
       "<img src=\"https://cdn.kesci.com/rt_upload/0E6E2A6CE46941B2891282BF435F4596/pnh3trdm0p.png\">"
      ],
      "text/plain": [
       "<Figure size 432x288 with 10 Axes>"
      ]
     },
     "metadata": {},
     "output_type": "display_data"
    }
   ],
   "source": [
    "# -------------------------\n",
    "# 测试调用\n",
    "data = ['area', 'total_value', 'one_value',  'two_value', \n",
    "        'three_value','zero_value', 'inout', 'pay', \n",
    "        'student', 'hospitalt', 'realty']    \n",
    "plotCity(data=data, plotType='plot')"
   ]
  },
  {
   "cell_type": "markdown",
   "metadata": {
    "id": "BC79A23608594BAD80DF75410F529DDA",
    "mdEditEnable": false
   },
   "source": [
    "#### 第一、二、三产业百度百科介绍如下：\n",
    "* 第一产业指生产食材以及其它一些生物材料的产业，如：种植业、林业、畜牧业、水产养殖业等直接以自然物为生产对象的产业。\n",
    "* 第二产业主要指加工制造产业，利用自然界和第一产业提供的基本材料进行加工处理。\n",
    "* 第三产业是指第一、第二产业以外的其他行业，主要包括交通运输业、通讯产业、商业、餐饮业、金融业、教育产业、公共服务等非物质生产部门。"
   ]
  },
  {
   "cell_type": "markdown",
   "metadata": {
    "id": "5A84FCE23A1E492AB96D0F0936B4381C",
    "mdEditEnable": false
   },
   "source": [
    "### 由上面的线形图可视化可分析如下：\n",
    "* -----------------------\n",
    "#### 总体来看\n",
    "* 各个省份的各项指标总体来说，呈现逐年增加的态势，不过增加的幅度不是很大\n",
    "* -----------------------\n",
    "#### 各项指标\n",
    "* -----------------------\n",
    "##### 在国内生产总值指标中\n",
    "* 北上广深、重庆占据绝对优势\n",
    "* 太原、呼和浩特、海口、西宁倒数，占比最小\n",
    "* ------------------------\n",
    "##### 在第一、二、三产业指标中\n",
    "* 重庆是第一、第二产业龙头\n",
    "* 北上广深是第二、三产业龙头\n",
    "* ------------------------\n",
    "##### 在零售总额指标中\n",
    "* 北上广深、重庆不负众望，仍然占据绝对优势\n",
    "* ------------------------\n",
    "##### 在货物进出口指标中\n",
    "* 北上深以绝对的优势碾压各省\n",
    "* 其他省份普遍较低\n",
    "* ------------------------\n",
    "##### 在平均工资指标中\n",
    "* 北上广深，拉萨占比较大\n",
    "* ------------------------\n",
    "##### 在校学生数指标中\n",
    "* 宁夏、厦门、深圳、海口、拉萨、西宁、银川占比最小\n",
    "* 深圳虽然是一线城市，但是大学学校不多\n",
    "* ------------------------\n",
    "##### 在医院数指标中\n",
    "* 重庆、成都占比较大\n",
    "* ------------------------\n",
    "##### 在房地产投资指标中\n",
    "* 北京、上海、杭州、郑州、广州、重庆、西安占比较大\n",
    "* ------------------------------------\n",
    "### 综上所述：\n",
    "* 发展比较好的城市：北上广深、重庆\n",
    "* 发展比较落后的城市：太原、呼和浩特、海口、西宁\n",
    "* -----------------------"
   ]
  },
  {
   "cell_type": "markdown",
   "metadata": {
    "id": "4BDE70E4279E4A5491CB06BD254C733D",
    "mdEditEnable": false
   },
   "source": [
    "### 3-3、饼图可视化分析"
   ]
  },
  {
   "cell_type": "code",
   "execution_count": 7,
   "metadata": {
    "id": "F6BA3D54C076414095416D910271C082",
    "scrolled": false
   },
   "outputs": [
    {
     "data": {
      "text/html": [
       "<img src=\"https://cdn.kesci.com/rt_upload/F6BA3D54C076414095416D910271C082/pnh3tv7orv.png\">"
      ],
      "text/plain": [
       "<Figure size 432x288 with 10 Axes>"
      ]
     },
     "metadata": {},
     "output_type": "display_data"
    }
   ],
   "source": [
    "# -------------------------\n",
    "# 测试调用\n",
    "data = ['area', 'total_value', 'one_value',  'two_value', \n",
    "        'three_value','zero_value', 'inout', 'pay', \n",
    "        'student', 'hospitalt', 'realty']    \n",
    "plotCity(data=data, plotType='pie')"
   ]
  },
  {
   "cell_type": "markdown",
   "metadata": {
    "id": "5342F9D2D1404545840BA35C8DAF5EC9",
    "mdEditEnable": false
   },
   "source": [
    "### 3-4、纵向条形图可视化分析"
   ]
  },
  {
   "cell_type": "code",
   "execution_count": 8,
   "metadata": {
    "id": "1E254A5303994E348B32202571C0101A",
    "scrolled": false
   },
   "outputs": [
    {
     "data": {
      "text/html": [
       "<img src=\"https://cdn.kesci.com/rt_upload/1E254A5303994E348B32202571C0101A/pnh3u66ind.png\">"
      ],
      "text/plain": [
       "<Figure size 432x288 with 10 Axes>"
      ]
     },
     "metadata": {},
     "output_type": "display_data"
    }
   ],
   "source": [
    "''' 在一个刻度上堆叠多个条形图，并在正轴、负轴展示 '''\n",
    "# -------------------------\n",
    "# 测试调用\n",
    "data = ['area', 'total_value', 'one_value',  'two_value', \n",
    "        'three_value','zero_value', 'inout', 'pay', \n",
    "        'student', 'hospitalt', 'realty']    \n",
    "plotCity(data=data, plotType='bar')"
   ]
  },
  {
   "cell_type": "markdown",
   "metadata": {
    "id": "8E5E57FBE9294DD08E6623894C2A1DAF",
    "mdEditEnable": false,
    "scrolled": false
   },
   "source": [
    "### 3-5、横向条形图可视化分析"
   ]
  },
  {
   "cell_type": "code",
   "execution_count": 9,
   "metadata": {
    "id": "D2459C018ABD49E0AFF752D334DF7F90",
    "scrolled": false
   },
   "outputs": [
    {
     "data": {
      "text/html": [
       "<img src=\"https://cdn.kesci.com/rt_upload/D2459C018ABD49E0AFF752D334DF7F90/pnh3uimck7.png\">"
      ],
      "text/plain": [
       "<Figure size 432x288 with 10 Axes>"
      ]
     },
     "metadata": {},
     "output_type": "display_data"
    }
   ],
   "source": [
    "# -------------------------\n",
    "# 测试调用\n",
    "data = ['area', 'total_value', 'one_value',  'two_value', \n",
    "        'three_value','zero_value', 'inout', 'pay', \n",
    "        'student', 'hospitalt', 'realty']    \n",
    "plotCity(data=data, plotType='barh')"
   ]
  },
  {
   "cell_type": "markdown",
   "metadata": {
    "id": "8533C4DDC96341B7BE8B5E9735BC7E84",
    "mdEditEnable": false,
    "scrolled": false
   },
   "source": [
    "### 3-6、直方图可视化探索分布"
   ]
  },
  {
   "cell_type": "code",
   "execution_count": 10,
   "metadata": {
    "id": "E6D018AE58B54C28803AB16DEB3E7C16",
    "scrolled": false
   },
   "outputs": [
    {
     "data": {
      "text/html": [
       "<img src=\"https://cdn.kesci.com/rt_upload/E6D018AE58B54C28803AB16DEB3E7C16/pnh3ulyc61.png\">"
      ],
      "text/plain": [
       "<Figure size 432x288 with 10 Axes>"
      ]
     },
     "metadata": {},
     "output_type": "display_data"
    }
   ],
   "source": [
    "# -------------------------\n",
    "# 测试调用\n",
    "data = ['area', 'total_value', 'one_value',  'two_value', \n",
    "        'three_value','zero_value', 'inout', 'pay', \n",
    "        'student', 'hospitalt', 'realty']    \n",
    "plotCity(data=data, plotType='hist')"
   ]
  },
  {
   "cell_type": "markdown",
   "metadata": {
    "id": "AC3184CCFAA7409681E5429554D6E989",
    "mdEditEnable": false,
    "scrolled": false
   },
   "source": [
    "### 3-7、箱形图可视化探索分布"
   ]
  },
  {
   "cell_type": "code",
   "execution_count": 11,
   "metadata": {
    "id": "54BAADD71130465BAEC4C58328D2E365",
    "scrolled": false
   },
   "outputs": [
    {
     "data": {
      "text/html": [
       "<img src=\"https://cdn.kesci.com/rt_upload/54BAADD71130465BAEC4C58328D2E365/pnh3un7j1o.png\">"
      ],
      "text/plain": [
       "<Figure size 432x288 with 10 Axes>"
      ]
     },
     "metadata": {},
     "output_type": "display_data"
    }
   ],
   "source": [
    "# -------------------------\n",
    "# 测试调用\n",
    "data = ['area', 'total_value', 'one_value',  'two_value', \n",
    "        'three_value','zero_value', 'inout', 'pay', \n",
    "        'student', 'hospitalt', 'realty']    \n",
    "plotCity(data=data, plotType='boxplot')"
   ]
  },
  {
   "cell_type": "markdown",
   "metadata": {
    "id": "5E69C5329A9C495F92020F5EA0FE54E4",
    "mdEditEnable": false
   },
   "source": [
    "### 4、雷达图可视化探索"
   ]
  },
  {
   "cell_type": "markdown",
   "metadata": {
    "id": "73BB284CC25E4920BE5E7136C2FF618C",
    "mdEditEnable": false,
    "scrolled": false
   },
   "source": [
    "下面将以雷达图来探索 36 个省 2015、2016、2017年的变化情况\n",
    "* -------------------\n",
    "* 探索指定的特征三年来的变化\n",
    "* -------------------\n",
    "* 第二产业增加值 \n",
    "* 年末总人口\n",
    "* 房地产开发投资额\n",
    "*--------------------\n",
    "* 批量绘制 36 个雷达图....."
   ]
  },
  {
   "cell_type": "code",
   "execution_count": 12,
   "metadata": {
    "id": "8531FC0572F74C43B4C36212188E6BF3",
    "scrolled": false
   },
   "outputs": [],
   "source": [
    "# 将'year'设置成索引列\n",
    "df = df.set_index(keys='year') \n"
   ]
  },
  {
   "cell_type": "code",
   "execution_count": 13,
   "metadata": {
    "id": "CF0657C44245414BB290A59AAE6BFB84",
    "scrolled": false
   },
   "outputs": [
    {
     "data": {
      "text/html": [
       "<img src=\"https://cdn.kesci.com/rt_upload/CF0657C44245414BB290A59AAE6BFB84/pnh3uvqe8x.png\">"
      ],
      "text/plain": [
       "<Figure size 432x288 with 36 Axes>"
      ]
     },
     "metadata": {},
     "output_type": "display_data"
    }
   ],
   "source": [
    "import numpy as np\n",
    "\n",
    "\n",
    "def leida(city):\n",
    "    \n",
    "    # 正常显示中文、坐标轴负号的问题\n",
    "    plt.rcParams['font.sans-serif'] = 'Microsoft YaHei'\n",
    "    plt.rcParams['axes.unicode_minus'] = False\n",
    "\n",
    "    fig = plt.figure()  # 设置画布\n",
    "    plt.style.use('ggplot')  # 图像风格\n",
    "    \n",
    "    # 特征的标签\n",
    "    labels = ['第二产业增加值', '年末总人口', '房地产开发投资额']\n",
    "    \n",
    "    for i in range(len(city)):\n",
    "        \n",
    "        # 各省数据\n",
    "        # beijing = df[df['area'] == '北京']\n",
    "        values1 = df[df['area'] == city[i]].iloc[0, [3, 7, 11]].tolist()  # 2015 年\n",
    "        values2 = df[df['area'] == city[i]].iloc[1, [3, 7, 11]].tolist()  # 2016 年\n",
    "        values3 = df[df['area'] == city[i]].iloc[2, [3, 7, 11]].tolist()  # 2017 年\n",
    "        # print(values1, values2)\n",
    "        \n",
    "        # 分配角度\n",
    "        angles = np.linspace(0, 2 * np.pi, len(values1), endpoint=False)\n",
    "        \n",
    "        # 将数据和角度连接成一个圆圈\n",
    "        values1 = np.concatenate((values1, [values1[0]]))\n",
    "        values2 = np.concatenate((values2, [values2[0]]))\n",
    "        values3 = np.concatenate((values3, [values3[0]]))\n",
    "        angles = np.concatenate((angles, [angles[0]]))\n",
    "\n",
    "        # 36 个省，绘制 18 x 2 个子图\n",
    "        ax = fig.add_subplot(18, 2, i + 1, polar=True)  # polar=True 代表绘制极坐标图\n",
    "        \n",
    "        ''' \n",
    "        绘制雷达图：\n",
    "        marker='o' 代表设置点的样式为\"圆圈\"\n",
    "        linewidth 线条的宽度\n",
    "        label 标签，与图例共同使用\n",
    "        '''\n",
    "        ax.plot(angles, values1, marker='v', color= 'r', linewidth=1.5, label='2015')\n",
    "        ax.fill(angles, values1, alpha=0.25)\n",
    "        \n",
    "        ax.plot(angles, values2, marker='v', color= 'm', linewidth=1.5, label='2016')\n",
    "        ax.fill(angles, values2, alpha=0.25)\n",
    "        \n",
    "        ax.plot(angles, values3, marker='o', color= 'c', linewidth=1.5, label='2017')\n",
    "        ax.fill(angles, values3, alpha=0.25)\n",
    "        ax.set_thetagrids(angles * 180 / np.pi, labels)  # 标注上特征标签\n",
    "        \n",
    "        ax.set_title(city[i])  # 设置标题\n",
    "        plt.legend(loc='center left')  # 图例, 左边中部\n",
    "        ax.grid(True)  # 添加网格\n",
    "        # 子图间隙调整，top 主要控制子图高度，right 主要控制子图宽度，\n",
    "        # left 调整子图之间左右的间隙，bottom 调整上下间隙\n",
    "        # fig.subplots_adjust(top=30, right=15, left=9)  # 左右间隙过大\n",
    "        # fig.subplots_adjust(top=30, right=15, left=14)  # 上下间隙过大\n",
    "        fig.subplots_adjust(top=30, right=15, left=14, bottom=17)\n",
    "        \n",
    "# ----------------------------------------\n",
    "# 测试调用雷达图\n",
    "# tolist() 代表转换成列表\n",
    "city = df['area'][:36].tolist()\n",
    "leida(city)"
   ]
  },
  {
   "cell_type": "code",
   "execution_count": null,
   "metadata": {
    "id": "ED1D81FEEFBB4BFE926EA2E37255FD67"
   },
   "outputs": [],
   "source": []
  }
 ],
 "metadata": {
  "kernelspec": {
   "display_name": "Python 3",
   "language": "python",
   "name": "python3"
  },
  "language_info": {
   "codemirror_mode": {
    "name": "ipython",
    "version": 3
   },
   "file_extension": ".py",
   "mimetype": "text/x-python",
   "name": "python",
   "nbconvert_exporter": "python",
   "pygments_lexer": "ipython3",
   "version": "3.6.8"
  },
  "varInspector": {
   "cols": {
    "lenName": 16,
    "lenType": 16,
    "lenVar": 40
   },
   "kernels_config": {
    "python": {
     "delete_cmd_postfix": "",
     "delete_cmd_prefix": "del ",
     "library": "var_list.py",
     "varRefreshCmd": "print(var_dic_list())"
    },
    "r": {
     "delete_cmd_postfix": ") ",
     "delete_cmd_prefix": "rm(",
     "library": "var_list.r",
     "varRefreshCmd": "cat(var_dic_list()) "
    }
   },
   "types_to_exclude": [
    "module",
    "function",
    "builtin_function_or_method",
    "instance",
    "_Feature"
   ],
   "window_display": false
  }
 },
 "nbformat": 4,
 "nbformat_minor": 1
}
