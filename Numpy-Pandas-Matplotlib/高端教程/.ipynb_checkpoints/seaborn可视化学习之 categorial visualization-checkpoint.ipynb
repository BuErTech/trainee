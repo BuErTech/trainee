{
 "cells": [
  {
   "cell_type": "markdown",
   "metadata": {
    "id": "714CE03BD82D4AA18EE3C988E499EE1E",
    "mdEditEnable": false
   },
   "source": [
    "iris鸢尾花数据集\n",
    "\n",
    "__ iris.csv\n",
    "\n",
    "[# iris鸢尾花数据集](https://www.kesci.com/home/dataset/58a942bc7159a710d916af11) \n",
    "\n",
    "# **背景介绍**\n",
    "\n",
    "Iris也称鸢尾花卉数据集，是一类多重变量分析的数据集。数据集包含150个数据集，分为3类，每类50个数据，每个数据包含4个属性。可通过花萼长度，花萼宽度，花瓣长度，花瓣宽度4个属性预测鸢尾花卉属于（Setosa，Versicolour，Virginica）三个种类中的哪一类。\n",
    "\n",
    "### 如何在线使用数据集\n",
    "\n",
    "创建项目后：  \n",
    "Python用户，输入`ls ../input/iris/`   查看数据路径  \n",
    "R用户，输入`list.files(\"../input/iris/\")`  查看数据路径  \n",
    "使用相关包读取数据\n",
    "\n",
    "# **数据描述**\n",
    "\n",
    "# 数据字典\n",
    "\n",
    "**变量名**  | sepal_length | sepal_width | petal_length | petal_width | species    \n",
    "-------- | ------------ | ----------- | ------------ | ----------- | -----------\n",
    "**变量解释** | 花萼长度（单位cm）   | 花萼宽度（单位cm）  | 花瓣长度（单位cm）   | 花瓣宽度（单位cm）  | 种类         \n",
    "**数据类型** | numeric      | numeric     | numeric      | numeric     | categorical\n",
    "\n",
    "---\n",
    "\n",
    "# 数据预览\n",
    "\n",
    "`iris.csv` 数据集大小：4k\n",
    "\n",
    "sepal_length | sepal_width | petal_length | petal_width | species\n",
    "------------ | ----------- | ------------ | ----------- | -------\n",
    "5.1          | 3.5         | 1.4          | 0.2         | setosa \n",
    "4.9          | 3           | 1.4          | 0.2         | setosa \n",
    "4.7          | 3.2         | 1.3          | 0.2         | setosa \n",
    "4.6          | 3.1         | 1.5          | 0.2         | setosa \n",
    "5            | 3.6         | 1.4          | 0.2         | setosa \n",
    "5.4          | 3.9         | 1.7          | 0.4         | setosa \n",
    "4.6          | 3.4         | 1.4          | 0.3         | setosa \n",
    "5            | 3.4         | 1.5          | 0.2         | setosa \n",
    "4.4          | 2.9         | 1.4          | 0.2         | setosa \n",
    "4.9          | 3.1         | 1.5          | 0.1         | setosa \n",
    "…            | …           | …            | …           | …      \n",
    "\n",
    "**10** of  of`150` rows, `5` columns \n",
    "\n",
    "> 如果您对数据集有疑问或建议，可以提交意见反馈给我们哦\n",
    "\n",
    "\n",
    "\n",
    "# seaborn可视化学习之categorial visualization\n",
    "seaborn是一个做数据可视化效果很棒的库。在看了官方tutorial之后，**尝试用Iris鸢尾花数据集实践一下categorical visualization**，也就是数据按类别进行可视化。    \n",
    "首先介绍一下[Iris鸢尾花数据集](https://baike.baidu.com/item/IRIS/4061453?fr=aladdin)，内容摘自百度百科：Iris数据集是常用的分类实验数据集，由Fisher, 1936收集整理。“Iris也称鸢尾花卉数据集，是一类多重变量分析的数据集。数据集包含150个数据集，分为3类，每类50个数据，每个数据包含4个属性。可通过花萼长度，花萼宽度，花瓣长度，花瓣宽度4个属性预测鸢尾花卉属于（Setosa，Versicolour，Virginica）三个种类中的哪一类”。    \n"
   ]
  },
  {
   "cell_type": "markdown",
   "metadata": {
    "id": "6E18092DFDC74F7B8B092F9324A9D5F0",
    "mdEditEnable": false
   },
   "source": [
    "**导入库**"
   ]
  },
  {
   "cell_type": "code",
   "execution_count": 1,
   "metadata": {
    "id": "5824962B80794861BF131F93136B7FCD",
    "scrolled": false
   },
   "outputs": [],
   "source": [
    "import warnings\n",
    "warnings.filterwarnings(\"ignore\")\n",
    "import pandas as pd\n",
    "import numpy as np\n",
    "import matplotlib.pyplot as plt\n",
    "%matplotlib inline\n",
    "import seaborn as sns"
   ]
  },
  {
   "cell_type": "code",
   "execution_count": 2,
   "metadata": {
    "id": "A57F771EEF8041CA89EC4F832E8C9B4D",
    "scrolled": false
   },
   "outputs": [
    {
     "name": "stdout",
     "output_type": "stream",
     "text": [
      "\u001b[0m\u001b[01;34miris\u001b[0m/  iris.csv\r\n"
     ]
    }
   ],
   "source": [
    "ls ../input/iris/"
   ]
  },
  {
   "cell_type": "markdown",
   "metadata": {
    "id": "7487FA9E385C4E2D8C2DE0A29D524DD9",
    "mdEditEnable": false
   },
   "source": [
    "**读取数据**"
   ]
  },
  {
   "cell_type": "code",
   "execution_count": 3,
   "metadata": {
    "id": "9650DABA37C3407D84C5611E94BAB2BC",
    "scrolled": false
   },
   "outputs": [
    {
     "data": {
      "text/html": [
       "<div>\n",
       "<style scoped>\n",
       "    .dataframe tbody tr th:only-of-type {\n",
       "        vertical-align: middle;\n",
       "    }\n",
       "\n",
       "    .dataframe tbody tr th {\n",
       "        vertical-align: top;\n",
       "    }\n",
       "\n",
       "    .dataframe thead th {\n",
       "        text-align: right;\n",
       "    }\n",
       "</style>\n",
       "<table border=\"1\" class=\"dataframe\">\n",
       "  <thead>\n",
       "    <tr style=\"text-align: right;\">\n",
       "      <th></th>\n",
       "      <th>Sepal.Length</th>\n",
       "      <th>Sepal.Width</th>\n",
       "      <th>Petal.Length</th>\n",
       "      <th>Petal.Width</th>\n",
       "      <th>Species</th>\n",
       "    </tr>\n",
       "  </thead>\n",
       "  <tbody>\n",
       "    <tr>\n",
       "      <th>0</th>\n",
       "      <td>5.1</td>\n",
       "      <td>3.5</td>\n",
       "      <td>1.4</td>\n",
       "      <td>0.2</td>\n",
       "      <td>setosa</td>\n",
       "    </tr>\n",
       "    <tr>\n",
       "      <th>1</th>\n",
       "      <td>4.9</td>\n",
       "      <td>3.0</td>\n",
       "      <td>1.4</td>\n",
       "      <td>0.2</td>\n",
       "      <td>setosa</td>\n",
       "    </tr>\n",
       "    <tr>\n",
       "      <th>2</th>\n",
       "      <td>4.7</td>\n",
       "      <td>3.2</td>\n",
       "      <td>1.3</td>\n",
       "      <td>0.2</td>\n",
       "      <td>setosa</td>\n",
       "    </tr>\n",
       "    <tr>\n",
       "      <th>3</th>\n",
       "      <td>4.6</td>\n",
       "      <td>3.1</td>\n",
       "      <td>1.5</td>\n",
       "      <td>0.2</td>\n",
       "      <td>setosa</td>\n",
       "    </tr>\n",
       "    <tr>\n",
       "      <th>4</th>\n",
       "      <td>5.0</td>\n",
       "      <td>3.6</td>\n",
       "      <td>1.4</td>\n",
       "      <td>0.2</td>\n",
       "      <td>setosa</td>\n",
       "    </tr>\n",
       "  </tbody>\n",
       "</table>\n",
       "</div>"
      ],
      "text/plain": [
       "   Sepal.Length  Sepal.Width  Petal.Length  Petal.Width Species\n",
       "0           5.1          3.5           1.4          0.2  setosa\n",
       "1           4.9          3.0           1.4          0.2  setosa\n",
       "2           4.7          3.2           1.3          0.2  setosa\n",
       "3           4.6          3.1           1.5          0.2  setosa\n",
       "4           5.0          3.6           1.4          0.2  setosa"
      ]
     },
     "execution_count": 3,
     "metadata": {},
     "output_type": "execute_result"
    }
   ],
   "source": [
    "iris = pd.read_csv('../input/iris/iris.csv')\n",
    "iris.head()"
   ]
  },
  {
   "cell_type": "markdown",
   "metadata": {
    "collapsed": true,
    "id": "943047C51B4F428C8E4904474E3D5C34",
    "mdEditEnable": false
   },
   "source": [
    "数据字段介绍：\n",
    "* sepal_length:花萼长度，单位cm\n",
    "* sepal_width:花萼宽度，单位cm\n",
    "* petal_length:花瓣长度，单位cm\n",
    "* petal_width:花瓣宽度，单位cm\n",
    "* 种类:setosa(山鸢尾)，versicolor(杂色鸢尾)，virginica(弗吉尼亚鸢尾)\n"
   ]
  },
  {
   "cell_type": "markdown",
   "metadata": {
    "id": "255F091A18FA4728810A06032E0EA374",
    "mdEditEnable": false
   },
   "source": [
    "在做categorical visualization的时候，seaborn给出了基础的**stripplot** & **swarmplot**, **boxplot** & **violinplot**, **barplot** & **pointplot**,以及抽象化的**factorplot**.下面就用纸鸢花数据集做一下讲解。"
   ]
  },
  {
   "cell_type": "markdown",
   "metadata": {
    "id": "0A2CF41ABDCA4E24B4D618560896815D",
    "mdEditEnable": false
   },
   "source": [
    "## Stripplot\n",
    "Stripplot的本质就是把数据集中具有quantitative属性的变量按照类别去做散点图(Scatterplot)。 "
   ]
  },
  {
   "cell_type": "markdown",
   "metadata": {
    "id": "D453C940DC324C69AAB49A41FB702D12",
    "mdEditEnable": false
   },
   "source": [
    "我们将纸鸢花数据集中不同种类花的sepal length做stripplot可视化"
   ]
  },
  {
   "cell_type": "code",
   "execution_count": 4,
   "metadata": {
    "id": "E184A46E31114E9BB7C3134F35C3C39A",
    "scrolled": false
   },
   "outputs": [
    {
     "data": {
      "text/html": [
       "<img src=\"https://cdn.kesci.com/rt_upload/E184A46E31114E9BB7C3134F35C3C39A/pcpxy1yuu3.png\">"
      ],
      "text/plain": [
       "<Figure size 864x432 with 2 Axes>"
      ]
     },
     "metadata": {},
     "output_type": "display_data"
    }
   ],
   "source": [
    "plt.figure(1,figsize=(12,6))\n",
    "\n",
    "plt.subplot(1,2,1)\n",
    "sns.stripplot(x='Species',y='Sepal.Length',data=iris) #stripplot\n",
    "plt.title('Striplot of sepal length of Iris species')\n",
    "\n",
    "with sns.axes_style(\"whitegrid\"): # 这个是临时设置样式的命令，如果不写，则按默认格式'darkgrid'进行绘制\n",
    "    plt.subplot(1,2,2)\n",
    "    plt.title('Striplot of sepal length of Iris species')\n",
    "    sns.stripplot(x='Species',y='Sepal.Length',data=iris,jitter=True) # jitterplot\n",
    "\n",
    "plt.show()"
   ]
  },
  {
   "cell_type": "markdown",
   "metadata": {
    "id": "98681E5E15FB4F478684A1EC2A07E9DF",
    "mdEditEnable": false
   },
   "source": [
    "上边左侧的图片便是在默认风格下用stripplot绘制的散点图。在很多情况下，stripplot中的点会重叠，使得我们不容易看出点的分布情况。一个简单的解决办法就是用在stripplot的基础上绘制抖动图(jitterplot)，仅沿着类别坐标轴的方向去随机微调整点的位置，显示出分布情况。"
   ]
  },
  {
   "cell_type": "markdown",
   "metadata": {
    "id": "D6C0A2B483B8478589716393C648C650",
    "mdEditEnable": false
   },
   "source": [
    "## Swarmplot\n",
    "另一个解决stripplot中点重叠的办法就是绘制swarmplot,它的本质就是用通过算法，在类别坐标轴的方向上去‘延展’绘制这些原本重合的点。\n",
    "我们将纸鸢花数据集中不同种类花的petal length和petal width做swarmplot可视化。"
   ]
  },
  {
   "cell_type": "code",
   "execution_count": 5,
   "metadata": {
    "id": "6E2E43FC3FC54AB0B1CDEBD1FB7D1EF6",
    "scrolled": false
   },
   "outputs": [
    {
     "data": {
      "text/html": [
       "<img src=\"https://cdn.kesci.com/rt_upload/6E2E43FC3FC54AB0B1CDEBD1FB7D1EF6/pcpxy8yozn.png\">"
      ],
      "text/plain": [
       "<Figure size 864x432 with 2 Axes>"
      ]
     },
     "metadata": {},
     "output_type": "display_data"
    }
   ],
   "source": [
    "plt.figure(1,figsize=(12,6))\n",
    "\n",
    "plt.subplot(1,2,1)\n",
    "sns.swarmplot(x='Species',y='Petal.Length',data=iris) \n",
    "\n",
    "with sns.axes_style(\"ticks\"): # 这次使用了ticks风格\n",
    "    plt.subplot(1,2,2)\n",
    "    sns.swarmplot(x='Species',y='Petal.Width',data=iris)\n",
    "\n",
    "plt.show()"
   ]
  },
  {
   "cell_type": "markdown",
   "metadata": {
    "id": "7A0D108309EF4CECA1E8D41857CC92AF",
    "mdEditEnable": false
   },
   "source": [
    "## Boxplot\n",
    "箱形图，主要包含六个数据节点，将一组数据从大到小排列，分别计算出上边缘，上四分位数Q3，中位数，下四分位数Q1，下边缘，还有异常值。\n",
    "下面将纸鸢花数据集中的四个变量sepal_length, sepal_width, petal_length和petal_width做箱形图可视化。"
   ]
  },
  {
   "cell_type": "code",
   "execution_count": 6,
   "metadata": {
    "id": "2F82367DB29345CE86CBC963CC34357F",
    "scrolled": false
   },
   "outputs": [
    {
     "data": {
      "text/html": [
       "<img src=\"https://cdn.kesci.com/rt_upload/2F82367DB29345CE86CBC963CC34357F/pcpxycyy1e.png\">"
      ],
      "text/plain": [
       "<Figure size 864x864 with 4 Axes>"
      ]
     },
     "metadata": {},
     "output_type": "display_data"
    }
   ],
   "source": [
    "var = ['Sepal.Length','Sepal.Width','Petal.Length','Petal.Width']\n",
    "axes_style = ['ticks','white','whitegrid', 'dark']\n",
    "\n",
    "fig = plt.figure(1,figsize=(12,12))\n",
    "\n",
    "for i in range(4):\n",
    "    with sns.axes_style(axes_style[i]): # 将除了默认的darkgrid之外的样式都展现一遍\n",
    "        plt.subplot(2,2,i+1)\n",
    "        sns.boxplot(x='Species',y=var[i],data=iris)\n",
    "\n",
    "plt.show()"
   ]
  },
  {
   "cell_type": "markdown",
   "metadata": {
    "id": "2FC2EA6D3E9A451F9599CDCB387BCDB7",
    "mdEditEnable": false
   },
   "source": [
    "## Violinplot\n",
    "Violinplot相当于结合了箱形图与核密度图，更好地展现出数据的量化形态。展示如下："
   ]
  },
  {
   "cell_type": "code",
   "execution_count": 7,
   "metadata": {
    "id": "022669161B544768816AEAE18D414B80",
    "scrolled": false
   },
   "outputs": [
    {
     "data": {
      "text/html": [
       "<img src=\"https://cdn.kesci.com/rt_upload/022669161B544768816AEAE18D414B80/pcpxyil07y.png\">"
      ],
      "text/plain": [
       "<Figure size 864x864 with 4 Axes>"
      ]
     },
     "metadata": {},
     "output_type": "display_data"
    }
   ],
   "source": [
    "context= ['notebook','paper','talk','poster']\n",
    "axes_style = ['ticks','white','whitegrid', 'dark']\n",
    "\n",
    "plt.figure(1,figsize=(12,12))\n",
    "for i in range(4):\n",
    "    with sns.axes_style(axes_style[i]):#设置axes_style\n",
    "        sns.set_context(context[i]) # 设置context style,默认为notebook,除此之外还有paper,talk,poster\n",
    "        plt.subplot(2,2,i+1)\n",
    "        plt.title(str(var[i])+ ' in Iris species')\n",
    "        sns.violinplot(x='Species',y=var[i],data=iris)\n",
    "\n",
    "plt.show()"
   ]
  },
  {
   "cell_type": "markdown",
   "metadata": {
    "id": "90C8834A22DD44B783C2482E7F72DB06",
    "mdEditEnable": false
   },
   "source": [
    "Violinplot用kernel density estimate去更好地描述了quantitative变量的分布。    \n",
    "与此同时，也可以组合swarmplot和boxplot或violinplot去描述quantitative变量。用鸢尾花数据集展示如下："
   ]
  },
  {
   "cell_type": "code",
   "execution_count": 8,
   "metadata": {
    "id": "17F9D2A31B564EFBAAFC597B426F05F3",
    "scrolled": false
   },
   "outputs": [
    {
     "data": {
      "text/html": [
       "<img src=\"https://cdn.kesci.com/rt_upload/17F9D2A31B564EFBAAFC597B426F05F3/pcpxynj6s3.png\">"
      ],
      "text/plain": [
       "<Figure size 864x864 with 4 Axes>"
      ]
     },
     "metadata": {},
     "output_type": "display_data"
    }
   ],
   "source": [
    "context= ['notebook','paper','talk','poster']\n",
    "axes_style = ['ticks','white','whitegrid', 'dark']\n",
    "\n",
    "plt.figure(1,figsize=(12,12))\n",
    "for i in range(4):\n",
    "    with sns.axes_style(axes_style[i]):#设置axes_style\n",
    "        sns.set_context(context[i])#设置context\n",
    "        plt.subplot(2,2,i+1)\n",
    "        plt.title(str(var[i])+ ' in Iris species')\n",
    "        sns.swarmplot(x='Species', y=var[i], data=iris, color=\"w\", alpha=.5) \n",
    "        sns.violinplot(x='Species', y=var[i], data=iris, inner=None) if i%2 ==0 \\\n",
    "        else sns.boxplot(x='Species', y=var[i], data=iris) # 分别用swarmplot+violinplot 和swarmplot + boxplot\n",
    "\n",
    "plt.show()"
   ]
  },
  {
   "cell_type": "markdown",
   "metadata": {
    "id": "67CDF5EE2FC142E8AF7D554515EF4B53",
    "mdEditEnable": false
   },
   "source": [
    "## Barplot     \n",
    "Barplot主要是展现在分类中的quantitative变量的平均值情况，并且用了boostrapping算法计算了估计值的置信区间和error bar.用鸢尾花数据集展示如下："
   ]
  },
  {
   "cell_type": "code",
   "execution_count": 9,
   "metadata": {
    "id": "C9B89A512DC74B418E7ED1DE5B2E24A5",
    "scrolled": false
   },
   "outputs": [
    {
     "data": {
      "text/html": [
       "<img src=\"https://cdn.kesci.com/rt_upload/C9B89A512DC74B418E7ED1DE5B2E24A5/pcpxysgjj7.png\">"
      ],
      "text/plain": [
       "<Figure size 864x864 with 4 Axes>"
      ]
     },
     "metadata": {},
     "output_type": "display_data"
    }
   ],
   "source": [
    "plt.figure(1,figsize=(12,12))\n",
    "for i in range(4):\n",
    "    with sns.axes_style(axes_style[i]):#设置axes_style\n",
    "        sns.set_context(context[i]) # 设置context style,默认为notebook,除此之外还有paper,talk,poster\n",
    "        plt.subplot(2,2,i+1)\n",
    "        plt.title(str(var[i])+ ' in Iris species')\n",
    "        sns.barplot(x='Species',y=var[i],data=iris)\n",
    "plt.show()"
   ]
  },
  {
   "cell_type": "markdown",
   "metadata": {
    "id": "7CF4A034592A4B6C89B3F30A684C9595",
    "mdEditEnable": false
   },
   "source": [
    "## Countplot\n",
    "如果想知道在每个类别下面有多少个观察值，用countplot就可以，相当于是做一个observation counts，用鸢尾花数据集展示如下："
   ]
  },
  {
   "cell_type": "code",
   "execution_count": 10,
   "metadata": {
    "id": "E3E40DE3C7094B2C88707296203F8880",
    "scrolled": false
   },
   "outputs": [
    {
     "data": {
      "text/html": [
       "<img src=\"https://cdn.kesci.com/rt_upload/E3E40DE3C7094B2C88707296203F8880/pcpxywdkld.png\">"
      ],
      "text/plain": [
       "<Figure size 360x360 with 1 Axes>"
      ]
     },
     "metadata": {},
     "output_type": "display_data"
    }
   ],
   "source": [
    "plt.figure(figsize=(5,5))\n",
    "sns.countplot(y=\"Species\", data=iris) # 设置y='species',将countplot水平放置\n",
    "plt.title('Iris species count')\n",
    "plt.show()"
   ]
  },
  {
   "cell_type": "markdown",
   "metadata": {
    "id": "4FC85DBF02164C1F8C5583E7AA01C3B3",
    "mdEditEnable": false
   },
   "source": [
    "### Pointplot\n",
    "Pointplot相当于是对barplot做了一个横向延伸，一方面，用point estimate和confidence level去展示barplot的内容；另一方面，当每一个主类别下面有更细分的sub-category的时候，pointplot可以便于观察不同sub-category在各主类别之间的联系。展示如下：\n"
   ]
  },
  {
   "cell_type": "code",
   "execution_count": 11,
   "metadata": {
    "id": "F7DD67ECE60E4327BA8DFE2AB499A8E0",
    "scrolled": false
   },
   "outputs": [
    {
     "data": {
      "text/html": [
       "<img src=\"https://cdn.kesci.com/rt_upload/F7DD67ECE60E4327BA8DFE2AB499A8E0/pcpxz1qtjw.png\">"
      ],
      "text/plain": [
       "<Figure size 864x864 with 4 Axes>"
      ]
     },
     "metadata": {},
     "output_type": "display_data"
    }
   ],
   "source": [
    "plt.figure(1,figsize=(12,12))\n",
    "for i in range(4):\n",
    "    with sns.axes_style(axes_style[i]):#设置axes_style\n",
    "        sns.set_context(context[i]) # 设置context style,默认为notebook,除此之外还有paper,talk,poster\n",
    "        plt.subplot(2,2,i+1)\n",
    "        plt.title(str(var[i])+ ' in Iris species')\n",
    "        sns.pointplot(x='Species',y=var[i],data=iris)\n",
    "plt.show()"
   ]
  },
  {
   "cell_type": "markdown",
   "metadata": {
    "id": "11E20056BF1542D8873B42D1A941EAD5",
    "mdEditEnable": false
   },
   "source": [
    "### Factorplot\n",
    "Factorplot可以说是seaborn做category visualization的精髓，前面讲的这些plot都可以说是factorplot的具体展示。我们可以用PariGrid去实现对多个类别的数值特征用同一种plot做可视化。"
   ]
  },
  {
   "cell_type": "code",
   "execution_count": 12,
   "metadata": {
    "id": "98D3A6D7103A4C86885F4F415767F027",
    "scrolled": false
   },
   "outputs": [
    {
     "data": {
      "text/html": [
       "<img src=\"https://cdn.kesci.com/rt_upload/98D3A6D7103A4C86885F4F415767F027/pcpxz6s7mk.png\">"
      ],
      "text/plain": [
       "<Figure size 864x288 with 4 Axes>"
      ]
     },
     "metadata": {},
     "output_type": "display_data"
    }
   ],
   "source": [
    "sns.set(style=\"ticks\")\n",
    "g = sns.PairGrid(iris,\n",
    "             x_vars = ['Sepal.Length','Sepal.Width','Petal.Length','Petal.Width'],\n",
    "            y_vars = 'Species',\n",
    "            aspect=0.75,size=4) # 设置间距和图片大小\n",
    "g.map(sns.violinplot,palette='pastel')\n",
    "plt.show()"
   ]
  },
  {
   "cell_type": "markdown",
   "metadata": {
    "id": "2A1861F68BB5429E8D28058B8CDEE606",
    "mdEditEnable": false
   },
   "source": [
    "附上各plot function的API，今后将会对API中的参数结合tutorial讲讲，如何做出更好的可视化效果。更新ing"
   ]
  },
  {
   "cell_type": "markdown",
   "metadata": {
    "id": "E3AA208827F148E08809A7ABB1728FC4",
    "mdEditEnable": false
   },
   "source": [
    "```python\n",
    "seaborn.stripplot(x=None, y=None, hue=None, data=None, order=None, hue_order=None, \n",
    "jitter=False, dodge=False, orient=None, color=None, palette=None, size=5, edgecolor='gray', \n",
    "linewidth=0, ax=None, **kwargs)\n",
    "```"
   ]
  },
  {
   "cell_type": "markdown",
   "metadata": {
    "collapsed": true,
    "id": "193D00B867B246A5955C70D90F6AB57D",
    "mdEditEnable": false
   },
   "source": [
    "```python\n",
    "seaborn.swarmplot(x=None, y=None, hue=None, data=None, order=None, hue_order=None, \n",
    "dodge=False, orient=None, color=None, palette=None, size=5, edgecolor='gray', linewidth=0, ax=None, **kwargs)\n",
    "```\n"
   ]
  },
  {
   "cell_type": "markdown",
   "metadata": {
    "id": "207E58F433B443E88410340E5728C4E9",
    "mdEditEnable": false
   },
   "source": [
    "```python\n",
    "seaborn.boxplot(x=None, y=None, hue=None, data=None, order=None, hue_order=None, \n",
    "orient=None, color=None, palette=None, saturation=0.75, width=0.8, dodge=True, fliersize=5, l\n",
    "inewidth=None, whis=1.5, notch=False, ax=None, **kwargs)\n",
    "```\n"
   ]
  },
  {
   "cell_type": "markdown",
   "metadata": {
    "id": "8B5C2A0A87724DF68124CEACCBC0E217",
    "mdEditEnable": false
   },
   "source": [
    "```python\n",
    "seaborn.violinplot(x=None, y=None, hue=None, data=None, order=None, hue_order=None, \n",
    "bw='scott', cut=2, scale='area', scale_hue=True, gridsize=100, width=0.8, inner='box', \n",
    "split=False, dodge=True, orient=None, linewidth=None, color=None, palette=None, \n",
    "saturation=0.75, ax=None, **kwargs)\n",
    "```\n"
   ]
  },
  {
   "cell_type": "markdown",
   "metadata": {
    "id": "58A5E6E5B0A3487D9132599CB6B0E6EA",
    "mdEditEnable": false
   },
   "source": [
    "```python\n",
    "seaborn.lvplot(x=None, y=None, hue=None, data=None, order=None, hue_order=None, \n",
    "orient=None, color=None, palette=None, saturation=0.75, width=0.8, dodge=True, \n",
    "k_depth='proportion', linewidth=None, scale='exponential', outlier_prop=None, ax=None, **kwargs)\n",
    "```\n"
   ]
  },
  {
   "cell_type": "markdown",
   "metadata": {
    "id": "5B5B0398A6D44A049FA77401141AB359",
    "mdEditEnable": false
   },
   "source": [
    "```python\n",
    "seaborn.pointplot(x=None, y=None, hue=None, data=None, order=None, hue_order=None, \n",
    "estimator=<function mean>, ci=95, n_boot=1000, units=None, markers='o', linestyles='-', \n",
    "dodge=False, join=True, scale=1, orient=None, color=None, palette=None, errwidth=None, capsize=None, ax=None, **kwargs)\n",
    "```\n"
   ]
  },
  {
   "cell_type": "markdown",
   "metadata": {
    "id": "8D5D99B8DB6743A8847D0C16258C73D8",
    "mdEditEnable": false
   },
   "source": [
    "```python\n",
    "seaborn.barplot(x=None, y=None, hue=None, data=None, order=None, hue_order=None, \n",
    "estimator=<function mean>, ci=95, n_boot=1000, units=None, orient=None, color=None, palette=None, \n",
    "saturation=0.75, errcolor='.26', errwidth=None, capsize=None, dodge=True, ax=None, **kwargs)\n",
    "```"
   ]
  },
  {
   "cell_type": "markdown",
   "metadata": {
    "id": "81CD91F9CBB341C183BDE670F7C49271",
    "mdEditEnable": false
   },
   "source": [
    "## 小结\n",
    "seaborn是一个很棒的可视化库，尤其是当数据维度很大的时候，seaborn可以让我们用最少的代码去绘制一些描述性统计的图，便于找寻各维度变量之间的特征。此篇文档也是我对seaborn的学习笔记，这次整理的内容是关于category visualization。下次将会选取其他数据集去整理关于distribution visualization的内容。\n",
    "\n",
    "Reference:\n",
    "* [Seaborn Tutorial](https://seaborn.pydata.org/tutorial.html)\n",
    "* [Seaborn API Reference](https://seaborn.pydata.org/api.html)"
   ]
  }
 ],
 "metadata": {
  "kernelspec": {
   "display_name": "Python 3",
   "language": "python",
   "name": "python3"
  },
  "language_info": {
   "codemirror_mode": {
    "name": "ipython",
    "version": 3
   },
   "file_extension": ".py",
   "mimetype": "text/x-python",
   "name": "python",
   "nbconvert_exporter": "python",
   "pygments_lexer": "ipython3",
   "version": "3.6.8"
  },
  "varInspector": {
   "cols": {
    "lenName": 16,
    "lenType": 16,
    "lenVar": 40
   },
   "kernels_config": {
    "python": {
     "delete_cmd_postfix": "",
     "delete_cmd_prefix": "del ",
     "library": "var_list.py",
     "varRefreshCmd": "print(var_dic_list())"
    },
    "r": {
     "delete_cmd_postfix": ") ",
     "delete_cmd_prefix": "rm(",
     "library": "var_list.r",
     "varRefreshCmd": "cat(var_dic_list()) "
    }
   },
   "types_to_exclude": [
    "module",
    "function",
    "builtin_function_or_method",
    "instance",
    "_Feature"
   ],
   "window_display": false
  }
 },
 "nbformat": 4,
 "nbformat_minor": 1
}
