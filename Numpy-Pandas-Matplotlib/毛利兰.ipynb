{
 "cells": [
  {
   "cell_type": "markdown",
   "metadata": {},
   "source": [
    "1. 找到要爬取的页面\n",
    "\n",
    "https://www.aitaotu.com/tag/maolilan.html\n",
    "\n",
    "2. 找规律\n",
    "\n",
    "3. 验证\n",
    "\n",
    "4. 编程\n",
    "\n",
    "5. 保存"
   ]
  },
  {
   "cell_type": "code",
   "execution_count": 23,
   "metadata": {},
   "outputs": [],
   "source": [
    "import requests\n",
    "import re\n",
    "\n",
    "r = requests.get('https://www.aitaotu.com/tag/maolilan.html')\n",
    "\n",
    "# print(r.text)\n",
    "\n",
    "matchObjects = re.findall(r'<img data-original=\"(.*).jpg\"',r.text,re.S|re.M)\n",
    "\n",
    "\n",
    "for obj in matchObjects:\n",
    "    print(obj)\n"
   ]
  }
 ],
 "metadata": {
  "kernelspec": {
   "display_name": "Python 3",
   "language": "python",
   "name": "python3"
  },
  "language_info": {
   "codemirror_mode": {
    "name": "ipython",
    "version": 3
   },
   "file_extension": ".py",
   "mimetype": "text/x-python",
   "name": "python",
   "nbconvert_exporter": "python",
   "pygments_lexer": "ipython3",
   "version": "3.6.8"
  }
 },
 "nbformat": 4,
 "nbformat_minor": 2
}
