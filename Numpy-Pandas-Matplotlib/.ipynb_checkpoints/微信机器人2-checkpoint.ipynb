{
 "cells": [
  {
   "cell_type": "code",
   "execution_count": 1,
   "metadata": {},
   "outputs": [
    {
     "name": "stdout",
     "output_type": "stream",
     "text": [
      "█\r"
     ]
    },
    {
     "name": "stderr",
     "output_type": "stream",
     "text": [
      "Getting uuid of QR code.\n",
      "Downloading QR code.\n",
      "Please scan the QR code to log in.\n",
      "Please press confirm on your phone.\n",
      "Loading the contact, this may take a little while.\n",
      "Login successfully as 王健旭\n",
      "LOG OUT!\n"
     ]
    }
   ],
   "source": [
    "# python3.6.5\n",
    "# 需要引入requests包 ：运行终端->进入python/Scripts ->输入：pip install requests\n",
    "from ShowapiRequest import ShowapiRequest\n",
    "import time\n",
    "import json\n",
    "# 导入模块\n",
    "from wxpy import *\n",
    "# 初始化机器人，扫码登陆\n",
    "bot = Bot()\n",
    "\n",
    "my_group = bot.groups().search('大数据机器学习AI')[0]  # 记得把名字改成想用机器人的群\n",
    "\n",
    "@bot.register(my_group, except_self=False)  # 使用图灵机器人自动在指定群聊天\n",
    "def reply_my_friend(msg):\n",
    "\tr = ShowapiRequest(\"http://route.showapi.com/60-27\",\"91409\",\"72d00b0b57f94c6daff7c88dc7266893\" )\n",
    "\tr.addBodyPara(\"info\", msg)\n",
    "\tr.addBodyPara(\"userid\", \"userid\")\n",
    "\t# r.addFilePara(\"img\", r\"C:\\Users\\showa\\Desktop\\使用过的\\4.png\") #文件上传时设置\n",
    "\tres = r.post()\n",
    "\t# print(res.text) # 返回信息\n",
    "\tdict = json.loads(res.text)\n",
    "\t# 回复给好友\n",
    "\treturn dict['showapi_res_body']['text']\n",
    "\n",
    "\n",
    "\t\n",
    "\n",
    "\n",
    "\n",
    "\n",
    "\n"
   ]
  },
  {
   "cell_type": "code",
   "execution_count": null,
   "metadata": {},
   "outputs": [],
   "source": []
  }
 ],
 "metadata": {
  "kernelspec": {
   "display_name": "Python 3",
   "language": "python",
   "name": "python3"
  },
  "language_info": {
   "codemirror_mode": {
    "name": "ipython",
    "version": 3
   },
   "file_extension": ".py",
   "mimetype": "text/x-python",
   "name": "python",
   "nbconvert_exporter": "python",
   "pygments_lexer": "ipython3",
   "version": "3.6.8"
  }
 },
 "nbformat": 4,
 "nbformat_minor": 2
}
