{
 "cells": [
  {
   "cell_type": "code",
   "execution_count": 19,
   "metadata": {},
   "outputs": [
    {
     "name": "stdout",
     "output_type": "stream",
     "text": [
      "最实用的管理指南：如何打造一流创业团队创业者？\n"
     ]
    }
   ],
   "source": [
    "import re\n",
    "\n",
    "html = '''\n",
    "<div class=\"content\">\n",
    "    <h2 class=\"post-title\"><a title=\"最实用的管理指南：如何打造一流创业团队创业者？\" href=\"http://www.woshipm.com/it/1617144.html\" target=\"_blank\">最实用的管理指南：如何打造一流创业团队创业者？</a></h2>\n",
    "    <p class=\"des\">创业公司中创业者往往关注更多的是市场需求与现金流的问题，但是却忽略了团队管理的问题，本篇文章从两方面提出创业者在解决团队管理的问题上应该具备：模式认知能力、...</p>\n",
    "\n",
    "'''\n",
    "\n",
    "# matchObj = re.findall(r'^<h2 class=\\\"post-title\\\"><a title=\\\"(.*?)\\\" href=$',html,re.I|re.S|re.M)\n",
    "\n",
    "# for value in matchObj:\n",
    "#    print(value)\n",
    "    \n",
    "\n",
    "res = r'<a .*?>(.*?)</a>'\n",
    "\n",
    "mm =  re.findall(\n",
    "res, html, re.S|re.M)\n",
    "for value in mm:\n",
    "    print(value)"
   ]
  },
  {
   "cell_type": "code",
   "execution_count": null,
   "metadata": {},
   "outputs": [],
   "source": []
  }
 ],
 "metadata": {
  "kernelspec": {
   "display_name": "Python 3",
   "language": "python",
   "name": "python3"
  },
  "language_info": {
   "codemirror_mode": {
    "name": "ipython",
    "version": 3
   },
   "file_extension": ".py",
   "mimetype": "text/x-python",
   "name": "python",
   "nbconvert_exporter": "python",
   "pygments_lexer": "ipython3",
   "version": "3.7.0"
  }
 },
 "nbformat": 4,
 "nbformat_minor": 2
}
