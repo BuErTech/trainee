{
 "cells": [
  {
   "cell_type": "code",
   "execution_count": 1,
   "metadata": {},
   "outputs": [],
   "source": [
    "# 船舶在各航线上单船年营运费用\n",
    "boat_yearfee = [[],\n",
    "                [0,3939,3217.56,3123.24,2462.28],\n",
    "                [0,4434.72,3506.76,3041.76,2145.48],\n",
    "                [0,3758.88,3377.4,2932.68,2506.2],\n",
    "                [0,4610.52,3230.88,3284.52,2088.72],\n",
    "                [0,4585.68,3041.04,3223.68,2181.36]]\n",
    "\n",
    "# 船舶在各航线上营运时的单船年运量\n",
    "boat_yeartrans = [[],\n",
    "                  [0,84375,75000,67500,67500],\n",
    "                  [0,67500,56250,56250,51923],\n",
    "                  [0,56250,45000,45000,42187],\n",
    "                  [0,96428,84375,75000,75000]]"
   ]
  },
  {
   "cell_type": "code",
   "execution_count": null,
   "metadata": {},
   "outputs": [],
   "source": []
  }
 ],
 "metadata": {
  "kernelspec": {
   "display_name": "Python 3",
   "language": "python",
   "name": "python3"
  },
  "language_info": {
   "codemirror_mode": {
    "name": "ipython",
    "version": 3
   },
   "file_extension": ".py",
   "mimetype": "text/x-python",
   "name": "python",
   "nbconvert_exporter": "python",
   "pygments_lexer": "ipython3",
   "version": "3.6.8"
  }
 },
 "nbformat": 4,
 "nbformat_minor": 2
}
