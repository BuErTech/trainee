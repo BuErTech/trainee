{
 "cells": [
  {
   "cell_type": "markdown",
   "metadata": {
    "_cell_guid": "dcc6c619-c02a-4bea-b322-4f32779ae672",
    "_uuid": "819c6b57207e720308ea29491d85a6e8af8c253e",
    "id": "904DD1A58A004F0C9929A861CED609F3",
    "mdEditEnable": false
   },
   "source": [
    "# 数据集文档\n",
    "\n",
    "\n",
    "\n",
    "# **数据集介绍**\n",
    "\n",
    "## **背景介绍**\n",
    "\n",
    "本数据集分为两个CSV文件：\n",
    "\n",
    "* column_3C_weka.csv (三类标签)  \n",
    "    本文件是将患者分为三类:正常(100例)、椎间盘突出(60例)或脊柱滑脱(150例)。\n",
    "* column_2C_weka.csv (两类标签)  \n",
    "    本文件将椎间盘突出和脊椎滑脱这两个类别合并到一个单独的类别中，称为“异常”。因此，第二个任务是将患者分为两类:正常(100例)和异常(210例)。\n",
    "\n",
    "## **数据说明**\n",
    "\n",
    "在数据集中，每个患者由骨盆和腰椎的形状和方向(每个为一列)派生出的6个生物力学属性表示。\n",
    "\n",
    "* pelvic incidence：骨盆入射角\n",
    "* pelvic tilt：骨盆倾斜\n",
    "* lumbar lordosis angle：腰椎前凸角度\n",
    "* sacral slope：骶骨倾斜角\n",
    "* pelvic radius：盆腔半径\n",
    "* grade of spondylolisthesis：脊椎前移的等级\n",
    "\n",
    "## **如何在线使用数据集**\n",
    "\n",
    "* Python用户，创建项目后，输入 !ls ../input/dataset7402/ 查看数据集路径\n",
    "* R用户，创建项目后，输入 !list.files('../input/dataset7402/') 查看数据集路径\n",
    "\n",
    "## **数据来源**\n",
    "\n",
    "原始数据集是从UCI ML存储库下载的，已转换成CSV格式  \n",
    "Lichman, M. (2013). UCI Machine Learning Repository [http://archive.ics.uci.edu/ml]. Irvine, CA: University of California, School of Information and Computer Science\n",
    "\n",
    "## **探索方向**\n",
    "\n",
    "* 利用这些生物力学特征根据患者的标签进行分类\n",
    "\n",
    "\n",
    "# 前言\n",
    "\n",
    "\n",
    "一般来说，数据科学家需要掌握如下技能：\n",
    "* 基础工具：例如Python、R或SQL，选择其中一个熟练运用即可。\n",
    "* 统计学基础：理解平均值、中值、标准差等概念，懂一点统计学会更容易上手Python。\n",
    "* 数据预处理：对杂乱无章的数据进行清洗和整理，以便进行下一步的分析。\n",
    "* 数据可视化：经常用到的可视化分析库有matplotlib和seaborn。\n",
    "* 机器学习：了解机器学习的基础知识，并掌握如何用python实现。\n",
    "\n",
    "\n",
    "本项目的目的不是手把手教读者学习machine learning，而是希望大家可以通过这篇文章的框架，学会如何自学machine learning的整个知识体系。\n",
    "\n",
    "\n",
    "前置教程：[Data Science入门教程](https://www.kesci.com/home/project/5c1b4b54f8caa6002bc7abe9)\n",
    "\n",
    "\n",
    "**目录**\n",
    "* [前言](#前言)\n",
    "* [机器学习](#机器学习)\n",
    "* [1.监督学习](#监督学习)\n",
    "\t* [1.1EDA](#EDA)\n",
    "\t* [1.2KNN](#KNN)\n",
    "\t* [1.3线性回归](#线性回归)\n",
    "\t* [1.4交叉验证](#交叉验证)\n",
    "\t* [1.5正则化](#正则化)\n",
    "\t* [1.6ROC曲线与逻辑回归](#ROC曲线与逻辑回归)\n",
    "\t* [1.7超参数调优](#超参数调优)\n",
    "\t* [1.8数据预处理](#数据预处理)\n",
    "* [2.无监督学习](#无监督学习)\n",
    "\t* [2.1K-Means](#K-Means)\n",
    "\t* [2.2效果评估](#效果评估)\n",
    "\t* [2.3标准化](#标准化)\n",
    "\t* [2.4层次聚类](#层次聚类)\n",
    "\t* [2.5T-SNE](#T-SNE)\n",
    "\t* [2.6PCA](#PCA)\n",
    "* [后记](#后记)\n",
    "\n",
    "Fork到自己的工作区后，可以在左面的侧边栏查看目录，点击相应章节即可实现跳转。"
   ]
  },
  {
   "cell_type": "code",
   "execution_count": 1,
   "metadata": {
    "_cell_guid": "5ee3a7aa-eca4-411b-9f84-d14c09e13730",
    "_uuid": "2b90d6250c8f9c2c302c849bffa132bd3483e893",
    "collapsed": true,
    "id": "0ECEABDE3D0248C4850E77C2BDAAC6AA",
    "scrolled": false
   },
   "outputs": [
    {
     "name": "stderr",
     "output_type": "stream",
     "text": [
      "/opt/conda/lib/python3.6/importlib/_bootstrap.py:219: RuntimeWarning: numpy.dtype size changed, may indicate binary incompatibility. Expected 96, got 88\n",
      "  return f(*args, **kwds)\n",
      "/opt/conda/lib/python3.6/importlib/_bootstrap.py:219: RuntimeWarning: numpy.dtype size changed, may indicate binary incompatibility. Expected 96, got 88\n",
      "  return f(*args, **kwds)\n"
     ]
    }
   ],
   "source": [
    "# 加载教程中会用到的包\n",
    "import numpy as np \n",
    "import pandas as pd \n",
    "import matplotlib.pyplot as plt\n",
    "import seaborn as sns\n",
    "\n",
    "# 加载 warnings\n",
    "import warnings\n",
    "\n",
    "# 忽略 warnings\n",
    "warnings.filterwarnings(\"ignore\")"
   ]
  },
  {
   "cell_type": "code",
   "execution_count": 2,
   "metadata": {
    "id": "E4811A02F5E847A68B235810EA060471",
    "scrolled": false
   },
   "outputs": [
    {
     "name": "stdout",
     "output_type": "stream",
     "text": [
      "column_2C_weka.csv  column_3C_weka.csv\r\n"
     ]
    }
   ],
   "source": [
    "#查看当前挂载的数据集目录\n",
    "!ls /home/kesci/input/dataset7402"
   ]
  },
  {
   "cell_type": "markdown",
   "metadata": {
    "id": "0537C7D2C19C43618E87AE741D60584D",
    "mdEditEnable": false
   },
   "source": [
    "* 数据集的具体介绍请点击：[骨科患者的生物力学特征](https://www.kesci.com/home/dataset/5bfe52ce954d6e0010682abf)"
   ]
  },
  {
   "cell_type": "code",
   "execution_count": 3,
   "metadata": {
    "_cell_guid": "32af03f6-41be-41ec-9023-8cd519040984",
    "_uuid": "a9c5426e9e5cef81c1e1639ebe57e9b45dfd2c43",
    "id": "4BF6178C856647B79A498E2EE027B85D",
    "scrolled": false
   },
   "outputs": [
    {
     "name": "stdout",
     "output_type": "stream",
     "text": [
      "['seaborn-pastel', 'seaborn-white', 'classic', 'seaborn-dark', 'ggplot', 'seaborn-talk', 'Solarize_Light2', 'fast', 'bmh', '_classic_test', 'seaborn-muted', 'seaborn-bright', 'seaborn-paper', 'fivethirtyeight', 'seaborn-notebook', 'seaborn', 'dark_background', 'seaborn-dark-palette', 'seaborn-deep', 'seaborn-colorblind', 'seaborn-poster', 'seaborn-whitegrid', 'seaborn-darkgrid', 'seaborn-ticks', 'grayscale', 'tableau-colorblind10']\n"
     ]
    }
   ],
   "source": [
    "# 从csv文件中写入数据\n",
    "data = pd.read_csv('/home/kesci/input/dataset7402/column_2C_weka.csv')\n",
    "print(plt.style.available)   # 列出所有可用的绘图样式\n",
    "plt.style.use('ggplot')      # 使用“ggplot”样式"
   ]
  },
  {
   "cell_type": "markdown",
   "metadata": {
    "_cell_guid": "89a724e2-426d-427b-9107-06835010cf59",
    "_uuid": "f4fa42e9a6cf069d54459be42a1726ab03c2f1e5",
    "id": "A9D2AB68ACB9481CB718819835D3DF8C",
    "mdEditEnable": false
   },
   "source": [
    "# 机器学习\n",
    "* 首先，让我们看一个机器学习的定义，本定义由来自Carnegie Mellon University 的 Tom Mitchell 提出：\n",
    "> Tom Mitchell (1998).\n",
    "> Well-posed Learning Problem: A computer program is said to learn from experience E with respect to some task T and some performance measure P, if its performance on T, as measured by P, improves with experience E.\n",
    "> \n",
    "> 如果一个计算机程序在任务 T 上的性能度量 P ，通过经验 E 而提高，那么我们称这个计算机程序通过经验 E 来学习。\n",
    "\n",
    "\n",
    "* 学习算法分好几个类型，主要分成两大类，分别是**监督学习 (Supervised Learning)** 和**无监督学习 (Unsupervised Learning)**，在后文中笔者将介绍这些术语的具体含义。不过归根到底，Supervised Learning 就是我们要明确告诉计算机如何做某件事情，而 Unsupervised Learning 则意味着我们要让程序自己进行学习。\n"
   ]
  },
  {
   "cell_type": "markdown",
   "metadata": {
    "_cell_guid": "10f3b719-c44b-451a-b464-0adf4e1e1522",
    "_uuid": "f6a2b205e1e3fc647bc2ee88d702b8572bf1cc75",
    "id": "17751B5FD2FA4C34B077BBF3E0AFB24D",
    "mdEditEnable": false
   },
   "source": [
    "## 监督学习\n",
    "* 监督学习（Supervised learning）: 使用带有标签的数据。例如，骨科患者的数据有“*normal*”和“*abnormal*”的标签。\n",
    "    * 数据集中含有特征变量和目标变量，特征变量如*pelvic radius（盆腔半径）*、*sacral slope（骶骨倾斜角）*，目标变量为 *normal* 和 *abnormal* 。本次监督学习的目的是根据给定的特征（输入变量）预测目标变量（输出变量）是“*normal*”还是“*abnormal*”。\n",
    "* 分类模型:预测离散值，如：这是一张狗、猫还是兔子图片？\n",
    "* 回归模型:预测连续值，如：预测用户点击此广告的概率是多少？\n",
    "\n",
    "*如果以上介绍对你来说还不够清晰，请Google相关内容进行补充学习。*\n",
    "* [机器学习术语表（中文版）](https://developers.google.cn/machine-learning/glossary/?hl=zh-CN#top_of_page)"
   ]
  },
  {
   "cell_type": "markdown",
   "metadata": {
    "_cell_guid": "65e897a1-8259-44c5-9cb7-e5e653f9032d",
    "_uuid": "a0e671bf2ef8dbe81da2705ad70b69401bb7af16",
    "id": "9F1EC98E895247628242270143A635D8",
    "mdEditEnable": false
   },
   "source": [
    "### EDA\n",
    "* 首先，我们需要对数据进行探索，让数据创造价值。详细的探索性数据分析介绍在[Data Sicence入门教程](https://www.kesci.com/home/project/5c1b4b54f8caa6002bc7abe9)中。\n",
    "* 本文使用 head() 查看特征“ *pelvic_incidence（骨盆入射角）、pelvic_tilt numeric（骨盆倾斜角度）、lumbar_lordosis_angle(腰椎前凸角度)、sacral_slope(骶骨倾斜角)、pelvic_radius(盆腔半径) 和 degree_spondylolisthesis(脊椎前移程度)* 以及目标变量 *class* ”\n",
    "* head(): 它的默认值显示前5行(示例)，如果你想看100行就写head(100)"
   ]
  },
  {
   "cell_type": "code",
   "execution_count": 4,
   "metadata": {
    "_cell_guid": "c1ecd622-67cc-485f-bfa7-8c682d30a5eb",
    "_uuid": "9a5993f4962882e1156f2062b7abf706a0739d51",
    "id": "0DA70BC773034F0B95C0D6DBE74FF1DF",
    "scrolled": false
   },
   "outputs": [
    {
     "data": {
      "text/html": [
       "<div>\n",
       "<style scoped>\n",
       "    .dataframe tbody tr th:only-of-type {\n",
       "        vertical-align: middle;\n",
       "    }\n",
       "\n",
       "    .dataframe tbody tr th {\n",
       "        vertical-align: top;\n",
       "    }\n",
       "\n",
       "    .dataframe thead th {\n",
       "        text-align: right;\n",
       "    }\n",
       "</style>\n",
       "<table border=\"1\" class=\"dataframe\">\n",
       "  <thead>\n",
       "    <tr style=\"text-align: right;\">\n",
       "      <th></th>\n",
       "      <th>pelvic_incidence</th>\n",
       "      <th>pelvic_tilt numeric</th>\n",
       "      <th>lumbar_lordosis_angle</th>\n",
       "      <th>sacral_slope</th>\n",
       "      <th>pelvic_radius</th>\n",
       "      <th>degree_spondylolisthesis</th>\n",
       "      <th>class</th>\n",
       "    </tr>\n",
       "  </thead>\n",
       "  <tbody>\n",
       "    <tr>\n",
       "      <th>0</th>\n",
       "      <td>63.027818</td>\n",
       "      <td>22.552586</td>\n",
       "      <td>39.609117</td>\n",
       "      <td>40.475232</td>\n",
       "      <td>98.672917</td>\n",
       "      <td>-0.254400</td>\n",
       "      <td>Abnormal</td>\n",
       "    </tr>\n",
       "    <tr>\n",
       "      <th>1</th>\n",
       "      <td>39.056951</td>\n",
       "      <td>10.060991</td>\n",
       "      <td>25.015378</td>\n",
       "      <td>28.995960</td>\n",
       "      <td>114.405425</td>\n",
       "      <td>4.564259</td>\n",
       "      <td>Abnormal</td>\n",
       "    </tr>\n",
       "    <tr>\n",
       "      <th>2</th>\n",
       "      <td>68.832021</td>\n",
       "      <td>22.218482</td>\n",
       "      <td>50.092194</td>\n",
       "      <td>46.613539</td>\n",
       "      <td>105.985135</td>\n",
       "      <td>-3.530317</td>\n",
       "      <td>Abnormal</td>\n",
       "    </tr>\n",
       "    <tr>\n",
       "      <th>3</th>\n",
       "      <td>69.297008</td>\n",
       "      <td>24.652878</td>\n",
       "      <td>44.311238</td>\n",
       "      <td>44.644130</td>\n",
       "      <td>101.868495</td>\n",
       "      <td>11.211523</td>\n",
       "      <td>Abnormal</td>\n",
       "    </tr>\n",
       "    <tr>\n",
       "      <th>4</th>\n",
       "      <td>49.712859</td>\n",
       "      <td>9.652075</td>\n",
       "      <td>28.317406</td>\n",
       "      <td>40.060784</td>\n",
       "      <td>108.168725</td>\n",
       "      <td>7.918501</td>\n",
       "      <td>Abnormal</td>\n",
       "    </tr>\n",
       "  </tbody>\n",
       "</table>\n",
       "</div>"
      ],
      "text/plain": [
       "   pelvic_incidence  pelvic_tilt numeric  lumbar_lordosis_angle  sacral_slope  \\\n",
       "0         63.027818            22.552586              39.609117     40.475232   \n",
       "1         39.056951            10.060991              25.015378     28.995960   \n",
       "2         68.832021            22.218482              50.092194     46.613539   \n",
       "3         69.297008            24.652878              44.311238     44.644130   \n",
       "4         49.712859             9.652075              28.317406     40.060784   \n",
       "\n",
       "   pelvic_radius  degree_spondylolisthesis     class  \n",
       "0      98.672917                 -0.254400  Abnormal  \n",
       "1     114.405425                  4.564259  Abnormal  \n",
       "2     105.985135                 -3.530317  Abnormal  \n",
       "3     101.868495                 11.211523  Abnormal  \n",
       "4     108.168725                  7.918501  Abnormal  "
      ]
     },
     "execution_count": 4,
     "metadata": {},
     "output_type": "execute_result"
    }
   ],
   "source": [
    "# 查看特征值和目标值\n",
    "data.head()"
   ]
  },
  {
   "cell_type": "code",
   "execution_count": 5,
   "metadata": {
    "_cell_guid": "1631690c-bb9d-4460-a7d9-a335aa914b4f",
    "_uuid": "b7b9addc824de1a35b67d96d3092ffcb10869947",
    "id": "966A88147A504149897E7FEFBD291466",
    "scrolled": false
   },
   "outputs": [
    {
     "name": "stdout",
     "output_type": "stream",
     "text": [
      "<class 'pandas.core.frame.DataFrame'>\n",
      "RangeIndex: 310 entries, 0 to 309\n",
      "Data columns (total 7 columns):\n",
      "pelvic_incidence            310 non-null float64\n",
      "pelvic_tilt numeric         310 non-null float64\n",
      "lumbar_lordosis_angle       310 non-null float64\n",
      "sacral_slope                310 non-null float64\n",
      "pelvic_radius               310 non-null float64\n",
      "degree_spondylolisthesis    310 non-null float64\n",
      "class                       310 non-null object\n",
      "dtypes: float64(6), object(1)\n",
      "memory usage: 17.0+ KB\n"
     ]
    }
   ],
   "source": [
    "# 想要知道数据里是否含有NaN值及数据规模多大，使用info查看\n",
    "data.info()"
   ]
  },
  {
   "cell_type": "markdown",
   "metadata": {
    "_cell_guid": "a7dd2a6f-a81d-4dce-9d74-fd0148c446ae",
    "_uuid": "96f97c33305956eb76d8a2043fd71aff05e38548",
    "id": "B9C4EB42B3DB42B58BE308CAA027B5CD",
    "mdEditEnable": false
   },
   "source": [
    "可以看到:\n",
    "* 数据规模: 310 (有索引的范围内)\n",
    "* 特征值是float数据类型\n",
    "* 目标值是一个类似于str的对象\n",
    "* 以上，我们对数据有了一些基本的了解，现在让我们更深入的研究一下数据\n",
    "    * describe(): 一次性输出多个描述性统计指标\n",
    "        * 为什么我们需要看 mean, std, max, min 这些数据?  为了可视化数据，相邻数值之间应该比较接近，至少应该没有不兼容的值（比如一个特征的均值是0.1，另一个特征的均值是1000）。 "
   ]
  },
  {
   "cell_type": "code",
   "execution_count": 6,
   "metadata": {
    "_cell_guid": "137897ca-b519-4ac3-afdd-6c4136447e39",
    "_uuid": "69d132068cce6a915aac7678b4e9fbcf3e365643",
    "id": "EE151AC5D0B046758CB52219247A3DFB",
    "scrolled": false
   },
   "outputs": [
    {
     "data": {
      "text/html": [
       "<div>\n",
       "<style scoped>\n",
       "    .dataframe tbody tr th:only-of-type {\n",
       "        vertical-align: middle;\n",
       "    }\n",
       "\n",
       "    .dataframe tbody tr th {\n",
       "        vertical-align: top;\n",
       "    }\n",
       "\n",
       "    .dataframe thead th {\n",
       "        text-align: right;\n",
       "    }\n",
       "</style>\n",
       "<table border=\"1\" class=\"dataframe\">\n",
       "  <thead>\n",
       "    <tr style=\"text-align: right;\">\n",
       "      <th></th>\n",
       "      <th>pelvic_incidence</th>\n",
       "      <th>pelvic_tilt numeric</th>\n",
       "      <th>lumbar_lordosis_angle</th>\n",
       "      <th>sacral_slope</th>\n",
       "      <th>pelvic_radius</th>\n",
       "      <th>degree_spondylolisthesis</th>\n",
       "    </tr>\n",
       "  </thead>\n",
       "  <tbody>\n",
       "    <tr>\n",
       "      <th>count</th>\n",
       "      <td>310.000000</td>\n",
       "      <td>310.000000</td>\n",
       "      <td>310.000000</td>\n",
       "      <td>310.000000</td>\n",
       "      <td>310.000000</td>\n",
       "      <td>310.000000</td>\n",
       "    </tr>\n",
       "    <tr>\n",
       "      <th>mean</th>\n",
       "      <td>60.496653</td>\n",
       "      <td>17.542822</td>\n",
       "      <td>51.930930</td>\n",
       "      <td>42.953831</td>\n",
       "      <td>117.920655</td>\n",
       "      <td>26.296694</td>\n",
       "    </tr>\n",
       "    <tr>\n",
       "      <th>std</th>\n",
       "      <td>17.236520</td>\n",
       "      <td>10.008330</td>\n",
       "      <td>18.554064</td>\n",
       "      <td>13.423102</td>\n",
       "      <td>13.317377</td>\n",
       "      <td>37.559027</td>\n",
       "    </tr>\n",
       "    <tr>\n",
       "      <th>min</th>\n",
       "      <td>26.147921</td>\n",
       "      <td>-6.554948</td>\n",
       "      <td>14.000000</td>\n",
       "      <td>13.366931</td>\n",
       "      <td>70.082575</td>\n",
       "      <td>-11.058179</td>\n",
       "    </tr>\n",
       "    <tr>\n",
       "      <th>25%</th>\n",
       "      <td>46.430294</td>\n",
       "      <td>10.667069</td>\n",
       "      <td>37.000000</td>\n",
       "      <td>33.347122</td>\n",
       "      <td>110.709196</td>\n",
       "      <td>1.603727</td>\n",
       "    </tr>\n",
       "    <tr>\n",
       "      <th>50%</th>\n",
       "      <td>58.691038</td>\n",
       "      <td>16.357689</td>\n",
       "      <td>49.562398</td>\n",
       "      <td>42.404912</td>\n",
       "      <td>118.268178</td>\n",
       "      <td>11.767934</td>\n",
       "    </tr>\n",
       "    <tr>\n",
       "      <th>75%</th>\n",
       "      <td>72.877696</td>\n",
       "      <td>22.120395</td>\n",
       "      <td>63.000000</td>\n",
       "      <td>52.695888</td>\n",
       "      <td>125.467674</td>\n",
       "      <td>41.287352</td>\n",
       "    </tr>\n",
       "    <tr>\n",
       "      <th>max</th>\n",
       "      <td>129.834041</td>\n",
       "      <td>49.431864</td>\n",
       "      <td>125.742385</td>\n",
       "      <td>121.429566</td>\n",
       "      <td>163.071041</td>\n",
       "      <td>418.543082</td>\n",
       "    </tr>\n",
       "  </tbody>\n",
       "</table>\n",
       "</div>"
      ],
      "text/plain": [
       "       pelvic_incidence  pelvic_tilt numeric  lumbar_lordosis_angle  \\\n",
       "count        310.000000           310.000000             310.000000   \n",
       "mean          60.496653            17.542822              51.930930   \n",
       "std           17.236520            10.008330              18.554064   \n",
       "min           26.147921            -6.554948              14.000000   \n",
       "25%           46.430294            10.667069              37.000000   \n",
       "50%           58.691038            16.357689              49.562398   \n",
       "75%           72.877696            22.120395              63.000000   \n",
       "max          129.834041            49.431864             125.742385   \n",
       "\n",
       "       sacral_slope  pelvic_radius  degree_spondylolisthesis  \n",
       "count    310.000000     310.000000                310.000000  \n",
       "mean      42.953831     117.920655                 26.296694  \n",
       "std       13.423102      13.317377                 37.559027  \n",
       "min       13.366931      70.082575                -11.058179  \n",
       "25%       33.347122     110.709196                  1.603727  \n",
       "50%       42.404912     118.268178                 11.767934  \n",
       "75%       52.695888     125.467674                 41.287352  \n",
       "max      121.429566     163.071041                418.543082  "
      ]
     },
     "execution_count": 6,
     "metadata": {},
     "output_type": "execute_result"
    }
   ],
   "source": [
    "data.describe()"
   ]
  },
  {
   "cell_type": "markdown",
   "metadata": {
    "_cell_guid": "3776dd3d-d0aa-419e-b788-e75454e94b86",
    "_uuid": "c8961b1f3a3a73547a0b7d27955f9844f6ad43eb",
    "id": "09876902F9294F578BC66370273C3B4B",
    "mdEditEnable": false
   },
   "source": [
    "**pd.plotting.scatter_matrix：绘制散点图矩阵。**\n",
    "\n",
    "* green: normal ， red: abnormal\n",
    "* c: 颜色\n",
    "* figsize: 图像尺寸\n",
    "* diagonal: 在{'hist', 'kde'}中选择其一，kde：Kernel Density Estimation（核密度估计图），hist：Histogram plot（直方图）\n",
    "* alpha: 透明度\n",
    "* marker：Matplotlib标记类型，默认为'.'\n",
    "* s: marker的尺寸\n",
    "\n",
    "详细介绍请点击[官方文档]\n",
    "[官方文档]: https://pandas.pydata.org/pandas-docs/stable/generated/pandas.plotting.scatter_matrix.html"
   ]
  },
  {
   "cell_type": "code",
   "execution_count": 7,
   "metadata": {
    "_cell_guid": "fb106765-bb47-452b-8d6e-3578b479873c",
    "_uuid": "5dc0763dde8b2638a5289f0b4496f384f85aca85",
    "id": "1D67B4C8A7CE41079AB85790781DAB09",
    "scrolled": false
   },
   "outputs": [
    {
     "data": {
      "text/html": [
       "<img src=\"https://cdn.kesci.com/rt_upload/1D67B4C8A7CE41079AB85790781DAB09/pm11xsg2e4.png\">"
      ],
      "text/plain": [
       "<Figure size 1080x1080 with 36 Axes>"
      ]
     },
     "metadata": {},
     "output_type": "display_data"
    }
   ],
   "source": [
    "# 建议大家动手改变参数运行一下，这样有助于更好的理解\n",
    "color_list = ['red' if i=='Abnormal' else 'green' for i in data.loc[:,'class']]\n",
    "pd.plotting.scatter_matrix(data.loc[:, data.columns != 'class'],   \n",
    "                                       c=color_list,               \n",
    "                                       figsize= [15,15],\n",
    "                                       diagonal='hist',\n",
    "                                       alpha=0.5,\n",
    "                                       s = 200,\n",
    "                                       marker = '*',\n",
    "                                       edgecolor= \"blue\")\n",
    "plt.show()"
   ]
  },
  {
   "cell_type": "markdown",
   "metadata": {
    "_cell_guid": "53fc7ab6-de8b-4b8f-9e4a-38c5db72eea0",
    "_uuid": "d77cef37b8c5c4f07d3f4aa94cc4ad1ccbd7caca",
    "id": "5BA928C4F06945778D70671F5B352A46",
    "mdEditEnable": false
   },
   "source": [
    "在上述三点矩阵图中我们可以看到每两个特征间都有关系，现在我们想要弄清楚*normal(green)*和*abnormal(red)*各有多少个\n",
    "* seaborn库中的countplot()可以计算类的数量\n",
    "* 也可以使用value_counts()打印\n",
    "\n",
    "这些数据看起来分布很均匀（实际上，分布是否均匀没有严格的定义）\n",
    "\n",
    "\n",
    "现在让我们学习第一种分类方法KNN"
   ]
  },
  {
   "cell_type": "code",
   "execution_count": 8,
   "metadata": {
    "_cell_guid": "36243fa5-1fa6-4f8b-bc16-43449b0dc898",
    "_uuid": "e1bb9fd338e6900888e2e4717f54be46cee848a2",
    "id": "17D13C0552784580892F7C9DB8C0BCBB",
    "scrolled": false
   },
   "outputs": [
    {
     "data": {
      "text/plain": [
       "Abnormal    210\n",
       "Normal      100\n",
       "Name: class, dtype: int64"
      ]
     },
     "execution_count": 8,
     "metadata": {},
     "output_type": "execute_result"
    },
    {
     "data": {
      "text/html": [
       "<img src=\"https://cdn.kesci.com/rt_upload/17D13C0552784580892F7C9DB8C0BCBB/pm11xsg6vp.png\">"
      ],
      "text/plain": [
       "<Figure size 432x288 with 1 Axes>"
      ]
     },
     "metadata": {},
     "output_type": "display_data"
    }
   ],
   "source": [
    "# 看一下两个类分别有多少个数据\n",
    "sns.countplot(x=\"class\", data=data)\n",
    "data.loc[:,'class'].value_counts()"
   ]
  },
  {
   "cell_type": "markdown",
   "metadata": {
    "_cell_guid": "24a5d90f-3e7d-4733-a6f9-ff4f51145155",
    "_uuid": "9263c479815bb729dad40bf01b68aa18a3c946ac",
    "id": "34DCA14EA46D4DB69F111AF95A9A3947",
    "mdEditEnable": false
   },
   "source": [
    "###  KNN\n",
    "\n",
    "* KNN（K-邻近算法）: 通过测量不同特征值之间的距离进行分类\n",
    "* KNN是分类算法的一种\n",
    "* 首先我们需要训练数据\n",
    "* fit(): 训练数据\n",
    "* predict(): 预测数据\n",
    "  如果不理解什么是KNN，请参考：[链接](https://www.kesci.com/home/project/5c2720a85986fa002c5c0ba7)\n",
    "\n",
    "\n",
    "让我们学习如何使用sklearn实现\n",
    "* x: 特征值\n",
    "* y: 目标值(normal, abnormal)\n",
    "* n_neighbors: K，在示例里是3，意思是看3个距离样本最近的数据点\n"
   ]
  },
  {
   "cell_type": "code",
   "execution_count": 9,
   "metadata": {
    "_cell_guid": "c717491d-2bd5-4dc7-ac13-b9f581b1cddd",
    "_uuid": "854f0a3898a928640b9714fcd584e48c9b377f9f",
    "id": "165391826F8E457A89217667E8578F7C",
    "scrolled": false
   },
   "outputs": [
    {
     "name": "stdout",
     "output_type": "stream",
     "text": [
      "Prediction: ['Abnormal' 'Abnormal' 'Abnormal' 'Abnormal' 'Abnormal' 'Normal' 'Normal'\n",
      " 'Abnormal' 'Normal' 'Abnormal' 'Abnormal' 'Abnormal' 'Abnormal'\n",
      " 'Abnormal' 'Abnormal' 'Abnormal' 'Abnormal' 'Abnormal' 'Abnormal'\n",
      " 'Abnormal' 'Normal' 'Normal' 'Normal' 'Abnormal' 'Abnormal' 'Abnormal'\n",
      " 'Abnormal' 'Abnormal' 'Abnormal' 'Abnormal' 'Normal' 'Abnormal' 'Normal'\n",
      " 'Normal' 'Abnormal' 'Abnormal' 'Abnormal' 'Abnormal' 'Abnormal'\n",
      " 'Abnormal' 'Abnormal' 'Abnormal' 'Abnormal' 'Abnormal' 'Abnormal'\n",
      " 'Abnormal' 'Abnormal' 'Abnormal' 'Abnormal' 'Abnormal' 'Abnormal'\n",
      " 'Abnormal' 'Abnormal' 'Abnormal' 'Abnormal' 'Abnormal' 'Abnormal'\n",
      " 'Abnormal' 'Abnormal' 'Abnormal' 'Abnormal' 'Abnormal' 'Abnormal'\n",
      " 'Abnormal' 'Abnormal' 'Abnormal' 'Abnormal' 'Abnormal' 'Normal'\n",
      " 'Abnormal' 'Abnormal' 'Abnormal' 'Abnormal' 'Abnormal' 'Abnormal'\n",
      " 'Abnormal' 'Abnormal' 'Abnormal' 'Abnormal' 'Abnormal' 'Abnormal'\n",
      " 'Abnormal' 'Abnormal' 'Abnormal' 'Abnormal' 'Abnormal' 'Abnormal'\n",
      " 'Abnormal' 'Abnormal' 'Abnormal' 'Abnormal' 'Abnormal' 'Abnormal'\n",
      " 'Abnormal' 'Abnormal' 'Abnormal' 'Abnormal' 'Abnormal' 'Abnormal'\n",
      " 'Abnormal' 'Abnormal' 'Abnormal' 'Abnormal' 'Abnormal' 'Abnormal'\n",
      " 'Abnormal' 'Abnormal' 'Abnormal' 'Abnormal' 'Abnormal' 'Abnormal'\n",
      " 'Abnormal' 'Abnormal' 'Abnormal' 'Abnormal' 'Abnormal' 'Abnormal'\n",
      " 'Abnormal' 'Abnormal' 'Abnormal' 'Abnormal' 'Abnormal' 'Abnormal'\n",
      " 'Abnormal' 'Abnormal' 'Abnormal' 'Abnormal' 'Abnormal' 'Abnormal'\n",
      " 'Abnormal' 'Abnormal' 'Normal' 'Abnormal' 'Abnormal' 'Abnormal'\n",
      " 'Abnormal' 'Abnormal' 'Abnormal' 'Abnormal' 'Abnormal' 'Abnormal'\n",
      " 'Abnormal' 'Abnormal' 'Abnormal' 'Abnormal' 'Abnormal' 'Abnormal'\n",
      " 'Abnormal' 'Abnormal' 'Abnormal' 'Abnormal' 'Abnormal' 'Abnormal'\n",
      " 'Abnormal' 'Abnormal' 'Abnormal' 'Abnormal' 'Abnormal' 'Abnormal'\n",
      " 'Abnormal' 'Abnormal' 'Abnormal' 'Abnormal' 'Abnormal' 'Abnormal'\n",
      " 'Abnormal' 'Abnormal' 'Abnormal' 'Abnormal' 'Abnormal' 'Abnormal'\n",
      " 'Normal' 'Abnormal' 'Abnormal' 'Abnormal' 'Abnormal' 'Abnormal'\n",
      " 'Abnormal' 'Abnormal' 'Abnormal' 'Abnormal' 'Abnormal' 'Abnormal'\n",
      " 'Abnormal' 'Abnormal' 'Abnormal' 'Abnormal' 'Abnormal' 'Abnormal'\n",
      " 'Abnormal' 'Abnormal' 'Abnormal' 'Abnormal' 'Abnormal' 'Abnormal'\n",
      " 'Abnormal' 'Abnormal' 'Abnormal' 'Abnormal' 'Abnormal' 'Abnormal'\n",
      " 'Abnormal' 'Abnormal' 'Abnormal' 'Abnormal' 'Abnormal' 'Abnormal'\n",
      " 'Abnormal' 'Abnormal' 'Abnormal' 'Abnormal' 'Normal' 'Normal' 'Normal'\n",
      " 'Normal' 'Normal' 'Normal' 'Normal' 'Normal' 'Normal' 'Normal' 'Normal'\n",
      " 'Abnormal' 'Normal' 'Normal' 'Normal' 'Normal' 'Normal' 'Normal' 'Normal'\n",
      " 'Normal' 'Normal' 'Normal' 'Normal' 'Abnormal' 'Normal' 'Normal' 'Normal'\n",
      " 'Normal' 'Normal' 'Normal' 'Abnormal' 'Normal' 'Normal' 'Abnormal'\n",
      " 'Normal' 'Normal' 'Normal' 'Normal' 'Abnormal' 'Normal' 'Normal' 'Normal'\n",
      " 'Normal' 'Normal' 'Abnormal' 'Normal' 'Normal' 'Normal' 'Normal' 'Normal'\n",
      " 'Normal' 'Normal' 'Normal' 'Normal' 'Normal' 'Normal' 'Normal' 'Normal'\n",
      " 'Normal' 'Normal' 'Normal' 'Normal' 'Normal' 'Normal' 'Normal' 'Normal'\n",
      " 'Normal' 'Normal' 'Normal' 'Normal' 'Normal' 'Normal' 'Normal' 'Normal'\n",
      " 'Normal' 'Normal' 'Normal' 'Normal' 'Normal' 'Normal' 'Normal' 'Normal'\n",
      " 'Abnormal' 'Normal' 'Normal' 'Normal' 'Abnormal' 'Normal' 'Normal'\n",
      " 'Normal' 'Normal' 'Normal' 'Normal' 'Normal' 'Abnormal' 'Normal'\n",
      " 'Abnormal' 'Normal' 'Normal']\n"
     ]
    }
   ],
   "source": [
    "# KNN\n",
    "from sklearn.neighbors import KNeighborsClassifier\n",
    "knn = KNeighborsClassifier(n_neighbors = 3)\n",
    "x,y = data.loc[:,data.columns != 'class'], data.loc[:,'class']\n",
    "knn.fit(x,y)\n",
    "prediction = knn.predict(x)\n",
    "# format()：格式化输出\n",
    "print('Prediction: {}'.format(prediction))"
   ]
  },
  {
   "cell_type": "markdown",
   "metadata": {
    "_cell_guid": "b5d85f4e-ab30-4c49-b2bc-6265b6baea9d",
    "_uuid": "6d9c3eacd279ddf7c0ef33b9e1814cd549d0feaa",
    "id": "BF6EDF29DF334B499364D89B94592D62",
    "mdEditEnable": false
   },
   "source": [
    "* 以上，我们已经使用KNN训练并预测了数据\n",
    "* 新的问题出现了：我们的预测是否准确？我们的准确度是什么?准确度是评价我们预测结果的最好的衡量标准吗？\n",
    "* 准确度是准确预测的一部分，是常用的度量标准。我们将使用它，但还有一个问题:\n",
    "\n",
    "如你所见，我用x(特征值)训练数据，然后再次预测x(特征值)，emmmm看起来很荒谬。\n",
    "\n",
    "因此，我们需要把数据集切分成训练集和测试集\n",
    "* train set: 训练集，用来训练数据\n",
    "* test set: 测试集，基于训练集预测数据\n",
    "* train_test_split(x,y,test_size = 0.3,random_state = 1)：交叉验证中常用的函数，功能是从样本中随机的按比例选取train data和test data\n",
    "    * x: 特征，即在进行预测时使用的输入变量。\n",
    "    * y: 目标，即在进行预测时使用的输出变量。\n",
    "    * test_size: 测试集所占的百分比。例如test_size = 0.3, 即test size = 30%， train size = 70%\n",
    "    * random_state: 随机种子. 其实就是该组随机数的编号，在需要重复试验的时候，保证得到一组一样的随机数。比如你每次都填1，其他参数一样的情况下你得到的随机数组是一样的。但填None，每次都会不一样。\n",
    "* fit(x_train,y_train): 拟合到训练集\n",
    "* score(x_test,y_test)): 预测并给出测准确度"
   ]
  },
  {
   "cell_type": "code",
   "execution_count": 10,
   "metadata": {
    "_cell_guid": "79865658-c89f-43c8-a1a9-75acc4feab6a",
    "_uuid": "4702429fdfa62650937b09fde5a8fd3136da8c55",
    "id": "39041C31D83E4F6E97B4CA980E384DBA",
    "scrolled": false
   },
   "outputs": [
    {
     "name": "stdout",
     "output_type": "stream",
     "text": [
      "Prediction: ['Abnormal' 'Normal' 'Abnormal' 'Abnormal' 'Abnormal' 'Abnormal' 'Normal'\n",
      " 'Abnormal' 'Abnormal' 'Normal' 'Abnormal' 'Normal' 'Abnormal' 'Abnormal'\n",
      " 'Normal' 'Abnormal' 'Normal' 'Normal' 'Abnormal' 'Abnormal' 'Abnormal'\n",
      " 'Normal' 'Abnormal' 'Abnormal' 'Normal' 'Abnormal' 'Abnormal' 'Abnormal'\n",
      " 'Normal' 'Abnormal' 'Abnormal' 'Normal' 'Normal' 'Normal' 'Normal'\n",
      " 'Abnormal' 'Abnormal' 'Abnormal' 'Abnormal' 'Abnormal' 'Normal' 'Normal'\n",
      " 'Abnormal' 'Normal' 'Abnormal' 'Abnormal' 'Normal' 'Abnormal' 'Abnormal'\n",
      " 'Normal' 'Abnormal' 'Normal' 'Abnormal' 'Abnormal' 'Abnormal' 'Abnormal'\n",
      " 'Abnormal' 'Abnormal' 'Abnormal' 'Abnormal' 'Normal' 'Abnormal'\n",
      " 'Abnormal' 'Abnormal' 'Abnormal' 'Abnormal' 'Abnormal' 'Abnormal'\n",
      " 'Abnormal' 'Abnormal' 'Abnormal' 'Abnormal' 'Abnormal' 'Normal' 'Normal'\n",
      " 'Abnormal' 'Abnormal' 'Abnormal' 'Abnormal' 'Normal' 'Normal' 'Abnormal'\n",
      " 'Abnormal' 'Normal' 'Abnormal' 'Abnormal' 'Abnormal' 'Abnormal' 'Normal'\n",
      " 'Normal' 'Abnormal' 'Abnormal' 'Abnormal']\n",
      "With KNN (K=3) accuracy is:  0.8602150537634409\n"
     ]
    }
   ],
   "source": [
    "from sklearn.model_selection import train_test_split\n",
    "# 切分数据集、测试集，固定随机种子（保证数据集每次的切分都一样）\n",
    "x_train,x_test,y_train,y_test = train_test_split(x,y,test_size = 0.3,random_state = 1)\n",
    "# 设置k值为3\n",
    "knn = KNeighborsClassifier(n_neighbors = 3)\n",
    "# 设置特征值和预测值\n",
    "x,y = data.loc[:,data.columns != 'class'], data.loc[:,'class']\n",
    "# 将模型拟合到训练集\n",
    "knn.fit(x_train,y_train)\n",
    "# 预测精准度\n",
    "prediction = knn.predict(x_test)\n",
    "print('Prediction: {}'.format(prediction))\n",
    "print('With KNN (K=3) accuracy is: ',knn.score(x_test,y_test)) "
   ]
  },
  {
   "cell_type": "markdown",
   "metadata": {
    "_cell_guid": "a5665258-3f7f-435a-a634-49eb0c0d66e0",
    "_uuid": "544f51ef05efe0b3ae4b02da806778bcfa715f35",
    "id": "FC215278E149435686ADEA2353BFA1F8",
    "mdEditEnable": false
   },
   "source": [
    "*我们看到准确率是86%，我会在后面的教程中回答它是否是一个很好的准确度。*\n",
    "\n",
    "现在我想解答的问题是：我们为什么设置K=3，或者说我们应该设置K值为多少？\n",
    "——答案在于模型的复杂度。\n",
    "\n",
    "![Image Name](https://cdn.kesci.com/upload/image/pj5l00l6tt.png?imageView2/0/w/720/h/720)\n",
    "\n",
    "* K有个大众化的名字——超参数，我们需要知道怎样给K赋值才能带给模型最好的准确率\n",
    "* 过拟合(overfitting)：创建的模型与训练数据过于匹配，以致于模型无法根据新数据做出正确的预测。\n",
    "* 欠拟合(underfitting)：创建的模型与训练数据匹配度较差。\n",
    "* K值较小，则模型复杂度较高，容易发生过拟合，学习的估计误差会增大，预测结果对近邻的实例点非常敏感。\n",
    "* K值较大，则模型复杂度较低，可以减少学习的估计误差，但是学习的近似误差会增大，与输入实例较远的训练实例也会对预测起作用，使预测发生错误。\n",
    "* 在下面的代码中，设置K值的范围从1到25（不包括1和25）并找到每个K值的准确性。从图中可以看出，当K = 1时，它对训练集进行记忆，在测试集上不能给出很好的精度(过拟合)。如果K = 18，则导致模型不能很好的拟合测试集（欠拟合）。但是当K为18(最佳性能)时，准确率最高，接近88%。\n",
    "\n"
   ]
  },
  {
   "cell_type": "code",
   "execution_count": 11,
   "metadata": {
    "_cell_guid": "db2c7062-ce1b-4e8b-9b2f-0ee0cd679a91",
    "_uuid": "18d8739373085a9964071f38b8f2adcb64f25491",
    "id": "59BD9D1FDA5D418A9BD1FC7C6D26E11B",
    "scrolled": false
   },
   "outputs": [
    {
     "data": {
      "text/html": [
       "<img src=\"https://cdn.kesci.com/rt_upload/59BD9D1FDA5D418A9BD1FC7C6D26E11B/pm11xspo8m.png\">"
      ],
      "text/plain": [
       "<Figure size 936x576 with 1 Axes>"
      ]
     },
     "metadata": {},
     "output_type": "display_data"
    },
    {
     "name": "stdout",
     "output_type": "stream",
     "text": [
      "Best accuracy is 0.8817204301075269 with K = 18\n"
     ]
    }
   ],
   "source": [
    "# 模型复杂度\n",
    "neig = np.arange(1, 25)\n",
    "train_accuracy = []\n",
    "test_accuracy = []\n",
    "# 循环K值从1到25\n",
    "for i, k in enumerate(neig):\n",
    "    # k从1到25(不包括1、25)\n",
    "    knn = KNeighborsClassifier(n_neighbors=k)\n",
    "    # 使用KNN拟合\n",
    "    knn.fit(x_train,y_train)\n",
    "    # 训练集的准确度\n",
    "    train_accuracy.append(knn.score(x_train, y_train))\n",
    "    # 测试集的准确度\n",
    "    test_accuracy.append(knn.score(x_test, y_test))\n",
    "\n",
    "# 可视化\n",
    "plt.figure(figsize=[13,8])\n",
    "plt.plot(neig, test_accuracy, label = 'Testing Accuracy')\n",
    "plt.plot(neig, train_accuracy, label = 'Training Accuracy')\n",
    "plt.legend()\n",
    "plt.title('-value VS Accuracy')\n",
    "plt.xlabel('Number of Neighbors')\n",
    "plt.ylabel('Accuracy')\n",
    "plt.xticks(neig)\n",
    "plt.savefig('graph.png')\n",
    "plt.show()\n",
    "print(\"Best accuracy is {} with K = {}\".format(np.max(test_accuracy),1+test_accuracy.index(np.max(test_accuracy))))"
   ]
  },
  {
   "cell_type": "markdown",
   "metadata": {
    "_cell_guid": "b598ee81-e535-49c0-b53c-b13b0a5058db",
    "_uuid": "96423b4f710966c8071647874623c139c1c79bb7",
    "id": "D458A12E9DAC48D2BE8D9625AD2D0052",
    "mdEditEnable": false
   },
   "source": [
    "到目前为止，你学习了:\n",
    "* 监督学习\n",
    "* EDA\n",
    "* KNN\n",
    "    * 如何切分数据集\n",
    "    * 如何训练、预测数据\n",
    "    * 如何评判模型准确度\n",
    "    * 如何选择k值\n",
    "    \n",
    "**如果我将标题KNN改为其他分类方法，比如Random Forest（随机森林），会发生什么呢?**\n",
    "* The answer is **nothing**. \n",
    "你只需要看一段youtube上关于随机森林的视频，然后用KNN实现你学到的东西。因为思想和大多数代码(只有KNeighborsClassifier需要改为RandomForestClassifier)是相同的。你需要切分、训练、预测数据和评估性能，并选择random forest的超参数(如max_depth)。"
   ]
  },
  {
   "cell_type": "markdown",
   "metadata": {
    "_cell_guid": "f9d427a9-faa5-46cf-9e3c-2c8cea2571ad",
    "_uuid": "d075fd2a7c05e5414e33b7b1314d81a6b945e7b3",
    "id": "9748EA2F369E48F58546079E1CE5FE0A",
    "mdEditEnable": false
   },
   "source": [
    "### 线性回归\n",
    "* 回归属于监督学习，分为线性回归（linear regression）和逻辑回归（logistic regression）。\n",
    "* 这个骨科患者的数据不适合回归方法，所以我只使用了两个特征：abnormal中的*sacral_slope* 和 *pelvic_incidence* \n",
    "    * *pelvicin_cidence*作为特征值，*sacral_slope*作为预测值\n",
    "    * 让我们画一个散点图以便更好地理解它\n",
    "    * reshape(-1,1): 将数组变成1列。如果不用这个方法，x或y的形状就变成了(210，)，在sklearn中我们无法使用。因此我们用reshape(-1,1)，这样x或y的形状是(210,1)"
   ]
  },
  {
   "cell_type": "code",
   "execution_count": 12,
   "metadata": {
    "_cell_guid": "6b072c42-059f-4e45-9cfa-8ed39b274f72",
    "_uuid": "d2655c140423b1228c42d2e8dfe54344ba43dcb0",
    "id": "9F7F43CEC37647988B8899333B573704",
    "scrolled": false
   },
   "outputs": [
    {
     "data": {
      "text/html": [
       "<img src=\"https://cdn.kesci.com/rt_upload/9F7F43CEC37647988B8899333B573704/pm11xs2ej9.png\">"
      ],
      "text/plain": [
       "<Figure size 720x720 with 1 Axes>"
      ]
     },
     "metadata": {},
     "output_type": "display_data"
    }
   ],
   "source": [
    "# 创建data1，其中包括特征pelvic_incidence和预测值sacral_slope\n",
    "data1 = data[data['class'] =='Abnormal']\n",
    "x = np.array(data1.loc[:,'pelvic_incidence']).reshape(-1,1)\n",
    "y = np.array(data1.loc[:,'sacral_slope']).reshape(-1,1)\n",
    "# 散点图\n",
    "plt.figure(figsize=[10,10])\n",
    "plt.scatter(x=x,y=y)\n",
    "plt.xlabel('pelvic_incidence')\n",
    "plt.ylabel('sacral_slope')\n",
    "plt.show()"
   ]
  },
  {
   "cell_type": "markdown",
   "metadata": {
    "_cell_guid": "874ac5e0-5bc0-4429-b6c5-707690b5dd77",
    "_uuid": "c84719d363ff736e96a0a575dfd0381bcbc549fb",
    "id": "F3D4B5A5F45B4DA6A7CE645E1AFB6FDD",
    "mdEditEnable": false
   },
   "source": [
    "现在我们有可以做回归分析的数据了。\n",
    "在回归问题中，目标值是一个不断变化的变量，如房价或*sacral_slope*。我们用直线去拟合这些点。\n",
    "\n",
    "**线性回归**\n",
    "\n",
    "* 单变量线性回归：只含有一个特征（输入变量）\n",
    "> y'：想要预测的值,用来和真实值 y 区分 \n",
    "> x：特征，即输入变量 \n",
    "> omega：模型的参数，即特征1的权重\n",
    "\n",
    "$$\n",
    "y'=\\omega_1x_1+b_0\n",
    "$$\n",
    "* 多变量线性回归：含有多个特征（输入变量）\n",
    "$$\n",
    "y'=\\omega_1x_1+\\omega_2x_2+...+\\omega_nx_n+b_0\n",
    "$$ \n",
    "* 我们根据损失函数（即评估函数）来选择模型的参数(omega)，使预测值 y' 尽可能的接近 y ;\n",
    "\t在线性回归中，我们使用普通最小二乘法(OLS)作为损失函数,OLS: 残值的平方的和。\n",
    "$$\n",
    "OLS = \\sum_{i=1}^t (y-y')^2\n",
    "$$\n",
    "* Score: 回归线拟合程度的评判标准使用R^2（决定系数），公式如下：\n",
    "$$\n",
    "R^2=1-\\frac{\\sum(Y_{actual}-Y_{predicted})^2}{\\sum(Y_{actual}-Y_{mean})^2}\n",
    "$$\n",
    "~$R^2~$的值介于0与1之间，越大代表拟合程度越高。"
   ]
  },
  {
   "cell_type": "code",
   "execution_count": 13,
   "metadata": {
    "_cell_guid": "fb7991f3-5869-4df0-bf6c-30f61e8215c6",
    "_uuid": "7cdc74efa8c46dab5f14f6cc2779928c11a4fa62",
    "id": "B27B2D0C4BD54E77835DE15837C5923A",
    "scrolled": false
   },
   "outputs": [
    {
     "name": "stdout",
     "output_type": "stream",
     "text": [
      "R^2 score:  0.6458410481075871\n"
     ]
    },
    {
     "data": {
      "text/html": [
       "<img src=\"https://cdn.kesci.com/rt_upload/B27B2D0C4BD54E77835DE15837C5923A/pm11xsb77g.png\">"
      ],
      "text/plain": [
       "<Figure size 432x288 with 1 Axes>"
      ]
     },
     "metadata": {},
     "output_type": "display_data"
    }
   ],
   "source": [
    "# 线性回归\n",
    "from sklearn.linear_model import LinearRegression\n",
    "reg = LinearRegression()\n",
    "# 预测区域\n",
    "predict_space = np.linspace(min(x), max(x)).reshape(-1,1)\n",
    "# 将训练数据拟合到模型中\n",
    "reg.fit(x,y)\n",
    "# 预测\n",
    "predicted = reg.predict(predict_space)\n",
    "# R^2 \n",
    "print('R^2 score: ',reg.score(x, y))\n",
    "# 绘制回归线和散点\n",
    "plt.plot(predict_space, predicted, color='black', linewidth=3)\n",
    "plt.scatter(x=x,y=y)\n",
    "plt.xlabel('pelvic_incidence')\n",
    "plt.ylabel('sacral_slope')\n",
    "plt.show()"
   ]
  },
  {
   "cell_type": "markdown",
   "metadata": {
    "id": "9F7E429601D246038DF46724AC7D5F01",
    "mdEditEnable": false
   },
   "source": [
    "在示例里，我们看到~$R^2=0.6458410481075871~$，这意味着约65%的 *sacralslope* 可以用 *pelvicincidence* 来解释。"
   ]
  },
  {
   "cell_type": "markdown",
   "metadata": {
    "_cell_guid": "242dd057-bb8a-463a-b04c-1072d5de1e0a",
    "_uuid": "3cf254d2feef8f9f886b0e1de12ec2b155083d2b",
    "id": "BBA202A8DC164FE987FB43881A212ABC",
    "mdEditEnable": false
   },
   "source": [
    "### 交叉验证\n",
    "在KNN模型中，我们使用random_state将数据集每次都切分成相同的训练集和测试集。如果没有用random_state,数据集每次的切分都不同，相应的会得到不同的准确度。\n",
    "我们可以得到一个结论：模型的精度却决于数据集的切分。\n",
    "举个栗子：假设对数据集进行了5次切分，模型的精度依次是0.89, 0.9, 0.91, 0.92 和 0.93。可以看到，在不同的划分方法下，模型的准确度是有变化的。因此如果我们的训练集和测试集的划分方法不够好，很有可能无法选择到最好的模型与参数。\n",
    "\n",
    "**使用交叉验证，我们可以找到最合适的准确度。**\n",
    "\n",
    "**交叉验证(Cross Validation)**\n",
    "\n",
    "* **K折交叉验证(k-fold cross validation)**\n",
    "\t* 将原始数据均分成K组，每个子集数据分别做一次验证集，其余的K-1组子集数据作为训练集，这样会得到K个模型，用这K个模型最终验证集的分类准确率的平均数作为此K-CV分类器下的性能指标。\n",
    "\t* k：将数据集分成K个子集。\n",
    "\t* k值越大，计算成本越大，耗时约长。\n",
    "* **cross_val_score(reg,x,y,cv=5)**: 使用上文定义的线性回归方法拟合数据，设置k值为5。"
   ]
  },
  {
   "cell_type": "code",
   "execution_count": 14,
   "metadata": {
    "_cell_guid": "bf504792-66f4-411e-bc1d-5b049da959ac",
    "_uuid": "1f1a77c5d5e6ca52c0264875362665f228e66078",
    "id": "B237568B1CD74E1F8BF5DDDBB7B074DA",
    "scrolled": false
   },
   "outputs": [
    {
     "name": "stdout",
     "output_type": "stream",
     "text": [
      "CV Scores:  [0.32924233 0.61683991 0.53117056 0.1954798  0.29299864]\n",
      "CV scores average:  0.3931462502884867\n"
     ]
    }
   ],
   "source": [
    "# 交叉验证（cv）\n",
    "from sklearn.model_selection import cross_val_score\n",
    "reg = LinearRegression()\n",
    "k = 5\n",
    "cv_result = cross_val_score(reg,x,y,cv=k) # 使用R^2评判拟合程度\n",
    "print('CV Scores: ',cv_result)\n",
    "print('CV scores average: ',np.sum(cv_result)/k)"
   ]
  },
  {
   "cell_type": "markdown",
   "metadata": {
    "_cell_guid": "27ffec30-4951-4479-9d86-32495a80c08d",
    "_uuid": "be425f142c0acc1ab3009fafafa3616948f5c8a5",
    "id": "635E65F4CD9D4AB28CAD602905553364",
    "mdEditEnable": false
   },
   "source": [
    "### 正则化\n",
    "请查看以下泛化曲线，该曲线显示的是训练集和验证集相对于训练迭代次数的损失。\n",
    "![Image Name](https://cdn.kesci.com/upload/image/pj5axorkpb.png?imageView2/0/w/500/h/500)\n",
    "图中显示的是某个模型的训练损失逐渐减少，但验证损失最终增加。换言之，该泛化曲线显示该模型与训练集中的数据过拟合。根据奥卡姆剃刀定律，或许我们可以通过降低复杂模型的复杂度来防止过拟合，这种原则称为**正则化**。\n",
    "也就是说，并非只是以最小化损失（经验风险最小化）为目标：\n",
    "\n",
    "$$\n",
    "\\text{minimize(Loss(Data|Model))}\n",
    "$$\n",
    "\n",
    "而是以最小化损失和复杂度为目标，这称为**结构风险最小化**：\n",
    "\n",
    "$$\n",
    "\\text{minimize(Loss(Data|Model) + complexity(Model))}\n",
    "$$\n",
    "\n",
    "现在，我们的训练优化算法是一个由两项内容组成的函数：一个是损失项，用于衡量模型与数据的拟合度，另一个是正则化项，用于衡量模型复杂度。\n",
    "* 我们可以使用 **L2 正则化公式**来量化复杂度，该公式将正则化项定义为所有特征权重的平方和：\n",
    "\n",
    "$$\n",
    "L_2\\text{ regularization term} = \\sum w^2 = {w_1^2 + w_2^2 + ... + w_n^2}\n",
    "$$\n",
    "在这个公式中，接近于 0 的权重对模型复杂度几乎没有影响，而离群值权重则可能会产生巨大的影响。\n",
    "\n",
    "\n",
    "* **L1正则化公式**定义为所有特征权重的绝对值之和：\n",
    "$$\n",
    "L_1\\text{ regularization term} = \\sum |w| = {|w_1| + |w_2| + ... + |w_n|}\n",
    "$$\n",
    "\n",
    "\n",
    "使用线性回归时，我们要选择最小化损失函数的参数(回归系数)。如果线性回归认为某一特征是重要的，则该特征具有较高的系数。这种情况常常会导致过拟合。为了避免过拟合，我们使用正则化（regularization）来惩罚大系数。\n",
    "\n",
    "* Ridge回归: 我们介绍的第一个正则化方法，也叫做L2正则化。\n",
    "    * Ridge回归损失函数 = ~$OLS + \\alpha\\sum\\omega^2~$ \n",
    "    * ~$\\alpha~$是我们需要选择的参数，用来拟合和预测数据。与在KNN中选择最优K值相似，~$\\alpha~$是一个超参数，我们需要选择它来获得最佳的准确性和模型的复杂性，这个过程称为超参数优化。\n",
    "    * 如果~$\\alpha~$是0呢?损失函数=OLS（最小二乘法），即线性回归。\n",
    "    * 如果~$\\alpha~$值很小，就会导致过拟合\n",
    "    * 如果~$\\alpha~$值很大，就会导致欠拟合。但是大与小没有一个明确的标准，这些可以随着问题的不同而改变。\n",
    "* Lasso回归: 第二个正则化方法，也被称为L1正则化。\n",
    "    * Lasso回归损失函数 = ~$OLS + \\alpha\\sum|\\omega|~$\n",
    "    * 它可以用来选择数据的重要特征，因为Lasso回归可以使特征值的权重为0\n",
    "    * 为了选择特征，我在回归数据中添加了新的特征 *'pelvic_tilt numeric' , 'lumbar_lordosisangle' , 'pelvic_radius'*\n",
    "    \n",
    "Linear VS Ridge VS Lasso\n",
    "凭直觉: Linear\n",
    "特征选择: 1.Lasso 2.Ridge\n",
    "回归模型: 1.Ridge 2.Lasso 3.Linear "
   ]
  },
  {
   "cell_type": "code",
   "execution_count": 15,
   "metadata": {
    "_cell_guid": "bdc1a379-07a4-4b61-8ac1-d7007ae33783",
    "_uuid": "85fa872e3988295a8fbe752bf96319518ca3595b",
    "id": "24418DD51E6C42ADB32CAE9D74058054",
    "scrolled": false
   },
   "outputs": [
    {
     "name": "stdout",
     "output_type": "stream",
     "text": [
      "Ridge score:  0.5608287918841997\n"
     ]
    }
   ],
   "source": [
    "# Ridge\n",
    "from sklearn.linear_model import Ridge\n",
    "# 固定随机种子，random_state=2得到的划分与random_state=1时不同\n",
    "x_train,x_test,y_train,y_test = train_test_split(x,y,random_state = 2, test_size = 0.3)\n",
    "ridge = Ridge(alpha = 0.1, normalize = True)\n",
    "ridge.fit(x_train,y_train)\n",
    "ridge_predict = ridge.predict(x_test)\n",
    "print('Ridge score: ',ridge.score(x_test,y_test))"
   ]
  },
  {
   "cell_type": "code",
   "execution_count": 16,
   "metadata": {
    "_cell_guid": "de031d9f-b2f8-4fb1-a305-36cbc4dc970f",
    "_uuid": "57f91f4b4e267bd3eb22adfcdf719778c1901c92",
    "id": "1B51C834EA0D4CD58015EFFDD79590F7",
    "scrolled": false
   },
   "outputs": [
    {
     "name": "stdout",
     "output_type": "stream",
     "text": [
      "Lasso score:  0.9640334804327547\n",
      "Lasso coefficients:  [ 0.82498243 -0.7209057   0.         -0.        ]\n"
     ]
    }
   ],
   "source": [
    "# Lasso\n",
    "from sklearn.linear_model import Lasso\n",
    "x = np.array(data1.loc[:,['pelvic_incidence','pelvic_tilt numeric','lumbar_lordosis_angle','pelvic_radius']])\n",
    "x_train,x_test,y_train,y_test = train_test_split(x,y,random_state = 3, test_size = 0.3)\n",
    "lasso = Lasso(alpha = 0.1, normalize = True)\n",
    "lasso.fit(x_train,y_train)\n",
    "ridge_predict = lasso.predict(x_test)\n",
    "print('Lasso score: ',lasso.score(x_test,y_test))\n",
    "print('Lasso coefficients: ',lasso.coef_)"
   ]
  },
  {
   "cell_type": "markdown",
   "metadata": {
    "_cell_guid": "84f9d88d-28e9-4b26-8824-ae32de7e143c",
    "_uuid": "d70e2366ccc8797c92d2edacb4ab3b59fad4506d",
    "id": "5A2224ADA08A4BA585374BB0BFB6EB8F",
    "mdEditEnable": false
   },
   "source": [
    "正你所看到的，* pelvic_incidence* 和 *pelvic_tilt numeric* 是重要的特征，其他特性并不重要。\n",
    "\n",
    "现在让我们讨论准确性。模型选择的度量是否足够?\n",
    "例如，有一个数据包含95%的正常样本和5%的异常样本，我们的模型使用精度作为度量标准。然后我们的模型预测所有样本100%正常，准确率为95%，但对所有异常样本进行了错误分类。因此，需要在不平衡数据中使用混淆矩阵作为模型度量矩阵。\n",
    "\n",
    "在使用混淆矩阵的同时，利用随机森林分类器实现分类方法的多样化。\n",
    "* TP = 真正列(20), FP = 假正列(7), FN = 假负列(8), TN = 真负列(58) \n",
    "* TP = 真正例是指模型将正类别样本正确地预测为正类别（normal）。\n",
    "* FP = 真负例是指模型将负类别样本正确地预测为负类别（abnormal）。\n",
    "* FN = 假负例是指模型将正类别样本错误地预测为负类别。\n",
    "* TN = 真负例是指模型将负类别样本正确地预测为负类别。\n",
    "* 准确率准确率是一个用于评估分类模型的指标。通俗来说，准确率是指我们的模型预测正确的结果所占的比例。\n",
    "\n",
    "> 正式点说，准确率的定义如下：\n",
    "\n",
    "$$\n",
    "\\text{Accuracy} = \\frac{\\text{Number of correct predictions}}{\\text{Total number of predictions}}\n",
    "$$\n",
    "> 对于二元分类，也可以根据正类别和负类别按如下方式计算准确率：\n",
    "\n",
    "$$\n",
    "\\text{Accuracy} = \\frac{TP+TN}{TP+TN+FP+FN}\n",
    "$$\n",
    "\n",
    "* 精确率：精确率解释了在被识别为正类别的样本中，确实为正类别的比例是多少？精确率的定义如下：\n",
    "\n",
    "$$\n",
    "\\text{Precision} = \\frac{TP}{TP+FP}\n",
    "$$\n",
    "\n",
    "* 召回率：召回率解释了在所有正类别样本中，被正确识别为正类别的比例是多少？定义如下：\n",
    "\n",
    "$$\n",
    "\\text{Recall} = \\frac{TP}{TP+FN}\n",
    "$$\n",
    "\n",
    "* ~$f1 = 2*precision*\\frac{recall}{precision + recall}~$"
   ]
  },
  {
   "cell_type": "markdown",
   "metadata": {
    "id": "00B8979DAE93405D8D8C7B3A1B1EBA9C",
    "mdEditEnable": false
   },
   "source": [
    "如果不了解混淆矩阵的概念，请参考[链接](http://www.kesci.com/home/project/5c481f6489f4aa002b85956a)"
   ]
  },
  {
   "cell_type": "code",
   "execution_count": 17,
   "metadata": {
    "_cell_guid": "c71a33f5-5784-461b-949d-cb83f23dace6",
    "_uuid": "19fb6fb0f651e249835037a4f4b2f0b4a2619a27",
    "id": "F17AC5FFF8254A1FB24F04824807AA7F",
    "scrolled": false
   },
   "outputs": [
    {
     "name": "stdout",
     "output_type": "stream",
     "text": [
      "Confusion matrix: \n",
      " [[58  8]\n",
      " [ 7 20]]\n",
      "Classification report: \n",
      "               precision    recall  f1-score   support\n",
      "\n",
      "    Abnormal       0.89      0.88      0.89        66\n",
      "      Normal       0.71      0.74      0.73        27\n",
      "\n",
      "   micro avg       0.84      0.84      0.84        93\n",
      "   macro avg       0.80      0.81      0.81        93\n",
      "weighted avg       0.84      0.84      0.84        93\n",
      "\n"
     ]
    }
   ],
   "source": [
    "# 随机森林的混淆矩阵(confusion matrix)\n",
    "from sklearn.metrics import classification_report, confusion_matrix\n",
    "from sklearn.ensemble import RandomForestClassifier\n",
    "x,y = data.loc[:,data.columns != 'class'], data.loc[:,'class']\n",
    "x_train,x_test,y_train,y_test = train_test_split(x,y,test_size = 0.3,random_state = 1)\n",
    "rf = RandomForestClassifier(random_state = 4)\n",
    "rf.fit(x_train,y_train)\n",
    "y_pred = rf.predict(x_test)\n",
    "cm = confusion_matrix(y_test,y_pred)\n",
    "print('Confusion matrix: \\n',cm)\n",
    "print('Classification report: \\n',classification_report(y_test,y_pred))"
   ]
  },
  {
   "cell_type": "code",
   "execution_count": 18,
   "metadata": {
    "_cell_guid": "fcba81bb-1257-48d0-afe1-a4416237cc73",
    "_uuid": "f2697bbc248102687596713406512b4cb7f24929",
    "id": "45946109ED71493388D23456F52AF54A",
    "scrolled": false
   },
   "outputs": [
    {
     "data": {
      "text/html": [
       "<img src=\"https://cdn.kesci.com/rt_upload/45946109ED71493388D23456F52AF54A/pm11xt8rkh.png\">"
      ],
      "text/plain": [
       "<Figure size 432x288 with 2 Axes>"
      ]
     },
     "metadata": {},
     "output_type": "display_data"
    }
   ],
   "source": [
    "# 使用seaborn库进行可视化\n",
    "sns.heatmap(cm,annot=True,fmt=\"d\") \n",
    "plt.show()"
   ]
  },
  {
   "cell_type": "markdown",
   "metadata": {
    "_cell_guid": "4552b965-e15d-4e05-9e02-224159e8d508",
    "_uuid": "dbe175099c0c8151c16ad0c78f1414de8fd9ebdc",
    "id": "6797FAA990D743FC8316D3CAA1EB6E1B",
    "mdEditEnable": false
   },
   "source": [
    "### ROC曲线与逻辑回归\n",
    "* 逻辑回归是一种极其高效的概率计算机制，输出的是概率估值。\n",
    "* 如果概率大于0.5，则数据为1(abnormal)，否则为0(normal)\n",
    "* 默认情况下逻辑回归的分类阈值为0.5\n",
    "* ROC 曲线（接收者操作特征曲线）是一种显示分类模型在所有分类阈值下的效果的图表。该曲线绘制了以下两个参数：\n",
    "\t* 真正例率 (TPR):~$TPR = \\frac{TP} {TP + FN}~$\n",
    "\t* 假正例率 (FPR):~$FPR = \\frac{FP} {FP + TN}~$\n",
    "* ROC 曲线用于绘制采用不同分类阈值时的 TPR 与 FPR。降低分类阈值会导致将更多样本归为正类别，从而增加假正例和真正例的个数。下图显示了一个典型的 ROC 曲线。\n",
    "\n",
    "![Image Name](https://cdn.kesci.com/upload/image/pj9cyfb1x5.png?imageView2/0/w/350/h/350)\n",
    "\n",
    "\n",
    "* 如果图中的曲线更接近左上角，则测试结果更准确。\n",
    "* AUC是一个模型评价指标，只能用于二分类模型的评价。AUC的值是ROC曲线下面区域的面积.\n",
    "* 曲线下面积的取值范围为 0-1。预测结果 100% 错误的模型的曲线下面积为 0；而预测结果 100% 正确的模型的曲线下面积为1。\n",
    "\n",
    "![Image Name](https://cdn.kesci.com/upload/image/pj9dscywcn.png?imageView2/0/w/350/h/350)"
   ]
  },
  {
   "cell_type": "code",
   "execution_count": 19,
   "metadata": {
    "_cell_guid": "4f4a8f76-9792-485f-83b0-79e2524ab83c",
    "_uuid": "c7fce3a219764388088ec5f3d57ab913f5c05f35",
    "id": "169620C69B414E9B88A0404AF3B689B8",
    "scrolled": false
   },
   "outputs": [
    {
     "data": {
      "text/html": [
       "<img src=\"https://cdn.kesci.com/rt_upload/169620C69B414E9B88A0404AF3B689B8/pm11xty11v.png\">"
      ],
      "text/plain": [
       "<Figure size 432x288 with 1 Axes>"
      ]
     },
     "metadata": {},
     "output_type": "display_data"
    }
   ],
   "source": [
    "# ROC曲线与逻辑回归\n",
    "from sklearn.metrics import roc_curve\n",
    "from sklearn.linear_model import LogisticRegression\n",
    "from sklearn.metrics import confusion_matrix, classification_report\n",
    "# abnormal = 1 ， normal = 0\n",
    "data['class_binary'] = [1 if i == 'Abnormal' else 0 for i in data.loc[:,'class']]\n",
    "x,y = data.loc[:,(data.columns != 'class') & (data.columns != 'class_binary')], data.loc[:,'class_binary']\n",
    "x_train, x_test, y_train, y_test = train_test_split(x, y, test_size = 0.3, random_state=42)\n",
    "logreg = LogisticRegression()\n",
    "logreg.fit(x_train,y_train)\n",
    "y_pred_prob = logreg.predict_proba(x_test)[:,1]\n",
    "fpr, tpr, thresholds = roc_curve(y_test, y_pred_prob)\n",
    "# 绘制ROC曲线\n",
    "plt.plot([0, 1], [0, 1], 'k--')\n",
    "plt.plot(fpr, tpr)\n",
    "plt.xlabel('False Positive Rate')\n",
    "plt.ylabel('True Positive Rate')\n",
    "plt.title('ROC')\n",
    "plt.show()"
   ]
  },
  {
   "cell_type": "markdown",
   "metadata": {
    "_cell_guid": "ceb21da5-4ced-400c-a017-60f735802b69",
    "_uuid": "db2a0e5e83aee71a9585ee113cb01170325c96f1",
    "id": "25FDF6761B8C440B82C1A8954D4A3627",
    "mdEditEnable": false
   },
   "source": [
    "### 超参数调优\n",
    "正如在KNN中提到的，我们需要对超参数进行优化\n",
    "* 举个栗子: \n",
    "    * KNN中的k\n",
    "    * Ridge和Lasso中的~$\\alpha~$\n",
    "    * 随机森林中的max_depth\n",
    "    * 线性回归中的参数~$\\theta~$\n",
    "* 超参数调优: \n",
    "    * 尝试不同参数的所有组合\n",
    "    * 拟合模型\n",
    "    * 衡量预测的准确度\n",
    "    * 看看他们的表现如何\n",
    "    * 最后选择最佳超参数\n",
    "* 我们只需要一行代码，即GridSearchCV\n",
    "    * grid: K从1到50(开区间)\n",
    "    * GridSearchCV采用knn和grid进行网格搜索。它意味着所有超参数的组合。示例中是k。"
   ]
  },
  {
   "cell_type": "code",
   "execution_count": 20,
   "metadata": {
    "_cell_guid": "d1a56a4e-a307-4376-8d06-53fc30447ce6",
    "_uuid": "20fb485285b4d27da2e3eb89e8e43797db7c457a",
    "id": "9A951C8C19CE40ADA3E82AF1747CFDBB",
    "scrolled": false
   },
   "outputs": [
    {
     "name": "stdout",
     "output_type": "stream",
     "text": [
      "Tuned hyperparameter k: {'n_neighbors': 4}\n",
      "Best score: 0.7548387096774194\n"
     ]
    },
    {
     "name": "stderr",
     "output_type": "stream",
     "text": [
      "/opt/conda/lib/python3.6/site-packages/sklearn/model_selection/_search.py:841: DeprecationWarning: The default of the `iid` parameter will change from True to False in version 0.22 and will be removed in 0.24. This will change numeric results when test-set sizes are unequal.\n",
      "  DeprecationWarning)\n"
     ]
    }
   ],
   "source": [
    "# 网格搜索与超参数调优\n",
    "from sklearn.model_selection import GridSearchCV\n",
    "grid = {'n_neighbors': np.arange(1,50)}\n",
    "knn = KNeighborsClassifier()\n",
    "knn_cv = GridSearchCV(knn, grid, cv=3)    # GridSearchCV\n",
    "knn_cv.fit(x,y)   # 训练\n",
    "\n",
    "# 打印hyperparameter\n",
    "print(\"Tuned hyperparameter k: {}\".format(knn_cv.best_params_)) \n",
    "print(\"Best score: {}\".format(knn_cv.best_score_))"
   ]
  },
  {
   "cell_type": "markdown",
   "metadata": {
    "_cell_guid": "a4401913-229c-4bcc-8dd0-3563b824f6e9",
    "_uuid": "bdc9c267b635db5696e73cb6ba36d093c8f127c5",
    "id": "F983378CCB39450489E62DE1507C209C",
    "mdEditEnable": false
   },
   "source": [
    "其他两个超参数的网格搜索示例：\n",
    "* 第一个超参数是C:逻辑回归正则化参数\n",
    "    * 如果C值高:过拟合\n",
    "    * 如果C值低:欠拟合\n",
    "* 第二个超参数是惩罚(损失函数):l1 (Lasso)或l2(Ridge)，这是我们在线性回归部分学到的。"
   ]
  },
  {
   "cell_type": "code",
   "execution_count": 21,
   "metadata": {
    "_cell_guid": "8988b749-3bf5-448f-830e-edce366348d0",
    "_uuid": "eb5961ae83511410ae491366bd12f70bef9f440b",
    "id": "BF9CCA996B62457F8878174E12FB8DB9",
    "scrolled": false
   },
   "outputs": [
    {
     "name": "stdout",
     "output_type": "stream",
     "text": [
      "Tuned hyperparameters : {'C': 100.0, 'penalty': 'l2'}\n",
      "Best Accuracy: 0.8525345622119815\n"
     ]
    }
   ],
   "source": [
    "# 网格搜索交叉验证与2个超参数\n",
    "# 1. 超参数为C:logistic回归正则化参数\n",
    "# 2. 惩罚L1或L2\n",
    "# Hyperparameter网格\n",
    "param_grid = {'C': np.logspace(-3, 3, 7), 'penalty': ['l1', 'l2']}\n",
    "x_train, x_test, y_train, y_test = train_test_split(x,y,test_size = 0.3,random_state = 12)\n",
    "logreg = LogisticRegression()\n",
    "logreg_cv = GridSearchCV(logreg,param_grid,cv=3)\n",
    "logreg_cv.fit(x_train,y_train)\n",
    "\n",
    "# 打印最佳参数和最佳评分\n",
    "print(\"Tuned hyperparameters : {}\".format(logreg_cv.best_params_))\n",
    "print(\"Best Accuracy: {}\".format(logreg_cv.best_score_))"
   ]
  },
  {
   "cell_type": "markdown",
   "metadata": {
    "_cell_guid": "37171c8f-21ad-4628-8279-5cfedb27aafb",
    "_uuid": "7cd0bf0ed62c1858f5de74ee4f85c84765f8bc06",
    "id": "04BF34469C114CDDB5532AE435C40DA4",
    "mdEditEnable": false
   },
   "source": [
    "### 数据预处理\n",
    "* 在现实场景中，数据可以包含 object data 和 categorical data，为了在sklearn中使用它们，我们需要将它们转换为 numerical data\n",
    "* 在数据中，类有 *abnormal* 和 *normal* ，让我们把它们转换成数值\n",
    "* 创建不同的特征，分别名为 *class_Abnormal* 和 *class_Normal*\n",
    "* 但是我们需要删除其中一列，因为它们是重复的"
   ]
  },
  {
   "cell_type": "code",
   "execution_count": 22,
   "metadata": {
    "_cell_guid": "342e6f67-afeb-42b0-9e56-6521fd15e3ad",
    "_uuid": "8168cf770134142252e92022307815e31a931a34",
    "id": "8592090A6C344327889455F2955C8917",
    "scrolled": false
   },
   "outputs": [
    {
     "data": {
      "text/html": [
       "<div>\n",
       "<style scoped>\n",
       "    .dataframe tbody tr th:only-of-type {\n",
       "        vertical-align: middle;\n",
       "    }\n",
       "\n",
       "    .dataframe tbody tr th {\n",
       "        vertical-align: top;\n",
       "    }\n",
       "\n",
       "    .dataframe thead th {\n",
       "        text-align: right;\n",
       "    }\n",
       "</style>\n",
       "<table border=\"1\" class=\"dataframe\">\n",
       "  <thead>\n",
       "    <tr style=\"text-align: right;\">\n",
       "      <th></th>\n",
       "      <th>pelvic_incidence</th>\n",
       "      <th>pelvic_tilt numeric</th>\n",
       "      <th>lumbar_lordosis_angle</th>\n",
       "      <th>sacral_slope</th>\n",
       "      <th>pelvic_radius</th>\n",
       "      <th>degree_spondylolisthesis</th>\n",
       "      <th>class_Abnormal</th>\n",
       "      <th>class_Normal</th>\n",
       "    </tr>\n",
       "  </thead>\n",
       "  <tbody>\n",
       "    <tr>\n",
       "      <th>0</th>\n",
       "      <td>63.027818</td>\n",
       "      <td>22.552586</td>\n",
       "      <td>39.609117</td>\n",
       "      <td>40.475232</td>\n",
       "      <td>98.672917</td>\n",
       "      <td>-0.254400</td>\n",
       "      <td>1</td>\n",
       "      <td>0</td>\n",
       "    </tr>\n",
       "    <tr>\n",
       "      <th>1</th>\n",
       "      <td>39.056951</td>\n",
       "      <td>10.060991</td>\n",
       "      <td>25.015378</td>\n",
       "      <td>28.995960</td>\n",
       "      <td>114.405425</td>\n",
       "      <td>4.564259</td>\n",
       "      <td>1</td>\n",
       "      <td>0</td>\n",
       "    </tr>\n",
       "    <tr>\n",
       "      <th>2</th>\n",
       "      <td>68.832021</td>\n",
       "      <td>22.218482</td>\n",
       "      <td>50.092194</td>\n",
       "      <td>46.613539</td>\n",
       "      <td>105.985135</td>\n",
       "      <td>-3.530317</td>\n",
       "      <td>1</td>\n",
       "      <td>0</td>\n",
       "    </tr>\n",
       "    <tr>\n",
       "      <th>3</th>\n",
       "      <td>69.297008</td>\n",
       "      <td>24.652878</td>\n",
       "      <td>44.311238</td>\n",
       "      <td>44.644130</td>\n",
       "      <td>101.868495</td>\n",
       "      <td>11.211523</td>\n",
       "      <td>1</td>\n",
       "      <td>0</td>\n",
       "    </tr>\n",
       "    <tr>\n",
       "      <th>4</th>\n",
       "      <td>49.712859</td>\n",
       "      <td>9.652075</td>\n",
       "      <td>28.317406</td>\n",
       "      <td>40.060784</td>\n",
       "      <td>108.168725</td>\n",
       "      <td>7.918501</td>\n",
       "      <td>1</td>\n",
       "      <td>0</td>\n",
       "    </tr>\n",
       "    <tr>\n",
       "      <th>5</th>\n",
       "      <td>40.250200</td>\n",
       "      <td>13.921907</td>\n",
       "      <td>25.124950</td>\n",
       "      <td>26.328293</td>\n",
       "      <td>130.327871</td>\n",
       "      <td>2.230652</td>\n",
       "      <td>1</td>\n",
       "      <td>0</td>\n",
       "    </tr>\n",
       "    <tr>\n",
       "      <th>6</th>\n",
       "      <td>53.432928</td>\n",
       "      <td>15.864336</td>\n",
       "      <td>37.165934</td>\n",
       "      <td>37.568592</td>\n",
       "      <td>120.567523</td>\n",
       "      <td>5.988551</td>\n",
       "      <td>1</td>\n",
       "      <td>0</td>\n",
       "    </tr>\n",
       "    <tr>\n",
       "      <th>7</th>\n",
       "      <td>45.366754</td>\n",
       "      <td>10.755611</td>\n",
       "      <td>29.038349</td>\n",
       "      <td>34.611142</td>\n",
       "      <td>117.270068</td>\n",
       "      <td>-10.675871</td>\n",
       "      <td>1</td>\n",
       "      <td>0</td>\n",
       "    </tr>\n",
       "    <tr>\n",
       "      <th>8</th>\n",
       "      <td>43.790190</td>\n",
       "      <td>13.533753</td>\n",
       "      <td>42.690814</td>\n",
       "      <td>30.256437</td>\n",
       "      <td>125.002893</td>\n",
       "      <td>13.289018</td>\n",
       "      <td>1</td>\n",
       "      <td>0</td>\n",
       "    </tr>\n",
       "    <tr>\n",
       "      <th>9</th>\n",
       "      <td>36.686353</td>\n",
       "      <td>5.010884</td>\n",
       "      <td>41.948751</td>\n",
       "      <td>31.675469</td>\n",
       "      <td>84.241415</td>\n",
       "      <td>0.664437</td>\n",
       "      <td>1</td>\n",
       "      <td>0</td>\n",
       "    </tr>\n",
       "  </tbody>\n",
       "</table>\n",
       "</div>"
      ],
      "text/plain": [
       "   pelvic_incidence  pelvic_tilt numeric  lumbar_lordosis_angle  sacral_slope  \\\n",
       "0         63.027818            22.552586              39.609117     40.475232   \n",
       "1         39.056951            10.060991              25.015378     28.995960   \n",
       "2         68.832021            22.218482              50.092194     46.613539   \n",
       "3         69.297008            24.652878              44.311238     44.644130   \n",
       "4         49.712859             9.652075              28.317406     40.060784   \n",
       "5         40.250200            13.921907              25.124950     26.328293   \n",
       "6         53.432928            15.864336              37.165934     37.568592   \n",
       "7         45.366754            10.755611              29.038349     34.611142   \n",
       "8         43.790190            13.533753              42.690814     30.256437   \n",
       "9         36.686353             5.010884              41.948751     31.675469   \n",
       "\n",
       "   pelvic_radius  degree_spondylolisthesis  class_Abnormal  class_Normal  \n",
       "0      98.672917                 -0.254400               1             0  \n",
       "1     114.405425                  4.564259               1             0  \n",
       "2     105.985135                 -3.530317               1             0  \n",
       "3     101.868495                 11.211523               1             0  \n",
       "4     108.168725                  7.918501               1             0  \n",
       "5     130.327871                  2.230652               1             0  \n",
       "6     120.567523                  5.988551               1             0  \n",
       "7     117.270068                -10.675871               1             0  \n",
       "8     125.002893                 13.289018               1             0  \n",
       "9      84.241415                  0.664437               1             0  "
      ]
     },
     "execution_count": 22,
     "metadata": {},
     "output_type": "execute_result"
    }
   ],
   "source": [
    "# 加载数据\n",
    "data = pd.read_csv('/home/kesci/input/dataset7402/column_2C_weka.csv')\n",
    "# get_dummies：将拥有不同值的变量转换为0/1数值\n",
    "df = pd.get_dummies(data)\n",
    "df.head(10)"
   ]
  },
  {
   "cell_type": "code",
   "execution_count": 23,
   "metadata": {
    "_cell_guid": "e2541cfc-7d99-45ce-8486-80f7fec79257",
    "_uuid": "032c522e3f423822402c7f75fcfe3818894f68c8",
    "id": "DD2EBDE611E347258546511A9EC5661C",
    "scrolled": false
   },
   "outputs": [
    {
     "data": {
      "text/html": [
       "<div>\n",
       "<style scoped>\n",
       "    .dataframe tbody tr th:only-of-type {\n",
       "        vertical-align: middle;\n",
       "    }\n",
       "\n",
       "    .dataframe tbody tr th {\n",
       "        vertical-align: top;\n",
       "    }\n",
       "\n",
       "    .dataframe thead th {\n",
       "        text-align: right;\n",
       "    }\n",
       "</style>\n",
       "<table border=\"1\" class=\"dataframe\">\n",
       "  <thead>\n",
       "    <tr style=\"text-align: right;\">\n",
       "      <th></th>\n",
       "      <th>pelvic_incidence</th>\n",
       "      <th>pelvic_tilt numeric</th>\n",
       "      <th>lumbar_lordosis_angle</th>\n",
       "      <th>sacral_slope</th>\n",
       "      <th>pelvic_radius</th>\n",
       "      <th>degree_spondylolisthesis</th>\n",
       "      <th>class_Abnormal</th>\n",
       "    </tr>\n",
       "  </thead>\n",
       "  <tbody>\n",
       "    <tr>\n",
       "      <th>0</th>\n",
       "      <td>63.027818</td>\n",
       "      <td>22.552586</td>\n",
       "      <td>39.609117</td>\n",
       "      <td>40.475232</td>\n",
       "      <td>98.672917</td>\n",
       "      <td>-0.254400</td>\n",
       "      <td>1</td>\n",
       "    </tr>\n",
       "    <tr>\n",
       "      <th>1</th>\n",
       "      <td>39.056951</td>\n",
       "      <td>10.060991</td>\n",
       "      <td>25.015378</td>\n",
       "      <td>28.995960</td>\n",
       "      <td>114.405425</td>\n",
       "      <td>4.564259</td>\n",
       "      <td>1</td>\n",
       "    </tr>\n",
       "    <tr>\n",
       "      <th>2</th>\n",
       "      <td>68.832021</td>\n",
       "      <td>22.218482</td>\n",
       "      <td>50.092194</td>\n",
       "      <td>46.613539</td>\n",
       "      <td>105.985135</td>\n",
       "      <td>-3.530317</td>\n",
       "      <td>1</td>\n",
       "    </tr>\n",
       "    <tr>\n",
       "      <th>3</th>\n",
       "      <td>69.297008</td>\n",
       "      <td>24.652878</td>\n",
       "      <td>44.311238</td>\n",
       "      <td>44.644130</td>\n",
       "      <td>101.868495</td>\n",
       "      <td>11.211523</td>\n",
       "      <td>1</td>\n",
       "    </tr>\n",
       "    <tr>\n",
       "      <th>4</th>\n",
       "      <td>49.712859</td>\n",
       "      <td>9.652075</td>\n",
       "      <td>28.317406</td>\n",
       "      <td>40.060784</td>\n",
       "      <td>108.168725</td>\n",
       "      <td>7.918501</td>\n",
       "      <td>1</td>\n",
       "    </tr>\n",
       "    <tr>\n",
       "      <th>5</th>\n",
       "      <td>40.250200</td>\n",
       "      <td>13.921907</td>\n",
       "      <td>25.124950</td>\n",
       "      <td>26.328293</td>\n",
       "      <td>130.327871</td>\n",
       "      <td>2.230652</td>\n",
       "      <td>1</td>\n",
       "    </tr>\n",
       "    <tr>\n",
       "      <th>6</th>\n",
       "      <td>53.432928</td>\n",
       "      <td>15.864336</td>\n",
       "      <td>37.165934</td>\n",
       "      <td>37.568592</td>\n",
       "      <td>120.567523</td>\n",
       "      <td>5.988551</td>\n",
       "      <td>1</td>\n",
       "    </tr>\n",
       "    <tr>\n",
       "      <th>7</th>\n",
       "      <td>45.366754</td>\n",
       "      <td>10.755611</td>\n",
       "      <td>29.038349</td>\n",
       "      <td>34.611142</td>\n",
       "      <td>117.270068</td>\n",
       "      <td>-10.675871</td>\n",
       "      <td>1</td>\n",
       "    </tr>\n",
       "    <tr>\n",
       "      <th>8</th>\n",
       "      <td>43.790190</td>\n",
       "      <td>13.533753</td>\n",
       "      <td>42.690814</td>\n",
       "      <td>30.256437</td>\n",
       "      <td>125.002893</td>\n",
       "      <td>13.289018</td>\n",
       "      <td>1</td>\n",
       "    </tr>\n",
       "    <tr>\n",
       "      <th>9</th>\n",
       "      <td>36.686353</td>\n",
       "      <td>5.010884</td>\n",
       "      <td>41.948751</td>\n",
       "      <td>31.675469</td>\n",
       "      <td>84.241415</td>\n",
       "      <td>0.664437</td>\n",
       "      <td>1</td>\n",
       "    </tr>\n",
       "  </tbody>\n",
       "</table>\n",
       "</div>"
      ],
      "text/plain": [
       "   pelvic_incidence  pelvic_tilt numeric  lumbar_lordosis_angle  sacral_slope  \\\n",
       "0         63.027818            22.552586              39.609117     40.475232   \n",
       "1         39.056951            10.060991              25.015378     28.995960   \n",
       "2         68.832021            22.218482              50.092194     46.613539   \n",
       "3         69.297008            24.652878              44.311238     44.644130   \n",
       "4         49.712859             9.652075              28.317406     40.060784   \n",
       "5         40.250200            13.921907              25.124950     26.328293   \n",
       "6         53.432928            15.864336              37.165934     37.568592   \n",
       "7         45.366754            10.755611              29.038349     34.611142   \n",
       "8         43.790190            13.533753              42.690814     30.256437   \n",
       "9         36.686353             5.010884              41.948751     31.675469   \n",
       "\n",
       "   pelvic_radius  degree_spondylolisthesis  class_Abnormal  \n",
       "0      98.672917                 -0.254400               1  \n",
       "1     114.405425                  4.564259               1  \n",
       "2     105.985135                 -3.530317               1  \n",
       "3     101.868495                 11.211523               1  \n",
       "4     108.168725                  7.918501               1  \n",
       "5     130.327871                  2.230652               1  \n",
       "6     120.567523                  5.988551               1  \n",
       "7     117.270068                -10.675871               1  \n",
       "8     125.002893                 13.289018               1  \n",
       "9      84.241415                  0.664437               1  "
      ]
     },
     "execution_count": 23,
     "metadata": {},
     "output_type": "execute_result"
    }
   ],
   "source": [
    "# 删除其中一个特征\n",
    "df.drop(\"class_Normal\",axis = 1, inplace = True) \n",
    "df.head(10)\n",
    "# 比起两行代码，我们可以简化成一步： pd.get_dummies(data,drop_first = True)"
   ]
  },
  {
   "cell_type": "markdown",
   "metadata": {
    "_cell_guid": "f55c171e-36d4-4873-a0f6-e8ee411d0b64",
    "_uuid": "5465db779fed984dd89ad591889d1dadb88fc056",
    "id": "E86626BAEBA64F658956C7CB1BB167C1",
    "mdEditEnable": false
   },
   "source": [
    " 其他预处理步骤是centering、scaling或normalizing \n",
    "* 在KNN算法中，你会注意到KNN使用距离的形式进行分类。因此，我们需要缩放数据。所以我们使用：\n",
    "    * standardization: ( x - x.mean) / x.variance   或   x - x.min / x.range\n",
    "* pipeline: 管道的目的是封装几个步骤，如svm(分类器)和standardization(预处理)\n",
    "* 如何创建参数名:例如 SVM_ _C: stepName__parameterName\n",
    "* 然后进行网格搜索以找到最佳参数"
   ]
  },
  {
   "cell_type": "code",
   "execution_count": 24,
   "metadata": {
    "_cell_guid": "5d4aef88-f75e-4485-b481-bdeabbc0e4c7",
    "_uuid": "4690eac9c778ba7230fcee5a782a46396aa8c4ef",
    "id": "17095A70BA89453F80D8A91F008A49AE",
    "scrolled": false
   },
   "outputs": [
    {
     "name": "stdout",
     "output_type": "stream",
     "text": [
      "Accuracy: 0.8548387096774194\n",
      "Tuned Model Parameters: {'SVM__C': 100, 'SVM__gamma': 0.01}\n"
     ]
    },
    {
     "name": "stderr",
     "output_type": "stream",
     "text": [
      "/opt/conda/lib/python3.6/site-packages/sklearn/model_selection/_search.py:841: DeprecationWarning: The default of the `iid` parameter will change from True to False in version 0.22 and will be removed in 0.24. This will change numeric results when test-set sizes are unequal.\n",
      "  DeprecationWarning)\n"
     ]
    }
   ],
   "source": [
    "# SVM, pre-process 和 pipeline\n",
    "from sklearn.svm import SVC\n",
    "from sklearn.preprocessing import StandardScaler\n",
    "from sklearn.pipeline import Pipeline\n",
    "steps = [('scalar', StandardScaler()),\n",
    "         ('SVM', SVC())]\n",
    "pipeline = Pipeline(steps)\n",
    "parameters = {'SVM__C':[1, 10, 100],\n",
    "              'SVM__gamma':[0.1, 0.01]}\n",
    "x_train, x_test, y_train, y_test = train_test_split(x,y,test_size=0.2,random_state = 1)\n",
    "cv = GridSearchCV(pipeline,param_grid=parameters,cv=3)\n",
    "cv.fit(x_train,y_train)\n",
    "\n",
    "y_pred = cv.predict(x_test)\n",
    "\n",
    "print(\"Accuracy: {}\".format(cv.score(x_test, y_test)))\n",
    "print(\"Tuned Model Parameters: {}\".format(cv.best_params_))"
   ]
  },
  {
   "cell_type": "markdown",
   "metadata": {
    "_cell_guid": "b343630f-75c8-4362-8cb0-858e71a2f4b0",
    "_uuid": "3a8fede9eadd9bd0438f7cb50c0155491d3f776b",
    "collapsed": true,
    "id": "6305C8C46A7B47E59ED29745DDE98FA0",
    "mdEditEnable": false
   },
   "source": [
    "## 无监督学习\n",
    "* 无监督学习:它使用未标记的数据，并从未标记的数据中发现隐藏的模式。例如，有一些骨科患者的数据没有标签。你不知道哪个骨科病人是 *normal* 还是*abnormal*。\n",
    "* 如你所知，骨科患者的数据是有标记(监督)的数据。它有目标变量。为了进行无监督学习，让我们去掉目标变量，只考虑 *pelvic_radius(盆腔半径)* 和* degree_spondylolisthesis(脊椎前移度)*"
   ]
  },
  {
   "cell_type": "markdown",
   "metadata": {
    "_cell_guid": "e492f7d0-5d05-4717-a149-e046d9435607",
    "_uuid": "f4927a23d072a9416b57f0bd611d71411407a907",
    "id": "BFDE40A35392450D8FE7A9C9F9CB394B",
    "mdEditEnable": false
   },
   "source": [
    "### K-Means\n",
    "\n",
    "聚类算法的详细讲解请参考[链接](https://www.kesci.com/home/project/5c1211db43e8e5002ba02627)。\n",
    "\n",
    "* 让我们尝试第一个非监督方法，即K-Means聚类算法。\n",
    "* K-Means聚类: 该算法根据提供的特性，迭代地将每个数据点分配给K个组中的一个。数据点是基于特征相似性聚类的。\n",
    "* KMeans(n_clusters = 2): n_clusters = 2 表示创建两个簇，即分成两类。"
   ]
  },
  {
   "cell_type": "code",
   "execution_count": 25,
   "metadata": {
    "_cell_guid": "fa3dce86-b3cd-4a8f-b689-e5bc5f2fe551",
    "_uuid": "53175af6bce4acd6f743250c240033db04921ad4",
    "id": "B1033A1FFFE049AE8F42FFD72DD918BB",
    "scrolled": false
   },
   "outputs": [
    {
     "data": {
      "text/html": [
       "<img src=\"https://cdn.kesci.com/rt_upload/B1033A1FFFE049AE8F42FFD72DD918BB/pm11xwstkl.png\">"
      ],
      "text/plain": [
       "<Figure size 432x288 with 1 Axes>"
      ]
     },
     "metadata": {},
     "output_type": "display_data"
    }
   ],
   "source": [
    "# 数据没有lable\n",
    "data = pd.read_csv('/home/kesci/input/dataset7402/column_2C_weka.csv')\n",
    "plt.scatter(data['pelvic_radius'],data['degree_spondylolisthesis'])\n",
    "plt.xlabel('pelvic_radius')\n",
    "plt.ylabel('degree_spondylolisthesis')\n",
    "plt.show()"
   ]
  },
  {
   "cell_type": "code",
   "execution_count": 26,
   "metadata": {
    "_cell_guid": "63a3245d-0056-46a0-ba65-a1f61d84441f",
    "_uuid": "9550966d8637f2d5c61633d597cd3746fb294e7d",
    "id": "42AED10B6B4742E98EE2F34AE5476122",
    "scrolled": false
   },
   "outputs": [
    {
     "data": {
      "text/html": [
       "<img src=\"https://cdn.kesci.com/rt_upload/42AED10B6B4742E98EE2F34AE5476122/pm11xw61rh.png\">"
      ],
      "text/plain": [
       "<Figure size 432x288 with 1 Axes>"
      ]
     },
     "metadata": {},
     "output_type": "display_data"
    }
   ],
   "source": [
    "# K-Means聚类\n",
    "data2 = data.loc[:,['degree_spondylolisthesis','pelvic_radius']]\n",
    "from sklearn.cluster import KMeans\n",
    "kmeans = KMeans(n_clusters = 2)\n",
    "kmeans.fit(data2)\n",
    "labels = kmeans.predict(data2)\n",
    "plt.scatter(data['pelvic_radius'],data['degree_spondylolisthesis'],c = labels)\n",
    "plt.xlabel('pelvic_radius')\n",
    "plt.xlabel('degree_spondylolisthesis')\n",
    "plt.show()"
   ]
  },
  {
   "cell_type": "markdown",
   "metadata": {
    "_cell_guid": "fc405787-c073-4377-a4d8-0dcb83371888",
    "_uuid": "bb760dd8801ea5d0b7d98d1e22f784a9c999b900",
    "id": "ADB19FD17E0D415E87F4E9315997E9DB",
    "mdEditEnable": false
   },
   "source": [
    "### 效果评估\n",
    "我们把数据分成了两组，这个聚类结果是否正确?为了评估聚类结果，我们将使用cross tabulation table（交叉表）。\n",
    "* 有两个簇分别是*0*和*1*\n",
    "* 第一类*0*包括138例异常和100例正常\n",
    "* 第二类*1*包括72例异常，0例正常\n",
    "* 两组患者中多数是异常患者。"
   ]
  },
  {
   "cell_type": "code",
   "execution_count": 27,
   "metadata": {
    "_cell_guid": "df624885-2e0e-474f-82cb-8a498049d8cc",
    "_uuid": "063968754033b4510dcb6f90245a1a9688d4c201",
    "id": "1A4CFC39B40343E885AA2CC9AAA5D8D1",
    "scrolled": false
   },
   "outputs": [
    {
     "name": "stdout",
     "output_type": "stream",
     "text": [
      "class   Abnormal  Normal\n",
      "labels                  \n",
      "0             72       0\n",
      "1            138     100\n"
     ]
    }
   ],
   "source": [
    "# 交叉表\n",
    "df = pd.DataFrame({'labels':labels,\"class\":data['class']})\n",
    "ct = pd.crosstab(df['labels'],df['class'])\n",
    "print(ct)"
   ]
  },
  {
   "cell_type": "markdown",
   "metadata": {
    "_cell_guid": "f5c33609-4573-443a-82c5-5dfe9852c582",
    "_uuid": "03df9051e892dc064c706619e796b5c9128c0a68",
    "id": "9316F6F4675048FBB1218FDCC3F27BB5",
    "mdEditEnable": false
   },
   "source": [
    "在上文使用的数据中，我们是知道数据分为两类的。但是在无监督问题中，类属性或者明确的类成员划分是不存在的。\n",
    "那么就出现了新的问题，在不知道类的数量时，怎样才能知道簇的最有数目是多少？\n",
    "* inertia: float型，每个点到其簇的质心的距离之和。\n",
    "* inertia越低意味着簇越多\n",
    "* 簇的最佳数量是多少?\n",
    "    * 随着簇个数的增加，样本划分会更加精细，每个簇的聚合程度会逐渐提高，inertia自然越来越小。而当到达最佳聚类数时，再增加簇的个数所得到的聚合程度回报会迅速变小，所以inertia的下降幅度会骤减，然后随着簇个数的继续增大而趋于平缓，也就是说簇的个数和inertia的关系图是一个手肘的形状，而这个肘部对应的簇的个数就是数据的最佳聚类数。\n",
    "\t\t* 在下图中可以看出肘部值是簇数=2。"
   ]
  },
  {
   "cell_type": "code",
   "execution_count": 28,
   "metadata": {
    "_cell_guid": "710c918b-481b-4f32-94f6-adecd992a97e",
    "_uuid": "6c7e94ea35a4f535857aa2551ed646ff8c28c1ac",
    "id": "7CBD7AECCF3C4B73AAD2F63E305A6E22",
    "scrolled": false
   },
   "outputs": [
    {
     "data": {
      "text/html": [
       "<img src=\"https://cdn.kesci.com/rt_upload/7CBD7AECCF3C4B73AAD2F63E305A6E22/pm11xwz95w.png\">"
      ],
      "text/plain": [
       "<Figure size 432x288 with 1 Axes>"
      ]
     },
     "metadata": {},
     "output_type": "display_data"
    }
   ],
   "source": [
    "# inertia\n",
    "inertia_list = np.empty(8)\n",
    "for i in range(1,8):\n",
    "    kmeans = KMeans(n_clusters=i)\n",
    "    kmeans.fit(data2)\n",
    "    inertia_list[i] = kmeans.inertia_\n",
    "plt.plot(range(0,8),inertia_list,'-o')\n",
    "plt.xlabel('Number of cluster')\n",
    "plt.ylabel('Inertia')\n",
    "plt.show()"
   ]
  },
  {
   "cell_type": "markdown",
   "metadata": {
    "_cell_guid": "6449fdb8-7e0b-4432-9ea3-6d866d899704",
    "_uuid": "06031b6c13b5f700bb2e3d53081d990f66c5e11b",
    "id": "C83152CA5398491A96EDF6757D3FADE8",
    "mdEditEnable": false
   },
   "source": [
    "### 标准化\n",
    "* Standardizaton标准化（标准化）对监督学习和无监督学习都很重要\n",
    "* 不要忘记Standardizaton是预处理过程。\n",
    "* 我们已经有了可视化的数据，你已经知道了结果。现在我们可以使所有特征进行聚类。\n",
    "* 我们可以像监督学习一样使用 pipeline 。"
   ]
  },
  {
   "cell_type": "code",
   "execution_count": 29,
   "metadata": {
    "_cell_guid": "0ae27970-8319-45a7-ba7c-a8dd9d9b427e",
    "_uuid": "97a7e3a3fa1722970ff34935470be85f2ec7977b",
    "id": "81E1CBFC02514DD38C3054621FB30ABE",
    "scrolled": false
   },
   "outputs": [],
   "source": [
    "data = pd.read_csv('/home/kesci/input/dataset7402/column_2C_weka.csv')\n",
    "data3 = data.drop('class',axis = 1)"
   ]
  },
  {
   "cell_type": "code",
   "execution_count": 30,
   "metadata": {
    "_cell_guid": "65a46d3b-45b5-4bcd-8137-bdd5b6507ab0",
    "_uuid": "6883975e95325db10ebed6703c372cbe4da29a48",
    "id": "5633D630DA844ACD9E309B7450552C93",
    "scrolled": false
   },
   "outputs": [
    {
     "name": "stdout",
     "output_type": "stream",
     "text": [
      "class   Abnormal  Normal\n",
      "labels                  \n",
      "0             94      90\n",
      "1            116      10\n"
     ]
    }
   ],
   "source": [
    "# StandardScaler：相当于（原始数值-均值）/标准差，使各特征的均值为0，方差为1\n",
    "from sklearn.preprocessing import StandardScaler\n",
    "from sklearn.pipeline import make_pipeline\n",
    "scalar = StandardScaler()\n",
    "kmeans = KMeans(n_clusters = 2)\n",
    "pipe = make_pipeline(scalar,kmeans)\n",
    "pipe.fit(data3)\n",
    "labels = pipe.predict(data3)\n",
    "df = pd.DataFrame({'labels':labels,\"class\":data['class']})\n",
    "ct = pd.crosstab(df['labels'],df['class'])\n",
    "print(ct)"
   ]
  },
  {
   "cell_type": "markdown",
   "metadata": {
    "_cell_guid": "1a31b9e4-f152-4da1-a132-a6e3a8090401",
    "_uuid": "a602f3d3d47f3bcc8b62bf0ed3114a3ca4760a03",
    "id": "212F411DCA774BD696F99B8BA9EB759D",
    "mdEditEnable": false
   },
   "source": [
    "### 层次聚类\n",
    "\n",
    "层次聚类(Hierarchical Clustering)是一种聚类算法，通过计算不同类别数据点间的相似度来创建一棵有层次的嵌套聚类树。在聚类树中，不同类别的原始数据点是树的最低层，树的顶层是一个聚类的根节点。\n",
    "\n",
    "* [层次聚类算法的原理及实现](http://bluewhale.cc/2016-04-19/hierarchical-clustering.html#ixzz58ZXsykA1)\n"
   ]
  },
  {
   "cell_type": "code",
   "execution_count": 31,
   "metadata": {
    "_cell_guid": "f04ec5bb-9f74-4036-9dfd-2649a3519d79",
    "_uuid": "a2dc27b105fc443f442b9605237f45ba69d1e1f1",
    "id": "9F3FAB12D27841BD8DBF60119E089970",
    "scrolled": false
   },
   "outputs": [
    {
     "data": {
      "text/html": [
       "<img src=\"https://cdn.kesci.com/rt_upload/9F3FAB12D27841BD8DBF60119E089970/pm11xx5igs.png\">"
      ],
      "text/plain": [
       "<Figure size 432x288 with 1 Axes>"
      ]
     },
     "metadata": {},
     "output_type": "display_data"
    }
   ],
   "source": [
    "from scipy.cluster.hierarchy import linkage,dendrogram\n",
    "# 使用linkage函数对samples进行层次聚类\n",
    "merg = linkage(data3.iloc[200:220,:],method = 'single')\n",
    "# 使用dendrogram函数绘制树形图\n",
    "dendrogram(merg, leaf_rotation = 90, leaf_font_size = 6)\n",
    "plt.show()"
   ]
  },
  {
   "cell_type": "markdown",
   "metadata": {
    "_cell_guid": "15b4f98e-0c9e-49de-b69f-f583524c19ac",
    "_uuid": "4166039422a3ed14b4ac779da29401378dfb4dc2",
    "id": "BC4BD612D63D4FA99874E6F7DEA3A88A",
    "mdEditEnable": false
   },
   "source": [
    "### T - SNE\n",
    " * t-SNE 算法是一种十分强大的高维数据降维方法\n",
    " * learning_rate:正常是50-200\n",
    " * fit_transform: 即可以 fit 也可以 transform ， t-sne 只有 fit_transform\n",
    " * 具有相同位置的是同一类\n",
    " \n",
    " [详解可视化利器 t-SNE 算法：数无形时少直觉](http://https://www.jiqizhixin.com/articles/2017-11-13-7)"
   ]
  },
  {
   "cell_type": "code",
   "execution_count": 32,
   "metadata": {
    "_cell_guid": "b4ddf817-57ec-45eb-aa03-1ad385cd4f2e",
    "_uuid": "311a16a96b2ef3e9ca3f8e91db48f28837577291",
    "id": "D6A26B51FFA742BF9AFDB7CC8F5582D3",
    "scrolled": false
   },
   "outputs": [
    {
     "data": {
      "text/html": [
       "<img src=\"https://cdn.kesci.com/rt_upload/D6A26B51FFA742BF9AFDB7CC8F5582D3/pm11xy6el2.png\">"
      ],
      "text/plain": [
       "<Figure size 432x288 with 1 Axes>"
      ]
     },
     "metadata": {},
     "output_type": "display_data"
    }
   ],
   "source": [
    "from sklearn.manifold import TSNE\n",
    "model = TSNE(learning_rate=100)\n",
    "transformed = model.fit_transform(data2)\n",
    "x = transformed[:,0]\n",
    "y = transformed[:,1]\n",
    "plt.scatter(x,y,c = color_list )\n",
    "plt.xlabel('pelvic_radius')\n",
    "plt.xlabel('degree_spondylolisthesis')\n",
    "plt.show()"
   ]
  },
  {
   "cell_type": "markdown",
   "metadata": {
    "_cell_guid": "00555f09-d381-494e-8bb9-7afb768d912a",
    "_uuid": "71d32fd64448612635a015c3a4e41871bddc337d",
    "id": "A264BB6275484FC0904F4FF65DBEC0C9",
    "mdEditEnable": false
   },
   "source": [
    "### PCA\n",
    "* 常用降维方法\n",
    "* 第一步是去相关:\n",
    "    * 旋转要与轴对齐的数据样本\n",
    "    * 平移数据样本，使其均值为零\n",
    "    * 没有信息丢失\n",
    "    * fit():学习如何移动样本\n",
    "    * transform():应用所学的转换，还可以应用测试数据\n",
    "* 得到的PCA特征不是线性相关的\n",
    "* 主成分:方差方向"
   ]
  },
  {
   "cell_type": "code",
   "execution_count": 33,
   "metadata": {
    "_cell_guid": "93b827bf-616e-436f-a514-86fafbf44512",
    "_uuid": "04e33157c4c218d873892090649b169babfd03a8",
    "id": "309FD70BAD324C538180D9AF0CAFE726",
    "scrolled": false
   },
   "outputs": [
    {
     "name": "stdout",
     "output_type": "stream",
     "text": [
      "Principle components:  [[ 3.23645647e-01  1.13192291e-01  3.03674740e-01  2.10453357e-01\n",
      "  -2.99598300e-02  8.63153779e-01]\n",
      " [-4.76634849e-01 -9.85632787e-02 -5.32783979e-01 -3.78071570e-01\n",
      "   3.21809199e-01  4.82438036e-01]\n",
      " [-1.54481282e-03 -2.64657410e-01 -4.96541893e-01  2.63112598e-01\n",
      "  -7.74612852e-01  1.18940778e-01]\n",
      " [ 3.73677251e-01  7.54113757e-01 -3.39411757e-01 -3.80436506e-01\n",
      "  -1.75106042e-01 -3.29143086e-02]\n",
      " [-4.41703869e-01  7.35414748e-02  5.12024113e-01 -5.15245344e-01\n",
      "  -5.14639730e-01  8.35992525e-02]\n",
      " [ 5.77350269e-01 -5.77350269e-01 -1.08930072e-11 -5.77350269e-01\n",
      "  -3.59059872e-12  3.06729795e-12]]\n"
     ]
    }
   ],
   "source": [
    "# PCA\n",
    "from sklearn.decomposition import PCA\n",
    "model = PCA()\n",
    "model.fit(data3)\n",
    "transformed = model.transform(data3)\n",
    "print('Principle components: ',model.components_)"
   ]
  },
  {
   "cell_type": "code",
   "execution_count": 34,
   "metadata": {
    "_cell_guid": "fc2fdc3e-a5f6-4d67-979e-b9e9cd2e7198",
    "_uuid": "409100f13e8c3e7bea30dab77ad7ea56e2e338e8",
    "id": "AE370D28B74341C98AA3112E412CC3B4",
    "scrolled": false
   },
   "outputs": [
    {
     "data": {
      "text/html": [
       "<img src=\"https://cdn.kesci.com/rt_upload/AE370D28B74341C98AA3112E412CC3B4/pm11xyzc1p.png\">"
      ],
      "text/plain": [
       "<Figure size 432x288 with 1 Axes>"
      ]
     },
     "metadata": {},
     "output_type": "display_data"
    }
   ],
   "source": [
    "# PCA方差\n",
    "scaler = StandardScaler()\n",
    "pca = PCA()\n",
    "pipeline = make_pipeline(scaler,pca)\n",
    "pipeline.fit(data3)\n",
    "\n",
    "plt.bar(range(pca.n_components_), pca.explained_variance_)\n",
    "plt.xlabel('PCA feature')\n",
    "plt.ylabel('variance')\n",
    "plt.show()"
   ]
  },
  {
   "cell_type": "markdown",
   "metadata": {
    "_cell_guid": "3b6f44f2-0add-4f82-a965-859215a9fea9",
    "_uuid": "ec0ad8f2341933207e26f9eaced8a45e16f2bacf",
    "id": "6E18F2EA4F2A4D898F666F89F03A7105",
    "mdEditEnable": false
   },
   "source": [
    "* 第二步: 固有维数（intrinsic dimension）\n",
    "* 当样本具有任意数量的特征时，PAC可以识别出样本的固有维数\n",
    "* 固有维数=方差显著的PAC特征个数\n",
    "* 为了选择固有维数，我们需要试遍所有维数，找出最准确的维数\n",
    "* 这个例子验证了PAC的直观方法: https://www.kaggle.com/kanncaa1/tutorial-pca-intuition-and-image-completion"
   ]
  },
  {
   "cell_type": "code",
   "execution_count": 35,
   "metadata": {
    "_cell_guid": "fa5ec66c-2338-4298-a6f8-364a0703ca1f",
    "_uuid": "0f1768fd650fe0b85cdf21140c877471c8baf2bc",
    "id": "E8AB90813EDB4EC080A14C1B0AE6B32C",
    "scrolled": false
   },
   "outputs": [
    {
     "data": {
      "text/html": [
       "<img src=\"https://cdn.kesci.com/rt_upload/E8AB90813EDB4EC080A14C1B0AE6B32C/pm11xzk11h.png\">"
      ],
      "text/plain": [
       "<Figure size 432x288 with 1 Axes>"
      ]
     },
     "metadata": {},
     "output_type": "display_data"
    }
   ],
   "source": [
    "# PCA\n",
    "pca = PCA(n_components = 2)\n",
    "pca.fit(data3)\n",
    "transformed = pca.transform(data3)\n",
    "x = transformed[:,0]\n",
    "y = transformed[:,1]\n",
    "plt.scatter(x,y,c = color_list)\n",
    "plt.show()"
   ]
  },
  {
   "cell_type": "markdown",
   "metadata": {
    "_cell_guid": "41762172-8d1f-47ef-b8ab-79fb3a2b0a19",
    "_uuid": "2c1a42c1de45ce53e04761b4b6c05840fddaee95",
    "id": "E9C92D7D3ED6431D840CB87419956203",
    "mdEditEnable": false
   },
   "source": [
    "# 后记\n",
    "本文基于kaggle的入门教程Machine Learning Tutorial for Beginners进行汇编和改写。 由于笔者水平较为初级，本文尚存不足之处，欢迎各位读者通过评论区或私信提出改进意见。\n",
    "\n",
    "参考资料：\n",
    "\n",
    "* https://www.kaggle.com/kanncaa1/data-sciencetutorial-for-beginners\n",
    "* http://www.runoob.com/python/python-built-in-functions.html\n",
    "* 《机器学习》-周志华"
   ]
  }
 ],
 "metadata": {
  "kernelspec": {
   "display_name": "Python 3",
   "language": "python",
   "name": "python3"
  },
  "language_info": {
   "codemirror_mode": {
    "name": "ipython",
    "version": 3
   },
   "file_extension": ".py",
   "mimetype": "text/x-python",
   "name": "python",
   "nbconvert_exporter": "python",
   "pygments_lexer": "ipython3",
   "version": "3.6.8"
  },
  "varInspector": {
   "cols": {
    "lenName": 16,
    "lenType": 16,
    "lenVar": 40
   },
   "kernels_config": {
    "python": {
     "delete_cmd_postfix": "",
     "delete_cmd_prefix": "del ",
     "library": "var_list.py",
     "varRefreshCmd": "print(var_dic_list())"
    },
    "r": {
     "delete_cmd_postfix": ") ",
     "delete_cmd_prefix": "rm(",
     "library": "var_list.r",
     "varRefreshCmd": "cat(var_dic_list()) "
    }
   },
   "types_to_exclude": [
    "module",
    "function",
    "builtin_function_or_method",
    "instance",
    "_Feature"
   ],
   "window_display": false
  }
 },
 "nbformat": 4,
 "nbformat_minor": 1
}
