{
 "cells": [
  {
   "cell_type": "code",
   "execution_count": 2,
   "metadata": {},
   "outputs": [
    {
     "ename": "SyntaxError",
     "evalue": "invalid syntax (<ipython-input-2-02924c8b232d>, line 30)",
     "output_type": "error",
     "traceback": [
      "\u001b[0;36m  File \u001b[0;32m\"<ipython-input-2-02924c8b232d>\"\u001b[0;36m, line \u001b[0;32m30\u001b[0m\n\u001b[0;31m    print 'iter:  ' + str(k) + \"\\t\",\u001b[0m\n\u001b[0m                  ^\u001b[0m\n\u001b[0;31mSyntaxError\u001b[0m\u001b[0;31m:\u001b[0m invalid syntax\n"
     ]
    }
   ],
   "source": [
    "#-*-coding:utf-8-*-\n",
    "'''\n",
    "Created on 2016年6月16日\n",
    "@author: Gamer Think\n",
    "'''\n",
    "\n",
    "'''\n",
    "G：二分图   alpha:随机游走的概率   root：游走的初始节点     max_step；最大走动步数\n",
    "'''\n",
    "def PersonalRank(G, alpha, root, max_step):\n",
    "    rank = dict()  \n",
    "    rank = {x:0 for x in G.keys()}\n",
    "    rank[root] = 1  \n",
    "    #开始迭代  \n",
    "    for k in range(max_step):  \n",
    "        tmp = {x:0 for x in G.keys()}  \n",
    "        #取节点i和它的出边尾节点集合ri  \n",
    "        for i, ri in G.items():  #i是顶点。ri是与其相连的顶点极其边的权重\n",
    "            #取节点i的出边的尾节点j以及边E(i,j)的权重wij, 边的权重都为1，在这不起实际作用  \n",
    "            for j, wij in ri.items():   #j是i的连接顶点，wij是权重\n",
    "                #i是j的其中一条入边的首节点，因此需要遍历图找到j的入边的首节点，  \n",
    "                #这个遍历过程就是此处的2层for循环，一次遍历就是一次游走  \n",
    "                tmp[j] += alpha * rank[i] / (1.0 * len(ri))  \n",
    "        #我们每次游走都是从root节点出发，因此root节点的权重需要加上(1 - alpha)  \n",
    "        #在《推荐系统实践》上，作者把这一句放在for j, wij in ri.items()这个循环下，我认为是有问题。  \n",
    "        tmp[root] += (1 - alpha)  \n",
    "        rank = tmp  \n",
    "  \n",
    "        #输出每次迭代后各个节点的权重  \n",
    "        print('iter:  ' + str(k) + \"\\t\")  \n",
    "        for key, value in rank.items():  \n",
    "            print(\"%s:%.3f, \\t\"%(key, value))  \n",
    "        print  \n",
    "  \n",
    "    return rank  \n",
    "  \n",
    "\n",
    "'''\n",
    "主函数，G表示二分图，‘A’表示节点，后边对应的字典的key是连接的顶点，value表示边的权重\n",
    "'''\n",
    "if __name__ == '__main__':\n",
    "    G = {'A' : {'a' : 1, 'c' : 1},  \n",
    "         'B' : {'a' : 1, 'b' : 1, 'c':1, 'd':1},  \n",
    "         'C' : {'c' : 1, 'd' : 1},  \n",
    "         'a' : {'A' : 1, 'B' : 1},  \n",
    "         'b' : {'B' : 1},  \n",
    "         'c' : {'A' : 1, 'B' : 1, 'C':1},  \n",
    "         'd' : {'B' : 1, 'C' : 1}}  \n",
    "  \n",
    "    PersonalRank(G, 0.85, 'A', 100)  "
   ]
  },
  {
   "cell_type": "code",
   "execution_count": null,
   "metadata": {},
   "outputs": [],
   "source": []
  }
 ],
 "metadata": {
  "kernelspec": {
   "display_name": "Python 3",
   "language": "python",
   "name": "python3"
  },
  "language_info": {
   "codemirror_mode": {
    "name": "ipython",
    "version": 3
   },
   "file_extension": ".py",
   "mimetype": "text/x-python",
   "name": "python",
   "nbconvert_exporter": "python",
   "pygments_lexer": "ipython3",
   "version": "3.6.8"
  }
 },
 "nbformat": 4,
 "nbformat_minor": 2
}
