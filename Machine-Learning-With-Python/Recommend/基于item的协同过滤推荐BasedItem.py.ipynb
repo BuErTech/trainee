{
 "cells": [
  {
   "cell_type": "code",
   "execution_count": 6,
   "metadata": {},
   "outputs": [
    {
     "name": "stdout",
     "output_type": "stream",
     "text": [
      "1254588\t12.833112463864879\n",
      "1119522\t11.81651002922847\n",
      "3131626\t11.34269062173854\n",
      "1085799\t8.203142976157213\n",
      "1080309\t8.181614384131635\n",
      "1040104\t7.92927319994814\n",
      "1082138\t7.724094115315923\n",
      "26669243\t6.969721285190005\n",
      "26384985\t6.36064881658183\n",
      "26305561\t6.248165542160276\n"
     ]
    }
   ],
   "source": [
    "#!/usr/bin/env python\n",
    "#-*-coding:utf-8-*-\n",
    "'''\n",
    "Created on 2016-5-30\n",
    "\n",
    "@author: thinkgamer\n",
    "'''\n",
    "import math\n",
    "\n",
    "class ItemBasedCF:\n",
    "    def __init__(self,train_file):\n",
    "        self.train_file = train_file\n",
    "        self.readData()\n",
    "    def readData(self):\n",
    "        #读取文件，并生成用户-物品的评分表和测试集\n",
    "        self.train = dict()     #用户-物品的评分表\n",
    "        for line in open(self.train_file):\n",
    "            # user,item,score = line.strip().split(\",\")\n",
    "            user,score,item = line.strip().split(\",\")\n",
    "            self.train.setdefault(user,{})\n",
    "            self.train[user][item] = int(float(score))\n",
    "\n",
    "    def ItemSimilarity(self):\n",
    "        #建立物品-物品的共现矩阵\n",
    "        C = dict()  #物品-物品的共现矩阵\n",
    "        N = dict()  #物品被多少个不同用户购买\n",
    "        for user,items in self.train.items():\n",
    "            for i in items.keys():\n",
    "                N.setdefault(i,0)\n",
    "                N[i] += 1\n",
    "                C.setdefault(i,{})\n",
    "                for j in items.keys():\n",
    "                    if i == j : continue\n",
    "                    C[i].setdefault(j,0)\n",
    "                    C[i][j] += 1\n",
    "        #计算相似度矩阵\n",
    "        self.W = dict()\n",
    "        for i,related_items in C.items():\n",
    "            self.W.setdefault(i,{})\n",
    "            for j,cij in related_items.items():\n",
    "                self.W[i][j] = cij / (math.sqrt(N[i] * N[j]))\n",
    "        return self.W\n",
    "\n",
    "    #给用户user推荐，前K个相关用户\n",
    "    def Recommend(self,user,K=3,N=10):\n",
    "        rank = dict()\n",
    "        action_item = self.train[user]     #用户user产生过行为的item和评分\n",
    "        for item,score in action_item.items():\n",
    "            for j,wj in sorted(self.W[item].items(),key=lambda x:x[1],reverse=True)[0:K]:\n",
    "                if j in action_item.keys():\n",
    "                    continue\n",
    "                rank.setdefault(j,0)\n",
    "                rank[j] += score * wj\n",
    "        return dict(sorted(rank.items(),key=lambda x:x[1],reverse=True)[0:N])\n",
    "    \n",
    "#声明一个ItemBased推荐的对象    \n",
    "Item = ItemBasedCF(\"uid_score_bid.dat\")\n",
    "Item.ItemSimilarity()\n",
    "recommedDic = Item.Recommend(\"xiyuweilan\")\n",
    "for k,v in recommedDic.items():\n",
    "    print(k,end='\\t') \n",
    "    print(v)"
   ]
  },
  {
   "cell_type": "code",
   "execution_count": null,
   "metadata": {},
   "outputs": [],
   "source": []
  }
 ],
 "metadata": {
  "kernelspec": {
   "display_name": "Python 3",
   "language": "python",
   "name": "python3"
  },
  "language_info": {
   "codemirror_mode": {
    "name": "ipython",
    "version": 3
   },
   "file_extension": ".py",
   "mimetype": "text/x-python",
   "name": "python",
   "nbconvert_exporter": "python",
   "pygments_lexer": "ipython3",
   "version": "3.6.8"
  }
 },
 "nbformat": 4,
 "nbformat_minor": 2
}
