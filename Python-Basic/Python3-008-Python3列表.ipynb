{
 "cells": [
  {
   "cell_type": "markdown",
   "metadata": {},
   "source": [
    "# Python3 列表\n",
    "\n",
    "序列是Python中最基本的数据结构。序列中的每个元素都分配一个数字 - 它的位置，或索引，第一个索引是0，第二个索引是1，依此类推。\n",
    "\n",
    "Python有6个序列的内置类型，但最常见的是列表和元组。\n",
    "\n",
    "序列都可以进行的操作包括索引，切片，加，乘，检查成员。\n",
    "\n",
    "此外，Python已经内置确定序列的长度以及确定最大和最小的元素的方法。\n",
    "\n",
    "列表是最常用的Python数据类型，它可以作为一个方括号内的逗号分隔值出现。\n",
    "\n",
    "列表的数据项不需要具有相同的类型\n",
    "\n",
    "创建一个列表，只要把逗号分隔的不同的数据项使用方括号括起来即可。如下所示："
   ]
  },
  {
   "cell_type": "code",
   "execution_count": 1,
   "metadata": {},
   "outputs": [],
   "source": [
    "list1 = ['Google', 'Runoob', 1997, 2000];\n",
    "list2 = [1, 2, 3, 4, 5 ];\n",
    "list3 = [\"a\", \"b\", \"c\", \"d\"];"
   ]
  },
  {
   "cell_type": "markdown",
   "metadata": {},
   "source": [
    "与字符串的索引一样，列表索引从0开始。列表可以进行截取、组合等。"
   ]
  },
  {
   "cell_type": "markdown",
   "metadata": {},
   "source": [
    "## 访问列表中的值\n",
    "\n",
    "使用下标索引来访问列表中的值，同样你也可以使用方括号的形式截取字符，如下所示："
   ]
  },
  {
   "cell_type": "code",
   "execution_count": 3,
   "metadata": {},
   "outputs": [
    {
     "name": "stdout",
     "output_type": "stream",
     "text": [
      "list1[0]:  Google\n",
      "list2[1:5]:  [2, 3, 4, 5]\n"
     ]
    }
   ],
   "source": [
    "#!/usr/bin/python3\n",
    " \n",
    "list1 = ['Google', 'Runoob', 1997, 2000];\n",
    "list2 = [1, 2, 3, 4, 5, 6, 7 ];\n",
    " \n",
    "print (\"list1[0]: \", list1[0])\n",
    "print (\"list2[1:5]: \", list2[1:5])"
   ]
  },
  {
   "cell_type": "markdown",
   "metadata": {},
   "source": [
    "## 更新列表\n",
    "你可以对列表的数据项进行修改或更新，你也可以使用append()方法来添加列表项，如下所示："
   ]
  },
  {
   "cell_type": "code",
   "execution_count": 5,
   "metadata": {},
   "outputs": [
    {
     "name": "stdout",
     "output_type": "stream",
     "text": [
      "第三个元素为 :  1997\n",
      "更新后的第三个元素为 :  2001\n"
     ]
    }
   ],
   "source": [
    "#!/usr/bin/python3\n",
    " \n",
    "list = ['Google', 'Runoob', 1997, 2000]\n",
    " \n",
    "print (\"第三个元素为 : \", list[2])\n",
    "list[2] = 2001\n",
    "print (\"更新后的第三个元素为 : \", list[2])"
   ]
  },
  {
   "cell_type": "markdown",
   "metadata": {},
   "source": [
    "## 删除列表元素\n",
    "\n",
    "可以使用 del 语句来删除列表的的元素，如下实例："
   ]
  },
  {
   "cell_type": "code",
   "execution_count": 6,
   "metadata": {},
   "outputs": [
    {
     "name": "stdout",
     "output_type": "stream",
     "text": [
      "原始列表 :  ['Google', 'Runoob', 1997, 2000]\n",
      "删除第三个元素 :  ['Google', 'Runoob', 2000]\n"
     ]
    }
   ],
   "source": [
    "#!/usr/bin/python3\n",
    " \n",
    "list = ['Google', 'Runoob', 1997, 2000]\n",
    " \n",
    "print (\"原始列表 : \", list)\n",
    "del list[2]\n",
    "print (\"删除第三个元素 : \", list)"
   ]
  },
  {
   "cell_type": "markdown",
   "metadata": {},
   "source": [
    "## Python列表脚本操作符\n",
    "\n",
    "列表对 + 和  * 的操作符与字符串相似。+ 号用于组合列表，* 号用于重复列表。\n",
    "\n",
    "如下所示：\n",
    "\n",
    "Python 表达式                            | 结果                          |   描述       \n",
    "------------------------------------- | ---------------------------- | ----------\n",
    "len([1, 2, 3])                        | 3                            | 长度        \n",
    "[1, 2, 3] + [4, 5, 6]                 | [1, 2, 3, 4, 5, 6]           | 组合        \n",
    "['Hi!'] * 4                           | ['Hi!', 'Hi!', 'Hi!', 'Hi!'] | 重复        \n",
    "3 in [1, 2, 3]                        | True                         | 元素是否存在于列表中\n",
    "for x in [1, 2, 3]: print(x, end=\" \") | 1 2 3                        | 迭代        \n",
    "\n",
    "---\n",
    "\n",
    "## Python列表截取与拼接\n",
    "\n",
    "Python的列表截取与字符串操作类型，如下所示：\n",
    "\n",
    "L=['Google', 'Runoob', 'Taobao']\n",
    "\n",
    "操作：\n",
    "\n",
    "Python 表达式 | 结果                  |   描述                                 \n",
    "---------- | -------------------- | ------------------------------------\n",
    "L[2]       | 'Taobao'             | 读取第三个元素                             \n",
    "L[-2]      | 'Runoob'             | 从右侧开始读取倒数第二个元素: count from the right\n",
    "L[1:]      | ['Runoob', 'Taobao'] | 输出从第二个元素开始后的所有元素                    "
   ]
  },
  {
   "cell_type": "markdown",
   "metadata": {},
   "source": [
    "```python\n",
    "\n",
    ">>>L=['Google', 'Runoob', 'Taobao']\n",
    ">>> L[2]\n",
    "'Taobao'\n",
    ">>> L[-2]\n",
    "'Runoob'\n",
    ">>> L[1:]\n",
    "['Runoob', 'Taobao']\n",
    ">>>\n",
    "\n",
    "```\n",
    "\n",
    "列表还支持拼接操作：\n",
    "\n",
    "```python\n",
    "\n",
    ">>>squares = [1, 4, 9, 16, 25]\n",
    ">>> squares += [36, 49, 64, 81, 100]\n",
    ">>> squares\n",
    "[1, 4, 9, 16, 25, 36, 49, 64, 81, 100]\n",
    ">>>\n",
    "\n",
    "```"
   ]
  },
  {
   "cell_type": "markdown",
   "metadata": {},
   "source": [
    "## 嵌套列表\n",
    "\n",
    "使用嵌套列表即在列表里创建其它列表，例如：\n",
    "\n",
    "```python\n",
    "\n",
    ">>>a = ['a', 'b', 'c']\n",
    ">>> n = [1, 2, 3]\n",
    ">>> x = [a, n]\n",
    ">>> x\n",
    "[['a', 'b', 'c'], [1, 2, 3]]\n",
    ">>> x[0]\n",
    "['a', 'b', 'c']\n",
    ">>> x[0][1]\n",
    "'b'\n",
    "\n",
    "```"
   ]
  },
  {
   "cell_type": "markdown",
   "metadata": {},
   "source": [
    "## Python列表函数&方法\n",
    "\n",
    "Python包含以下函数:\n",
    "\n",
    "序号 | 函数                                                                              \n",
    "-- | --------------------------------------------------------------------------------\n",
    "1  | [len(list)](http://www.runoob.com/python3/python3-att-list-len.html)  列表元素个数   \n",
    "2  | [max(list)](http://www.runoob.com/python3/python3-att-list-max.html)  返回列表元素最大值\n",
    "3  | [min(list)](http://www.runoob.com/python3/python3-att-list-min.html)  返回列表元素最小值\n",
    "4  | [list(seq)](http://www.runoob.com/python3/python3-att-list-list.html)  将元组转换为列表\n",
    "\n",
    "\n",
    "\n",
    "Python包含以下方法:\n",
    "\n",
    "序号 | 方法                                                                                                                  \n",
    "-- | --------------------------------------------------------------------------------------------------------------------\n",
    "1  | [list.append(obj)](http://www.runoob.com/python3/python3-att-list-append.html)  在列表末尾添加新的对象                        \n",
    "2  | [list.count(obj)](http://www.runoob.com/python3/python3-att-list-count.html)  统计某个元素在列表中出现的次数                      \n",
    "3  | [list.extend(seq)](http://www.runoob.com/python3/python3-att-list-extend.html)  在列表末尾一次性追加另一个序列中的多个值（用新列表扩展原来的列表）  \n",
    "4  | [list.index(obj)](http://www.runoob.com/python3/python3-att-list-index.html)  从列表中找出某个值第一个匹配项的索引位置                 \n",
    "5  | [list.insert(index, obj)](http://www.runoob.com/python3/python3-att-list-insert.html)  将对象插入列表                     \n",
    "6  | [list.pop([index=-1])](http://www.runoob.com/python3/python3-att-list-pop.html)  移除列表中的一个元素（默认最后一个元素），并且返回该元素的值    \n",
    "7  | [list.remove(obj)](http://www.runoob.com/python3/python3-att-list-remove.html)  移除列表中某个值的第一个匹配项                    \n",
    "8  | [list.reverse()](http://www.runoob.com/python3/python3-att-list-reverse.html)  反向列表中元素                             \n",
    "9  | [\tlist.sort(cmp=None, key=None, reverse=False)](http://www.runoob.com/python3/python3-att-list-sort.html)  对原列表进行排序\n",
    "10 | [list.clear()](http://www.runoob.com/python3/python3-att-list-clear.html)  清空列表                                    \n",
    "11 | [list.copy()](http://www.runoob.com/python3/python3-att-list-copy.html)  复制列表                                      "
   ]
  },
  {
   "cell_type": "code",
   "execution_count": null,
   "metadata": {},
   "outputs": [],
   "source": []
  }
 ],
 "metadata": {
  "kernelspec": {
   "display_name": "Python 3",
   "language": "python",
   "name": "python3"
  },
  "language_info": {
   "codemirror_mode": {
    "name": "ipython",
    "version": 3
   },
   "file_extension": ".py",
   "mimetype": "text/x-python",
   "name": "python",
   "nbconvert_exporter": "python",
   "pygments_lexer": "ipython3",
   "version": "3.7.0"
  }
 },
 "nbformat": 4,
 "nbformat_minor": 2
}
