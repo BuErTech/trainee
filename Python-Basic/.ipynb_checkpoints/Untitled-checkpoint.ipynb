{
 "cells": [
  {
   "cell_type": "code",
   "execution_count": null,
   "metadata": {},
   "outputs": [],
   "source": []
  },
  {
   "cell_type": "code",
   "execution_count": 1,
   "metadata": {},
   "outputs": [
    {
     "data": {
      "text/plain": [
       "[0, 1, 2, 3, 22, 5]"
      ]
     },
     "execution_count": 1,
     "metadata": {},
     "output_type": "execute_result"
    }
   ],
   "source": [
    "li = [0,1,2,3,4,5]\n",
    "li[len(li)-2] = 22\n",
    "li"
   ]
  },
  {
   "cell_type": "code",
   "execution_count": 2,
   "metadata": {},
   "outputs": [
    {
     "data": {
      "text/plain": [
       "[0, 9, 9, 5]"
      ]
     },
     "execution_count": 2,
     "metadata": {},
     "output_type": "execute_result"
    }
   ],
   "source": [
    "li[1:-1] = [9,9]\n",
    "\n",
    "li "
   ]
  },
  {
   "cell_type": "code",
   "execution_count": 3,
   "metadata": {},
   "outputs": [],
   "source": [
    "li[1:-1] = []"
   ]
  },
  {
   "cell_type": "code",
   "execution_count": 4,
   "metadata": {},
   "outputs": [
    {
     "data": {
      "text/plain": [
       "[0, 5]"
      ]
     },
     "execution_count": 4,
     "metadata": {},
     "output_type": "execute_result"
    }
   ],
   "source": [
    "li "
   ]
  },
  {
   "cell_type": "code",
   "execution_count": null,
   "metadata": {},
   "outputs": [],
   "source": [
    "freshfruit = [' banana', ' loganberry ', 'passion fruit '] \n",
    "\n",
    "for weapon in freshfruit:\n",
    "    [weapon.strip()]"
   ]
  },
  {
   "cell_type": "code",
   "execution_count": null,
   "metadata": {},
   "outputs": [],
   "source": [
    "a = 10 \n",
    "b = 5\n",
    "\n",
    "c = 0\n",
    "\n",
    "c = a\n",
    "a = b \n",
    "b = c\n",
    "\n",
    "\n",
    "a,b = b,a "
   ]
  },
  {
   "cell_type": "code",
   "execution_count": 10,
   "metadata": {},
   "outputs": [
    {
     "name": "stdout",
     "output_type": "stream",
     "text": [
      "Python3 教程\n",
      "Python3 简介\n",
      "Python3 环境搭建\n",
      "Python3 基础语法\n",
      "Python3 基本数据类型\n",
      "Python3 解释器\n",
      "Python3 注释\n",
      "Python3 运算符\n",
      "Python3 数字(Number)\n",
      "Python3 字符串\n",
      "Python3 列表\n",
      "Python3 元组\n",
      "Python3 字典\n",
      "Python3 集合\n",
      "Python3 编程第一步\n",
      "Python3 条件控制\n",
      "Python3 循环语句\n",
      "Python3 迭代器与生成器\n",
      "Python3 函数\n",
      "Python3 数据结构\n",
      "Python3 模块\n",
      "Python3 输入和输出\n",
      "Python3 File\n",
      "Python3 OS\n",
      "Python3 错误和异常\n",
      "Python3 面向对象\n",
      "Python3 命名空间/作用域\n",
      "Python3 标准库概览\n",
      "Python3 实例\n",
      "Python 测验\n",
      "Python3 正则表达式\n",
      "Python3 CGI编程\n",
      "Python3 MySQL(mysql-connector)\n",
      "Python3 MySQL(PyMySQL)\n",
      "Python3 网络编程\n",
      "Python3 SMTP发送邮件\n",
      "Python3 多线程\n",
      "Python3 XML 解析\n",
      "Python3 JSON\n",
      "Python3 日期和时间\n",
      "Python3 内置函数\n",
      "Python MongoDB\n",
      "Python uWSGI  安装配置\n"
     ]
    }
   ],
   "source": [
    "import requests # 导入 request 包，这个包专门负责对某一个地址或者服务器发出请求\n",
    "\n",
    "from lxml import etree\n",
    "\n",
    "target = \"https://www.dlmu.edu.cn\"\n",
    "# 获取页面源码\n",
    "r = requests.get(target)\n",
    "# 解析页面源码\n",
    "selector = etree.HTML(r.content.decode('utf-8').encode('utf-8'))\n",
    "links = selector.xpath(\"//div[@class='content_l_hdgg_cont more']//a/text()\")\n",
    "for link in links:\n",
    "    print(link.strip( ))"
   ]
  },
  {
   "cell_type": "code",
   "execution_count": null,
   "metadata": {},
   "outputs": [],
   "source": []
  }
 ],
 "metadata": {
  "kernelspec": {
   "display_name": "Python 3",
   "language": "python",
   "name": "python3"
  },
  "language_info": {
   "codemirror_mode": {
    "name": "ipython",
    "version": 3
   },
   "file_extension": ".py",
   "mimetype": "text/x-python",
   "name": "python",
   "nbconvert_exporter": "python",
   "pygments_lexer": "ipython3",
   "version": "3.6.8"
  },
  "varInspector": {
   "cols": {
    "lenName": 16,
    "lenType": 16,
    "lenVar": 40
   },
   "kernels_config": {
    "python": {
     "delete_cmd_postfix": "",
     "delete_cmd_prefix": "del ",
     "library": "var_list.py",
     "varRefreshCmd": "print(var_dic_list())"
    },
    "r": {
     "delete_cmd_postfix": ") ",
     "delete_cmd_prefix": "rm(",
     "library": "var_list.r",
     "varRefreshCmd": "cat(var_dic_list()) "
    }
   },
   "types_to_exclude": [
    "module",
    "function",
    "builtin_function_or_method",
    "instance",
    "_Feature"
   ],
   "window_display": false
  }
 },
 "nbformat": 4,
 "nbformat_minor": 2
}
