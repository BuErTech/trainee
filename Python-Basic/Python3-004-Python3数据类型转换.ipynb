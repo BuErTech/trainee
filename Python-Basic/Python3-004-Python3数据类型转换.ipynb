{
 "cells": [
  {
   "cell_type": "markdown",
   "metadata": {},
   "source": [
    "## Python数据类型转换\n",
    "\n",
    "有时候，我们需要对数据内置的类型进行转换，数据类型的转换，你只需要将数据类型作为函数名即可。\n",
    "\n",
    "以下几个内置的函数可以执行数据类型之间的转换。这些函数返回一个新的对象，表示转换的值。\n",
    "\n",
    "函数                                                                              | 描述                             \n",
    "------------------------------------------------------------------------------- | -------------------------------\n",
    "[int(x [,base])](http://www.runoob.com/python3/python-func-int.html)            | 将x转换为一个整数                      \n",
    "[float(x)](http://www.runoob.com/python3/python-func-float.html)                | 将x转换到一个浮点数                     \n",
    "[complex(real [,imag])](http://www.runoob.com/python3/python-func-complex.html) | 创建一个复数                         \n",
    "[str(x)](http://www.runoob.com/python3/python-func-str.html)                    | 将对象 x 转换为字符串                   \n",
    "[repr(x)](http://www.runoob.com/python3/python-func-repr.html)                  | 将对象 x 转换为表达式字符串                \n",
    "[eval(str)](http://www.runoob.com/python3/python-func-eval.html)                | 用来计算在字符串中的有效Python表达式,并返回一个对象  \n",
    "[tuple(s)](http://www.runoob.com/python3/python3-func-tuple.html)               | 将序列 s 转换为一个元组                  \n",
    "[list(s)](http://www.runoob.com/python3/python3-att-list-list.html)             | 将序列 s 转换为一个列表                  \n",
    "[set(s)](http://www.runoob.com/python3/python-func-set.html)                    | 转换为可变集合                        \n",
    "[dict(d)](http://www.runoob.com/python3/python-func-dict.html)                  | 创建一个字典。d 必须是一个序列 (key,value)元组。\n",
    "[frozenset(s)](http://www.runoob.com/python3/python-func-frozenset.html)        | 转换为不可变集合                       \n",
    "[chr(x)](http://www.runoob.com/python3/python-func-chr.html)                    | 将一个整数转换为一个字符                   \n",
    "[ord(x)](http://www.runoob.com/python3/python-func-ord.html)                    | 将一个字符转换为它的整数值                  \n",
    "[hex(x)](http://www.runoob.com/python3/python-func-hex.html)                    | 将一个整数转换为一个十六进制字符串              \n",
    "[oct(x)](http://www.runoob.com/python3/python-func-oct.html)                    | 将一个整数转换为一个八进制字符串               "
   ]
  },
  {
   "cell_type": "code",
   "execution_count": null,
   "metadata": {},
   "outputs": [],
   "source": []
  }
 ],
 "metadata": {
  "kernelspec": {
   "display_name": "Python 3",
   "language": "python",
   "name": "python3"
  },
  "language_info": {
   "codemirror_mode": {
    "name": "ipython",
    "version": 3
   },
   "file_extension": ".py",
   "mimetype": "text/x-python",
   "name": "python",
   "nbconvert_exporter": "python",
   "pygments_lexer": "ipython3",
   "version": "3.7.0"
  }
 },
 "nbformat": 4,
 "nbformat_minor": 2
}
