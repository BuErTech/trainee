{
 "cells": [
  {
   "cell_type": "code",
   "execution_count": null,
   "metadata": {},
   "outputs": [],
   "source": []
  },
  {
   "cell_type": "code",
   "execution_count": 1,
   "metadata": {},
   "outputs": [
    {
     "data": {
      "text/plain": [
       "[0, 1, 2, 3, 22, 5]"
      ]
     },
     "execution_count": 1,
     "metadata": {},
     "output_type": "execute_result"
    }
   ],
   "source": [
    "li = [0,1,2,3,4,5]\n",
    "li[len(li)-2] = 22\n",
    "li"
   ]
  },
  {
   "cell_type": "code",
   "execution_count": 2,
   "metadata": {},
   "outputs": [
    {
     "data": {
      "text/plain": [
       "[0, 9, 9, 5]"
      ]
     },
     "execution_count": 2,
     "metadata": {},
     "output_type": "execute_result"
    }
   ],
   "source": [
    "li[1:-1] = [9,9]\n",
    "\n",
    "li "
   ]
  },
  {
   "cell_type": "code",
   "execution_count": 3,
   "metadata": {},
   "outputs": [],
   "source": [
    "li[1:-1] = []"
   ]
  },
  {
   "cell_type": "code",
   "execution_count": 4,
   "metadata": {},
   "outputs": [
    {
     "data": {
      "text/plain": [
       "[0, 5]"
      ]
     },
     "execution_count": 4,
     "metadata": {},
     "output_type": "execute_result"
    }
   ],
   "source": [
    "li "
   ]
  },
  {
   "cell_type": "code",
   "execution_count": null,
   "metadata": {},
   "outputs": [],
   "source": [
    "freshfruit = [' banana', ' loganberry ', 'passion fruit '] \n",
    "\n",
    "for weapon in freshfruit:\n",
    "    [weapon.strip()]"
   ]
  },
  {
   "cell_type": "code",
   "execution_count": null,
   "metadata": {},
   "outputs": [],
   "source": [
    "a = 10 \n",
    "b = 5\n",
    "\n",
    "c = 0\n",
    "\n",
    "c = a\n",
    "a = b \n",
    "b = c\n",
    "\n",
    "\n",
    "a,b = b,a "
   ]
  },
  {
   "cell_type": "code",
   "execution_count": 11,
   "metadata": {},
   "outputs": [
    {
     "name": "stdout",
     "output_type": "stream",
     "text": [
      "大连海事大学2019年秋季指导员（辅导...\n",
      "大连海事大学派遣制工作人员公开招聘...\n",
      "大连海事大学2019年下半年工作人员公...\n",
      "大连海事大学2019年校医院工作人员补...\n",
      "大连海事大学附属学校2019年公开招聘...\n",
      "大连海事大学校医院工作人员公开招聘...\n"
     ]
    }
   ],
   "source": [
    "import requests # 导入 request 包，这个包专门负责对某一个地址或者服务器发出请求\n",
    "\n",
    "from lxml import etree\n",
    "\n",
    "target = \"https://www.dlmu.edu.cn\"\n",
    "# 获取页面源码\n",
    "r = requests.get(target)\n",
    "# 解析页面源码\n",
    "selector = etree.HTML(r.content.decode('utf-8').encode('utf-8'))\n",
    "links = selector.xpath(\"//div[@class='content_l_hdgg_cont more']//a/text()\")\n",
    "for link in links:\n",
    "    print(link.strip( ))"
   ]
  },
  {
   "cell_type": "code",
   "execution_count": null,
   "metadata": {},
   "outputs": [],
   "source": []
  }
 ],
 "metadata": {
  "kernelspec": {
   "display_name": "Python 3",
   "language": "python",
   "name": "python3"
  },
  "language_info": {
   "codemirror_mode": {
    "name": "ipython",
    "version": 3
   },
   "file_extension": ".py",
   "mimetype": "text/x-python",
   "name": "python",
   "nbconvert_exporter": "python",
   "pygments_lexer": "ipython3",
   "version": "3.6.8"
  },
  "varInspector": {
   "cols": {
    "lenName": 16,
    "lenType": 16,
    "lenVar": 40
   },
   "kernels_config": {
    "python": {
     "delete_cmd_postfix": "",
     "delete_cmd_prefix": "del ",
     "library": "var_list.py",
     "varRefreshCmd": "print(var_dic_list())"
    },
    "r": {
     "delete_cmd_postfix": ") ",
     "delete_cmd_prefix": "rm(",
     "library": "var_list.r",
     "varRefreshCmd": "cat(var_dic_list()) "
    }
   },
   "types_to_exclude": [
    "module",
    "function",
    "builtin_function_or_method",
    "instance",
    "_Feature"
   ],
   "window_display": false
  }
 },
 "nbformat": 4,
 "nbformat_minor": 2
}
