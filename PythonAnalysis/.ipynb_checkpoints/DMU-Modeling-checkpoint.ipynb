{
 "cells": [
  {
   "cell_type": "code",
   "execution_count": 3,
   "metadata": {},
   "outputs": [
    {
     "name": "stdout",
     "output_type": "stream",
     "text": [
      "          x1        x2        x3        x4        x6         y\n",
      "x1  1.000000  0.815975  0.686656  0.706496  0.665209  0.897629\n",
      "x2  0.815975  1.000000  0.916238  0.680966  0.874854  0.929886\n",
      "x3  0.686656  0.916238  1.000000  0.722644  0.934414  0.921208\n",
      "x4  0.706496  0.680966  0.722644  1.000000  0.814452  0.810649\n",
      "x6  0.665209  0.874854  0.934414  0.814452  1.000000  0.867586\n",
      "y   0.897629  0.929886  0.921208  0.810649  0.867586  1.000000\n",
      "x1    0.897629\n",
      "x2    0.929886\n",
      "x3    0.921208\n",
      "x4    0.810649\n",
      "x6    0.867586\n",
      "y     1.000000\n",
      "Name: y, dtype: float64\n"
     ]
    }
   ],
   "source": [
    "import pandas as pd\n",
    "\n",
    "dmu = './DMU-Modeling.csv' #数据，含有其他属性\n",
    "data = pd.read_csv(dmu, index_col = 'studentno') #读取数据，指定列为索引列\n",
    "\n",
    "print(data.corr()) # 任意两列的相关系数，相关系数矩阵，即给出了任意两款菜式之间的相关系数 \n",
    "print(data.corr()['y']) #只显示“百合酱蒸凤爪”与其他菜式的相关系数\n",
    "# print(data[u'百合酱蒸凤爪'].corr(data[u'翡翠蒸香茜饺'])) #计算“百合酱蒸凤爪”与“翡翠蒸香茜饺”的相关系数"
   ]
  },
  {
   "cell_type": "code",
   "execution_count": 2,
   "metadata": {},
   "outputs": [
    {
     "data": {
      "text/plain": [
       "<matplotlib.axes._subplots.AxesSubplot at 0x127699b38>"
      ]
     },
     "execution_count": 2,
     "metadata": {},
     "output_type": "execute_result"
    },
    {
     "data": {
      "image/png": "[encoded data removed]",
      "text/plain": [
       "<Figure size 432x288 with 1 Axes>"
      ]
     },
     "metadata": {
      "needs_background": "light"
     },
     "output_type": "display_data"
    }
   ],
   "source": [
    "import seaborn as sns\n",
    "sns.regplot(x='x1', y='y', data=data)"
   ]
  },
  {
   "cell_type": "code",
   "execution_count": null,
   "metadata": {},
   "outputs": [],
   "source": [
    "sns.regplot(x='x2', y='y', data=data)"
   ]
  }
 ],
 "metadata": {
  "kernelspec": {
   "display_name": "Python 3",
   "language": "python",
   "name": "python3"
  },
  "language_info": {
   "codemirror_mode": {
    "name": "ipython",
    "version": 3
   },
   "file_extension": ".py",
   "mimetype": "text/x-python",
   "name": "python",
   "nbconvert_exporter": "python",
   "pygments_lexer": "ipython3",
   "version": "3.6.8"
  },
  "varInspector": {
   "cols": {
    "lenName": 16,
    "lenType": 16,
    "lenVar": 40
   },
   "kernels_config": {
    "python": {
     "delete_cmd_postfix": "",
     "delete_cmd_prefix": "del ",
     "library": "var_list.py",
     "varRefreshCmd": "print(var_dic_list())"
    },
    "r": {
     "delete_cmd_postfix": ") ",
     "delete_cmd_prefix": "rm(",
     "library": "var_list.r",
     "varRefreshCmd": "cat(var_dic_list()) "
    }
   },
   "types_to_exclude": [
    "module",
    "function",
    "builtin_function_or_method",
    "instance",
    "_Feature"
   ],
   "window_display": false
  }
 },
 "nbformat": 4,
 "nbformat_minor": 2
}
