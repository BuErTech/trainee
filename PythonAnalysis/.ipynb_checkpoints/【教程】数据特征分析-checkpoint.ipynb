{
 "cells": [
  {
   "cell_type": "markdown",
   "metadata": {
    "id": "2139D07D1DFC470294B5D4F92EA57789",
    "mdEditEnable": false
   },
   "source": [
    "\n",
    "\n",
    "\n",
    "# 【目录】\n",
    "* [1.分布分析](#分布分析)\n",
    "* [2.对比分析](#对比分析)\n",
    "* [3.统计分析](#统计分析)\n",
    "* [4.帕累托分析](#帕累托分析)\n",
    "* [5.正态性检验](#正态性检验)\n",
    "* [6.相关性分析](#相关性分析)\n"
   ]
  },
  {
   "cell_type": "markdown",
   "metadata": {
    "collapsed": true,
    "id": "81B3BBB7EC404E619A40D3808DEBF2DA",
    "mdEditEnable": false
   },
   "source": [
    "# 分布分析\n",
    "\n",
    "* 分布分析 → 研究数据的分布特征和分布类型，分定量数据、定性数据区分基本统计量\n",
    "\n",
    "* 极差 / 频率分布情况 / 分组组距及组数\n"
   ]
  },
  {
   "cell_type": "code",
   "execution_count": 3,
   "metadata": {
    "id": "FD3EFD0BE6314CCC841D0AFBEA0227E5",
    "scrolled": false
   },
   "outputs": [],
   "source": [
    "import numpy as np\n",
    "import pandas as pd\n",
    "import matplotlib.pyplot as plt\n",
    "import warnings\n",
    "warnings.filterwarnings('ignore')"
   ]
  },
  {
   "cell_type": "code",
   "execution_count": 4,
   "metadata": {
    "id": "DBBF6879262444CB87F70AB147BAA113",
    "scrolled": false
   },
   "outputs": [
    {
     "name": "stdout",
     "output_type": "stream",
     "text": [
      "second_hand_ house.csv\r\n"
     ]
    }
   ],
   "source": [
    "# 查看数据集\n",
    "!ls /home/kesci/input/house4012"
   ]
  },
  {
   "cell_type": "code",
   "execution_count": 5,
   "metadata": {
    "id": "5CFF9FE3547042FD9678DACC0BC6A426",
    "scrolled": false
   },
   "outputs": [
    {
     "name": "stdout",
     "output_type": "stream",
     "text": [
      "房屋编码      int64\n",
      "小区       object\n",
      "朝向       object\n",
      "房屋单价      int64\n",
      "参考首付    float64\n",
      "参考总价    float64\n",
      "经度      float64\n",
      "纬度      float64\n",
      "dtype: object\n",
      "-------\n",
      "数据长度为75条\n"
     ]
    },
    {
     "data": {
      "text/html": [
       "<div>\n",
       "<style scoped>\n",
       "    .dataframe tbody tr th:only-of-type {\n",
       "        vertical-align: middle;\n",
       "    }\n",
       "\n",
       "    .dataframe tbody tr th {\n",
       "        vertical-align: top;\n",
       "    }\n",
       "\n",
       "    .dataframe thead th {\n",
       "        text-align: right;\n",
       "    }\n",
       "</style>\n",
       "<table border=\"1\" class=\"dataframe\">\n",
       "  <thead>\n",
       "    <tr style=\"text-align: right;\">\n",
       "      <th></th>\n",
       "      <th>房屋编码</th>\n",
       "      <th>小区</th>\n",
       "      <th>朝向</th>\n",
       "      <th>房屋单价</th>\n",
       "      <th>参考首付</th>\n",
       "      <th>参考总价</th>\n",
       "      <th>经度</th>\n",
       "      <th>纬度</th>\n",
       "    </tr>\n",
       "  </thead>\n",
       "  <tbody>\n",
       "    <tr>\n",
       "      <th>0</th>\n",
       "      <td>605093949</td>\n",
       "      <td>大望新平村</td>\n",
       "      <td>南北</td>\n",
       "      <td>5434</td>\n",
       "      <td>15.0</td>\n",
       "      <td>50.0</td>\n",
       "      <td>114.180964</td>\n",
       "      <td>22.603698</td>\n",
       "    </tr>\n",
       "    <tr>\n",
       "      <th>1</th>\n",
       "      <td>605768856</td>\n",
       "      <td>通宝楼</td>\n",
       "      <td>南北</td>\n",
       "      <td>3472</td>\n",
       "      <td>7.5</td>\n",
       "      <td>25.0</td>\n",
       "      <td>114.179298</td>\n",
       "      <td>22.566910</td>\n",
       "    </tr>\n",
       "    <tr>\n",
       "      <th>2</th>\n",
       "      <td>606815561</td>\n",
       "      <td>罗湖区罗芳村</td>\n",
       "      <td>南北</td>\n",
       "      <td>5842</td>\n",
       "      <td>15.6</td>\n",
       "      <td>52.0</td>\n",
       "      <td>114.158869</td>\n",
       "      <td>22.547223</td>\n",
       "    </tr>\n",
       "    <tr>\n",
       "      <th>3</th>\n",
       "      <td>605147285</td>\n",
       "      <td>兴华苑</td>\n",
       "      <td>南北</td>\n",
       "      <td>3829</td>\n",
       "      <td>10.8</td>\n",
       "      <td>36.0</td>\n",
       "      <td>114.158040</td>\n",
       "      <td>22.554343</td>\n",
       "    </tr>\n",
       "    <tr>\n",
       "      <th>4</th>\n",
       "      <td>606030866</td>\n",
       "      <td>京基东方都会</td>\n",
       "      <td>西南</td>\n",
       "      <td>47222</td>\n",
       "      <td>51.0</td>\n",
       "      <td>170.0</td>\n",
       "      <td>114.149243</td>\n",
       "      <td>22.554370</td>\n",
       "    </tr>\n",
       "  </tbody>\n",
       "</table>\n",
       "</div>"
      ],
      "text/plain": [
       "        房屋编码      小区  朝向   房屋单价  参考首付   参考总价          经度         纬度\n",
       "0  605093949   大望新平村  南北   5434  15.0   50.0  114.180964  22.603698\n",
       "1  605768856     通宝楼  南北   3472   7.5   25.0  114.179298  22.566910\n",
       "2  606815561  罗湖区罗芳村  南北   5842  15.6   52.0  114.158869  22.547223\n",
       "3  605147285     兴华苑  南北   3829  10.8   36.0  114.158040  22.554343\n",
       "4  606030866  京基东方都会  西南  47222  51.0  170.0  114.149243  22.554370"
      ]
     },
     "execution_count": 5,
     "metadata": {},
     "output_type": "execute_result"
    },
    {
     "data": {
      "text/html": [
       "<img src=\"https://cdn.kesci.com/rt_upload/5CFF9FE3547042FD9678DACC0BC6A426/pptujjttx5.png\">"
      ],
      "text/plain": [
       "<Figure size 432x288 with 1 Axes>"
      ]
     },
     "metadata": {
      "needs_background": "light"
     },
     "output_type": "display_data"
    }
   ],
   "source": [
    "# 数据读取\n",
    "\n",
    "data = pd.read_csv('/home/kesci/input/house4012/second_hand_ house.csv')\n",
    "plt.scatter(data['经度'],data['纬度'],  # 按照经纬度显示\n",
    "            s = data['房屋单价']/500,  # 按照单价显示大小\n",
    "            c = data['参考总价'],  # 按照总价显示颜色\n",
    "            alpha = 0.4, cmap = 'Reds')  \n",
    "plt.grid()\n",
    "print(data.dtypes)\n",
    "print('-------\\n数据长度为%i条' % len(data))\n",
    "data.head()\n",
    "# 通过数据可见，一共8个字段\n",
    "# 定量字段：房屋单价，参考首付，参考总价，*经度，*纬度，*房屋编码\n",
    "# 定性字段：小区，朝向"
   ]
  },
  {
   "cell_type": "code",
   "execution_count": 6,
   "metadata": {
    "id": "A785EF630B704BA98A53535B75548A0B",
    "scrolled": false
   },
   "outputs": [
    {
     "name": "stdout",
     "output_type": "stream",
     "text": [
      "参考首付极差为 52.500000 \n",
      "参考总价极差为 175.000000\n"
     ]
    }
   ],
   "source": [
    "# 极差：max-min\n",
    "# 只针对定量字段\n",
    "\n",
    "def d_range(df,*cols):\n",
    "    krange = []\n",
    "    for col in cols:\n",
    "        crange = df[col].max() - df[col].min()\n",
    "        krange.append(crange)\n",
    "    return(krange)\n",
    "# 创建函数求极差\n",
    "\n",
    "key1 = '参考首付'\n",
    "key2 = '参考总价'\n",
    "dr = d_range(data,key1,key2)\n",
    "print('%s极差为 %f \\n%s极差为 %f' % (key1, dr[0], key2, dr[1]))\n",
    "# 求出数据对应列的极差"
   ]
  },
  {
   "cell_type": "code",
   "execution_count": 7,
   "metadata": {
    "id": "E0C71B50FBAA4FE68214DCA763DDFB1D",
    "scrolled": false
   },
   "outputs": [
    {
     "data": {
      "text/plain": [
       "<matplotlib.axes._subplots.AxesSubplot at 0x7f9ec8ca11d0>"
      ]
     },
     "execution_count": 7,
     "metadata": {},
     "output_type": "execute_result"
    },
    {
     "data": {
      "text/html": [
       "<img src=\"https://cdn.kesci.com/rt_upload/E0C71B50FBAA4FE68214DCA763DDFB1D/pptujjg409.png\">"
      ],
      "text/plain": [
       "<Figure size 432x288 with 1 Axes>"
      ]
     },
     "metadata": {
      "needs_background": "light"
     },
     "output_type": "display_data"
    }
   ],
   "source": [
    "# 频率分布情况 - 定量字段\n",
    "# ① 通过直方图直接判断分组组数\n",
    "\n",
    "data[key2].hist(bins=10)\n",
    "# 简单查看数据分布，确定分布组数 → 一般8-16即可\n",
    "# 这里以10组为参考"
   ]
  },
  {
   "cell_type": "code",
   "execution_count": 8,
   "metadata": {
    "id": "8870AEF4EF9E44B7881D1B64118C9276",
    "scrolled": false
   },
   "outputs": [
    {
     "name": "stdout",
     "output_type": "stream",
     "text": [
      "0      [42.5, 60.0)\n",
      "1      [25.0, 42.5)\n",
      "2      [42.5, 60.0)\n",
      "3      [25.0, 42.5)\n",
      "4    [165.0, 182.5)\n",
      "Name: 参考总价, dtype: category\n",
      "Categories (10, interval[float64]): [[25.0, 42.5) < [42.5, 60.0) < [60.0, 77.5) < [77.5, 95.0) ... [130.0, 147.5) < [147.5, 165.0) < [165.0, 182.5) < [182.5, 200.175)] \n",
      "------\n",
      "[25.0, 42.5)        14\n",
      "[42.5, 60.0)        17\n",
      "[60.0, 77.5)         1\n",
      "[77.5, 95.0)         2\n",
      "[95.0, 112.5)        4\n",
      "[112.5, 130.0)       2\n",
      "[130.0, 147.5)       3\n",
      "[147.5, 165.0)       4\n",
      "[165.0, 182.5)       8\n",
      "[182.5, 200.175)    20\n",
      "Name: 参考总价, dtype: int64\n"
     ]
    },
    {
     "data": {
      "text/html": [
       "<div>\n",
       "<style scoped>\n",
       "    .dataframe tbody tr th:only-of-type {\n",
       "        vertical-align: middle;\n",
       "    }\n",
       "\n",
       "    .dataframe tbody tr th {\n",
       "        vertical-align: top;\n",
       "    }\n",
       "\n",
       "    .dataframe thead th {\n",
       "        text-align: right;\n",
       "    }\n",
       "</style>\n",
       "<table border=\"1\" class=\"dataframe\">\n",
       "  <thead>\n",
       "    <tr style=\"text-align: right;\">\n",
       "      <th></th>\n",
       "      <th>房屋编码</th>\n",
       "      <th>小区</th>\n",
       "      <th>朝向</th>\n",
       "      <th>房屋单价</th>\n",
       "      <th>参考首付</th>\n",
       "      <th>参考总价</th>\n",
       "      <th>经度</th>\n",
       "      <th>纬度</th>\n",
       "      <th>参考总价分组区间</th>\n",
       "    </tr>\n",
       "  </thead>\n",
       "  <tbody>\n",
       "    <tr>\n",
       "      <th>0</th>\n",
       "      <td>605093949</td>\n",
       "      <td>大望新平村</td>\n",
       "      <td>南北</td>\n",
       "      <td>5434</td>\n",
       "      <td>15.0</td>\n",
       "      <td>50.0</td>\n",
       "      <td>114.180964</td>\n",
       "      <td>22.603698</td>\n",
       "      <td>[42.5, 60.0)</td>\n",
       "    </tr>\n",
       "    <tr>\n",
       "      <th>1</th>\n",
       "      <td>605768856</td>\n",
       "      <td>通宝楼</td>\n",
       "      <td>南北</td>\n",
       "      <td>3472</td>\n",
       "      <td>7.5</td>\n",
       "      <td>25.0</td>\n",
       "      <td>114.179298</td>\n",
       "      <td>22.566910</td>\n",
       "      <td>[25.0, 42.5)</td>\n",
       "    </tr>\n",
       "    <tr>\n",
       "      <th>2</th>\n",
       "      <td>606815561</td>\n",
       "      <td>罗湖区罗芳村</td>\n",
       "      <td>南北</td>\n",
       "      <td>5842</td>\n",
       "      <td>15.6</td>\n",
       "      <td>52.0</td>\n",
       "      <td>114.158869</td>\n",
       "      <td>22.547223</td>\n",
       "      <td>[42.5, 60.0)</td>\n",
       "    </tr>\n",
       "    <tr>\n",
       "      <th>3</th>\n",
       "      <td>605147285</td>\n",
       "      <td>兴华苑</td>\n",
       "      <td>南北</td>\n",
       "      <td>3829</td>\n",
       "      <td>10.8</td>\n",
       "      <td>36.0</td>\n",
       "      <td>114.158040</td>\n",
       "      <td>22.554343</td>\n",
       "      <td>[25.0, 42.5)</td>\n",
       "    </tr>\n",
       "    <tr>\n",
       "      <th>4</th>\n",
       "      <td>606030866</td>\n",
       "      <td>京基东方都会</td>\n",
       "      <td>西南</td>\n",
       "      <td>47222</td>\n",
       "      <td>51.0</td>\n",
       "      <td>170.0</td>\n",
       "      <td>114.149243</td>\n",
       "      <td>22.554370</td>\n",
       "      <td>[165.0, 182.5)</td>\n",
       "    </tr>\n",
       "  </tbody>\n",
       "</table>\n",
       "</div>"
      ],
      "text/plain": [
       "        房屋编码      小区  朝向   房屋单价  参考首付   参考总价          经度         纬度  \\\n",
       "0  605093949   大望新平村  南北   5434  15.0   50.0  114.180964  22.603698   \n",
       "1  605768856     通宝楼  南北   3472   7.5   25.0  114.179298  22.566910   \n",
       "2  606815561  罗湖区罗芳村  南北   5842  15.6   52.0  114.158869  22.547223   \n",
       "3  605147285     兴华苑  南北   3829  10.8   36.0  114.158040  22.554343   \n",
       "4  606030866  京基东方都会  西南  47222  51.0  170.0  114.149243  22.554370   \n",
       "\n",
       "         参考总价分组区间  \n",
       "0    [42.5, 60.0)  \n",
       "1    [25.0, 42.5)  \n",
       "2    [42.5, 60.0)  \n",
       "3    [25.0, 42.5)  \n",
       "4  [165.0, 182.5)  "
      ]
     },
     "execution_count": 8,
     "metadata": {},
     "output_type": "execute_result"
    }
   ],
   "source": [
    "# 频率分布情况 - 定量字段\n",
    "# ② 求出分组区间\n",
    "\n",
    "gcut = pd.cut(data[key2],10,right=False)\n",
    "gcut_count = gcut.value_counts(sort=False)  # 不排序\n",
    "data['%s分组区间' % key2] = gcut.values\n",
    "print(gcut.head(),'\\n------')\n",
    "print(gcut_count)\n",
    "data.head()\n",
    "# pd.cut(x, bins, right)：按照组数对x分组，且返回一个和x同样长度的分组dataframe，right → 是否右边包含，默认True\n",
    "# 通过groupby查看不同组的数据频率分布\n",
    "# 给源数据data添加“分组区间”列"
   ]
  },
  {
   "cell_type": "code",
   "execution_count": 9,
   "metadata": {
    "id": "224444EAB07F418BA51F9304D71B2EF2",
    "scrolled": false
   },
   "outputs": [
    {
     "data": {
      "text/html": [
       "<style  type=\"text/css\" >\n",
       "    #T_add53852_5ccd_11e9_aa2a_0a580af47d02row0_col1 {\n",
       "            width:  10em;\n",
       "             height:  80%;\n",
       "            background:  linear-gradient(90deg,green 68.4%, transparent 0%);\n",
       "        }    #T_add53852_5ccd_11e9_aa2a_0a580af47d02row0_col2 {\n",
       "            width:  10em;\n",
       "             height:  80%;\n",
       "        }    #T_add53852_5ccd_11e9_aa2a_0a580af47d02row1_col1 {\n",
       "            width:  10em;\n",
       "             height:  80%;\n",
       "            background:  linear-gradient(90deg,green 84.2%, transparent 0%);\n",
       "        }    #T_add53852_5ccd_11e9_aa2a_0a580af47d02row1_col2 {\n",
       "            width:  10em;\n",
       "             height:  80%;\n",
       "            background:  linear-gradient(90deg,green 27.9%, transparent 0%);\n",
       "        }    #T_add53852_5ccd_11e9_aa2a_0a580af47d02row2_col1 {\n",
       "            width:  10em;\n",
       "             height:  80%;\n",
       "        }    #T_add53852_5ccd_11e9_aa2a_0a580af47d02row2_col2 {\n",
       "            width:  10em;\n",
       "             height:  80%;\n",
       "            background:  linear-gradient(90deg,green 29.5%, transparent 0%);\n",
       "        }    #T_add53852_5ccd_11e9_aa2a_0a580af47d02row3_col1 {\n",
       "            width:  10em;\n",
       "             height:  80%;\n",
       "            background:  linear-gradient(90deg,green 5.3%, transparent 0%);\n",
       "        }    #T_add53852_5ccd_11e9_aa2a_0a580af47d02row3_col2 {\n",
       "            width:  10em;\n",
       "             height:  80%;\n",
       "            background:  linear-gradient(90deg,green 32.8%, transparent 0%);\n",
       "        }    #T_add53852_5ccd_11e9_aa2a_0a580af47d02row4_col1 {\n",
       "            width:  10em;\n",
       "             height:  80%;\n",
       "            background:  linear-gradient(90deg,green 15.8%, transparent 0%);\n",
       "        }    #T_add53852_5ccd_11e9_aa2a_0a580af47d02row4_col2 {\n",
       "            width:  10em;\n",
       "             height:  80%;\n",
       "            background:  linear-gradient(90deg,green 39.3%, transparent 0%);\n",
       "        }    #T_add53852_5ccd_11e9_aa2a_0a580af47d02row5_col1 {\n",
       "            width:  10em;\n",
       "             height:  80%;\n",
       "            background:  linear-gradient(90deg,green 5.3%, transparent 0%);\n",
       "        }    #T_add53852_5ccd_11e9_aa2a_0a580af47d02row5_col2 {\n",
       "            width:  10em;\n",
       "             height:  80%;\n",
       "            background:  linear-gradient(90deg,green 42.6%, transparent 0%);\n",
       "        }    #T_add53852_5ccd_11e9_aa2a_0a580af47d02row6_col1 {\n",
       "            width:  10em;\n",
       "             height:  80%;\n",
       "            background:  linear-gradient(90deg,green 10.5%, transparent 0%);\n",
       "        }    #T_add53852_5ccd_11e9_aa2a_0a580af47d02row6_col2 {\n",
       "            width:  10em;\n",
       "             height:  80%;\n",
       "            background:  linear-gradient(90deg,green 47.5%, transparent 0%);\n",
       "        }    #T_add53852_5ccd_11e9_aa2a_0a580af47d02row7_col1 {\n",
       "            width:  10em;\n",
       "             height:  80%;\n",
       "            background:  linear-gradient(90deg,green 15.8%, transparent 0%);\n",
       "        }    #T_add53852_5ccd_11e9_aa2a_0a580af47d02row7_col2 {\n",
       "            width:  10em;\n",
       "             height:  80%;\n",
       "            background:  linear-gradient(90deg,green 54.1%, transparent 0%);\n",
       "        }    #T_add53852_5ccd_11e9_aa2a_0a580af47d02row8_col1 {\n",
       "            width:  10em;\n",
       "             height:  80%;\n",
       "            background:  linear-gradient(90deg,green 36.8%, transparent 0%);\n",
       "        }    #T_add53852_5ccd_11e9_aa2a_0a580af47d02row8_col2 {\n",
       "            width:  10em;\n",
       "             height:  80%;\n",
       "            background:  linear-gradient(90deg,green 67.2%, transparent 0%);\n",
       "        }    #T_add53852_5ccd_11e9_aa2a_0a580af47d02row9_col1 {\n",
       "            width:  10em;\n",
       "             height:  80%;\n",
       "            background:  linear-gradient(90deg,green 100.0%, transparent 0%);\n",
       "        }    #T_add53852_5ccd_11e9_aa2a_0a580af47d02row9_col2 {\n",
       "            width:  10em;\n",
       "             height:  80%;\n",
       "            background:  linear-gradient(90deg,green 100.0%, transparent 0%);\n",
       "        }</style>  \n",
       "<table id=\"T_add53852_5ccd_11e9_aa2a_0a580af47d02\" > \n",
       "<thead>    <tr> \n",
       "        <th class=\"blank level0\" ></th> \n",
       "        <th class=\"col_heading level0 col0\" >频数</th> \n",
       "        <th class=\"col_heading level0 col1\" >频率</th> \n",
       "        <th class=\"col_heading level0 col2\" >累计频率</th> \n",
       "        <th class=\"col_heading level0 col3\" >频率%</th> \n",
       "        <th class=\"col_heading level0 col4\" >累计频率%</th> \n",
       "    </tr></thead> \n",
       "<tbody>    <tr> \n",
       "        <th id=\"T_add53852_5ccd_11e9_aa2a_0a580af47d02level0_row0\" class=\"row_heading level0 row0\" >[25.0, 42.5)</th> \n",
       "        <td id=\"T_add53852_5ccd_11e9_aa2a_0a580af47d02row0_col0\" class=\"data row0 col0\" >14</td> \n",
       "        <td id=\"T_add53852_5ccd_11e9_aa2a_0a580af47d02row0_col1\" class=\"data row0 col1\" >0.186667</td> \n",
       "        <td id=\"T_add53852_5ccd_11e9_aa2a_0a580af47d02row0_col2\" class=\"data row0 col2\" >0.186667</td> \n",
       "        <td id=\"T_add53852_5ccd_11e9_aa2a_0a580af47d02row0_col3\" class=\"data row0 col3\" >18.67%</td> \n",
       "        <td id=\"T_add53852_5ccd_11e9_aa2a_0a580af47d02row0_col4\" class=\"data row0 col4\" >18.67%</td> \n",
       "    </tr>    <tr> \n",
       "        <th id=\"T_add53852_5ccd_11e9_aa2a_0a580af47d02level0_row1\" class=\"row_heading level0 row1\" >[42.5, 60.0)</th> \n",
       "        <td id=\"T_add53852_5ccd_11e9_aa2a_0a580af47d02row1_col0\" class=\"data row1 col0\" >17</td> \n",
       "        <td id=\"T_add53852_5ccd_11e9_aa2a_0a580af47d02row1_col1\" class=\"data row1 col1\" >0.226667</td> \n",
       "        <td id=\"T_add53852_5ccd_11e9_aa2a_0a580af47d02row1_col2\" class=\"data row1 col2\" >0.413333</td> \n",
       "        <td id=\"T_add53852_5ccd_11e9_aa2a_0a580af47d02row1_col3\" class=\"data row1 col3\" >22.67%</td> \n",
       "        <td id=\"T_add53852_5ccd_11e9_aa2a_0a580af47d02row1_col4\" class=\"data row1 col4\" >41.33%</td> \n",
       "    </tr>    <tr> \n",
       "        <th id=\"T_add53852_5ccd_11e9_aa2a_0a580af47d02level0_row2\" class=\"row_heading level0 row2\" >[60.0, 77.5)</th> \n",
       "        <td id=\"T_add53852_5ccd_11e9_aa2a_0a580af47d02row2_col0\" class=\"data row2 col0\" >1</td> \n",
       "        <td id=\"T_add53852_5ccd_11e9_aa2a_0a580af47d02row2_col1\" class=\"data row2 col1\" >0.0133333</td> \n",
       "        <td id=\"T_add53852_5ccd_11e9_aa2a_0a580af47d02row2_col2\" class=\"data row2 col2\" >0.426667</td> \n",
       "        <td id=\"T_add53852_5ccd_11e9_aa2a_0a580af47d02row2_col3\" class=\"data row2 col3\" >1.33%</td> \n",
       "        <td id=\"T_add53852_5ccd_11e9_aa2a_0a580af47d02row2_col4\" class=\"data row2 col4\" >42.67%</td> \n",
       "    </tr>    <tr> \n",
       "        <th id=\"T_add53852_5ccd_11e9_aa2a_0a580af47d02level0_row3\" class=\"row_heading level0 row3\" >[77.5, 95.0)</th> \n",
       "        <td id=\"T_add53852_5ccd_11e9_aa2a_0a580af47d02row3_col0\" class=\"data row3 col0\" >2</td> \n",
       "        <td id=\"T_add53852_5ccd_11e9_aa2a_0a580af47d02row3_col1\" class=\"data row3 col1\" >0.0266667</td> \n",
       "        <td id=\"T_add53852_5ccd_11e9_aa2a_0a580af47d02row3_col2\" class=\"data row3 col2\" >0.453333</td> \n",
       "        <td id=\"T_add53852_5ccd_11e9_aa2a_0a580af47d02row3_col3\" class=\"data row3 col3\" >2.67%</td> \n",
       "        <td id=\"T_add53852_5ccd_11e9_aa2a_0a580af47d02row3_col4\" class=\"data row3 col4\" >45.33%</td> \n",
       "    </tr>    <tr> \n",
       "        <th id=\"T_add53852_5ccd_11e9_aa2a_0a580af47d02level0_row4\" class=\"row_heading level0 row4\" >[95.0, 112.5)</th> \n",
       "        <td id=\"T_add53852_5ccd_11e9_aa2a_0a580af47d02row4_col0\" class=\"data row4 col0\" >4</td> \n",
       "        <td id=\"T_add53852_5ccd_11e9_aa2a_0a580af47d02row4_col1\" class=\"data row4 col1\" >0.0533333</td> \n",
       "        <td id=\"T_add53852_5ccd_11e9_aa2a_0a580af47d02row4_col2\" class=\"data row4 col2\" >0.506667</td> \n",
       "        <td id=\"T_add53852_5ccd_11e9_aa2a_0a580af47d02row4_col3\" class=\"data row4 col3\" >5.33%</td> \n",
       "        <td id=\"T_add53852_5ccd_11e9_aa2a_0a580af47d02row4_col4\" class=\"data row4 col4\" >50.67%</td> \n",
       "    </tr>    <tr> \n",
       "        <th id=\"T_add53852_5ccd_11e9_aa2a_0a580af47d02level0_row5\" class=\"row_heading level0 row5\" >[112.5, 130.0)</th> \n",
       "        <td id=\"T_add53852_5ccd_11e9_aa2a_0a580af47d02row5_col0\" class=\"data row5 col0\" >2</td> \n",
       "        <td id=\"T_add53852_5ccd_11e9_aa2a_0a580af47d02row5_col1\" class=\"data row5 col1\" >0.0266667</td> \n",
       "        <td id=\"T_add53852_5ccd_11e9_aa2a_0a580af47d02row5_col2\" class=\"data row5 col2\" >0.533333</td> \n",
       "        <td id=\"T_add53852_5ccd_11e9_aa2a_0a580af47d02row5_col3\" class=\"data row5 col3\" >2.67%</td> \n",
       "        <td id=\"T_add53852_5ccd_11e9_aa2a_0a580af47d02row5_col4\" class=\"data row5 col4\" >53.33%</td> \n",
       "    </tr>    <tr> \n",
       "        <th id=\"T_add53852_5ccd_11e9_aa2a_0a580af47d02level0_row6\" class=\"row_heading level0 row6\" >[130.0, 147.5)</th> \n",
       "        <td id=\"T_add53852_5ccd_11e9_aa2a_0a580af47d02row6_col0\" class=\"data row6 col0\" >3</td> \n",
       "        <td id=\"T_add53852_5ccd_11e9_aa2a_0a580af47d02row6_col1\" class=\"data row6 col1\" >0.04</td> \n",
       "        <td id=\"T_add53852_5ccd_11e9_aa2a_0a580af47d02row6_col2\" class=\"data row6 col2\" >0.573333</td> \n",
       "        <td id=\"T_add53852_5ccd_11e9_aa2a_0a580af47d02row6_col3\" class=\"data row6 col3\" >4.00%</td> \n",
       "        <td id=\"T_add53852_5ccd_11e9_aa2a_0a580af47d02row6_col4\" class=\"data row6 col4\" >57.33%</td> \n",
       "    </tr>    <tr> \n",
       "        <th id=\"T_add53852_5ccd_11e9_aa2a_0a580af47d02level0_row7\" class=\"row_heading level0 row7\" >[147.5, 165.0)</th> \n",
       "        <td id=\"T_add53852_5ccd_11e9_aa2a_0a580af47d02row7_col0\" class=\"data row7 col0\" >4</td> \n",
       "        <td id=\"T_add53852_5ccd_11e9_aa2a_0a580af47d02row7_col1\" class=\"data row7 col1\" >0.0533333</td> \n",
       "        <td id=\"T_add53852_5ccd_11e9_aa2a_0a580af47d02row7_col2\" class=\"data row7 col2\" >0.626667</td> \n",
       "        <td id=\"T_add53852_5ccd_11e9_aa2a_0a580af47d02row7_col3\" class=\"data row7 col3\" >5.33%</td> \n",
       "        <td id=\"T_add53852_5ccd_11e9_aa2a_0a580af47d02row7_col4\" class=\"data row7 col4\" >62.67%</td> \n",
       "    </tr>    <tr> \n",
       "        <th id=\"T_add53852_5ccd_11e9_aa2a_0a580af47d02level0_row8\" class=\"row_heading level0 row8\" >[165.0, 182.5)</th> \n",
       "        <td id=\"T_add53852_5ccd_11e9_aa2a_0a580af47d02row8_col0\" class=\"data row8 col0\" >8</td> \n",
       "        <td id=\"T_add53852_5ccd_11e9_aa2a_0a580af47d02row8_col1\" class=\"data row8 col1\" >0.106667</td> \n",
       "        <td id=\"T_add53852_5ccd_11e9_aa2a_0a580af47d02row8_col2\" class=\"data row8 col2\" >0.733333</td> \n",
       "        <td id=\"T_add53852_5ccd_11e9_aa2a_0a580af47d02row8_col3\" class=\"data row8 col3\" >10.67%</td> \n",
       "        <td id=\"T_add53852_5ccd_11e9_aa2a_0a580af47d02row8_col4\" class=\"data row8 col4\" >73.33%</td> \n",
       "    </tr>    <tr> \n",
       "        <th id=\"T_add53852_5ccd_11e9_aa2a_0a580af47d02level0_row9\" class=\"row_heading level0 row9\" >[182.5, 200.175)</th> \n",
       "        <td id=\"T_add53852_5ccd_11e9_aa2a_0a580af47d02row9_col0\" class=\"data row9 col0\" >20</td> \n",
       "        <td id=\"T_add53852_5ccd_11e9_aa2a_0a580af47d02row9_col1\" class=\"data row9 col1\" >0.266667</td> \n",
       "        <td id=\"T_add53852_5ccd_11e9_aa2a_0a580af47d02row9_col2\" class=\"data row9 col2\" >1</td> \n",
       "        <td id=\"T_add53852_5ccd_11e9_aa2a_0a580af47d02row9_col3\" class=\"data row9 col3\" >26.67%</td> \n",
       "        <td id=\"T_add53852_5ccd_11e9_aa2a_0a580af47d02row9_col4\" class=\"data row9 col4\" >100.00%</td> \n",
       "    </tr></tbody> \n",
       "</table> "
      ],
      "text/plain": [
       "<pandas.io.formats.style.Styler at 0x7f9ec8c3de10>"
      ]
     },
     "execution_count": 9,
     "metadata": {},
     "output_type": "execute_result"
    }
   ],
   "source": [
    "# 频率分布情况 - 定量字段\n",
    "# ③  求出目标字段下频率分布的其他统计量 → 频数，频率，累计频率\n",
    "\n",
    "r_zj = pd.DataFrame(gcut_count)\n",
    "r_zj.rename(columns ={gcut_count.name:'频数'}, inplace = True)  # 修改频数字段名\n",
    "r_zj['频率'] = r_zj / r_zj['频数'].sum()  # 计算频率\n",
    "r_zj['累计频率'] = r_zj['频率'].cumsum()  # 计算累计频率\n",
    "r_zj['频率%'] = r_zj['频率'].apply(lambda x: \"%.2f%%\" % (x*100))  # 以百分比显示频率\n",
    "r_zj['累计频率%'] = r_zj['累计频率'].apply(lambda x: \"%.2f%%\" % (x*100))  # 以百分比显示累计频率\n",
    "r_zj.style.bar(subset=['频率','累计频率'], color='green',width=100)\n",
    "# 可视化显示"
   ]
  },
  {
   "cell_type": "code",
   "execution_count": 10,
   "metadata": {
    "id": "EB90CA7A5CE84ADF8BDAB70803A90C15",
    "scrolled": false
   },
   "outputs": [
    {
     "data": {
      "text/html": [
       "<img src=\"https://cdn.kesci.com/rt_upload/EB90CA7A5CE84ADF8BDAB70803A90C15/pptujk7hlr.png\">"
      ],
      "text/plain": [
       "<Figure size 864x144 with 1 Axes>"
      ]
     },
     "metadata": {
      "needs_background": "light"
     },
     "output_type": "display_data"
    }
   ],
   "source": [
    "# 频率分布情况 - 定量字段\n",
    "# ④ 绘制频率直方图\n",
    "\n",
    "r_zj['频率'].plot(kind = 'bar',\n",
    "                 width = 0.8,\n",
    "                 figsize = (12,2),\n",
    "                 rot = 0,\n",
    "                 color = 'k',\n",
    "                 grid = True,\n",
    "                 alpha = 0.5)\n",
    "plt.title('参考总价分布频率直方图')\n",
    "# 绘制直方图\n",
    "\n",
    "x = len(r_zj)\n",
    "y = r_zj['频率']\n",
    "m = r_zj['频数']\n",
    "for i,j,k in zip(range(x),y,m):\n",
    "    plt.text(i-0.1,j+0.01,'%i' % k, color = 'k')\n",
    "# 添加频数标签"
   ]
  },
  {
   "cell_type": "code",
   "execution_count": 11,
   "metadata": {
    "id": "6E001410AD714135A00B8EF215CE8EFD",
    "scrolled": false
   },
   "outputs": [
    {
     "name": "stdout",
     "output_type": "stream",
     "text": [
      "南北    29\n",
      "南     20\n",
      "东      8\n",
      "东南     5\n",
      "北      4\n",
      "西南     4\n",
      "西北     3\n",
      "东西     1\n",
      "东北     1\n",
      "Name: 朝向, dtype: int64\n"
     ]
    },
    {
     "data": {
      "text/html": [
       "<style  type=\"text/css\" >\n",
       "    #T_ae0104aa_5ccd_11e9_aa2a_0a580af47d02row0_col1 {\n",
       "            width:  10em;\n",
       "             height:  80%;\n",
       "            background:  linear-gradient(90deg,#d65f5f 100.0%, transparent 0%);\n",
       "        }    #T_ae0104aa_5ccd_11e9_aa2a_0a580af47d02row0_col2 {\n",
       "            width:  10em;\n",
       "             height:  80%;\n",
       "        }    #T_ae0104aa_5ccd_11e9_aa2a_0a580af47d02row1_col1 {\n",
       "            width:  10em;\n",
       "             height:  80%;\n",
       "            background:  linear-gradient(90deg,#d65f5f 67.9%, transparent 0%);\n",
       "        }    #T_ae0104aa_5ccd_11e9_aa2a_0a580af47d02row1_col2 {\n",
       "            width:  10em;\n",
       "             height:  80%;\n",
       "            background:  linear-gradient(90deg,#d65f5f 43.5%, transparent 0%);\n",
       "        }    #T_ae0104aa_5ccd_11e9_aa2a_0a580af47d02row2_col1 {\n",
       "            width:  10em;\n",
       "             height:  80%;\n",
       "            background:  linear-gradient(90deg,#d65f5f 25.0%, transparent 0%);\n",
       "        }    #T_ae0104aa_5ccd_11e9_aa2a_0a580af47d02row2_col2 {\n",
       "            width:  10em;\n",
       "             height:  80%;\n",
       "            background:  linear-gradient(90deg,#d65f5f 60.9%, transparent 0%);\n",
       "        }    #T_ae0104aa_5ccd_11e9_aa2a_0a580af47d02row3_col1 {\n",
       "            width:  10em;\n",
       "             height:  80%;\n",
       "            background:  linear-gradient(90deg,#d65f5f 14.3%, transparent 0%);\n",
       "        }    #T_ae0104aa_5ccd_11e9_aa2a_0a580af47d02row3_col2 {\n",
       "            width:  10em;\n",
       "             height:  80%;\n",
       "            background:  linear-gradient(90deg,#d65f5f 71.7%, transparent 0%);\n",
       "        }    #T_ae0104aa_5ccd_11e9_aa2a_0a580af47d02row4_col1 {\n",
       "            width:  10em;\n",
       "             height:  80%;\n",
       "            background:  linear-gradient(90deg,#d65f5f 10.7%, transparent 0%);\n",
       "        }    #T_ae0104aa_5ccd_11e9_aa2a_0a580af47d02row4_col2 {\n",
       "            width:  10em;\n",
       "             height:  80%;\n",
       "            background:  linear-gradient(90deg,#d65f5f 80.4%, transparent 0%);\n",
       "        }    #T_ae0104aa_5ccd_11e9_aa2a_0a580af47d02row5_col1 {\n",
       "            width:  10em;\n",
       "             height:  80%;\n",
       "            background:  linear-gradient(90deg,#d65f5f 10.7%, transparent 0%);\n",
       "        }    #T_ae0104aa_5ccd_11e9_aa2a_0a580af47d02row5_col2 {\n",
       "            width:  10em;\n",
       "             height:  80%;\n",
       "            background:  linear-gradient(90deg,#d65f5f 89.1%, transparent 0%);\n",
       "        }    #T_ae0104aa_5ccd_11e9_aa2a_0a580af47d02row6_col1 {\n",
       "            width:  10em;\n",
       "             height:  80%;\n",
       "            background:  linear-gradient(90deg,#d65f5f 7.1%, transparent 0%);\n",
       "        }    #T_ae0104aa_5ccd_11e9_aa2a_0a580af47d02row6_col2 {\n",
       "            width:  10em;\n",
       "             height:  80%;\n",
       "            background:  linear-gradient(90deg,#d65f5f 95.7%, transparent 0%);\n",
       "        }    #T_ae0104aa_5ccd_11e9_aa2a_0a580af47d02row7_col1 {\n",
       "            width:  10em;\n",
       "             height:  80%;\n",
       "        }    #T_ae0104aa_5ccd_11e9_aa2a_0a580af47d02row7_col2 {\n",
       "            width:  10em;\n",
       "             height:  80%;\n",
       "            background:  linear-gradient(90deg,#d65f5f 97.8%, transparent 0%);\n",
       "        }    #T_ae0104aa_5ccd_11e9_aa2a_0a580af47d02row8_col1 {\n",
       "            width:  10em;\n",
       "             height:  80%;\n",
       "        }    #T_ae0104aa_5ccd_11e9_aa2a_0a580af47d02row8_col2 {\n",
       "            width:  10em;\n",
       "             height:  80%;\n",
       "            background:  linear-gradient(90deg,#d65f5f 100.0%, transparent 0%);\n",
       "        }</style>  \n",
       "<table id=\"T_ae0104aa_5ccd_11e9_aa2a_0a580af47d02\" > \n",
       "<thead>    <tr> \n",
       "        <th class=\"blank level0\" ></th> \n",
       "        <th class=\"col_heading level0 col0\" >频数</th> \n",
       "        <th class=\"col_heading level0 col1\" >频率</th> \n",
       "        <th class=\"col_heading level0 col2\" >累计频率</th> \n",
       "        <th class=\"col_heading level0 col3\" >频率%</th> \n",
       "        <th class=\"col_heading level0 col4\" >累计频率%</th> \n",
       "    </tr></thead> \n",
       "<tbody>    <tr> \n",
       "        <th id=\"T_ae0104aa_5ccd_11e9_aa2a_0a580af47d02level0_row0\" class=\"row_heading level0 row0\" >南北</th> \n",
       "        <td id=\"T_ae0104aa_5ccd_11e9_aa2a_0a580af47d02row0_col0\" class=\"data row0 col0\" >29</td> \n",
       "        <td id=\"T_ae0104aa_5ccd_11e9_aa2a_0a580af47d02row0_col1\" class=\"data row0 col1\" >0.386667</td> \n",
       "        <td id=\"T_ae0104aa_5ccd_11e9_aa2a_0a580af47d02row0_col2\" class=\"data row0 col2\" >0.386667</td> \n",
       "        <td id=\"T_ae0104aa_5ccd_11e9_aa2a_0a580af47d02row0_col3\" class=\"data row0 col3\" >38.67%</td> \n",
       "        <td id=\"T_ae0104aa_5ccd_11e9_aa2a_0a580af47d02row0_col4\" class=\"data row0 col4\" >38.67%</td> \n",
       "    </tr>    <tr> \n",
       "        <th id=\"T_ae0104aa_5ccd_11e9_aa2a_0a580af47d02level0_row1\" class=\"row_heading level0 row1\" >南</th> \n",
       "        <td id=\"T_ae0104aa_5ccd_11e9_aa2a_0a580af47d02row1_col0\" class=\"data row1 col0\" >20</td> \n",
       "        <td id=\"T_ae0104aa_5ccd_11e9_aa2a_0a580af47d02row1_col1\" class=\"data row1 col1\" >0.266667</td> \n",
       "        <td id=\"T_ae0104aa_5ccd_11e9_aa2a_0a580af47d02row1_col2\" class=\"data row1 col2\" >0.653333</td> \n",
       "        <td id=\"T_ae0104aa_5ccd_11e9_aa2a_0a580af47d02row1_col3\" class=\"data row1 col3\" >26.67%</td> \n",
       "        <td id=\"T_ae0104aa_5ccd_11e9_aa2a_0a580af47d02row1_col4\" class=\"data row1 col4\" >65.33%</td> \n",
       "    </tr>    <tr> \n",
       "        <th id=\"T_ae0104aa_5ccd_11e9_aa2a_0a580af47d02level0_row2\" class=\"row_heading level0 row2\" >东</th> \n",
       "        <td id=\"T_ae0104aa_5ccd_11e9_aa2a_0a580af47d02row2_col0\" class=\"data row2 col0\" >8</td> \n",
       "        <td id=\"T_ae0104aa_5ccd_11e9_aa2a_0a580af47d02row2_col1\" class=\"data row2 col1\" >0.106667</td> \n",
       "        <td id=\"T_ae0104aa_5ccd_11e9_aa2a_0a580af47d02row2_col2\" class=\"data row2 col2\" >0.76</td> \n",
       "        <td id=\"T_ae0104aa_5ccd_11e9_aa2a_0a580af47d02row2_col3\" class=\"data row2 col3\" >10.67%</td> \n",
       "        <td id=\"T_ae0104aa_5ccd_11e9_aa2a_0a580af47d02row2_col4\" class=\"data row2 col4\" >76.00%</td> \n",
       "    </tr>    <tr> \n",
       "        <th id=\"T_ae0104aa_5ccd_11e9_aa2a_0a580af47d02level0_row3\" class=\"row_heading level0 row3\" >东南</th> \n",
       "        <td id=\"T_ae0104aa_5ccd_11e9_aa2a_0a580af47d02row3_col0\" class=\"data row3 col0\" >5</td> \n",
       "        <td id=\"T_ae0104aa_5ccd_11e9_aa2a_0a580af47d02row3_col1\" class=\"data row3 col1\" >0.0666667</td> \n",
       "        <td id=\"T_ae0104aa_5ccd_11e9_aa2a_0a580af47d02row3_col2\" class=\"data row3 col2\" >0.826667</td> \n",
       "        <td id=\"T_ae0104aa_5ccd_11e9_aa2a_0a580af47d02row3_col3\" class=\"data row3 col3\" >6.67%</td> \n",
       "        <td id=\"T_ae0104aa_5ccd_11e9_aa2a_0a580af47d02row3_col4\" class=\"data row3 col4\" >82.67%</td> \n",
       "    </tr>    <tr> \n",
       "        <th id=\"T_ae0104aa_5ccd_11e9_aa2a_0a580af47d02level0_row4\" class=\"row_heading level0 row4\" >北</th> \n",
       "        <td id=\"T_ae0104aa_5ccd_11e9_aa2a_0a580af47d02row4_col0\" class=\"data row4 col0\" >4</td> \n",
       "        <td id=\"T_ae0104aa_5ccd_11e9_aa2a_0a580af47d02row4_col1\" class=\"data row4 col1\" >0.0533333</td> \n",
       "        <td id=\"T_ae0104aa_5ccd_11e9_aa2a_0a580af47d02row4_col2\" class=\"data row4 col2\" >0.88</td> \n",
       "        <td id=\"T_ae0104aa_5ccd_11e9_aa2a_0a580af47d02row4_col3\" class=\"data row4 col3\" >5.33%</td> \n",
       "        <td id=\"T_ae0104aa_5ccd_11e9_aa2a_0a580af47d02row4_col4\" class=\"data row4 col4\" >88.00%</td> \n",
       "    </tr>    <tr> \n",
       "        <th id=\"T_ae0104aa_5ccd_11e9_aa2a_0a580af47d02level0_row5\" class=\"row_heading level0 row5\" >西南</th> \n",
       "        <td id=\"T_ae0104aa_5ccd_11e9_aa2a_0a580af47d02row5_col0\" class=\"data row5 col0\" >4</td> \n",
       "        <td id=\"T_ae0104aa_5ccd_11e9_aa2a_0a580af47d02row5_col1\" class=\"data row5 col1\" >0.0533333</td> \n",
       "        <td id=\"T_ae0104aa_5ccd_11e9_aa2a_0a580af47d02row5_col2\" class=\"data row5 col2\" >0.933333</td> \n",
       "        <td id=\"T_ae0104aa_5ccd_11e9_aa2a_0a580af47d02row5_col3\" class=\"data row5 col3\" >5.33%</td> \n",
       "        <td id=\"T_ae0104aa_5ccd_11e9_aa2a_0a580af47d02row5_col4\" class=\"data row5 col4\" >93.33%</td> \n",
       "    </tr>    <tr> \n",
       "        <th id=\"T_ae0104aa_5ccd_11e9_aa2a_0a580af47d02level0_row6\" class=\"row_heading level0 row6\" >西北</th> \n",
       "        <td id=\"T_ae0104aa_5ccd_11e9_aa2a_0a580af47d02row6_col0\" class=\"data row6 col0\" >3</td> \n",
       "        <td id=\"T_ae0104aa_5ccd_11e9_aa2a_0a580af47d02row6_col1\" class=\"data row6 col1\" >0.04</td> \n",
       "        <td id=\"T_ae0104aa_5ccd_11e9_aa2a_0a580af47d02row6_col2\" class=\"data row6 col2\" >0.973333</td> \n",
       "        <td id=\"T_ae0104aa_5ccd_11e9_aa2a_0a580af47d02row6_col3\" class=\"data row6 col3\" >4.00%</td> \n",
       "        <td id=\"T_ae0104aa_5ccd_11e9_aa2a_0a580af47d02row6_col4\" class=\"data row6 col4\" >97.33%</td> \n",
       "    </tr>    <tr> \n",
       "        <th id=\"T_ae0104aa_5ccd_11e9_aa2a_0a580af47d02level0_row7\" class=\"row_heading level0 row7\" >东西</th> \n",
       "        <td id=\"T_ae0104aa_5ccd_11e9_aa2a_0a580af47d02row7_col0\" class=\"data row7 col0\" >1</td> \n",
       "        <td id=\"T_ae0104aa_5ccd_11e9_aa2a_0a580af47d02row7_col1\" class=\"data row7 col1\" >0.0133333</td> \n",
       "        <td id=\"T_ae0104aa_5ccd_11e9_aa2a_0a580af47d02row7_col2\" class=\"data row7 col2\" >0.986667</td> \n",
       "        <td id=\"T_ae0104aa_5ccd_11e9_aa2a_0a580af47d02row7_col3\" class=\"data row7 col3\" >1.33%</td> \n",
       "        <td id=\"T_ae0104aa_5ccd_11e9_aa2a_0a580af47d02row7_col4\" class=\"data row7 col4\" >98.67%</td> \n",
       "    </tr>    <tr> \n",
       "        <th id=\"T_ae0104aa_5ccd_11e9_aa2a_0a580af47d02level0_row8\" class=\"row_heading level0 row8\" >东北</th> \n",
       "        <td id=\"T_ae0104aa_5ccd_11e9_aa2a_0a580af47d02row8_col0\" class=\"data row8 col0\" >1</td> \n",
       "        <td id=\"T_ae0104aa_5ccd_11e9_aa2a_0a580af47d02row8_col1\" class=\"data row8 col1\" >0.0133333</td> \n",
       "        <td id=\"T_ae0104aa_5ccd_11e9_aa2a_0a580af47d02row8_col2\" class=\"data row8 col2\" >1</td> \n",
       "        <td id=\"T_ae0104aa_5ccd_11e9_aa2a_0a580af47d02row8_col3\" class=\"data row8 col3\" >1.33%</td> \n",
       "        <td id=\"T_ae0104aa_5ccd_11e9_aa2a_0a580af47d02row8_col4\" class=\"data row8 col4\" >100.00%</td> \n",
       "    </tr></tbody> \n",
       "</table> "
      ],
      "text/plain": [
       "<pandas.io.formats.style.Styler at 0x7f9ec83dbac8>"
      ]
     },
     "execution_count": 11,
     "metadata": {},
     "output_type": "execute_result"
    }
   ],
   "source": [
    "# 频率分布情况 - 定性字段\n",
    "# ① 通过计数统计判断不同类别的频率\n",
    "\n",
    "cx_g = data['朝向'].value_counts(sort=True)\n",
    "print(cx_g)\n",
    "# 统计频率\n",
    "\n",
    "r_cx = pd.DataFrame(cx_g)\n",
    "r_cx.rename(columns ={cx_g.name:'频数'}, inplace = True)  # 修改频数字段名\n",
    "r_cx['频率'] = r_cx / r_cx['频数'].sum()  # 计算频率\n",
    "r_cx['累计频率'] = r_cx['频率'].cumsum()  # 计算累计频率\n",
    "r_cx['频率%'] = r_cx['频率'].apply(lambda x: \"%.2f%%\" % (x*100))  # 以百分比显示频率\n",
    "r_cx['累计频率%'] = r_cx['累计频率'].apply(lambda x: \"%.2f%%\" % (x*100))  # 以百分比显示累计频率\n",
    "r_cx.style.bar(subset=['频率','累计频率'], color='#d65f5f',width=100)\n",
    "# 可视化显示"
   ]
  },
  {
   "cell_type": "code",
   "execution_count": 12,
   "metadata": {
    "id": "A9F5268E222D4EAB85AB9A05431C6755",
    "scrolled": false
   },
   "outputs": [
    {
     "data": {
      "text/plain": [
       "(-1.1101621526291232,\n",
       " 1.1004839130571389,\n",
       " -1.1062755172910221,\n",
       " 1.1205348076125872)"
      ]
     },
     "execution_count": 12,
     "metadata": {},
     "output_type": "execute_result"
    },
    {
     "data": {
      "text/html": [
       "<img src=\"https://cdn.kesci.com/rt_upload/A9F5268E222D4EAB85AB9A05431C6755/pptujktzk7.png\">"
      ],
      "text/plain": [
       "<Figure size 864x144 with 1 Axes>"
      ]
     },
     "metadata": {
      "needs_background": "light"
     },
     "output_type": "display_data"
    },
    {
     "data": {
      "text/html": [
       "<img src=\"https://cdn.kesci.com/rt_upload/A9F5268E222D4EAB85AB9A05431C6755/pptujkxldv.png\">"
      ],
      "text/plain": [
       "<Figure size 432x288 with 1 Axes>"
      ]
     },
     "metadata": {},
     "output_type": "display_data"
    }
   ],
   "source": [
    "# 频率分布情况 - 定量字段\n",
    "# ② 绘制频率直方图、饼图\n",
    "\n",
    "plt.figure(num = 1,figsize = (12,2))\n",
    "r_cx['频率'].plot(kind = 'bar',\n",
    "                 width = 0.8,\n",
    "                 rot = 0,\n",
    "                 color = 'k',\n",
    "                 grid = True,\n",
    "                 alpha = 0.5)\n",
    "plt.title('参考总价分布频率直方图')\n",
    "# 绘制直方图\n",
    "\n",
    "plt.figure(num = 2)\n",
    "plt.pie(r_cx['频数'],\n",
    "       labels = r_cx.index,\n",
    "       autopct='%.2f%%',\n",
    "       shadow = True)\n",
    "plt.axis('equal')\n",
    "# 绘制饼图"
   ]
  },
  {
   "cell_type": "markdown",
   "metadata": {
    "id": "52B4183AF22C46E7952D776D09931531",
    "mdEditEnable": false
   },
   "source": [
    "[返回目录](#【目录】)"
   ]
  },
  {
   "cell_type": "markdown",
   "metadata": {
    "id": "C9DC03149E81449E9C8AEE42720BA501",
    "mdEditEnable": false
   },
   "source": [
    "# 对比分析\n",
    "\n",
    "对比分析 → 两个互相联系的指标进行比较\n",
    "\n",
    "* 绝对数比较（相减） / 相对数比较（相除）\n",
    "* 结构分析、比例分析、空间比较分析、动态对比分析"
   ]
  },
  {
   "cell_type": "code",
   "execution_count": 13,
   "metadata": {
    "id": "17AC90F0D31549559A0441DF00966A14",
    "scrolled": false
   },
   "outputs": [
    {
     "name": "stdout",
     "output_type": "stream",
     "text": [
      "                A_sale      B_sale\n",
      "2017-06-01  846.972587  343.402036\n",
      "2017-06-02  876.679733  450.481262\n",
      "2017-06-03  561.193676  674.501452\n",
      "2017-06-04   37.563063  356.308808\n",
      "2017-06-05  380.413284  611.469395\n"
     ]
    },
    {
     "data": {
      "text/plain": [
       "<matplotlib.axes._subplots.AxesSubplot at 0x7f9ec82e5320>"
      ]
     },
     "execution_count": 13,
     "metadata": {},
     "output_type": "execute_result"
    },
    {
     "data": {
      "text/html": [
       "<img src=\"https://cdn.kesci.com/rt_upload/17AC90F0D31549559A0441DF00966A14/pptujlylsv.png\">"
      ],
      "text/plain": [
       "<Figure size 720x216 with 1 Axes>"
      ]
     },
     "metadata": {
      "needs_background": "light"
     },
     "output_type": "display_data"
    },
    {
     "data": {
      "text/html": [
       "<img src=\"https://cdn.kesci.com/rt_upload/17AC90F0D31549559A0441DF00966A14/pptujl1qu1.png\">"
      ],
      "text/plain": [
       "<Figure size 720x216 with 1 Axes>"
      ]
     },
     "metadata": {
      "needs_background": "light"
     },
     "output_type": "display_data"
    }
   ],
   "source": [
    "# 1、绝对数比较 → 相减\n",
    "# 相互对比的指标在量级上不能差别过大\n",
    "# （1）折线图比较\n",
    "# （2）多系列柱状图比较\n",
    "\n",
    "data = pd.DataFrame(np.random.rand(30,2)*1000,\n",
    "                   columns = ['A_sale','B_sale'],\n",
    "                   index = pd.period_range('20170601','20170630'))\n",
    "print(data.head())\n",
    "# 创建数据 → 30天内A/B产品的日销售额\n",
    "\n",
    "data.plot(kind='line',\n",
    "       style = '--.',\n",
    "       alpha = 0.8,\n",
    "       figsize = (10,3),\n",
    "       title = 'AB产品销量对比-折线图')\n",
    "# 折线图比较\n",
    "\n",
    "data.plot(kind = 'bar',\n",
    "          width = 0.8,\n",
    "          alpha = 0.8,\n",
    "          figsize = (10,3),\n",
    "          title = 'AB产品销量对比-柱状图')\n",
    "# 多系列柱状图比较"
   ]
  },
  {
   "cell_type": "code",
   "execution_count": 14,
   "metadata": {
    "id": "89411E2ECDA840D886BD0D3345C85297",
    "scrolled": false
   },
   "outputs": [
    {
     "data": {
      "text/plain": [
       "[Text(0, 0, '2017-06-01'),\n",
       " Text(0, 0, '2017-06-07'),\n",
       " Text(0, 0, '2017-06-13'),\n",
       " Text(0, 0, '2017-06-19'),\n",
       " Text(0, 0, '2017-06-25')]"
      ]
     },
     "execution_count": 14,
     "metadata": {},
     "output_type": "execute_result"
    },
    {
     "data": {
      "text/html": [
       "<img src=\"https://cdn.kesci.com/rt_upload/89411E2ECDA840D886BD0D3345C85297/pptujm6kp8.png\">"
      ],
      "text/plain": [
       "<Figure size 720x432 with 2 Axes>"
      ]
     },
     "metadata": {
      "needs_background": "light"
     },
     "output_type": "display_data"
    }
   ],
   "source": [
    "# 1、绝对数比较 → 相减\n",
    "# （3）柱状图堆叠图+差值折线图比较\n",
    "\n",
    "fig3 = plt.figure(figsize=(10,6))\n",
    "plt.subplots_adjust(hspace=0.3)\n",
    "# 创建子图及间隔设置\n",
    "\n",
    "ax1 = fig3.add_subplot(2,1,1)  \n",
    "x = range(len(data))\n",
    "y1 = data['A_sale']\n",
    "y2 = -data['B_sale']\n",
    "plt.bar(x,y1,width = 1,facecolor = 'yellowgreen')\n",
    "plt.bar(x,y2,width = 1,facecolor = 'lightskyblue')\n",
    "plt.title('AB产品销量对比-堆叠图')\n",
    "plt.grid()\n",
    "plt.xticks(range(0,30,6))\n",
    "ax1.set_xticklabels(data.index[::6])\n",
    "# 创建堆叠图\n",
    "\n",
    "ax2 = fig3.add_subplot(2,1,2)  \n",
    "y3 = data['A_sale']-data['B_sale']\n",
    "plt.plot(x,y3,'--go')\n",
    "\n",
    "plt.grid()\n",
    "plt.title('AB产品销量对比-差值折线')\n",
    "plt.xticks(range(0,30,6))\n",
    "ax2.set_xticklabels(data.index[::6])\n",
    "# 创建差值折线图"
   ]
  },
  {
   "cell_type": "code",
   "execution_count": 15,
   "metadata": {
    "id": "D9AA3E2CEA564F15942791A2CACDC332",
    "scrolled": false
   },
   "outputs": [
    {
     "name": "stdout",
     "output_type": "stream",
     "text": [
      "                A_sale      B_sale\n",
      "2017-06-01  348.659213  111.553444\n",
      "2017-06-02  883.486011    3.247400\n",
      "2017-06-03  501.863856   94.357132\n",
      "2017-06-04  275.810050   55.836778\n",
      "2017-06-05  296.433056   55.641350\n",
      "------\n",
      "                A_sale      B_sale     A_per     B_per A_per% B_per%\n",
      "2017-06-01  348.659213  111.553444  0.019602  0.038277  1.96%  3.83%\n",
      "2017-06-02  883.486011    3.247400  0.049669  0.001114  4.97%  0.11%\n",
      "2017-06-03  501.863856   94.357132  0.028215  0.032376  2.82%  3.24%\n",
      "2017-06-04  275.810050   55.836778  0.015506  0.019159  1.55%  1.92%\n",
      "2017-06-05  296.433056   55.641350  0.016665  0.019092  1.67%  1.91%\n"
     ]
    },
    {
     "data": {
      "text/plain": [
       "<matplotlib.legend.Legend at 0x7f9ec7fa9470>"
      ]
     },
     "execution_count": 15,
     "metadata": {},
     "output_type": "execute_result"
    },
    {
     "data": {
      "text/html": [
       "<img src=\"https://cdn.kesci.com/rt_upload/D9AA3E2CEA564F15942791A2CACDC332/pptujm6nzv.png\">"
      ],
      "text/plain": [
       "<Figure size 720x432 with 2 Axes>"
      ]
     },
     "metadata": {
      "needs_background": "light"
     },
     "output_type": "display_data"
    }
   ],
   "source": [
    "# 2、相对数比较 → 相除\n",
    "# 有联系的指标综合计算后的对比，数值为相对数\n",
    "# 结构分析、比例分析、空间比较分析、动态对比分析、计划完成度分析\n",
    "# （1）结构分析\n",
    "# 在分组基础上，各组总量指标与总体的总量指标对比，计算出各组数量在总量中所占比重\n",
    "# 反映总体的内部结构\n",
    "\n",
    "data = pd.DataFrame({'A_sale':np.random.rand(30)*1000,\n",
    "                    'B_sale':np.random.rand(30)*200},\n",
    "                   index = pd.period_range('20170601','20170630'))\n",
    "print(data.head())\n",
    "print('------')\n",
    "# 创建数据 → 30天内A/B产品的日销售额\n",
    "# A/B产品销售额量级不同\n",
    "\n",
    "data['A_per'] = data['A_sale'] / data['A_sale'].sum()\n",
    "data['B_per'] = data['B_sale'] / data['B_sale'].sum()\n",
    "# 计算出每天的营收占比\n",
    "\n",
    "data['A_per%'] = data['A_per'].apply(lambda x: '%.2f%%' % (x*100))\n",
    "data['B_per%'] = data['B_per'].apply(lambda x: '%.2f%%' % (x*100))\n",
    "# 转换为百分数\n",
    "print(data.head())\n",
    "\n",
    "fig,axes = plt.subplots(2,1,figsize = (10,6),sharex=True)\n",
    "data[['A_sale','B_sale']].plot(kind='line',style = '--.',alpha = 0.8,ax=axes[0])\n",
    "axes[0].legend(loc = 'upper right')\n",
    "data[['A_per','B_per']].plot(kind='line',style = '--.',alpha = 0.8,ax=axes[1])\n",
    "axes[1].legend(loc = 'upper right')\n",
    "# 绝对值对比较难看出结构性变化，通过看销售额占比来看售卖情况的对比\n",
    "\n",
    "# 同时可以反应“强度” → 两个性质不同但有一定联系的总量指标对比，用来说明“强度”、“密度”、“普遍程度”\n",
    "# 例如：国内生产总值“元/人”，人口密度“人/平方公里”"
   ]
  },
  {
   "cell_type": "code",
   "execution_count": 16,
   "metadata": {
    "id": "66A2187E68744C7A957AEE104E31CFE8",
    "scrolled": false
   },
   "outputs": [
    {
     "name": "stdout",
     "output_type": "stream",
     "text": [
      "         consumption       salary\n",
      "2017-01  2757.900773  5212.508786\n",
      "2017-02  2048.115024  5447.378292\n",
      "2017-03  2324.041213  5353.050758\n",
      "2017-04  2862.079150  5328.795441\n",
      "2017-05  2163.988127  5270.518107\n",
      "------\n",
      "         consumption       salary       c_s\n",
      "2017-01  2757.900773  5212.508786  0.529093\n",
      "2017-02  2048.115024  5447.378292  0.375982\n",
      "2017-03  2324.041213  5353.050758  0.434153\n",
      "2017-04  2862.079150  5328.795441  0.537097\n",
      "2017-05  2163.988127  5270.518107  0.410584\n"
     ]
    },
    {
     "data": {
      "text/plain": [
       "<matplotlib.axes._subplots.AxesSubplot at 0x7f9ec800cf98>"
      ]
     },
     "execution_count": 16,
     "metadata": {},
     "output_type": "execute_result"
    },
    {
     "data": {
      "text/html": [
       "<img src=\"https://cdn.kesci.com/rt_upload/66A2187E68744C7A957AEE104E31CFE8/pptujmturc.png\">"
      ],
      "text/plain": [
       "<Figure size 576x216 with 1 Axes>"
      ]
     },
     "metadata": {
      "needs_background": "light"
     },
     "output_type": "display_data"
    }
   ],
   "source": [
    "# 2、相对数比较 → 相除\n",
    "# （2）比例分析\n",
    "# 在分组的基础上，将总体不同部分的指标数值进行对比，其相对指标一般称为“比例相对数”\n",
    "# 比例相对数 = 总体中某一部分数值 / 总体中另一部分数值 → “基本建设投资额中工业、农业、教育投资的比例”、“男女比例”...\n",
    "\n",
    "data = pd.DataFrame({'consumption':np.random.rand(12)*1000 + 2000,\n",
    "                    'salary':np.random.rand(12)*500 + 5000},\n",
    "                   index = pd.period_range('2017/1','2017/12',freq = 'M'))\n",
    "print(data.head())\n",
    "print('------')\n",
    "# 创建数据 → 某人一年内的消费、工资薪水情况\n",
    "# 消费按照2000-3000/月随机，工资按照5000-5500/月随机\n",
    "\n",
    "data['c_s'] = data['consumption'] / data['salary']\n",
    "print(data.head())\n",
    "# 比例相对数 → 消费收入比\n",
    "\n",
    "data['c_s'].plot.area(color = 'green',alpha = 0.5,ylim = [0.3,0.6],figsize=(8,3),grid=True)\n",
    "# 创建面积图表达"
   ]
  },
  {
   "cell_type": "code",
   "execution_count": 17,
   "metadata": {
    "id": "F92664EF2EF44526A55FC69C1FAEFFEB",
    "scrolled": false
   },
   "outputs": [
    {
     "name": "stdout",
     "output_type": "stream",
     "text": [
      "                      A            B            C           D\n",
      "2017-06-01   177.961459   708.383597  4909.507240   82.563954\n",
      "2017-06-02  4432.839764    91.807479  2576.231663  399.956041\n",
      "2017-06-03  2515.921043  1046.269136  2459.102839  630.667600\n",
      "2017-06-04  2750.874782    47.390987  8882.599512  315.990994\n",
      "2017-06-05  3247.937122  1671.531482  7552.947466  518.590683\n",
      "------\n"
     ]
    },
    {
     "data": {
      "text/plain": [
       "<matplotlib.axes._subplots.AxesSubplot at 0x7f9ec66249e8>"
      ]
     },
     "execution_count": 17,
     "metadata": {},
     "output_type": "execute_result"
    },
    {
     "data": {
      "text/html": [
       "<img src=\"https://cdn.kesci.com/rt_upload/F92664EF2EF44526A55FC69C1FAEFFEB/pptujnic19.png\">"
      ],
      "text/plain": [
       "<Figure size 432x288 with 1 Axes>"
      ]
     },
     "metadata": {
      "needs_background": "light"
     },
     "output_type": "display_data"
    },
    {
     "data": {
      "text/html": [
       "<img src=\"https://cdn.kesci.com/rt_upload/F92664EF2EF44526A55FC69C1FAEFFEB/pptujnjlis.png\">"
      ],
      "text/plain": [
       "<Figure size 864x288 with 1 Axes>"
      ]
     },
     "metadata": {
      "needs_background": "light"
     },
     "output_type": "display_data"
    }
   ],
   "source": [
    "# 2、相对数比较 → 相除\n",
    "# （3）空间比较分析（横向对比分析）\n",
    "# 同类现象在同一时间不同空间的指标数值进行对比，反应同类现象在不同空间上的差异程度和现象发展不平衡的状况\n",
    "# 空间比较相对数 = 甲空间某一现象的数值 / 乙空间同类现象的数值\n",
    "# 一个很现实的例子 → 绝对数来看，我国多经济总量世界第一，但从人均水平来看是另一回事\n",
    "\n",
    "data = pd.DataFrame({'A':np.random.rand(30)*5000,\n",
    "                    'B':np.random.rand(30)*2000,\n",
    "                    'C':np.random.rand(30)*10000,\n",
    "                    'D':np.random.rand(30)*800},\n",
    "                   index = pd.period_range('20170601','20170630'))\n",
    "print(data.head())\n",
    "print('------')\n",
    "# 创建数据 → 30天内A/B/C/D四个产品的销售情况\n",
    "# 不同产品的销售量级不同\n",
    "\n",
    "data.sum().plot(kind = 'bar',color = ['r','g','b','k'], alpha = 0.8, grid = True)\n",
    "for i,j in zip(range(4),data.sum()):\n",
    "    plt.text(i-0.25,j+2000,'%.2f' % j, color = 'k')\n",
    "# 通过柱状图做横向比较 → 4个产品的销售额总量\n",
    "\n",
    "data[:10].plot(kind = 'bar',color = ['r','g','b','k'], alpha = 0.8, grid = True, figsize = (12,4),width = 0.8)\n",
    "# 多系列柱状图，横向比较前十天4个产品的销售额\n",
    "\n",
    "# 关于同比与环比\n",
    "# 同比 → 产品A在2015.3和2016.3的比较（相邻时间段的同一时间点）\n",
    "# 环比 → 产品A在2015.3和2015.4的比较（相邻时间段的比较）\n",
    "# 如何界定“相邻时间段”与“时间点”，决定了是同比还是环比"
   ]
  },
  {
   "cell_type": "code",
   "execution_count": 18,
   "metadata": {
    "id": "92F951525C36417B8264131482754725",
    "scrolled": false
   },
   "outputs": [
    {
     "name": "stdout",
     "output_type": "stream",
     "text": [
      "                      A\n",
      "2017-06-01  1634.058525\n",
      "2017-06-02  2418.244774\n",
      "2017-06-03  2230.327796\n",
      "2017-06-04  1073.462583\n",
      "2017-06-05  2844.965868\n",
      "------\n",
      "                      A  base     l_growth     z_growth    lspeed    zspeed\n",
      "2017-06-01  1634.058525  1000   634.058525     0.000000  0.634059       NaN\n",
      "2017-06-02  2418.244774  1000  1418.244774   784.186249  1.418245  0.479901\n",
      "2017-06-03  2230.327796  1000  1230.327796  -187.916978  1.230328 -0.077708\n",
      "2017-06-04  1073.462583  1000    73.462583 -1156.865213  0.073463 -0.518697\n",
      "2017-06-05  2844.965868  1000  1844.965868  1771.503285  1.844966  1.650270\n",
      "------\n"
     ]
    },
    {
     "data": {
      "text/html": [
       "<img src=\"https://cdn.kesci.com/rt_upload/92F951525C36417B8264131482754725/pptujoe9wp.png\">"
      ],
      "text/plain": [
       "<Figure size 720x288 with 1 Axes>"
      ]
     },
     "metadata": {
      "needs_background": "light"
     },
     "output_type": "display_data"
    },
    {
     "data": {
      "text/html": [
       "<img src=\"https://cdn.kesci.com/rt_upload/92F951525C36417B8264131482754725/pptujokymi.png\">"
      ],
      "text/plain": [
       "<Figure size 720x288 with 1 Axes>"
      ]
     },
     "metadata": {
      "needs_background": "light"
     },
     "output_type": "display_data"
    }
   ],
   "source": [
    "# 2、相对数比较 → 相除\n",
    "# （4）动态对比分析（纵向对比分析）\n",
    "# 同一现象在不同时间上的指标数值进行对比，反应现象的数量随着时间推移而发展变动的程度及趋势\n",
    "# 最基本方法，计算动态相对数 → 发展速度\n",
    "# 动态相对数（发展速度） = 某一现象的报告期数值 / 同一现象的基期数值\n",
    "# 基期：用来比较的基础时期\n",
    "# 报告期：所要研究的时期，又称计算期\n",
    "\n",
    "data = pd.DataFrame({'A':np.random.rand(30)*2000+1000},\n",
    "                   index = pd.period_range('20170601','20170630'))\n",
    "print(data.head())\n",
    "print('------')\n",
    "# 创建数据 → 30天内A产品的销售情况\n",
    "\n",
    "data['base'] = 1000  # 假设基期销售额为1000，后面每一天都为计算期\n",
    "data['l_growth'] = data['A'] - data['base']  # 累计增长量 = 报告期水平 - 固定基期水平\n",
    "data['z_growth'] = data['A'] - data.shift(1)['A']  # 逐期增长量 = 报告期水平 - 报告期前一期水平\n",
    "data[data.isnull()] = 0  # 替换缺失值\n",
    "\n",
    "data[['l_growth','z_growth']].plot(figsize = (10,4),style = '--.',alpha = 0.8)  \n",
    "\n",
    "plt.legend(loc = 'lower left')\n",
    "plt.grid()\n",
    "# 通过折线图查看增长量情况\n",
    "\n",
    "data['lspeed'] = data['l_growth'] / data['base']  # 定基增长速度\n",
    "data['zspeed'] = data['z_growth'] / data.shift(1)['A']  # 环比增长速度\n",
    "data[['lspeed','zspeed']].plot(figsize = (10,4),style = '--.',alpha = 0.8)  \n",
    "\n",
    "plt.grid()\n",
    "print(data.head())\n",
    "print('------')\n",
    "# 通过折线图查看发展速度"
   ]
  },
  {
   "cell_type": "markdown",
   "metadata": {
    "id": "2F9CC7DCBB84420CA22678A5E780286B",
    "mdEditEnable": false
   },
   "source": [
    "[返回目录](#【目录】)"
   ]
  },
  {
   "cell_type": "markdown",
   "metadata": {
    "id": "45F3ED0660984742884AB6F0B53F8007",
    "mdEditEnable": false
   },
   "source": [
    "# 统计分析\n",
    "\n",
    "统计指标对定量数据进行统计描述，常从集中趋势和离中趋势两个方面进行分析\n",
    "\n",
    "集中趋势度量 / 离中趋势度量"
   ]
  },
  {
   "cell_type": "code",
   "execution_count": 19,
   "metadata": {
    "id": "A5470028BA5348FE96AF546AC8801127",
    "scrolled": false
   },
   "outputs": [
    {
     "name": "stdout",
     "output_type": "stream",
     "text": [
      "   value         f\n",
      "0    112  0.022281\n",
      "1    106  0.016943\n",
      "2    117  0.018689\n",
      "3    110  0.006397\n",
      "4    100  0.019060\n",
      "------\n",
      "简单算数平均值为：110.09\n",
      "加权算数平均值为：110.05\n"
     ]
    }
   ],
   "source": [
    "# 1、集中趋势度量\n",
    "# 指一组数据向某一中心靠拢的倾向，核心在于寻找数据的代表值或中心值 —— 统计平均数\n",
    "# 算数平均数、位置平均数\n",
    "# （1）算数平均数\n",
    "\n",
    "data = pd.DataFrame({'value':np.random.randint(100,120,100),\n",
    "                    'f':np.random.rand(100)})\n",
    "data['f'] = data['f'] / data['f'].sum()  # f为权重，这里将f列设置成总和为1的权重占比\n",
    "print(data.head())\n",
    "print('------')\n",
    "# 创建数据\n",
    "\n",
    "mean = data['value'].mean()\n",
    "print('简单算数平均值为：%.2f' % mean)\n",
    "# 简单算数平均值 = 总和 / 样本数量 （不涉及权重）\n",
    "\n",
    "mean_w = (data['value'] * data['f']).sum() / data['f'].sum()\n",
    "print('加权算数平均值为：%.2f' % mean_w)\n",
    "# 加权算数平均值 = (x1f1 + x2f2 + ... + xnfn) / (f1 + f2 + ... + fn)"
   ]
  },
  {
   "cell_type": "code",
   "execution_count": 20,
   "metadata": {
    "id": "00FFA037167A47F9891ABCD55814CC66",
    "scrolled": false
   },
   "outputs": [
    {
     "name": "stdout",
     "output_type": "stream",
     "text": [
      "众数为 [103]\n",
      "中位数为110\n"
     ]
    },
    {
     "data": {
      "text/plain": [
       "Text(115.09, 0.015, '中位数：110')"
      ]
     },
     "execution_count": 20,
     "metadata": {},
     "output_type": "execute_result"
    },
    {
     "data": {
      "text/html": [
       "<img src=\"https://cdn.kesci.com/rt_upload/00FFA037167A47F9891ABCD55814CC66/pptujo5a8b.png\">"
      ],
      "text/plain": [
       "<Figure size 432x288 with 1 Axes>"
      ]
     },
     "metadata": {
      "needs_background": "light"
     },
     "output_type": "display_data"
    }
   ],
   "source": [
    "# 1、集中趋势度量\n",
    "# （2）位置平均数\n",
    "\n",
    "m = data['value'].mode()\n",
    "print('众数为',m.tolist())\n",
    "# 众数是一组数据中出现次数最多的数，这里可能返回多个值\n",
    "\n",
    "med = data['value'].median()\n",
    "print('中位数为%i' % med)\n",
    "# 中位数指将总体各单位标志按照大小顺序排列后，中间位置的数字\n",
    "\n",
    "data['value'].plot(kind = 'kde',style = '--k',grid = True)\n",
    "# 密度曲线\n",
    "\n",
    "plt.axvline(mean,color='r',linestyle=\"--\",alpha=0.8)  \n",
    "plt.text(mean + 5,0.005,'简单算数平均值为：%.2f' % mean, color = 'r')\n",
    "# 简单算数平均值\n",
    "\n",
    "plt.axvline(mean_w,color='b',linestyle=\"--\",alpha=0.8)  \n",
    "plt.text(mean + 5,0.01,'加权算数平均值：%.2f' % mean_w, color = 'b')\n",
    "# 加权算数平均值\n",
    "\n",
    "plt.axvline(med,color='g',linestyle=\"--\",alpha=0.8)  \n",
    "plt.text(mean + 5,0.015,'中位数：%i' % med, color = 'g')\n",
    "# 中位数\n",
    "# **这里三个数text显示的横坐标一致，目的是图示效果不拥挤"
   ]
  },
  {
   "cell_type": "code",
   "execution_count": 21,
   "metadata": {
    "id": "E7286B32DB1E40EEA2BB5FBACA5AC304",
    "scrolled": false
   },
   "outputs": [
    {
     "name": "stdout",
     "output_type": "stream",
     "text": [
      "                A_sale      B_sale\n",
      "2017-06-01  113.519586  616.621936\n",
      "2017-06-02  468.347399  610.029264\n",
      "2017-06-03  471.328697  917.106575\n",
      "2017-06-04  888.318646  907.670189\n",
      "2017-06-05  270.881153  808.806797\n",
      "------\n"
     ]
    }
   ],
   "source": [
    "# 2、离中趋势度量\n",
    "# 指一组数据中各数据以不同程度的距离偏离中心的趋势\n",
    "# 极差与分位差、方差与标准差、离散系数\n",
    "\n",
    "data = pd.DataFrame({'A_sale':np.random.rand(30)*1000,\n",
    "                    'B_sale':np.random.rand(30)*1000},\n",
    "                   index = pd.period_range('20170601','20170630'))\n",
    "print(data.head())\n",
    "print('------')\n",
    "# 创建数据\n",
    "# A/B销售额量级在同一水平"
   ]
  },
  {
   "cell_type": "code",
   "execution_count": 22,
   "metadata": {
    "id": "615674F9B694490E8562CFCBDF1C06DB",
    "scrolled": false
   },
   "outputs": [
    {
     "name": "stdout",
     "output_type": "stream",
     "text": [
      "                A_sale      B_sale\n",
      "2017-06-01  443.255185  934.661175\n",
      "2017-06-02   92.908092  498.234446\n",
      "2017-06-03  974.808157  825.525976\n",
      "2017-06-04  555.995288  742.714369\n",
      "2017-06-05  531.685316   18.994013\n",
      "------\n",
      "A销售额的极差为：912.72, B销售额的极差为：961.98\n",
      "------\n",
      "A销售额的分位差为：360.72, B销售额的分位差为：550.71\n",
      "------\n"
     ]
    },
    {
     "data": {
      "text/plain": [
       "<matplotlib.axes._subplots.AxesSubplot at 0x7f9eb4ef0b38>"
      ]
     },
     "execution_count": 22,
     "metadata": {},
     "output_type": "execute_result"
    },
    {
     "data": {
      "text/html": [
       "<img src=\"https://cdn.kesci.com/rt_upload/615674F9B694490E8562CFCBDF1C06DB/pptujoctgy.png\">"
      ],
      "text/plain": [
       "<Figure size 720x216 with 1 Axes>"
      ]
     },
     "metadata": {
      "needs_background": "light"
     },
     "output_type": "display_data"
    }
   ],
   "source": [
    "# 2、离中趋势度量\n",
    "# （1）极差、分位差\n",
    "\n",
    "data = pd.DataFrame({'A_sale':np.random.rand(30)*1000,\n",
    "                    'B_sale':np.random.rand(30)*1000},\n",
    "                   index = pd.period_range('20170601','20170630'))\n",
    "print(data.head())\n",
    "print('------')\n",
    "# 创建数据\n",
    "# A/B销售额量级在同一水平\n",
    "\n",
    "a_r = data['A_sale'].max() - data['A_sale'].min()\n",
    "b_r = data['B_sale'].max() - data['B_sale'].min()\n",
    "print('A销售额的极差为：%.2f, B销售额的极差为：%.2f' % (a_r,b_r))\n",
    "print('------')\n",
    "# 极差\n",
    "# 没有考虑中间变量的变动，测定离中趋势不稳定\n",
    "\n",
    "sta = data['A_sale'].describe()\n",
    "stb = data['B_sale'].describe()\n",
    "#print(sta)\n",
    "a_iqr = sta.loc['75%'] - sta.loc['25%']\n",
    "b_iqr = stb.loc['75%'] - stb.loc['25%']\n",
    "print('A销售额的分位差为：%.2f, B销售额的分位差为：%.2f' % (a_iqr,b_iqr))\n",
    "print('------')\n",
    "# 分位差\n",
    "\n",
    "color = dict(boxes='DarkGreen', whiskers='DarkOrange', medians='DarkBlue', caps='Gray')\n",
    "data.plot.box(vert=False,grid = True,color = color,figsize = (10,3))\n",
    "# 箱型图"
   ]
  },
  {
   "cell_type": "code",
   "execution_count": 23,
   "metadata": {
    "id": "BBB7FFAAE0474855B553A293A03EDCDB",
    "scrolled": false
   },
   "outputs": [
    {
     "name": "stdout",
     "output_type": "stream",
     "text": [
      "A销售额的标准差为：259.06, B销售额的标准差为：319.87\n",
      "A销售额的方差为：67112.55, B销售额的方差为：102317.82\n"
     ]
    },
    {
     "data": {
      "text/plain": [
       "<matplotlib.lines.Line2D at 0x7f9eb4d7b4e0>"
      ]
     },
     "execution_count": 23,
     "metadata": {},
     "output_type": "execute_result"
    },
    {
     "data": {
      "text/html": [
       "<img src=\"https://cdn.kesci.com/rt_upload/BBB7FFAAE0474855B553A293A03EDCDB/pptujphhf1.png\">"
      ],
      "text/plain": [
       "<Figure size 864x288 with 2 Axes>"
      ]
     },
     "metadata": {
      "needs_background": "light"
     },
     "output_type": "display_data"
    }
   ],
   "source": [
    "# 2、离中趋势度量\n",
    "# （2）方差与标准差\n",
    "\n",
    "a_std = sta.loc['std']\n",
    "b_std = stb.loc['std']\n",
    "a_var = data['A_sale'].var()\n",
    "b_var = data['B_sale'].var()\n",
    "print('A销售额的标准差为：%.2f, B销售额的标准差为：%.2f' % (a_std,b_std))\n",
    "print('A销售额的方差为：%.2f, B销售额的方差为：%.2f' % (a_var,b_var))\n",
    "# 方差 → 各组中数值与算数平均数离差平方的算术平均数\n",
    "# 标准差 → 方差的平方根\n",
    "# 标准差是最常用的离中趋势指标 → 标准差越大，离中趋势越明显\n",
    "\n",
    "fig = plt.figure(figsize = (12,4))\n",
    "ax1 = fig.add_subplot(1,2,1)\n",
    "data['A_sale'].plot(kind = 'kde',style = 'k--',grid = True,title = 'A密度曲线')\n",
    "plt.axvline(sta.loc['50%'],color='r',linestyle=\"--\",alpha=0.8)  \n",
    "plt.axvline(sta.loc['50%'] - a_std,color='b',linestyle=\"--\",alpha=0.8)  \n",
    "plt.axvline(sta.loc['50%'] + a_std,color='b',linestyle=\"--\",alpha=0.8)  \n",
    "# A密度曲线，1个标准差\n",
    "\n",
    "ax2 = fig.add_subplot(1,2,2)\n",
    "data['B_sale'].plot(kind = 'kde',style = 'k--',grid = True,title = 'B密度曲线')\n",
    "plt.axvline(stb.loc['50%'],color='r',linestyle=\"--\",alpha=0.8)  \n",
    "plt.axvline(stb.loc['50%'] - b_std,color='b',linestyle=\"--\",alpha=0.8)  \n",
    "plt.axvline(stb.loc['50%'] + b_std,color='b',linestyle=\"--\",alpha=0.8)  \n",
    "# B密度曲线，1个标准差"
   ]
  },
  {
   "cell_type": "markdown",
   "metadata": {
    "id": "E4548D6DB5984947ABA347E6C391776C",
    "mdEditEnable": false
   },
   "source": [
    "[返回目录](#【目录】)"
   ]
  },
  {
   "cell_type": "markdown",
   "metadata": {
    "id": "A2F7233B7FEF4D39BDBAD29F7E71290C",
    "mdEditEnable": false
   },
   "source": [
    "# 帕累托分析\n",
    "\n",
    "帕累托分析（贡献度分析） → 帕累托法则：20/80定律\n",
    "\n",
    "“原因和结果、投入和产出、努力和报酬之间本来存在着无法解释的不平衡。一般来说，投入和努力可以分为两种不同的类型：\n",
    "多数，它们只能造成少许的影响；少数，它们造成主要的、重大的影响。”\n",
    "→ 一个公司，80%利润来自于20%的畅销产品，而其他80%的产品只产生了20%的利润\n",
    "\n",
    "例如：\n",
    "* 世界上大约80％的资源是由世界上15％的人口所耗尽的\n",
    "* 世界财富的80％为25％的人所拥有；在一个国家的医疗体系中\n",
    "* 20％的人口与20％的疾病，会消耗80％的医疗资源\n",
    "\n",
    "一个思路：通过二八原则，去寻找关键的那20%决定性因素！\n"
   ]
  },
  {
   "cell_type": "code",
   "execution_count": 24,
   "metadata": {
    "id": "0BBEC064A01A4F6D83BD3A3CC0C944A2",
    "scrolled": false
   },
   "outputs": [
    {
     "name": "stdout",
     "output_type": "stream",
     "text": [
      "A    4193.406035\n",
      "B    4472.917886\n",
      "C    1451.699787\n",
      "D    4937.525385\n",
      "E    -153.584038\n",
      "F    3741.334657\n",
      "G    4174.580807\n",
      "H    1948.855235\n",
      "I     376.733456\n",
      "J    2544.656387\n",
      "dtype: float64\n",
      "------\n",
      "超过80%累计占比的节点值索引为： J\n",
      "超过80%累计占比的节点值索引位置为： 5\n",
      "------\n",
      "核心产品为：\n",
      "D    4937.525385\n",
      "B    4472.917886\n",
      "A    4193.406035\n",
      "G    4174.580807\n",
      "F    3741.334657\n",
      "J    2544.656387\n",
      "dtype: float64\n"
     ]
    },
    {
     "data": {
      "text/html": [
       "<img src=\"https://cdn.kesci.com/rt_upload/0BBEC064A01A4F6D83BD3A3CC0C944A2/pptujpeq62.png\">"
      ],
      "text/plain": [
       "<Figure size 720x288 with 2 Axes>"
      ]
     },
     "metadata": {
      "needs_background": "light"
     },
     "output_type": "display_data"
    }
   ],
   "source": [
    "# 帕累托分布分析 \n",
    "\n",
    "data = pd.Series(np.random.randn(10)*1200+3000,\n",
    "                index = list('ABCDEFGHIJ'))\n",
    "print(data)\n",
    "print('------')\n",
    "# 创建数据，10个品类产品的销售额\n",
    "\n",
    "data.sort_values(ascending=False, inplace= True)\n",
    "# 由大到小排列\n",
    "\n",
    "plt.figure(figsize = (10,4))\n",
    "data.plot(kind = 'bar', color = 'g', alpha = 0.5, width = 0.7)  \n",
    "plt.ylabel('营收_元')\n",
    "# 创建营收柱状图\n",
    "\n",
    "p = data.cumsum()/data.sum()  # 创建累计占比，Series\n",
    "key = p[p>0.8].index[0]  \n",
    "key_num = data.index.tolist().index(key) \n",
    "print('超过80%累计占比的节点值索引为：' ,key)\n",
    "print('超过80%累计占比的节点值索引位置为：' ,key_num)\n",
    "print('------')\n",
    "# 找到累计占比超过80%时候的index\n",
    "# 找到key所对应的索引位置\n",
    "\n",
    "p.plot(style = '--ko', secondary_y=True)  # secondary_y → y副坐标轴\n",
    "plt.axvline(key_num,color='r',linestyle=\"--\",alpha=0.8)  \n",
    "plt.text(key_num+0.2,p[key],'累计占比为：%.3f%%' % (p[key]*100), color = 'r')  # 累计占比超过80%的节点\n",
    "plt.ylabel('营收_比例')\n",
    "# 绘制营收累计占比曲线\n",
    "\n",
    "key_product = data.loc[:key]\n",
    "print('核心产品为：')\n",
    "print(key_product)\n",
    "# 输出决定性因素产品"
   ]
  },
  {
   "cell_type": "markdown",
   "metadata": {
    "id": "FA7BFA9B9BCB4B918A27C0997142DE96",
    "mdEditEnable": false
   },
   "source": [
    "[返回目录](#【目录】)"
   ]
  },
  {
   "cell_type": "markdown",
   "metadata": {
    "id": "BE06133FE7FF477889F27769A9FEA129",
    "mdEditEnable": false
   },
   "source": [
    "# 正态性检验\n",
    "利用观测数据判断总体是否服从正态分布的检验称为正态性检验，它是统计判决中重要的一种特殊的拟合优度假设检验。\n",
    "\n",
    "直方图初判 / QQ图判断 / K-S检验\n"
   ]
  },
  {
   "cell_type": "code",
   "execution_count": 25,
   "metadata": {
    "id": "D0A635DB257F4E95BFA5EFA2E88900C3",
    "scrolled": false
   },
   "outputs": [
    {
     "name": "stdout",
     "output_type": "stream",
     "text": [
      "       value\n",
      "0  10.378033\n",
      "1   9.757724\n",
      "2  10.264243\n",
      "3   9.463411\n",
      "4   8.647329\n"
     ]
    },
    {
     "data": {
      "text/html": [
       "<img src=\"https://cdn.kesci.com/rt_upload/D0A635DB257F4E95BFA5EFA2E88900C3/pptujqyfg9.png\">"
      ],
      "text/plain": [
       "<Figure size 720x432 with 3 Axes>"
      ]
     },
     "metadata": {
      "needs_background": "light"
     },
     "output_type": "display_data"
    }
   ],
   "source": [
    "# 直方图初判\n",
    "\n",
    "s = pd.DataFrame(np.random.randn(1000)+10,columns = ['value'])\n",
    "print(s.head())\n",
    "# 创建随机数据\n",
    "\n",
    "fig = plt.figure(figsize = (10,6))\n",
    "ax1 = fig.add_subplot(2,1,1)  # 创建子图1\n",
    "ax1.scatter(s.index, s.values)\n",
    "plt.grid()\n",
    "# 绘制数据分布图\n",
    "\n",
    "ax2 = fig.add_subplot(2,1,2)  # 创建子图2\n",
    "s.hist(bins=30,alpha = 0.5,ax = ax2)\n",
    "s.plot(kind = 'kde', secondary_y=True,ax = ax2)\n",
    "plt.grid()\n",
    "# 绘制直方图\n",
    "# 呈现较明显的正太性"
   ]
  },
  {
   "cell_type": "code",
   "execution_count": 26,
   "metadata": {
    "id": "F43EA7F816A14A41806F239E6E47BC5B",
    "scrolled": false
   },
   "outputs": [
    {
     "name": "stdout",
     "output_type": "stream",
     "text": [
      "       value\n",
      "0   9.064022\n",
      "1   9.693109\n",
      "2   9.409815\n",
      "3  10.853897\n",
      "4   8.582546\n",
      "均值为：9.98，标准差为：1.00\n",
      "------\n",
      "   index     value       p         q\n",
      "0    120  6.554797 -0.0005 -3.415130\n",
      "1    614  6.748185  0.0005 -3.222274\n",
      "2    175  6.824186  0.0015 -3.146481\n",
      "3    189  7.352276  0.0025 -2.619843\n",
      "4    699  7.427921  0.0035 -2.544405\n",
      "------\n",
      "四分之一位数为：9.32，四分之三位数为：10.66\n",
      "------\n"
     ]
    },
    {
     "data": {
      "text/html": [
       "<img src=\"https://cdn.kesci.com/rt_upload/F43EA7F816A14A41806F239E6E47BC5B/pptujro277.png\">"
      ],
      "text/plain": [
       "<Figure size 720x648 with 4 Axes>"
      ]
     },
     "metadata": {
      "needs_background": "light"
     },
     "output_type": "display_data"
    }
   ],
   "source": [
    "# QQ图判断\n",
    "# QQ图通过把测试样本数据的分位数与已知分布相比较，从而来检验数据的分布情况\n",
    "\n",
    "# QQ图是一种散点图，对应于正态分布的QQ图，就是由标准正态分布的分位数为横坐标，样本值为纵坐标的散点图\n",
    "# 参考直线：四分之一分位点和四分之三分位点这两点确定，看散点是否落在这条线的附近\n",
    "\n",
    "# 绘制思路\n",
    "# ① 在做好数据清洗后，对数据进行排序（次序统计量：x(1)<x(2)<....<x(n)）\n",
    "# ② 排序后，计算出每个数据对应的百分位p{i}，即第i个数据x(i)为p(i)分位数，其中p(i)=(i-0.5)/n （pi有多重算法，这里以最常用方法为主）\n",
    "# ③ 绘制直方图 + qq图，直方图作为参考\n",
    "\n",
    "s = pd.DataFrame(np.random.randn(1000)+10,columns = ['value'])\n",
    "print(s.head())\n",
    "# 创建随机数据\n",
    "\n",
    "mean = s['value'].mean()\n",
    "std = s['value'].std()\n",
    "print('均值为：%.2f，标准差为：%.2f' % (mean,std))\n",
    "print('------')\n",
    "#  计算均值，标准差\n",
    "\n",
    "s.sort_values(by = 'value', inplace = True)  # 重新排序\n",
    "s_r = s.reset_index(drop = False)  # 重新排序后，更新index\n",
    "s_r['p'] = (s_r.index - 0.5) / len(s_r)  \n",
    "s_r['q'] = (s_r['value'] - mean) / std\n",
    "print(s_r.head())\n",
    "print('------')\n",
    "# 计算百分位数 p(i)\n",
    "# 计算q值\n",
    "\n",
    "st = s['value'].describe()\n",
    "x1 ,y1 = 0.25, st['25%']\n",
    "x2 ,y2 = 0.75, st['75%']\n",
    "print('四分之一位数为：%.2f，四分之三位数为：%.2f' % (y1,y2))\n",
    "print('------')\n",
    "# 计算四分之一位数、四分之三位数\n",
    "\n",
    "fig = plt.figure(figsize = (10,9))\n",
    "ax1 = fig.add_subplot(3,1,1)  # 创建子图1\n",
    "ax1.scatter(s.index, s.values)\n",
    "plt.grid()\n",
    "# 绘制数据分布图\n",
    "\n",
    "ax2 = fig.add_subplot(3,1,2)  # 创建子图2\n",
    "s.hist(bins=30,alpha = 0.5,ax = ax2)\n",
    "s.plot(kind = 'kde', secondary_y=True,ax = ax2)\n",
    "plt.grid()\n",
    "# 绘制直方图\n",
    "\n",
    "ax3 = fig.add_subplot(3,1,3)  # 创建子图3\n",
    "ax3.plot(s_r['p'],s_r['value'],'k.',alpha = 0.1)\n",
    "ax3.plot([x1,x2],[y1,y2],'-r')\n",
    "plt.grid()\n",
    "# 绘制QQ图，直线为四分之一位数、四分之三位数的连线，基本符合正态分布"
   ]
  },
  {
   "cell_type": "code",
   "execution_count": 27,
   "metadata": {
    "id": "A2DFFAB8A3CA4BA285C4F3A39953DB2D",
    "scrolled": false
   },
   "outputs": [
    {
     "name": "stdout",
     "output_type": "stream",
     "text": [
      "样本均值为：79.74，样本标准差为：5.94\n",
      "------\n",
      "实际观测D值为：0.1597\n"
     ]
    },
    {
     "data": {
      "text/html": [
       "<div>\n",
       "<style scoped>\n",
       "    .dataframe tbody tr th:only-of-type {\n",
       "        vertical-align: middle;\n",
       "    }\n",
       "\n",
       "    .dataframe tbody tr th {\n",
       "        vertical-align: top;\n",
       "    }\n",
       "\n",
       "    .dataframe thead th {\n",
       "        text-align: right;\n",
       "    }\n",
       "</style>\n",
       "<table border=\"1\" class=\"dataframe\">\n",
       "  <thead>\n",
       "    <tr style=\"text-align: right;\">\n",
       "      <th></th>\n",
       "      <th>血糖浓度</th>\n",
       "      <th>次数</th>\n",
       "      <th>累计次数</th>\n",
       "      <th>累计频率</th>\n",
       "      <th>标准化取值</th>\n",
       "      <th>理论分布</th>\n",
       "      <th>D</th>\n",
       "    </tr>\n",
       "  </thead>\n",
       "  <tbody>\n",
       "    <tr>\n",
       "      <th>0</th>\n",
       "      <td>68</td>\n",
       "      <td>2</td>\n",
       "      <td>2</td>\n",
       "      <td>0.057143</td>\n",
       "      <td>-1.977701</td>\n",
       "      <td>0.0244</td>\n",
       "      <td>0.032743</td>\n",
       "    </tr>\n",
       "    <tr>\n",
       "      <th>1</th>\n",
       "      <td>72</td>\n",
       "      <td>2</td>\n",
       "      <td>4</td>\n",
       "      <td>0.114286</td>\n",
       "      <td>-1.304031</td>\n",
       "      <td>0.0968</td>\n",
       "      <td>0.017486</td>\n",
       "    </tr>\n",
       "    <tr>\n",
       "      <th>2</th>\n",
       "      <td>75</td>\n",
       "      <td>2</td>\n",
       "      <td>6</td>\n",
       "      <td>0.171429</td>\n",
       "      <td>-0.798779</td>\n",
       "      <td>0.2148</td>\n",
       "      <td>0.043371</td>\n",
       "    </tr>\n",
       "    <tr>\n",
       "      <th>3</th>\n",
       "      <td>76</td>\n",
       "      <td>2</td>\n",
       "      <td>8</td>\n",
       "      <td>0.228571</td>\n",
       "      <td>-0.630362</td>\n",
       "      <td>0.2643</td>\n",
       "      <td>0.035729</td>\n",
       "    </tr>\n",
       "    <tr>\n",
       "      <th>4</th>\n",
       "      <td>77</td>\n",
       "      <td>6</td>\n",
       "      <td>14</td>\n",
       "      <td>0.400000</td>\n",
       "      <td>-0.461945</td>\n",
       "      <td>0.3228</td>\n",
       "      <td>0.077200</td>\n",
       "    </tr>\n",
       "    <tr>\n",
       "      <th>5</th>\n",
       "      <td>78</td>\n",
       "      <td>3</td>\n",
       "      <td>17</td>\n",
       "      <td>0.485714</td>\n",
       "      <td>-0.293527</td>\n",
       "      <td>0.3859</td>\n",
       "      <td>0.099814</td>\n",
       "    </tr>\n",
       "    <tr>\n",
       "      <th>6</th>\n",
       "      <td>80</td>\n",
       "      <td>6</td>\n",
       "      <td>23</td>\n",
       "      <td>0.657143</td>\n",
       "      <td>0.043307</td>\n",
       "      <td>0.5160</td>\n",
       "      <td>0.141143</td>\n",
       "    </tr>\n",
       "    <tr>\n",
       "      <th>7</th>\n",
       "      <td>81</td>\n",
       "      <td>3</td>\n",
       "      <td>26</td>\n",
       "      <td>0.742857</td>\n",
       "      <td>0.211725</td>\n",
       "      <td>0.5832</td>\n",
       "      <td>0.159657</td>\n",
       "    </tr>\n",
       "    <tr>\n",
       "      <th>8</th>\n",
       "      <td>84</td>\n",
       "      <td>2</td>\n",
       "      <td>28</td>\n",
       "      <td>0.800000</td>\n",
       "      <td>0.716977</td>\n",
       "      <td>0.7611</td>\n",
       "      <td>0.038900</td>\n",
       "    </tr>\n",
       "    <tr>\n",
       "      <th>9</th>\n",
       "      <td>86</td>\n",
       "      <td>2</td>\n",
       "      <td>30</td>\n",
       "      <td>0.857143</td>\n",
       "      <td>1.053811</td>\n",
       "      <td>0.8531</td>\n",
       "      <td>0.004043</td>\n",
       "    </tr>\n",
       "    <tr>\n",
       "      <th>10</th>\n",
       "      <td>87</td>\n",
       "      <td>2</td>\n",
       "      <td>32</td>\n",
       "      <td>0.914286</td>\n",
       "      <td>1.222229</td>\n",
       "      <td>0.8888</td>\n",
       "      <td>0.025486</td>\n",
       "    </tr>\n",
       "    <tr>\n",
       "      <th>11</th>\n",
       "      <td>92</td>\n",
       "      <td>3</td>\n",
       "      <td>35</td>\n",
       "      <td>1.000000</td>\n",
       "      <td>2.064315</td>\n",
       "      <td>0.9803</td>\n",
       "      <td>0.019700</td>\n",
       "    </tr>\n",
       "  </tbody>\n",
       "</table>\n",
       "</div>"
      ],
      "text/plain": [
       "    血糖浓度  次数  累计次数      累计频率     标准化取值    理论分布         D\n",
       "0     68   2     2  0.057143 -1.977701  0.0244  0.032743\n",
       "1     72   2     4  0.114286 -1.304031  0.0968  0.017486\n",
       "2     75   2     6  0.171429 -0.798779  0.2148  0.043371\n",
       "3     76   2     8  0.228571 -0.630362  0.2643  0.035729\n",
       "4     77   6    14  0.400000 -0.461945  0.3228  0.077200\n",
       "5     78   3    17  0.485714 -0.293527  0.3859  0.099814\n",
       "6     80   6    23  0.657143  0.043307  0.5160  0.141143\n",
       "7     81   3    26  0.742857  0.211725  0.5832  0.159657\n",
       "8     84   2    28  0.800000  0.716977  0.7611  0.038900\n",
       "9     86   2    30  0.857143  1.053811  0.8531  0.004043\n",
       "10    87   2    32  0.914286  1.222229  0.8888  0.025486\n",
       "11    92   3    35  1.000000  2.064315  0.9803  0.019700"
      ]
     },
     "execution_count": 27,
     "metadata": {},
     "output_type": "execute_result"
    },
    {
     "data": {
      "text/html": [
       "<img src=\"https://cdn.kesci.com/rt_upload/A2DFFAB8A3CA4BA285C4F3A39953DB2D/pptujrdgjn.png\">"
      ],
      "text/plain": [
       "<Figure size 432x288 with 1 Axes>"
      ]
     },
     "metadata": {
      "needs_background": "light"
     },
     "output_type": "display_data"
    }
   ],
   "source": [
    "# KS检验，理论推导\n",
    "\n",
    "data = [87,77,92,68,80,78,84,77,81,80,80,77,92,86,\n",
    "       76,80,81,75,77,72,81,72,84,86,80,68,77,87,\n",
    "       76,77,78,92,75,80,78]\n",
    "# 样本数据，35位健康男性在未进食之前的血糖浓度\n",
    "\n",
    "df = pd.DataFrame(data, columns =['value'])\n",
    "u = df['value'].mean()\n",
    "std = df['value'].std()\n",
    "print(\"样本均值为：%.2f，样本标准差为：%.2f\" % (u,std))\n",
    "print('------')\n",
    "# 查看数据基本统计量\n",
    "\n",
    "s = df['value'].value_counts().sort_index()\n",
    "df_s = pd.DataFrame({'血糖浓度':s.index,'次数':s.values})\n",
    "# 创建频率数据\n",
    "\n",
    "df_s['累计次数'] = df_s['次数'].cumsum()\n",
    "df_s['累计频率'] = df_s['累计次数'] / len(data)\n",
    "df_s['标准化取值'] = (df_s['血糖浓度'] - u) / std\n",
    "df_s['理论分布'] =[0.0244,0.0968,0.2148,0.2643,0.3228,0.3859,0.5160,0.5832,0.7611,0.8531,0.8888,0.9803]  # 通过查阅正太分布表\n",
    "df_s['D'] = np.abs(df_s['累计频率'] - df_s['理论分布'])\n",
    "dmax = df_s['D'].max()\n",
    "print(\"实际观测D值为：%.4f\" % dmax)\n",
    "# D值序列计算结果表格\n",
    "\n",
    "df_s['累计频率'].plot(style = '--k.')\n",
    "df_s['理论分布'].plot(style = '--r.')\n",
    "plt.legend(loc = 'upper left')\n",
    "plt.grid()\n",
    "# 密度图表示\n",
    "\n",
    "df_s"
   ]
  },
  {
   "cell_type": "code",
   "execution_count": 28,
   "metadata": {
    "id": "0837132ED7914BDB80CD2BDD03FB6B9A",
    "scrolled": false
   },
   "outputs": [
    {
     "data": {
      "text/plain": [
       "KstestResult(statistic=0.1590180704824098, pvalue=0.3066297258358026)"
      ]
     },
     "execution_count": 28,
     "metadata": {},
     "output_type": "execute_result"
    }
   ],
   "source": [
    "# 直接用算法做KS检验\n",
    "\n",
    "from scipy import stats\n",
    "# scipy包是一个高级的科学计算库，它和Numpy联系很密切，Scipy一般都是操控Numpy数组来进行科学计算\n",
    "\n",
    "data = [87,77,92,68,80,78,84,77,81,80,80,77,92,86,\n",
    "       76,80,81,75,77,72,81,72,84,86,80,68,77,87,\n",
    "       76,77,78,92,75,80,78]\n",
    "# 样本数据，35位健康男性在未进食之前的血糖浓度\n",
    "\n",
    "df = pd.DataFrame(data, columns =['value'])\n",
    "u = df['value'].mean()  # 计算均值\n",
    "std = df['value'].std()  # 计算标准差\n",
    "stats.kstest(df['value'], 'norm', (u, std))\n",
    "# .kstest方法：KS检验，参数分别是：待检验的数据，检验方法（这里设置成norm正态分布），均值与标准差\n",
    "# 结果返回两个值：statistic → D值，pvalue → P值\n",
    "# p值大于0.05，为正态分布"
   ]
  },
  {
   "cell_type": "markdown",
   "metadata": {
    "id": "B704B07CAF93403583B6AC0BD0C206E2",
    "mdEditEnable": false
   },
   "source": [
    "[返回目录](#【目录】)"
   ]
  },
  {
   "cell_type": "markdown",
   "metadata": {
    "id": "D04C0128E5614D7592D852B918EAA2AA",
    "mdEditEnable": false
   },
   "source": [
    "# 相关性分析\n",
    "分析连续变量之间的线性相关程度的强弱\n",
    "\n",
    "图示初判 / Pearson相关系数（皮尔逊相关系数） / Sperman秩相关系数（斯皮尔曼相关系数）"
   ]
  },
  {
   "cell_type": "code",
   "execution_count": 29,
   "metadata": {
    "id": "6ADA483E0F9C423E828A1673E1D5FD79",
    "scrolled": false
   },
   "outputs": [
    {
     "data": {
      "text/html": [
       "<img src=\"https://cdn.kesci.com/rt_upload/6ADA483E0F9C423E828A1673E1D5FD79/pptujrk6fh.png\">"
      ],
      "text/plain": [
       "<Figure size 720x288 with 2 Axes>"
      ]
     },
     "metadata": {
      "needs_background": "light"
     },
     "output_type": "display_data"
    }
   ],
   "source": [
    "# 图示初判\n",
    "# （1）变量之间的线性相关性\n",
    "\n",
    "data1 = pd.Series(np.random.rand(50)*100).sort_values()\n",
    "data2 = pd.Series(np.random.rand(50)*50).sort_values()\n",
    "data3 = pd.Series(np.random.rand(50)*500).sort_values(ascending = False)\n",
    "# 创建三个数据：data1为0-100的随机数并从小到大排列，data2为0-50的随机数并从小到大排列，data3为0-500的随机数并从大到小排列，\n",
    "\n",
    "fig = plt.figure(figsize = (10,4))\n",
    "ax1 = fig.add_subplot(1,2,1)\n",
    "ax1.scatter(data1, data2)\n",
    "plt.grid()\n",
    "# 正线性相关\n",
    "\n",
    "ax2 = fig.add_subplot(1,2,2)\n",
    "ax2.scatter(data1, data3)\n",
    "plt.grid()\n",
    "# 负线性相关"
   ]
  },
  {
   "cell_type": "code",
   "execution_count": 30,
   "metadata": {
    "id": "2A1F0AF22F4245189AD3E0F803783458",
    "scrolled": false
   },
   "outputs": [
    {
     "data": {
      "text/html": [
       "<div>\n",
       "<style scoped>\n",
       "    .dataframe tbody tr th:only-of-type {\n",
       "        vertical-align: middle;\n",
       "    }\n",
       "\n",
       "    .dataframe tbody tr th {\n",
       "        vertical-align: top;\n",
       "    }\n",
       "\n",
       "    .dataframe thead th {\n",
       "        text-align: right;\n",
       "    }\n",
       "</style>\n",
       "<table border=\"1\" class=\"dataframe\">\n",
       "  <thead>\n",
       "    <tr style=\"text-align: right;\">\n",
       "      <th></th>\n",
       "      <th>A</th>\n",
       "      <th>B</th>\n",
       "      <th>C</th>\n",
       "      <th>D</th>\n",
       "    </tr>\n",
       "  </thead>\n",
       "  <tbody>\n",
       "    <tr>\n",
       "      <th>0</th>\n",
       "      <td>84.985950</td>\n",
       "      <td>-103.787333</td>\n",
       "      <td>13.548018</td>\n",
       "      <td>-179.168963</td>\n",
       "    </tr>\n",
       "    <tr>\n",
       "      <th>1</th>\n",
       "      <td>-67.976295</td>\n",
       "      <td>-146.696862</td>\n",
       "      <td>-54.039570</td>\n",
       "      <td>141.356029</td>\n",
       "    </tr>\n",
       "    <tr>\n",
       "      <th>2</th>\n",
       "      <td>41.556775</td>\n",
       "      <td>66.148733</td>\n",
       "      <td>29.321035</td>\n",
       "      <td>-12.576150</td>\n",
       "    </tr>\n",
       "    <tr>\n",
       "      <th>3</th>\n",
       "      <td>48.331183</td>\n",
       "      <td>98.829278</td>\n",
       "      <td>-26.540700</td>\n",
       "      <td>86.881580</td>\n",
       "    </tr>\n",
       "    <tr>\n",
       "      <th>4</th>\n",
       "      <td>-68.509379</td>\n",
       "      <td>8.352037</td>\n",
       "      <td>29.326456</td>\n",
       "      <td>-116.365620</td>\n",
       "    </tr>\n",
       "  </tbody>\n",
       "</table>\n",
       "</div>"
      ],
      "text/plain": [
       "           A           B          C           D\n",
       "0  84.985950 -103.787333  13.548018 -179.168963\n",
       "1 -67.976295 -146.696862 -54.039570  141.356029\n",
       "2  41.556775   66.148733  29.321035  -12.576150\n",
       "3  48.331183   98.829278 -26.540700   86.881580\n",
       "4 -68.509379    8.352037  29.326456 -116.365620"
      ]
     },
     "execution_count": 30,
     "metadata": {},
     "output_type": "execute_result"
    },
    {
     "data": {
      "text/html": [
       "<img src=\"https://cdn.kesci.com/rt_upload/2A1F0AF22F4245189AD3E0F803783458/pptujtx0nf.png\">"
      ],
      "text/plain": [
       "<Figure size 576x576 with 16 Axes>"
      ]
     },
     "metadata": {
      "needs_background": "light"
     },
     "output_type": "display_data"
    }
   ],
   "source": [
    "# 图示初判\n",
    "# （2）散点图矩阵初判多变量间关系\n",
    "\n",
    "data = pd.DataFrame(np.random.randn(200,4)*100, columns = ['A','B','C','D'])\n",
    "pd.scatter_matrix(data,figsize=(8,8),\n",
    "                  c = 'k',\n",
    "                 marker = '+',\n",
    "                 diagonal='hist',\n",
    "                 alpha = 0.8,\n",
    "                 range_padding=0.1)\n",
    "data.head()"
   ]
  },
  {
   "cell_type": "code",
   "execution_count": 31,
   "metadata": {
    "id": "0FD8D8DEAED14E5F802FBCAC87F6E0EC",
    "scrolled": false
   },
   "outputs": [
    {
     "name": "stdout",
     "output_type": "stream",
     "text": [
      "     value1    value2\n",
      "0  0.597877  0.115183\n",
      "1  0.642442  0.192858\n",
      "2  2.764383  2.380611\n",
      "3  4.883107  3.134306\n",
      "4  5.828484  3.317203\n",
      "------\n",
      "value1正态性检验：\n",
      " KstestResult(statistic=0.10084978632087416, pvalue=0.24452588508098322)\n",
      "value2正态性检验：\n",
      " KstestResult(statistic=0.10685565984517054, pvalue=0.1896431269319291)\n",
      "------\n",
      "     value1    value2  (x-u1)*(y-u2)    (x-u1)**2   (y-u2)**2\n",
      "0  0.597877  0.115183    1365.196799  2421.836216  769.565789\n",
      "1  0.642442  0.192858    1360.141402  2417.451853  765.262246\n",
      "2  2.764383  2.380611    1198.517119  2213.293069  649.007266\n",
      "3  4.883107  3.134306    1110.680096  2018.428528  611.173623\n",
      "4  5.828484  3.317203    1079.264454  1934.376523  602.163926\n",
      "------\n",
      "Pearson相关系数为：0.9828\n"
     ]
    }
   ],
   "source": [
    "# Pearson相关系数\n",
    "\n",
    "data1 = pd.Series(np.random.rand(100)*100).sort_values()\n",
    "data2 = pd.Series(np.random.rand(100)*50).sort_values()\n",
    "data = pd.DataFrame({'value1':data1.values,\n",
    "                     'value2':data2.values})\n",
    "print(data.head())\n",
    "print('------')\n",
    "# 创建样本数据\n",
    "\n",
    "u1,u2 = data['value1'].mean(),data['value2'].mean()  # 计算均值\n",
    "std1,std2 = data['value1'].std(),data['value2'].std()  # 计算标准差\n",
    "print('value1正态性检验：\\n',stats.kstest(data['value1'], 'norm', (u1, std1)))\n",
    "print('value2正态性检验：\\n',stats.kstest(data['value2'], 'norm', (u2, std2)))\n",
    "print('------')\n",
    "# 正态性检验 → pvalue >0.05\n",
    "\n",
    "data['(x-u1)*(y-u2)'] = (data['value1'] - u1) * (data['value2'] - u2)\n",
    "data['(x-u1)**2'] = (data['value1'] - u1)**2\n",
    "data['(y-u2)**2'] = (data['value2'] - u2)**2\n",
    "print(data.head())\n",
    "print('------')\n",
    "# 制作Pearson相关系数求值表\n",
    "\n",
    "r = data['(x-u1)*(y-u2)'].sum() / (np.sqrt(data['(x-u1)**2'].sum() * data['(y-u2)**2'].sum()))\n",
    "print('Pearson相关系数为：%.4f' % r)\n",
    "# 求出r\n",
    "# |r| > 0.8 → 高度线性相关"
   ]
  },
  {
   "cell_type": "code",
   "execution_count": 32,
   "metadata": {
    "id": "BDB4FA97C0134974A0A3D9ED28F62C80",
    "scrolled": false
   },
   "outputs": [
    {
     "name": "stdout",
     "output_type": "stream",
     "text": [
      "     value1    value2\n",
      "0  0.825941  0.324450\n",
      "1  1.321794  0.327469\n",
      "2  1.546095  0.571650\n",
      "3  2.386078  0.688557\n",
      "4  3.361646  0.706985\n",
      "------\n"
     ]
    },
    {
     "data": {
      "text/html": [
       "<div>\n",
       "<style scoped>\n",
       "    .dataframe tbody tr th:only-of-type {\n",
       "        vertical-align: middle;\n",
       "    }\n",
       "\n",
       "    .dataframe tbody tr th {\n",
       "        vertical-align: top;\n",
       "    }\n",
       "\n",
       "    .dataframe thead th {\n",
       "        text-align: right;\n",
       "    }\n",
       "</style>\n",
       "<table border=\"1\" class=\"dataframe\">\n",
       "  <thead>\n",
       "    <tr style=\"text-align: right;\">\n",
       "      <th></th>\n",
       "      <th>value1</th>\n",
       "      <th>value2</th>\n",
       "    </tr>\n",
       "  </thead>\n",
       "  <tbody>\n",
       "    <tr>\n",
       "      <th>value1</th>\n",
       "      <td>1.000000</td>\n",
       "      <td>0.993656</td>\n",
       "    </tr>\n",
       "    <tr>\n",
       "      <th>value2</th>\n",
       "      <td>0.993656</td>\n",
       "      <td>1.000000</td>\n",
       "    </tr>\n",
       "  </tbody>\n",
       "</table>\n",
       "</div>"
      ],
      "text/plain": [
       "          value1    value2\n",
       "value1  1.000000  0.993656\n",
       "value2  0.993656  1.000000"
      ]
     },
     "execution_count": 32,
     "metadata": {},
     "output_type": "execute_result"
    }
   ],
   "source": [
    "# Pearson相关系数 - 算法\n",
    "\n",
    "data1 = pd.Series(np.random.rand(100)*100).sort_values()\n",
    "data2 = pd.Series(np.random.rand(100)*50).sort_values()\n",
    "data = pd.DataFrame({'value1':data1.values,\n",
    "                     'value2':data2.values})\n",
    "print(data.head())\n",
    "print('------')\n",
    "# 创建样本数据\n",
    "\n",
    "data.corr()\n",
    "# pandas相关性方法：data.corr(method='pearson', min_periods=1) → 直接给出数据字段的相关系数矩阵\n",
    "# method默认pearson"
   ]
  },
  {
   "cell_type": "code",
   "execution_count": 33,
   "metadata": {
    "id": "543F25A43F9D47B78010EABA6833465A",
    "scrolled": false
   },
   "outputs": [
    {
     "name": "stdout",
     "output_type": "stream",
     "text": [
      "    智商  每周看电视小时数\n",
      "0  106         7\n",
      "1   86         0\n",
      "2  100        27\n",
      "3  101        50\n",
      "4   99        28\n",
      "5  103        29\n",
      "6   97        20\n",
      "7  113        12\n",
      "8  112         6\n",
      "9  110        17\n",
      "------\n",
      "    智商  每周看电视小时数  range1  range2\n",
      "1   86         0       1       1\n",
      "8  112         6       9       2\n",
      "0  106         7       7       3\n",
      "7  113        12      10       4\n",
      "9  110        17       8       5\n",
      "6   97        20       2       6\n",
      "2  100        27       4       7\n",
      "4   99        28       3       8\n",
      "5  103        29       6       9\n",
      "3  101        50       5      10\n",
      "------\n",
      "    智商  每周看电视小时数  range1  range2  d  d2\n",
      "1   86         0       1       1  0   0\n",
      "8  112         6       9       2  7  49\n",
      "0  106         7       7       3  4  16\n",
      "7  113        12      10       4  6  36\n",
      "9  110        17       8       5  3   9\n",
      "6   97        20       2       6 -4  16\n",
      "2  100        27       4       7 -3   9\n",
      "4   99        28       3       8 -5  25\n",
      "5  103        29       6       9 -3   9\n",
      "3  101        50       5      10 -5  25\n",
      "------\n",
      "Pearson相关系数为：-0.1758\n"
     ]
    }
   ],
   "source": [
    "# Sperman秩相关系数\n",
    "\n",
    "data = pd.DataFrame({'智商':[106,86,100,101,99,103,97,113,112,110],\n",
    "                    '每周看电视小时数':[7,0,27,50,28,29,20,12,6,17]})\n",
    "print(data)\n",
    "print('------')\n",
    "# 创建样本数据\n",
    "\n",
    "data.sort_values('智商', inplace=True)\n",
    "data['range1'] = np.arange(1,len(data)+1)\n",
    "data.sort_values('每周看电视小时数', inplace=True)\n",
    "data['range2'] = np.arange(1,len(data)+1)\n",
    "print(data)\n",
    "print('------')\n",
    "# “智商”、“每周看电视小时数”重新按照从小到大排序，并设定秩次index\n",
    "\n",
    "data['d'] = data['range1'] - data['range2']\n",
    "data['d2'] = data['d']**2\n",
    "print(data)\n",
    "print('------')\n",
    "# 求出di，di2\n",
    "\n",
    "n = len(data)\n",
    "rs = 1 - 6 * (data['d2'].sum()) / (n * (n**2 - 1))\n",
    "print('Pearson相关系数为：%.4f' % rs)\n",
    "# 求出rs"
   ]
  },
  {
   "cell_type": "code",
   "execution_count": 34,
   "metadata": {
    "id": "65C9D6A2865B4859B376C0A57079F41B",
    "scrolled": false
   },
   "outputs": [
    {
     "name": "stdout",
     "output_type": "stream",
     "text": [
      "    智商  每周看电视小时数\n",
      "0  106         7\n",
      "1   86         0\n",
      "2  100        27\n",
      "3  101        50\n",
      "4   99        28\n",
      "5  103        29\n",
      "6   97        20\n",
      "7  113        12\n",
      "8  112         6\n",
      "9  110        17\n",
      "------\n"
     ]
    },
    {
     "data": {
      "text/html": [
       "<div>\n",
       "<style scoped>\n",
       "    .dataframe tbody tr th:only-of-type {\n",
       "        vertical-align: middle;\n",
       "    }\n",
       "\n",
       "    .dataframe tbody tr th {\n",
       "        vertical-align: top;\n",
       "    }\n",
       "\n",
       "    .dataframe thead th {\n",
       "        text-align: right;\n",
       "    }\n",
       "</style>\n",
       "<table border=\"1\" class=\"dataframe\">\n",
       "  <thead>\n",
       "    <tr style=\"text-align: right;\">\n",
       "      <th></th>\n",
       "      <th>智商</th>\n",
       "      <th>每周看电视小时数</th>\n",
       "    </tr>\n",
       "  </thead>\n",
       "  <tbody>\n",
       "    <tr>\n",
       "      <th>智商</th>\n",
       "      <td>1.000000</td>\n",
       "      <td>-0.175758</td>\n",
       "    </tr>\n",
       "    <tr>\n",
       "      <th>每周看电视小时数</th>\n",
       "      <td>-0.175758</td>\n",
       "      <td>1.000000</td>\n",
       "    </tr>\n",
       "  </tbody>\n",
       "</table>\n",
       "</div>"
      ],
      "text/plain": [
       "                智商  每周看电视小时数\n",
       "智商        1.000000 -0.175758\n",
       "每周看电视小时数 -0.175758  1.000000"
      ]
     },
     "execution_count": 34,
     "metadata": {},
     "output_type": "execute_result"
    }
   ],
   "source": [
    "# Pearson相关系数 - 算法\n",
    "\n",
    "data = pd.DataFrame({'智商':[106,86,100,101,99,103,97,113,112,110],\n",
    "                    '每周看电视小时数':[7,0,27,50,28,29,20,12,6,17]})\n",
    "print(data)\n",
    "print('------')\n",
    "# 创建样本数据\n",
    "\n",
    "data.corr(method='spearman')\n",
    "# pandas相关性方法：data.corr(method='pearson', min_periods=1) → 直接给出数据字段的相关系数矩阵\n",
    "# method默认pearson"
   ]
  },
  {
   "cell_type": "markdown",
   "metadata": {
    "id": "FAEFB93942E746ED97644215E44926F2",
    "mdEditEnable": false
   },
   "source": [
    "[返回目录](#【目录】)"
   ]
  }
 ],
 "metadata": {
  "kernelspec": {
   "display_name": "Python 3",
   "language": "python",
   "name": "python3"
  },
  "language_info": {
   "codemirror_mode": {
    "name": "ipython",
    "version": 3
   },
   "file_extension": ".py",
   "mimetype": "text/x-python",
   "name": "python",
   "nbconvert_exporter": "python",
   "pygments_lexer": "ipython3",
   "version": "3.6.8"
  },
  "varInspector": {
   "cols": {
    "lenName": 16,
    "lenType": 16,
    "lenVar": 40
   },
   "kernels_config": {
    "python": {
     "delete_cmd_postfix": "",
     "delete_cmd_prefix": "del ",
     "library": "var_list.py",
     "varRefreshCmd": "print(var_dic_list())"
    },
    "r": {
     "delete_cmd_postfix": ") ",
     "delete_cmd_prefix": "rm(",
     "library": "var_list.r",
     "varRefreshCmd": "cat(var_dic_list()) "
    }
   },
   "types_to_exclude": [
    "module",
    "function",
    "builtin_function_or_method",
    "instance",
    "_Feature"
   ],
   "window_display": false
  }
 },
 "nbformat": 4,
 "nbformat_minor": 1
}
