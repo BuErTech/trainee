{
 "cells": [
  {
   "cell_type": "markdown",
   "metadata": {},
   "source": [
    "1.导入产品数据\n",
    "2.查看并清理数据\n",
    "3.确认分析角度\n",
    "    \n",
    "    产品经理在各个领域的分布数量\n",
    "    产品经理在各个领域的薪酬情况\n",
    "    产品经理在各个城市的薪酬情况\n",
    "    产品经理在整体的薪酬情况\n",
    "    产品岗位专业的要求程度\n",
    "    产品岗位学历的要求情况\n",
    "    产品岗位经验的要求情况\n",
    "    产品岗位不同经验的薪酬\n",
    "    产品岗位不同学历的薪酬\n",
    "    不同规模公司对学历的要求\n",
    "    不同规模公司对经验的要求\n",
    "    产品对softskill要求排行\n",
    "\n",
    "4.根据分析角度确定需要的列\n",
    "5.处理数据，得出结论"
   ]
  },
  {
   "cell_type": "code",
   "execution_count": null,
   "metadata": {},
   "outputs": [],
   "source": [
    "import pandas as pd \n",
    "import numpy as np"
   ]
  },
  {
   "cell_type": "code",
   "execution_count": null,
   "metadata": {},
   "outputs": [],
   "source": [
    "dataFrameForProduct = pd.read_excel(\"产品.xls\")\n",
    "# 导入文件，注意文件放置位置"
   ]
  },
  {
   "cell_type": "code",
   "execution_count": null,
   "metadata": {},
   "outputs": [],
   "source": [
    "dataFrameForProduct.info()\n",
    "# 查看各列的数据情况"
   ]
  },
  {
   "cell_type": "markdown",
   "metadata": {},
   "source": [
    "主要要分析的列：\n",
    "\n",
    "    领域\n",
    "    公司规模\n",
    "    工作地点\n",
    "    平均薪资\n",
    "    学历要求\n",
    "    经验要求 \n",
    "    专业要求\n",
    "    softskill要求\n",
    "    证书要求"
   ]
  },
  {
   "cell_type": "code",
   "execution_count": null,
   "metadata": {},
   "outputs": [],
   "source": [
    "# 处理“领域”列的数据第一步\n",
    "\n",
    "sign=\"移动互联网\"\n",
    "index=0\n",
    "index1=0\n",
    "index2=0\n",
    "\n",
    "for x in dataFrameForProduct['领域']:\n",
    "    q=x.split(\",\")\n",
    "    if sign2 in q and len(q)>1:\n",
    "        del q[q.index(sign2)]\n",
    "    #print(q)\n",
    "    w=q[0]\n",
    "    #print(w)\n",
    "    dataFrameForProduct['领域'].loc[index]=w\n",
    "    index+=1\n",
    "\n",
    "\n",
    "for t in dataFrameForProduct['领域']:\n",
    "    h=t.split(\"、\")\n",
    "    f=h[0]\n",
    "    dataFrameForProduct['领域'].loc[index1]=f\n",
    "    index1 +=1\n",
    "    \n",
    "\n",
    "for z in dataFrameForProduct['领域']:\n",
    "    c=z.split(\" \")\n",
    "    j=c[0]\n",
    "    dataFrameForProduct['领域'].loc[index2]=j\n",
    "    index2 +=1\n",
    "\n",
    "# print(index)"
   ]
  },
  {
   "cell_type": "code",
   "execution_count": null,
   "metadata": {},
   "outputs": [],
   "source": [
    "# 处理“公司规模”列的数据\n",
    "\n",
    "dataFrameForProduct.groupby('公司规模')['公司规模'].count()\n",
    "\n",
    "errorindex=dataFrameForProduct[(dataFrameForProduct['公司规模']=='紫金科创(天使轮)，江苏舜天(天使轮)，金陵饭店(天使轮)，江苏高科技投资集团(天使轮)')].index.tolist()\n",
    "print(errorindex)\n",
    "\n",
    "dataFrameForProduct['公司规模'].iloc[335]='少于15人'"
   ]
  },
  {
   "cell_type": "code",
   "execution_count": null,
   "metadata": {},
   "outputs": [],
   "source": [
    "# 处理“专业要求”列数据\n",
    "ind=0\n",
    "for y in dataFrameForProduct['专业要求']:\n",
    "    m=str(y).split(\"，\")\n",
    "    #print(m)\n",
    "    n=m[0]\n",
    "    #print(n)\n",
    "    dataFrameForProduct['专业要求'].loc[ind]=n\n",
    "    ind+=1\n",
    "\n",
    "#dataFrameForProduct['专业要求']"
   ]
  },
  {
   "cell_type": "code",
   "execution_count": null,
   "metadata": {},
   "outputs": [],
   "source": [
    "#softskill 数据处理\n",
    "\n",
    "sk_人际沟通=0  \n",
    "sk_团队合作=0\n",
    "sk_逻辑思维=0  \n",
    "sk_项目管理=0\n",
    "sk_创新思维=0\n",
    "sk_自我驱动=0\n",
    "sk_时间管理=0\n",
    "sk_成长性思维=0\n",
    "\n",
    "\n",
    "for p in dataFrameForProduct['softskill要求']:\n",
    "    v=str(p).split(\"，\")\n",
    "    for a in v:\n",
    "        if '人际沟通' in a or '沟通能力' in a:\n",
    "            sk_人际沟通+=1\n",
    "        elif '团队合作' in a:\n",
    "            sk_团队合作+=1\n",
    "        elif '逻辑思维' in a or '思维能力' in a:\n",
    "            sk_逻辑思维+=1\n",
    "        elif '项目管理' in a:\n",
    "            sk_项目管理+=1\n",
    "        elif '创新思维' in a:\n",
    "            sk_创新思维+=1\n",
    "        elif '自我驱动' in a:\n",
    "            sk_自我驱动+=1\n",
    "        elif '时间管理' in a:\n",
    "            sk_时间管理+=1\n",
    "        elif '成长性思维' in a:\n",
    "            sk_成长性思维+=1\n",
    "\n",
    "print(sk_人际沟通,\n",
    "sk_团队合作,\n",
    "sk_逻辑思维, \n",
    "sk_项目管理,\n",
    "sk_创新思维,\n",
    "sk_自我驱动,\n",
    "sk_时间管理,\n",
    "sk_成长性思维)"
   ]
  },
  {
   "cell_type": "code",
   "execution_count": null,
   "metadata": {},
   "outputs": [],
   "source": [
    "# 证书要求数据处理\n",
    "error1=dataFrameForProduct[(dataFrameForProduct['证书要求']=='CET4，CET6')].index.tolist()\n",
    "error2=dataFrameForProduct[(dataFrameForProduct['证书要求']=='英语专业四级，英语六级，英语四级')].index.tolist()\n",
    "error3=dataFrameForProduct[(dataFrameForProduct['证书要求']=='英语六级，英语四级')].index.tolist()\n",
    "error4=dataFrameForProduct[(dataFrameForProduct['证书要求']=='英语六级，英语四级，英语专业四级')].index.tolist()\n",
    "\n",
    "dataFrameForProduct['证书要求'].iloc[error1]='英语六级'\n",
    "dataFrameForProduct['证书要求'].iloc[error2]='英语专业四级'\n",
    "dataFrameForProduct['证书要求'].iloc[error3]='英语六级'\n",
    "dataFrameForProduct['证书要求'].iloc[error4]='英语专业四级'\n"
   ]
  },
  {
   "cell_type": "code",
   "execution_count": null,
   "metadata": {},
   "outputs": [],
   "source": []
  },
  {
   "cell_type": "markdown",
   "metadata": {},
   "source": [
    "### 产品经理在各个领域的分布数量"
   ]
  },
  {
   "cell_type": "code",
   "execution_count": null,
   "metadata": {},
   "outputs": [],
   "source": [
    "distribution_field=dataFrameForProduct.groupby('领域')['领域'].count()\n",
    "print(distribution_field)"
   ]
  },
  {
   "cell_type": "markdown",
   "metadata": {},
   "source": [
    "### 产品经理在各个领域的薪酬情况"
   ]
  },
  {
   "cell_type": "code",
   "execution_count": 222,
   "metadata": {},
   "outputs": [],
   "source": [
    "wages_field=dataFrameForProduct.groupby('领域')['平均薪资/k'].mean()\n",
    "# print(wages_field)"
   ]
  },
  {
   "cell_type": "markdown",
   "metadata": {},
   "source": [
    "### 产品经理在各个城市的薪酬情况"
   ]
  },
  {
   "cell_type": "code",
   "execution_count": 223,
   "metadata": {},
   "outputs": [],
   "source": [
    "wages_city=dataFrameForProduct.groupby('工作地点')['平均薪资/k'].mean()\n",
    "#print(distribution_city)"
   ]
  },
  {
   "cell_type": "markdown",
   "metadata": {},
   "source": [
    "### 产品经理在整体的薪酬情况"
   ]
  },
  {
   "cell_type": "code",
   "execution_count": 224,
   "metadata": {},
   "outputs": [],
   "source": [
    "distribution_wage=dataFrameForProduct.groupby('平均薪资/k')['平均薪资/k'].count()\n",
    "#print(distribution_wage)"
   ]
  },
  {
   "cell_type": "markdown",
   "metadata": {},
   "source": [
    "### 产品岗位专业的要求程度"
   ]
  },
  {
   "cell_type": "code",
   "execution_count": 225,
   "metadata": {},
   "outputs": [],
   "source": [
    "demande_profession=dataFrameForProduct.groupby('专业要求')['专业要求'].count()\n",
    "demande_profession_rate=1-1273/2653\n",
    "# print(demande_profession)\n",
    "# print(demande_profession_rate)"
   ]
  },
  {
   "cell_type": "markdown",
   "metadata": {},
   "source": [
    "### 产品岗位学历的要求情况"
   ]
  },
  {
   "cell_type": "code",
   "execution_count": 226,
   "metadata": {},
   "outputs": [
    {
     "name": "stdout",
     "output_type": "stream",
     "text": [
      "学历要求\n",
      "大专及以上      302\n",
      "学历不限       200\n",
      "本科及以上     2118\n",
      "硕士及以上       33\n",
      "Name: 学历要求, dtype: int64\n"
     ]
    }
   ],
   "source": [
    "demande_education=dataFrameForProduct.groupby('学历要求')['学历要求'].count()\n",
    "print(demande_education)"
   ]
  },
  {
   "cell_type": "markdown",
   "metadata": {},
   "source": [
    "### 产品岗位经验的要求情况"
   ]
  },
  {
   "cell_type": "code",
   "execution_count": 227,
   "metadata": {},
   "outputs": [],
   "source": [
    "demande_exprience=dataFrameForProduct.groupby('经验要求')['经验要求'].count()\n",
    "# print(demande_exprience)"
   ]
  },
  {
   "cell_type": "markdown",
   "metadata": {},
   "source": [
    "### 产品岗位不同经验的薪酬"
   ]
  },
  {
   "cell_type": "code",
   "execution_count": 228,
   "metadata": {},
   "outputs": [],
   "source": [
    "wages_exprience=dataFrameForProduct.groupby('经验要求')['平均薪资/k'].mean()\n",
    "# print(wages_exprience)"
   ]
  },
  {
   "cell_type": "markdown",
   "metadata": {},
   "source": [
    "### 产品岗位不同学历的薪酬"
   ]
  },
  {
   "cell_type": "code",
   "execution_count": 229,
   "metadata": {},
   "outputs": [],
   "source": [
    "wages_education=dataFrameForProduct.groupby('学历要求')['平均薪资/k'].mean()\n",
    "# print(wages_education)"
   ]
  },
  {
   "cell_type": "markdown",
   "metadata": {},
   "source": [
    "### 公司不同规模公司对学历的要求分布"
   ]
  },
  {
   "cell_type": "code",
   "execution_count": 230,
   "metadata": {},
   "outputs": [],
   "source": [
    "scale_education=dataFrameForProduct.groupby(['公司规模','学历要求'])['学历要求'].count()\n",
    "# print(scale_education)"
   ]
  },
  {
   "cell_type": "markdown",
   "metadata": {},
   "source": [
    "### 不同规模公司对经验的要求"
   ]
  },
  {
   "cell_type": "code",
   "execution_count": 231,
   "metadata": {},
   "outputs": [
    {
     "name": "stdout",
     "output_type": "stream",
     "text": [
      "公司规模       经验要求    \n",
      "15-50人     经验1-3年       93\n",
      "           经验10年以上       4\n",
      "           经验1年以下        6\n",
      "           经验3-5年      121\n",
      "           经验5-10年      44\n",
      "           经验不限         47\n",
      "           经验应届毕业生      47\n",
      "150-500人   经验1-3年      126\n",
      "           经验10年以上       6\n",
      "           经验1年以下        4\n",
      "           经验3-5年      214\n",
      "           经验5-10年     156\n",
      "           经验不限         41\n",
      "           经验应届毕业生      65\n",
      "2000人以上    经验1-3年       91\n",
      "           经验10年以上       8\n",
      "           经验1年以下        5\n",
      "           经验3-5年      239\n",
      "           经验5-10年     182\n",
      "           经验不限         54\n",
      "           经验应届毕业生      34\n",
      "50-150人    经验1-3年      153\n",
      "           经验10年以上       7\n",
      "           经验1年以下        8\n",
      "           经验3-5年      215\n",
      "           经验5-10年      92\n",
      "           经验不限         59\n",
      "           经验应届毕业生      37\n",
      "500-2000人  经验1-3年       61\n",
      "           经验10年以上      13\n",
      "           经验1年以下        6\n",
      "           经验3-5年      178\n",
      "           经验5-10年     129\n",
      "           经验不限         35\n",
      "           经验应届毕业生      31\n",
      "少于15人      经验1-3年       13\n",
      "           经验3-5年       16\n",
      "           经验5-10年       2\n",
      "           经验不限          4\n",
      "           经验应届毕业生       7\n",
      "Name: 经验要求, dtype: int64\n"
     ]
    }
   ],
   "source": [
    "scale_exprience=dataFrameForProduct.groupby(['公司规模','经验要求'])['经验要求'].count()\n",
    "print(scale_exprience)"
   ]
  },
  {
   "cell_type": "code",
   "execution_count": null,
   "metadata": {},
   "outputs": [],
   "source": [
    "from openpyxl import load_workbook\n",
    "import xlwt"
   ]
  },
  {
   "cell_type": "code",
   "execution_count": 232,
   "metadata": {},
   "outputs": [],
   "source": [
    "# 写入excel\n",
    "with pd.ExcelWriter('test.xlsx') as writer:\n",
    "    distribution_field.to_excel(writer, sheet_name='产品经理在各个领域的分布数量')\n",
    "    wages_field.to_excel(writer, sheet_name='产品经理在各个领域的薪酬情况')\n",
    "    wages_city.to_excel(writer, sheet_name='产品经理在各个城市的薪酬情况')\n",
    "    distribution_wage.to_excel(writer, sheet_name='产品经理在整体的薪酬情况')\n",
    "    demande_profession.to_excel(writer, sheet_name='产品岗位专业的要求程度')\n",
    "    demande_education.to_excel(writer, sheet_name='产品岗位学历的要求情况')\n",
    "    demande_exprience.to_excel(writer, sheet_name='产品岗位经验的要求情况')\n",
    "    wages_exprience.to_excel(writer, sheet_name='产品岗位不同经验的薪酬')\n",
    "    wages_education.to_excel(writer, sheet_name='产品岗位不同学历的薪酬')\n",
    "    scale_education.to_excel(writer, sheet_name='公司不同规模公司对学历的要求分布')\n",
    "    scale_exprience.to_excel(writer, sheet_name='不同规模公司对经验的要求')\n",
    "writer.save()\n",
    "writer.close()\n"
   ]
  }
 ],
 "metadata": {
  "kernelspec": {
   "display_name": "Python 3",
   "language": "python",
   "name": "python3"
  },
  "language_info": {
   "codemirror_mode": {
    "name": "ipython",
    "version": 3
   },
   "file_extension": ".py",
   "mimetype": "text/x-python",
   "name": "python",
   "nbconvert_exporter": "python",
   "pygments_lexer": "ipython3",
   "version": "3.6.5"
  }
 },
 "nbformat": 4,
 "nbformat_minor": 2
}
