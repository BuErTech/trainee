{
 "cells": [
  {
   "cell_type": "markdown",
   "metadata": {},
   "source": [
    "本次主要关注不同职业的关键词以及平均薪资情况"
   ]
  },
  {
   "cell_type": "code",
   "execution_count": 1,
   "metadata": {},
   "outputs": [],
   "source": [
    "import numpy as np\n",
    "import pandas as pd\n",
    "import matplotlib.pyplot as plt "
   ]
  },
  {
   "cell_type": "code",
   "execution_count": 5,
   "metadata": {},
   "outputs": [],
   "source": [
    "product=pd.read_excel(\"产品.xls\")\n",
    "marketing=pd.read_excel(\"市场.xls\")\n",
    "technology=pd.read_excel(\"技术.xls\")\n",
    "games=pd.read_excel(\"游戏.xls\")\n",
    "politics=pd.read_excel(\"职能.xls\")\n",
    "designings=pd.read_excel(\"设计.xls\")\n",
    "sellers=pd.read_excel(\"销售.xls\")"
   ]
  },
  {
   "cell_type": "markdown",
   "metadata": {},
   "source": [
    "产品行业的情况："
   ]
  },
  {
   "cell_type": "code",
   "execution_count": 57,
   "metadata": {},
   "outputs": [
    {
     "name": "stdout",
     "output_type": "stream",
     "text": [
      "学历要求：\n",
      "本科及以上     2118\n",
      "大专及以上      302\n",
      "学历不限       200\n",
      "硕士及以上       33\n",
      "Name: 学历要求, dtype: int64\n",
      "\n",
      "工作性质：\n",
      "全职    2504\n",
      "实习     137\n",
      "兼职      12\n",
      "Name: 工作性质, dtype: int64\n",
      "\n",
      "专业要求：\n",
      "产品设计                              930\n",
      "工业智能，人工智能                          43\n",
      "市场营销，市场营销教育                        34\n",
      "互联网金融                              33\n",
      "工业设计                               23\n",
      "产品设计，工业设计                          21\n",
      "工业智能，产品设计，人工智能                     20\n",
      "产品设计，工业智能，人工智能                     18\n",
      "产品设计，软件工程                          13\n",
      "电子商务类，产品设计，跨境电子商务，电子商务及法律，电子商务     12\n",
      "Name: 专业要求, dtype: int64\n",
      "\n",
      "softskll要求：\n",
      "沟通能力              409\n",
      "逻辑思维              316\n",
      "项目管理              200\n",
      "团队合作              189\n",
      "逻辑思维，沟通能力         157\n",
      "团队合作，沟通能力         138\n",
      "项目管理，沟通能力          73\n",
      "团队管理               72\n",
      "团队合作，逻辑思维          58\n",
      "团队合作，逻辑思维，沟通能力     53\n",
      "Name: softskill要求, dtype: int64\n",
      "\n",
      "技能要求：\n",
      "沟通能力            82\n",
      "产品设计            57\n",
      "逻辑思维            35\n",
      "团队合作            34\n",
      "工作经验，沟通能力       33\n",
      "团队合作，沟通能力       28\n",
      "逻辑思维，沟通能力       22\n",
      "产品设计，本科及以上学历    19\n",
      "本科及以上学历，沟通能力    19\n",
      "逻辑思维，工作经验       18\n",
      "Name: 技能要求, dtype: int64\n",
      "\n",
      "最低薪资/k：\n"
     ]
    },
    {
     "data": {
      "text/plain": [
       "<matplotlib.axes._subplots.AxesSubplot at 0x1be96185eb8>"
      ]
     },
     "execution_count": 57,
     "metadata": {},
     "output_type": "execute_result"
    },
    {
     "data": {
      "image/png": "[encoded data removed]",
      "text/plain": [
       "<Figure size 432x288 with 1 Axes>"
      ]
     },
     "metadata": {
      "needs_background": "light"
     },
     "output_type": "display_data"
    }
   ],
   "source": [
    "a1=product[\"学历要求\"].value_counts().head(10)\n",
    "print(\"学历要求：\")\n",
    "print(a1)\n",
    "print()\n",
    "a2=product[\"工作性质\"].value_counts().head(10)\n",
    "print(\"工作性质：\")\n",
    "print(a2)\n",
    "print()\n",
    "a3=product[\"专业要求\"].value_counts().head(10)\n",
    "print(\"专业要求：\")\n",
    "print(a3)\n",
    "print()\n",
    "a4=product[\"softskill要求\"].value_counts().head(10)\n",
    "print(\"softskll要求：\")\n",
    "print(a4)\n",
    "print()\n",
    "a5=product[\"技能要求\"].value_counts().head(10)\n",
    "print(\"技能要求：\")\n",
    "print(a5)\n",
    "print()\n",
    "print(\"最低薪资/k：\")\n",
    "product[\"最低薪资/k\"].plot.hist()"
   ]
  },
  {
   "cell_type": "code",
   "execution_count": 62,
   "metadata": {},
   "outputs": [
    {
     "name": "stdout",
     "output_type": "stream",
     "text": [
      "最高薪资/k：\n"
     ]
    },
    {
     "data": {
      "text/plain": [
       "<matplotlib.axes._subplots.AxesSubplot at 0x1be980f9c50>"
      ]
     },
     "execution_count": 62,
     "metadata": {},
     "output_type": "execute_result"
    },
    {
     "data": {
      "image/png": "[encoded data removed]",
      "text/plain": [
       "<Figure size 432x288 with 1 Axes>"
      ]
     },
     "metadata": {
      "needs_background": "light"
     },
     "output_type": "display_data"
    }
   ],
   "source": [
    "print(\"最高薪资/k：\")\n",
    "product[\"最高薪资/k\"].plot.hist()"
   ]
  },
  {
   "cell_type": "markdown",
   "metadata": {},
   "source": [
    "市场行业的情况是："
   ]
  },
  {
   "cell_type": "code",
   "execution_count": 63,
   "metadata": {},
   "outputs": [
    {
     "name": "stdout",
     "output_type": "stream",
     "text": [
      "学历要求：\n",
      "本科及以上     3192\n",
      "大专及以上     1646\n",
      "学历不限       872\n",
      "硕士及以上       29\n",
      "Name: 学历要求, dtype: int64\n",
      "\n",
      "工作性质：\n",
      "全职    5611\n",
      "实习     107\n",
      "兼职      21\n",
      "Name: 工作性质, dtype: int64\n",
      "\n",
      "专业要求：\n",
      "市场营销，市场营销教育                              955\n",
      "英语                                       122\n",
      "产品设计                                     108\n",
      "医疗保险                                      77\n",
      "工业智能，人工智能                                 56\n",
      "电子商务及法律，跨境电子商务，市场营销教育，市场营销，电子商务，电子商务类     50\n",
      "电子商务及法律，跨境电子商务，电子商务，电子商务类                 48\n",
      "互联网金融                                     42\n",
      "电子商务，电子商务及法律，电子商务类，跨境电子商务                 40\n",
      "工商管理，市场营销教育，市场营销，工程管理，工商管理类               38\n",
      "Name: 专业要求, dtype: int64\n",
      "\n",
      "softskll要求：\n",
      "沟通能力         1422\n",
      "团队合作          923\n",
      "团队合作，沟通能力     440\n",
      "逻辑思维          335\n",
      "团队管理          180\n",
      "逻辑思维，沟通能力     172\n",
      "项目管理          169\n",
      "团队合作，逻辑思维     104\n",
      "自我驱动           88\n",
      "人际沟通           75\n",
      "Name: softskill要求, dtype: int64\n",
      "\n",
      "技能要求：\n",
      "沟通能力              452\n",
      "团队合作              343\n",
      "沟通能力，工作经验         146\n",
      "市场营销              116\n",
      "团队合作，工作经验         105\n",
      "本科及以上学历，沟通能力       99\n",
      "沟通能力，团队合作          96\n",
      "市场营销，工作经验          75\n",
      "逻辑思维               75\n",
      "沟通能力，团队合作，工作经验     62\n",
      "Name: 技能要求, dtype: int64\n",
      "\n",
      "最低薪资/k：\n"
     ]
    },
    {
     "data": {
      "text/plain": [
       "<matplotlib.axes._subplots.AxesSubplot at 0x1be9924cba8>"
      ]
     },
     "execution_count": 63,
     "metadata": {},
     "output_type": "execute_result"
    },
    {
     "data": {
      "image/png": "[encoded data removed]",
      "text/plain": [
       "<Figure size 432x288 with 1 Axes>"
      ]
     },
     "metadata": {
      "needs_background": "light"
     },
     "output_type": "display_data"
    }
   ],
   "source": [
    "a1=marketing[\"学历要求\"].value_counts().head(10)\n",
    "print(\"学历要求：\")\n",
    "print(a1)\n",
    "print()\n",
    "a2=marketing[\"工作性质\"].value_counts().head(10)\n",
    "print(\"工作性质：\")\n",
    "print(a2)\n",
    "print()\n",
    "a3=marketing[\"专业要求\"].value_counts().head(10)\n",
    "print(\"专业要求：\")\n",
    "print(a3)\n",
    "print()\n",
    "a4=marketing[\"softskill要求\"].value_counts().head(10)\n",
    "print(\"softskll要求：\")\n",
    "print(a4)\n",
    "print()\n",
    "a5=marketing[\"技能要求\"].value_counts().head(10)\n",
    "print(\"技能要求：\")\n",
    "print(a5)\n",
    "print()\n",
    "print(\"最低薪资/k：\")\n",
    "marketing[\"最低薪资/k\"].plot.hist()"
   ]
  },
  {
   "cell_type": "code",
   "execution_count": 70,
   "metadata": {},
   "outputs": [
    {
     "name": "stdout",
     "output_type": "stream",
     "text": [
      "最高薪资/k：\n"
     ]
    },
    {
     "data": {
      "text/plain": [
       "<matplotlib.axes._subplots.AxesSubplot at 0x1be9ab2de10>"
      ]
     },
     "execution_count": 70,
     "metadata": {},
     "output_type": "execute_result"
    },
    {
     "data": {
      "image/png": "[encoded data removed]",
      "text/plain": [
       "<Figure size 432x288 with 1 Axes>"
      ]
     },
     "metadata": {
      "needs_background": "light"
     },
     "output_type": "display_data"
    }
   ],
   "source": [
    "print(\"最高薪资/k：\")\n",
    "marketing[\"最高薪资/k\"].plot.hist()"
   ]
  },
  {
   "cell_type": "markdown",
   "metadata": {},
   "source": [
    "技术行业的情况是："
   ]
  },
  {
   "cell_type": "code",
   "execution_count": 65,
   "metadata": {},
   "outputs": [
    {
     "name": "stdout",
     "output_type": "stream",
     "text": [
      "学历要求：\n",
      "本科及以上     11656\n",
      "大专及以上      2125\n",
      "学历不限       1150\n",
      "硕士及以上       746\n",
      "博士及以上        23\n",
      "Name: 学历要求, dtype: int64\n",
      "\n",
      "工作性质：\n",
      "全职    15316\n",
      "实习      359\n",
      "兼职       25\n",
      "Name: 工作性质, dtype: int64\n",
      "\n",
      "专业要求：\n",
      "软件工程              916\n",
      "产品设计              809\n",
      "人工智能，工业智能         799\n",
      "信息安全              481\n",
      "英语                163\n",
      "市场营销教育，市场营销       134\n",
      "计算机类              125\n",
      "医疗保险              112\n",
      "互联网金融              98\n",
      "通信工程，交通工程，信息工程     98\n",
      "Name: 专业要求, dtype: int64\n",
      "\n",
      "softskll要求：\n",
      "沟通能力         3226\n",
      "团队合作         2698\n",
      "沟通能力，团队合作    1685\n",
      "逻辑思维          820\n",
      "项目管理          691\n",
      "团队管理          482\n",
      "团队合作，逻辑思维     308\n",
      "沟通能力，逻辑思维     294\n",
      "自我驱动          254\n",
      "沟通能力，项目管理     214\n",
      "Name: softskill要求, dtype: int64\n",
      "\n",
      "技能要求：\n",
      "沟通能力                 898\n",
      "团队合作                 653\n",
      "团队合作，沟通能力            401\n",
      "沟通能力，本科及以上学历         291\n",
      "沟通能力，工作经验            276\n",
      "团队合作，本科及以上学历         235\n",
      "团队合作，工作经验            196\n",
      "逻辑思维                 193\n",
      "团队合作，沟通能力，本科及以上学历    174\n",
      "人工智能                 155\n",
      "Name: 技能要求, dtype: int64\n",
      "\n",
      "最低薪资/k：\n"
     ]
    },
    {
     "data": {
      "text/plain": [
       "<matplotlib.axes._subplots.AxesSubplot at 0x1be997ed4e0>"
      ]
     },
     "execution_count": 65,
     "metadata": {},
     "output_type": "execute_result"
    },
    {
     "data": {
      "image/png": "[encoded data removed]",
      "text/plain": [
       "<Figure size 432x288 with 1 Axes>"
      ]
     },
     "metadata": {
      "needs_background": "light"
     },
     "output_type": "display_data"
    }
   ],
   "source": [
    "a1=technology[\"学历要求\"].value_counts().head(10)\n",
    "print(\"学历要求：\")\n",
    "print(a1)\n",
    "print()\n",
    "a2=technology[\"工作性质\"].value_counts().head(10)\n",
    "print(\"工作性质：\")\n",
    "print(a2)\n",
    "print()\n",
    "a3=technology[\"专业要求\"].value_counts().head(10)\n",
    "print(\"专业要求：\")\n",
    "print(a3)\n",
    "print()\n",
    "a4=technology[\"softskill要求\"].value_counts().head(10)\n",
    "print(\"softskll要求：\")\n",
    "print(a4)\n",
    "print()\n",
    "a5=technology[\"技能要求\"].value_counts().head(10)\n",
    "print(\"技能要求：\")\n",
    "print(a5)\n",
    "print()\n",
    "print(\"最低薪资/k：\")\n",
    "technology[\"最低薪资/k\"].plot.hist()"
   ]
  },
  {
   "cell_type": "code",
   "execution_count": 73,
   "metadata": {},
   "outputs": [
    {
     "name": "stdout",
     "output_type": "stream",
     "text": [
      "最高薪资/k：\n"
     ]
    },
    {
     "data": {
      "text/plain": [
       "<matplotlib.axes._subplots.AxesSubplot at 0x1be9b13c780>"
      ]
     },
     "execution_count": 73,
     "metadata": {},
     "output_type": "execute_result"
    },
    {
     "data": {
      "image/png": "[encoded data removed]",
      "text/plain": [
       "<Figure size 432x288 with 1 Axes>"
      ]
     },
     "metadata": {
      "needs_background": "light"
     },
     "output_type": "display_data"
    }
   ],
   "source": [
    "print(\"最高薪资/k：\")\n",
    "technology[\"最高薪资/k\"].plot.hist()"
   ]
  },
  {
   "cell_type": "markdown",
   "metadata": {},
   "source": [
    "游戏行业的情况是："
   ]
  },
  {
   "cell_type": "code",
   "execution_count": 66,
   "metadata": {},
   "outputs": [
    {
     "name": "stdout",
     "output_type": "stream",
     "text": [
      "学历要求：\n",
      "本科及以上     2266\n",
      "大专及以上     1231\n",
      "学历不限       650\n",
      "硕士及以上       21\n",
      "Name: 学历要求, dtype: int64\n",
      "\n",
      "工作性质：\n",
      "全职    4088\n",
      "实习      65\n",
      "兼职      15\n",
      "Name: 工作性质, dtype: int64\n",
      "\n",
      "专业要求：\n",
      "产品设计                                     176\n",
      "市场营销，市场营销教育                              122\n",
      "英语                                        46\n",
      "软件工程                                      38\n",
      "医疗保险                                      38\n",
      "工业智能，人工智能                                 34\n",
      "工业设计                                      25\n",
      "计算机类                                      22\n",
      "电子商务及法律，跨境电子商务，市场营销教育，市场营销，电子商务，电子商务类     16\n",
      "电子商务及法律，跨境电子商务，电子商务，电子商务类                 13\n",
      "Name: 专业要求, dtype: int64\n",
      "\n",
      "softskll要求：\n",
      "沟通能力              1097\n",
      "团队合作               781\n",
      "团队合作，沟通能力          448\n",
      "逻辑思维               412\n",
      "逻辑思维，沟通能力          184\n",
      "团队合作，逻辑思维          125\n",
      "团队管理                94\n",
      "项目管理                83\n",
      "团队合作，逻辑思维，沟通能力      67\n",
      "团队管理，沟通能力           48\n",
      "Name: softskill要求, dtype: int64\n",
      "\n",
      "技能要求：\n",
      "沟通能力                 469\n",
      "团队合作                 285\n",
      "沟通能力，工作经验            161\n",
      "团队合作，工作经验            128\n",
      "逻辑思维                 104\n",
      "沟通能力，团队合作             94\n",
      "本科及以上学历，沟通能力，团队合作     58\n",
      "工作经验，沟通能力             56\n",
      "沟通能力，团队合作，工作经验        54\n",
      "本科及以上学历，沟通能力          54\n",
      "Name: 技能要求, dtype: int64\n",
      "\n",
      "最低薪资/k：\n"
     ]
    },
    {
     "data": {
      "text/plain": [
       "<matplotlib.axes._subplots.AxesSubplot at 0x1be9a1aa748>"
      ]
     },
     "execution_count": 66,
     "metadata": {},
     "output_type": "execute_result"
    },
    {
     "data": {
      "image/png": "[encoded data removed]",
      "text/plain": [
       "<Figure size 432x288 with 1 Axes>"
      ]
     },
     "metadata": {
      "needs_background": "light"
     },
     "output_type": "display_data"
    }
   ],
   "source": [
    "a1=games[\"学历要求\"].value_counts().head(10)\n",
    "print(\"学历要求：\")\n",
    "print(a1)\n",
    "print()\n",
    "a2=games[\"工作性质\"].value_counts().head(10)\n",
    "print(\"工作性质：\")\n",
    "print(a2)\n",
    "print()\n",
    "a3=games[\"专业要求\"].value_counts().head(10)\n",
    "print(\"专业要求：\")\n",
    "print(a3)\n",
    "print()\n",
    "a4=games[\"softskill要求\"].value_counts().head(10)\n",
    "print(\"softskll要求：\")\n",
    "print(a4)\n",
    "print()\n",
    "a5=games[\"技能要求\"].value_counts().head(10)\n",
    "print(\"技能要求：\")\n",
    "print(a5)\n",
    "print()\n",
    "print(\"最低薪资/k：\")\n",
    "games[\"最低薪资/k\"].plot.hist()"
   ]
  },
  {
   "cell_type": "code",
   "execution_count": 74,
   "metadata": {},
   "outputs": [
    {
     "name": "stdout",
     "output_type": "stream",
     "text": [
      "最高薪资/k：\n"
     ]
    },
    {
     "data": {
      "text/plain": [
       "<matplotlib.axes._subplots.AxesSubplot at 0x1be9b1b60b8>"
      ]
     },
     "execution_count": 74,
     "metadata": {},
     "output_type": "execute_result"
    },
    {
     "data": {
      "image/png": "[encoded data removed]",
      "text/plain": [
       "<Figure size 432x288 with 1 Axes>"
      ]
     },
     "metadata": {
      "needs_background": "light"
     },
     "output_type": "display_data"
    }
   ],
   "source": [
    "print(\"最高薪资/k：\")\n",
    "games[\"最高薪资/k\"].plot.hist()"
   ]
  },
  {
   "cell_type": "markdown",
   "metadata": {},
   "source": [
    "行政行业的情况是："
   ]
  },
  {
   "cell_type": "code",
   "execution_count": 67,
   "metadata": {},
   "outputs": [
    {
     "name": "stdout",
     "output_type": "stream",
     "text": [
      "学历要求：\n",
      "本科及以上     1868\n",
      "大专及以上      795\n",
      "学历不限       309\n",
      "硕士及以上       46\n",
      "Name: 学历要求, dtype: int64\n",
      "\n",
      "工作性质：\n",
      "全职    2863\n",
      "实习     142\n",
      "兼职      13\n",
      "Name: 工作性质, dtype: int64\n",
      "\n",
      "专业要求：\n",
      "财务管理                              302\n",
      "行政管理，邮政管理                         263\n",
      "信息资源管理，土地资源管理，人力资源管理              254\n",
      "知识产权                               98\n",
      "产品设计                               47\n",
      "土地资源管理，人力资源管理，信息资源管理，邮政管理，行政管理     45\n",
      "市场营销，市场营销教育                        39\n",
      "互联网金融                              38\n",
      "英语                                 28\n",
      "工程管理，工商管理类，工商管理                    27\n",
      "Name: 专业要求, dtype: int64\n",
      "\n",
      "softskll要求：\n",
      "沟通能力         850\n",
      "团队合作         351\n",
      "逻辑思维         149\n",
      "团队合作，沟通能力    139\n",
      "逻辑思维，沟通能力     95\n",
      "团队管理          64\n",
      "项目管理          62\n",
      "人际沟通          60\n",
      "自我驱动          56\n",
      "团队管理，沟通能力     26\n",
      "Name: softskill要求, dtype: int64\n",
      "\n",
      "技能要求：\n",
      "沟通能力                 163\n",
      "沟通能力，工作经验             98\n",
      "团队合作                  54\n",
      "本科及以上学历，沟通能力          43\n",
      "团队合作，工作经验             39\n",
      "财务管理                  35\n",
      "本科及以上学历，沟通能力，工作经验     33\n",
      "工作经验，行政管理             28\n",
      "沟通能力，本科以上学历，工作经验      24\n",
      "工作经验，沟通能力             24\n",
      "Name: 技能要求, dtype: int64\n",
      "\n",
      "最低薪资/k：\n"
     ]
    },
    {
     "data": {
      "text/plain": [
       "<matplotlib.axes._subplots.AxesSubplot at 0x1be9a2569e8>"
      ]
     },
     "execution_count": 67,
     "metadata": {},
     "output_type": "execute_result"
    },
    {
     "data": {
      "image/png": "[encoded data removed]",
      "text/plain": [
       "<Figure size 432x288 with 1 Axes>"
      ]
     },
     "metadata": {
      "needs_background": "light"
     },
     "output_type": "display_data"
    }
   ],
   "source": [
    "a1=politics[\"学历要求\"].value_counts().head(10)\n",
    "print(\"学历要求：\")\n",
    "print(a1)\n",
    "print()\n",
    "a2=politics[\"工作性质\"].value_counts().head(10)\n",
    "print(\"工作性质：\")\n",
    "print(a2)\n",
    "print()\n",
    "a3=politics[\"专业要求\"].value_counts().head(10)\n",
    "print(\"专业要求：\")\n",
    "print(a3)\n",
    "print()\n",
    "a4=politics[\"softskill要求\"].value_counts().head(10)\n",
    "print(\"softskll要求：\")\n",
    "print(a4)\n",
    "print()\n",
    "a5=politics[\"技能要求\"].value_counts().head(10)\n",
    "print(\"技能要求：\")\n",
    "print(a5)\n",
    "print()\n",
    "print(\"最低薪资/k：\")\n",
    "politics[\"最低薪资/k\"].plot.hist()"
   ]
  },
  {
   "cell_type": "code",
   "execution_count": 75,
   "metadata": {},
   "outputs": [
    {
     "name": "stdout",
     "output_type": "stream",
     "text": [
      "最高薪资/k：\n"
     ]
    },
    {
     "data": {
      "text/plain": [
       "<matplotlib.axes._subplots.AxesSubplot at 0x1be9b22a0f0>"
      ]
     },
     "execution_count": 75,
     "metadata": {},
     "output_type": "execute_result"
    },
    {
     "data": {
      "image/png": "[encoded data removed]",
      "text/plain": [
       "<Figure size 432x288 with 1 Axes>"
      ]
     },
     "metadata": {
      "needs_background": "light"
     },
     "output_type": "display_data"
    }
   ],
   "source": [
    "print(\"最高薪资/k：\")\n",
    "politics[\"最高薪资/k\"].plot.hist()"
   ]
  },
  {
   "cell_type": "markdown",
   "metadata": {},
   "source": [
    "设计行业的情况是："
   ]
  },
  {
   "cell_type": "code",
   "execution_count": 68,
   "metadata": {},
   "outputs": [
    {
     "name": "stdout",
     "output_type": "stream",
     "text": [
      "学历要求：\n",
      "本科及以上     2631\n",
      "大专及以上      995\n",
      "学历不限       596\n",
      "硕士及以上       58\n",
      "博士及以上        2\n",
      "Name: 学历要求, dtype: int64\n",
      "\n",
      "工作性质：\n",
      "全职    4188\n",
      "实习      83\n",
      "兼职      11\n",
      "Name: 工作性质, dtype: int64\n",
      "\n",
      "专业要求：\n",
      "产品设计              603\n",
      "工业设计              319\n",
      "产品设计，工业设计         153\n",
      "市场营销，市场营销教育        55\n",
      "工业智能，人工智能          45\n",
      "包装设计               43\n",
      "医疗保险               36\n",
      "互联网金融              24\n",
      "产品设计，工业智能，人工智能     22\n",
      "工业设计，软件工程          18\n",
      "Name: 专业要求, dtype: int64\n",
      "\n",
      "softskll要求：\n",
      "沟通能力              1140\n",
      "团队合作               790\n",
      "团队合作，沟通能力          478\n",
      "逻辑思维               332\n",
      "逻辑思维，沟通能力          133\n",
      "团队合作，逻辑思维           82\n",
      "项目管理                71\n",
      "自我驱动                68\n",
      "团队管理                67\n",
      "团队合作，逻辑思维，沟通能力      49\n",
      "Name: softskill要求, dtype: int64\n",
      "\n",
      "技能要求：\n",
      "沟通能力              381\n",
      "团队合作              288\n",
      "沟通能力，工作经验         177\n",
      "团队合作，工作经验         135\n",
      "沟通能力，团队合作         113\n",
      "沟通能力，团队合作，工作经验     72\n",
      "产品设计               68\n",
      "工作经验，沟通能力          42\n",
      "团队合作，沟通能力          40\n",
      "本科及以上学历，沟通能力       38\n",
      "Name: 技能要求, dtype: int64\n",
      "\n",
      "最低薪资/k：\n"
     ]
    },
    {
     "data": {
      "text/plain": [
       "<matplotlib.axes._subplots.AxesSubplot at 0x1be9a2d12b0>"
      ]
     },
     "execution_count": 68,
     "metadata": {},
     "output_type": "execute_result"
    },
    {
     "data": {
      "image/png": "[encoded data removed]",
      "text/plain": [
       "<Figure size 432x288 with 1 Axes>"
      ]
     },
     "metadata": {
      "needs_background": "light"
     },
     "output_type": "display_data"
    }
   ],
   "source": [
    "a1=designings[\"学历要求\"].value_counts().head(10)\n",
    "print(\"学历要求：\")\n",
    "print(a1)\n",
    "print()\n",
    "a2=designings[\"工作性质\"].value_counts().head(10)\n",
    "print(\"工作性质：\")\n",
    "print(a2)\n",
    "print()\n",
    "a3=designings[\"专业要求\"].value_counts().head(10)\n",
    "print(\"专业要求：\")\n",
    "print(a3)\n",
    "print()\n",
    "a4=designings[\"softskill要求\"].value_counts().head(10)\n",
    "print(\"softskll要求：\")\n",
    "print(a4)\n",
    "print()\n",
    "a5=designings[\"技能要求\"].value_counts().head(10)\n",
    "print(\"技能要求：\")\n",
    "print(a5)\n",
    "print()\n",
    "print(\"最低薪资/k：\")\n",
    "designings[\"最低薪资/k\"].plot.hist()"
   ]
  },
  {
   "cell_type": "code",
   "execution_count": 76,
   "metadata": {},
   "outputs": [
    {
     "name": "stdout",
     "output_type": "stream",
     "text": [
      "最高薪资/k：\n"
     ]
    },
    {
     "data": {
      "text/plain": [
       "<matplotlib.axes._subplots.AxesSubplot at 0x1be9b28f4a8>"
      ]
     },
     "execution_count": 76,
     "metadata": {},
     "output_type": "execute_result"
    },
    {
     "data": {
      "image/png": "[encoded data removed]",
      "text/plain": [
       "<Figure size 432x288 with 1 Axes>"
      ]
     },
     "metadata": {
      "needs_background": "light"
     },
     "output_type": "display_data"
    }
   ],
   "source": [
    "print(\"最高薪资/k：\")\n",
    "designings[\"最高薪资/k\"].plot.hist()"
   ]
  },
  {
   "cell_type": "markdown",
   "metadata": {},
   "source": [
    "销售行业的情况是："
   ]
  },
  {
   "cell_type": "code",
   "execution_count": 69,
   "metadata": {},
   "outputs": [
    {
     "name": "stdout",
     "output_type": "stream",
     "text": [
      "学历要求：\n",
      "大专及以上     1172\n",
      "本科及以上     1105\n",
      "学历不限       563\n",
      "硕士及以上        6\n",
      "Name: 学历要求, dtype: int64\n",
      "\n",
      "工作性质：\n",
      "全职    2803\n",
      "实习      26\n",
      "兼职      17\n",
      "Name: 工作性质, dtype: int64\n",
      "\n",
      "专业要求：\n",
      "市场营销，市场营销教育                              391\n",
      "工业智能，人工智能                                 61\n",
      "医疗保险                                      50\n",
      "电子商务及法律，跨境电子商务，市场营销教育，市场营销，电子商务，电子商务类     43\n",
      "电子商务及法律，跨境电子商务，电子商务，电子商务类                 34\n",
      "互联网金融                                     27\n",
      "电子商务，电子商务及法律，电子商务类，跨境电子商务                 23\n",
      "英语                                        19\n",
      "工商管理，市场营销教育，市场营销，工程管理，工商管理类               18\n",
      "金融科技                                      17\n",
      "Name: 专业要求, dtype: int64\n",
      "\n",
      "softskll要求：\n",
      "沟通能力         919\n",
      "团队合作         342\n",
      "团队合作，沟通能力    180\n",
      "团队管理         167\n",
      "人际沟通          73\n",
      "团队管理，沟通能力     72\n",
      "逻辑思维          66\n",
      "逻辑思维，沟通能力     62\n",
      "项目管理          59\n",
      "自我驱动          52\n",
      "Name: softskill要求, dtype: int64\n",
      "\n",
      "技能要求：\n",
      "沟通能力            257\n",
      "沟通能力，工作经验       121\n",
      "团队合作             72\n",
      "市场营销             63\n",
      "团队管理             61\n",
      "团队合作，工作经验        53\n",
      "沟通能力，团队合作        53\n",
      "本科及以上学历，沟通能力     51\n",
      "沟通能力，表达能力        49\n",
      "沟通能力，责任心强        25\n",
      "Name: 技能要求, dtype: int64\n",
      "\n",
      "最低薪资/k：\n"
     ]
    },
    {
     "data": {
      "text/plain": [
       "<matplotlib.axes._subplots.AxesSubplot at 0x1be9aad1fd0>"
      ]
     },
     "execution_count": 69,
     "metadata": {},
     "output_type": "execute_result"
    },
    {
     "data": {
      "image/png": "[encoded data removed]",
      "text/plain": [
       "<Figure size 432x288 with 1 Axes>"
      ]
     },
     "metadata": {
      "needs_background": "light"
     },
     "output_type": "display_data"
    }
   ],
   "source": [
    "a1=sellers[\"学历要求\"].value_counts().head(10)\n",
    "print(\"学历要求：\")\n",
    "print(a1)\n",
    "print()\n",
    "a2=sellers[\"工作性质\"].value_counts().head(10)\n",
    "print(\"工作性质：\")\n",
    "print(a2)\n",
    "print()\n",
    "a3=sellers[\"专业要求\"].value_counts().head(10)\n",
    "print(\"专业要求：\")\n",
    "print(a3)\n",
    "print()\n",
    "a4=sellers[\"softskill要求\"].value_counts().head(10)\n",
    "print(\"softskll要求：\")\n",
    "print(a4)\n",
    "print()\n",
    "a5=sellers[\"技能要求\"].value_counts().head(10)\n",
    "print(\"技能要求：\")\n",
    "print(a5)\n",
    "print()\n",
    "print(\"最低薪资/k：\")\n",
    "sellers[\"最低薪资/k\"].plot.hist()"
   ]
  },
  {
   "cell_type": "code",
   "execution_count": 77,
   "metadata": {},
   "outputs": [
    {
     "name": "stdout",
     "output_type": "stream",
     "text": [
      "最高薪资/k：\n"
     ]
    },
    {
     "data": {
      "text/plain": [
       "<matplotlib.axes._subplots.AxesSubplot at 0x1be9b28fef0>"
      ]
     },
     "execution_count": 77,
     "metadata": {},
     "output_type": "execute_result"
    },
    {
     "data": {
      "image/png": "[encoded data removed]",
      "text/plain": [
       "<Figure size 432x288 with 1 Axes>"
      ]
     },
     "metadata": {
      "needs_background": "light"
     },
     "output_type": "display_data"
    }
   ],
   "source": [
    "print(\"最高薪资/k：\")\n",
    "sellers[\"最高薪资/k\"].plot.hist()"
   ]
  },
  {
   "cell_type": "code",
   "execution_count": null,
   "metadata": {},
   "outputs": [],
   "source": []
  }
 ],
 "metadata": {
  "kernelspec": {
   "display_name": "Python 3",
   "language": "python",
   "name": "python3"
  },
  "language_info": {
   "codemirror_mode": {
    "name": "ipython",
    "version": 3
   },
   "file_extension": ".py",
   "mimetype": "text/x-python",
   "name": "python",
   "nbconvert_exporter": "python",
   "pygments_lexer": "ipython3",
   "version": "3.7.0"
  }
 },
 "nbformat": 4,
 "nbformat_minor": 2
}
