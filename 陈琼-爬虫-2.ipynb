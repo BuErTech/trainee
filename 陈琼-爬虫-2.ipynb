{
 "cells": [
  {
   "cell_type": "code",
   "execution_count": 5,
   "metadata": {},
   "outputs": [
    {
     "name": "stdout",
     "output_type": "stream",
     "text": [
      "2018130期开奖号码：05,12,17,18,24,28,蓝球：12\n"
     ]
    }
   ],
   "source": [
    "import urllib.request\n",
    "import urllib.parse\n",
    "import re\n",
    "import urllib.request,urllib.parse,http.cookiejar\n",
    "\n",
    "def getHtml(url):\n",
    "    cj=http.cookiejar.CookieJar()\n",
    "    opener=urllib.request.build_opener(urllib.request.HTTPCookieProcessor(cj))\n",
    "    opener.addheaders=[('User-Agent','Mozilla/5.0 (Windows NT 6.1; WOW64) AppleWebKit/537.36 (KHTML, like Gecko) Chrome/41.0.2272.101 Safari/537.36'),('Cookie','4564564564564564565646540')]\n",
    "\n",
    "    urllib.request.install_opener(opener)\n",
    "    \n",
    "    html_bytes = urllib.request.urlopen( url ).read()\n",
    "    html_string = html_bytes.decode( 'utf-8' )\n",
    "    return html_string\n",
    "\n",
    "#url = http://zst.aicai.com/ssq/openInfo/\n",
    "#最终输出结果格式如：2015075期开奖号码：6,11,13,19,21,32, 蓝球：4\n",
    "html = getHtml(\"http://zst.aicai.com/ssq/openInfo/\")\n",
    "#<table class=\"fzTab nbt\"> </table>\n",
    "\n",
    "table = html[html.find('<table class=\"fzTab nbt\">') : html.find('</table>')]\n",
    "#print (table)\n",
    "#<tr onmouseout=\"this.style.background=''\" onmouseover=\"this.style.background='#fff7d8'\">\n",
    "#<tr \\r\\n\\t\\t                  onmouseout=\n",
    "tmp = table.split('<tr \\r\\n\\t\\t                  onmouseout=',1)\n",
    "#print(tmp)\n",
    "#print(len(tmp))\n",
    "trs = tmp[1]\n",
    "tr = trs[: trs.find('</tr>')]\n",
    "#print(tr)\n",
    "number = tr.split('<td   >')[1].split('</td>')[0]\n",
    "print(number + '期开奖号码：',end='')\n",
    "redtmp = tr.split('<td  class=\"redColor sz12\" >')\n",
    "reds = redtmp[1:len(redtmp)-1]#去掉第一个和最后一个没用的元素\n",
    "#print(reds)\n",
    "for redstr in reds:\n",
    "    print(redstr.split('</td>')[0] + \",\",end='')\n",
    "print('蓝球：',end='')\n",
    "blue = tr.split('<td  class=\"blueColor sz12\" >')[1].split('</td>')[0]\n",
    "print(blue)"
   ]
  },
  {
   "cell_type": "code",
   "execution_count": null,
   "metadata": {},
   "outputs": [],
   "source": []
  }
 ],
 "metadata": {
  "kernelspec": {
   "display_name": "Python 3",
   "language": "python",
   "name": "python3"
  },
  "language_info": {
   "codemirror_mode": {
    "name": "ipython",
    "version": 3
   },
   "file_extension": ".py",
   "mimetype": "text/x-python",
   "name": "python",
   "nbconvert_exporter": "python",
   "pygments_lexer": "ipython3",
   "version": "3.7.0"
  }
 },
 "nbformat": 4,
 "nbformat_minor": 2
}
