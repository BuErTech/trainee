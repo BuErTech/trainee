{
 "cells": [
  {
   "cell_type": "code",
   "execution_count": 1,
   "metadata": {},
   "outputs": [
    {
     "name": "stdout",
     "output_type": "stream",
     "text": [
      "{\n",
      "                  \"showapi_res_error\": \"\",\n",
      "                  \"showapi_res_id\": \"5c793497b7c54ee0999d16aee4ca21c7\",\n",
      "                  \"showapi_res_code\": 0,\n",
      "                  \"showapi_res_body\": {\"historyList\":[{\"confirmedNum\":79968,\"suspectedIncr\":132,\"deadNum\":2873,\"suspectedNum\":851,\"date\":\"2020-02-29\",\"curedNum\":41675},{\"confirmedNum\":79389,\"suspectedIncr\":248,\"deadNum\":2838,\"suspectedNum\":1418,\"date\":\"2020-02-28\",\"curedNum\":39049},{\"confirmedNum\":78959,\"suspectedIncr\":452,\"deadNum\":2791,\"suspectedNum\":2308,\"date\":\"2020-02-27\",\"curedNum\":36157},{\"confirmedNum\":78630,\"suspectedIncr\":508,\"deadNum\":2747,\"suspectedNum\":2358,\"date\":\"2020-02-26\",\"curedNum\":32531},{\"confirmedNum\":78190,\"suspectedIncr\":439,\"deadNum\":2718,\"suspectedNum\":2491,\"date\":\"2020-02-25\",\"curedNum\":29775},{\"confirmedNum\":77779,\"suspectedIncr\":530,\"deadNum\":2666,\"suspectedNum\":2824,\"date\":\"2020-02-24\",\"curedNum\":27353},{\"confirmedNum\":77262,\"suspectedIncr\":620,\"deadNum\":2595,\"suspectedNum\":3434,\"date\":\"2020-02-23\",\"curedNum\":24757},{\"confirmedNum\":76846,\"suspectedIncr\":882,\"deadNum\":2445,\"suspectedNum\":4148,\"date\":\"2020-02-22\",\"curedNum\":22907},{\"confirmedNum\":76392,\"suspectedIncr\":1361,\"deadNum\":2348,\"suspectedNum\":5365,\"date\":\"2020-02-21\",\"curedNum\":20672},{\"confirmedNum\":75993,\"suspectedIncr\":1614,\"deadNum\":2239,\"suspectedNum\":5206,\"date\":\"2020-02-20\",\"curedNum\":18277},{\"confirmedNum\":75101,\"suspectedIncr\":1277,\"deadNum\":2121,\"suspectedNum\":4922,\"date\":\"2020-02-19\",\"curedNum\":16168},{\"confirmedNum\":74276,\"suspectedIncr\":1185,\"deadNum\":2006,\"suspectedNum\":5248,\"date\":\"2020-02-18\",\"curedNum\":14387},{\"confirmedNum\":72528,\"suspectedIncr\":1432,\"deadNum\":1870,\"suspectedNum\":6242,\"date\":\"2020-02-17\",\"curedNum\":12561},{\"confirmedNum\":70637,\"suspectedIncr\":1563,\"deadNum\":1772,\"suspectedNum\":7264,\"date\":\"2020-02-16\",\"curedNum\":10860},{\"confirmedNum\":68584,\"suspectedIncr\":1918,\"deadNum\":1666,\"suspectedNum\":8229,\"date\":\"2020-02-15\",\"curedNum\":9425},{\"confirmedNum\":66575,\"suspectedIncr\":2277,\"deadNum\":1524,\"suspectedNum\":8969,\"date\":\"2020-02-14\",\"curedNum\":8101},{\"confirmedNum\":63932,\"suspectedIncr\":2450,\"deadNum\":1381,\"suspectedNum\":10109,\"date\":\"2020-02-13\",\"curedNum\":6728},{\"confirmedNum\":58839,\"suspectedIncr\":2807,\"deadNum\":1260,\"suspectedNum\":13435,\"date\":\"2020-02-12\",\"curedNum\":5646},{\"confirmedNum\":44730,\"suspectedIncr\":3342,\"deadNum\":1114,\"suspectedNum\":16067,\"date\":\"2020-02-11\",\"curedNum\":4742},{\"confirmedNum\":42708,\"suspectedIncr\":3536,\"deadNum\":1017,\"suspectedNum\":21675,\"date\":\"2020-02-10\",\"curedNum\":3998},{\"confirmedNum\":40224,\"suspectedIncr\":4008,\"deadNum\":909,\"suspectedNum\":23589,\"date\":\"2020-02-09\",\"curedNum\":3283},{\"confirmedNum\":37162,\"suspectedIncr\":3916,\"deadNum\":812,\"suspectedNum\":28942,\"date\":\"2020-02-08\",\"curedNum\":2651},{\"confirmedNum\":34594,\"suspectedIncr\":4214,\"deadNum\":723,\"suspectedNum\":27657,\"date\":\"2020-02-07\",\"curedNum\":2052},{\"confirmedNum\":31197,\"suspectedIncr\":4833,\"deadNum\":637,\"suspectedNum\":26359,\"date\":\"2020-02-06\",\"curedNum\":1542},{\"confirmedNum\":28060,\"suspectedIncr\":5328,\"deadNum\":564,\"suspectedNum\":24702,\"date\":\"2020-02-05\",\"curedNum\":1153},{\"confirmedNum\":24363,\"suspectedIncr\":3971,\"deadNum\":491,\"suspectedNum\":23260,\"date\":\"2020-02-04\",\"curedNum\":892},{\"confirmedNum\":20471,\"suspectedIncr\":5072,\"deadNum\":425,\"suspectedNum\":23214,\"date\":\"2020-02-03\",\"curedNum\":630},{\"confirmedNum\":17238,\"suspectedIncr\":5173,\"deadNum\":361,\"suspectedNum\":21558,\"date\":\"2020-02-02\",\"curedNum\":475},{\"confirmedNum\":14411,\"suspectedIncr\":4562,\"deadNum\":304,\"suspectedNum\":19544,\"date\":\"2020-02-01\",\"curedNum\":328},{\"confirmedNum\":11821,\"suspectedIncr\":5019,\"deadNum\":259,\"suspectedNum\":17988,\"date\":\"2020-01-31\",\"curedNum\":243},{\"confirmedNum\":9720,\"suspectedIncr\":4812,\"deadNum\":213,\"suspectedNum\":15238,\"date\":\"2020-01-30\",\"curedNum\":171},{\"confirmedNum\":7736,\"suspectedIncr\":4148,\"deadNum\":170,\"suspectedNum\":12167,\"date\":\"2020-01-29\",\"curedNum\":124},{\"confirmedNum\":5997,\"suspectedIncr\":3248,\"deadNum\":132,\"suspectedNum\":9239,\"date\":\"2020-01-28\",\"curedNum\":103},{\"confirmedNum\":4535,\"suspectedIncr\":2077,\"deadNum\":106,\"suspectedNum\":6973,\"date\":\"2020-01-27\",\"curedNum\":60},{\"confirmedNum\":2761,\"suspectedIncr\":3806,\"deadNum\":80,\"suspectedNum\":5794,\"date\":\"2020-01-26\",\"curedNum\":51},{\"confirmedNum\":1985,\"suspectedIncr\":1309,\"deadNum\":56,\"suspectedNum\":2684,\"date\":\"2020-01-25\",\"curedNum\":49},{\"confirmedNum\":1297,\"suspectedIncr\":1118,\"deadNum\":41,\"suspectedNum\":1965,\"date\":\"2020-01-24\",\"curedNum\":38},{\"confirmedNum\":835,\"suspectedIncr\":680,\"deadNum\":25,\"suspectedNum\":1072,\"date\":\"2020-01-23\",\"curedNum\":34}],\"ret_code\":0,\"updateTime\":\"2020-03-01 15:25:01\"}\n",
      "                }\n",
      "\n"
     ]
    }
   ],
   "source": [
    "import requests\n",
    "import json\n",
    "\n",
    "my_appId=\"152139\"\n",
    "my_appSecret=\"d50d1bcc90c24100b945ae4af5cd43ed\"\n",
    "\n",
    "from ShowapiRequest import ShowapiRequest\n",
    "\n",
    "r = ShowapiRequest(\"http://route.showapi.com/2217-3\",my_appId,my_appSecret )\n",
    "res = r.post()\n",
    "print(res.text) # 返回信息import requests\n"
   ]
  },
  {
   "cell_type": "code",
   "execution_count": 2,
   "metadata": {},
   "outputs": [],
   "source": [
    "pyFY=json.loads(res.text)\n",
    "\n",
    "datas=pyFY[\"showapi_res_body\"]\n",
    "date = []\n",
    "confirmedNum = []\n",
    "suspectedNum = []\n",
    "suspectedIncr = []\n",
    "deadNum = []\n",
    "curedNum = []\n",
    "count = 0\n",
    "for number in pyFY['showapi_res_body'][\"historyList\"]:\n",
    "    date.append(number['date'])\n",
    "    confirmedNum.append(number['confirmedNum'])\n",
    "    suspectedNum.append(number['suspectedNum'])\n",
    "    suspectedIncr.append(number['suspectedIncr'])\n",
    "    deadNum.append(number['deadNum'])\n",
    "    curedNum.append(number['curedNum'])\n",
    "count = count + 1"
   ]
  },
  {
   "cell_type": "code",
   "execution_count": 3,
   "metadata": {},
   "outputs": [
    {
     "name": "stdout",
     "output_type": "stream",
     "text": [
      "Database version:8.0.13-4\n"
     ]
    }
   ],
   "source": [
    "import pymysql # 打开数据库\n",
    "\n",
    "db=pymysql.connect(\"remotemysql.com\",\"G90InYxAcC\",\"eNiaPTrkrz\",\"G90InYxAcC\") #连接数据库(\"主机名\"，\"用户名\"，\"密码\"，\"数据库名\")\n",
    "\n",
    "cursor = db.cursor()\n",
    "cursor.execute(\"SELECT VERSION()\") # 使用execute()执行SQL查询\n",
    "\n",
    "data=cursor.fetchone() #使用fetchone()抓取单条数据\n",
    "\n",
    "print(\"Database version:%s\"%data) #输出\n",
    "   \n",
    "db.close()"
   ]
  },
  {
   "cell_type": "code",
   "execution_count": 4,
   "metadata": {},
   "outputs": [],
   "source": [
    "sql = '''\n",
    "CREATE TABLE IF NOT EXISTS illness (\n",
    "    datetime INT(12),\n",
    "    confirm VARCHAR(100) DEFAULT NULL,\n",
    "    suspect VARCHAR(50)    DEFAULT NULL,\n",
    "    suspectedincrease VARCHAR(50)    DEFAULT NULL,\n",
    "    dead VARCHAR(50)    DEFAULT NULL,\n",
    "    cure VARCHAR(50)    DEFAULT NULL,\n",
    "    PRIMARY KEY (datetime)\n",
    ")ENGINE=InnoDB DEFAULT CHARSET=utf8;\n",
    "'''"
   ]
  },
  {
   "cell_type": "code",
   "execution_count": 5,
   "metadata": {},
   "outputs": [
    {
     "name": "stdout",
     "output_type": "stream",
     "text": [
      "数据库版本： 0\n"
     ]
    },
    {
     "name": "stderr",
     "output_type": "stream",
     "text": [
      "/Users/lw/anaconda3/lib/python3.6/site-packages/pymysql/cursors.py:170: Warning: (3719, \"'utf8' is currently an alias for the character set UTF8MB3, but will be an alias for UTF8MB4 in a future release. Please consider using UTF8MB4 in order to be unambiguous.\")\n",
      "  result = self._query(query)\n",
      "/Users/lw/anaconda3/lib/python3.6/site-packages/pymysql/cursors.py:170: Warning: (1050, \"Table 'illness' already exists\")\n",
      "  result = self._query(query)\n"
     ]
    }
   ],
   "source": [
    "import pymysql\n",
    "\n",
    "db = pymysql.connect(\"remotemysql.com\",\"G90InYxAcC\",\"eNiaPTrkrz\",\"G90InYxAcC\")\n",
    "\n",
    "cursor = db.cursor()\n",
    "\n",
    "data = cursor.execute(sql)\n",
    "\n",
    "print(\"数据库版本： %s\"% data)\n",
    "\n",
    "db.close()\n"
   ]
  },
  {
   "cell_type": "code",
   "execution_count": 6,
   "metadata": {},
   "outputs": [],
   "source": [
    "def insert2DB(sql):\n",
    "    import pymysql # 打开数据库\n",
    "\n",
    "    db=pymysql.connect(\"remotemysql.com\",\"G90InYxAcC\",\"eNiaPTrkrz\",\"G90InYxAcC\") #连接数据库(\"主机名\"，\"用户名\"，\"密码\"，\"数据库名\")\n",
    "\n",
    "    cursor = db.cursor()\n",
    "    try:\n",
    "        data = cursor.execute(sql)\n",
    "        db.commit()\n",
    "    except:\n",
    "        db.rollback()\n",
    "    db.close()"
   ]
  },
  {
   "cell_type": "code",
   "execution_count": 7,
   "metadata": {},
   "outputs": [],
   "source": [
    "SQLinsert= '''\n",
    "INSERT INTO illness(datetime,confirm,suspect,suspectedincrease,dead,cure)\n",
    "VALUES\n",
    "'''"
   ]
  },
  {
   "cell_type": "code",
   "execution_count": 8,
   "metadata": {},
   "outputs": [
    {
     "name": "stdout",
     "output_type": "stream",
     "text": [
      "\n",
      "INSERT INTO illness(datetime,confirm,suspect,suspectedincrease,dead,cure)\n",
      "VALUES\n",
      "('2020-02-29','79968','851','132','2873','41675')\n"
     ]
    }
   ],
   "source": [
    "length=count\n",
    "j=0\n",
    "while j < length:\n",
    "    datetime=str(date[j])\n",
    "    confirm=str(confirmedNum[j])\n",
    "    suspect=str(suspectedNum[j])\n",
    "    suspectedincrease=str(suspectedIncr[j])\n",
    "    dead=str(deadNum[j])\n",
    "    cure=str(curedNum[j])\n",
    "    tempString=\"('\"+datetime+\"','\"+confirm+\"','\"+suspect+\"','\"+suspectedincrease+\"','\"+dead+\"','\"+cure+\"')\"\n",
    "    sql=SQLinsert + tempString\n",
    "    print(sql)\n",
    "    insert2DB(sql)\n",
    "    j=j+1"
   ]
  },
  {
   "cell_type": "code",
   "execution_count": null,
   "metadata": {},
   "outputs": [],
   "source": []
  }
 ],
 "metadata": {
  "kernelspec": {
   "display_name": "Python 3",
   "language": "python",
   "name": "python3"
  },
  "language_info": {
   "codemirror_mode": {
    "name": "ipython",
    "version": 3
   },
   "file_extension": ".py",
   "mimetype": "text/x-python",
   "name": "python",
   "nbconvert_exporter": "python",
   "pygments_lexer": "ipython3",
   "version": "3.6.8"
  },
  "varInspector": {
   "cols": {
    "lenName": 16,
    "lenType": 16,
    "lenVar": 40
   },
   "kernels_config": {
    "python": {
     "delete_cmd_postfix": "",
     "delete_cmd_prefix": "del ",
     "library": "var_list.py",
     "varRefreshCmd": "print(var_dic_list())"
    },
    "r": {
     "delete_cmd_postfix": ") ",
     "delete_cmd_prefix": "rm(",
     "library": "var_list.r",
     "varRefreshCmd": "cat(var_dic_list()) "
    }
   },
   "types_to_exclude": [
    "module",
    "function",
    "builtin_function_or_method",
    "instance",
    "_Feature"
   ],
   "window_display": false
  }
 },
 "nbformat": 4,
 "nbformat_minor": 2
}
