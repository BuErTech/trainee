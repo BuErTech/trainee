{
 "cells": [
  {
   "cell_type": "code",
   "execution_count": 1,
   "metadata": {},
   "outputs": [],
   "source": [
    "import requests\n",
    "from urllib import parse\n",
    "#全局请求头\n",
    "files = {}\n",
    "headers = {}\n",
    "body = {}\n",
    "timeouts = {}\n",
    "resHeader = {}\n",
    "\n",
    "class ShowapiRequest:\n",
    "    def __init__(self, url, my_appId, my_appSecret):\n",
    "        self.url = url\n",
    "        self.my_appId = my_appId\n",
    "        self.my_appSecret = my_appSecret\n",
    "        body[\"showapi_appid\"] = my_appId\n",
    "        body[\"showapi_sign\"] = my_appSecret\n",
    "        headers[\"User-Agent\"] = \"Mozilla/5.0 (Windows NT 6.1; WOW64) AppleWebKit/537.36 (KHTML, like Gecko) Chrome/45.0.2427.7 Safari/537.36\"\n",
    "\n",
    "    def addFilePara(self, key, value_url):\n",
    "        files[key] = open(r\"%s\" % (value_url), 'rb')\n",
    "        return self\n",
    "\n",
    "    def addHeadPara(self, key, value):\n",
    "        headers[key] = value\n",
    "        return self\n",
    "\n",
    "    def addBodyPara(self, key, value):\n",
    "        body[key] = value\n",
    "        return self\n",
    "    #设置连接时间和读取时间\n",
    "    def setTimeout(self, connecttimout, readtimeout):\n",
    "        timeouts[\"connecttimout\"] = connecttimout\n",
    "        timeouts[\"readtimeout\"] = readtimeout\n",
    "        return self\n",
    "\n",
    "\n",
    "    def get(self):\n",
    "        get_url = self.url + \"?\" + parse.urlencode(body)\n",
    "        if not timeouts:\n",
    "            res = requests.get(get_url, headers=headers)\n",
    "        else:\n",
    "            timeout = (timeouts[\"connecttimout\"], timeouts[\"readtimeout\"])\n",
    "            res = requests.get(get_url, headers=headers, timeout=timeouts)\n",
    "        return res\n",
    "\n",
    "    def post(self):\n",
    "        if not timeouts:\n",
    "            res = requests.post(self.url, files=files, data=body, headers=headers)\n",
    "        else:\n",
    "            timeout = (timeouts[\"connecttimout\"], timeouts[\"readtimeout\"])\n",
    "            res = requests.post(self.url, files=files, data=body, headers=headers, timeout=timeout)\n",
    "        return res\n",
    "\n",
    "\n",
    "\n"
   ]
  },
  {
   "cell_type": "code",
   "execution_count": 2,
   "metadata": {},
   "outputs": [
    {
     "name": "stdout",
     "output_type": "stream",
     "text": [
      "{\n",
      "                  \"showapi_res_error\": \"\",\n",
      "                  \"showapi_res_id\": \"9e0c35059fa449848a6b1d41118583c5\",\n",
      "                  \"showapi_res_code\": 0,\n",
      "                  \"showapi_res_body\": {\"ret_code\":0,\"list\":[{\"title\":\"世界卫生组织宣布已经成功控制SARS\",\"month\":7,\"img\":\"http://img.lssdjt.com/201107/5/099368663.jpg\",\"year\":\"2003\",\"day\":5},{\"title\":\"苏哈托起诉《时代》周刊\",\"month\":7,\"img\":\"http://img.lssdjt.com/200407/5/88232314461.jpg\",\"year\":\"1999\",\"day\":5},{\"title\":\"香港启德机场正式关闭\",\"month\":7,\"img\":\"http://img.lssdjt.com/200905/17/1C18735304.jpg\",\"year\":\"1998\",\"day\":5},{\"title\":\"全国金融工作会议在京召开\",\"month\":7,\"year\":\"1993\",\"day\":5},{\"title\":\"国家行政学院建立\",\"month\":7,\"year\":\"1988\",\"day\":5},{\"title\":\"张艺谋一人捧走百花奖和金鸡奖最佳男主角\",\"month\":7,\"img\":\"http://img.lssdjt.com/200905/17/E3181117916.jpg\",\"year\":\"1988\",\"day\":5},{\"title\":\"第一届友好运动会在莫斯科举行\",\"month\":7,\"year\":\"1986\",\"day\":5},{\"title\":\"巴基斯坦发生军事政变，总理布托被捕内幕\",\"month\":7,\"img\":\"http://img.lssdjt.com/200905/17/BC181332837.jpg\",\"year\":\"1977\",\"day\":5},{\"title\":\"中国首次远洋科学调查\",\"month\":7,\"img\":\"http://img.lssdjt.com/201107/4/9B225917411.jpg\",\"year\":\"1976\",\"day\":5},{\"title\":\"中共代表团抵达莫斯科\",\"month\":7,\"img\":\"http://img.lssdjt.com/201107/5/F693239857.jpg\",\"year\":\"1963\",\"day\":5},{\"title\":\"马寅初发表“新人口论”遭厄运\",\"month\":7,\"img\":\"http://img.lssdjt.com/201107/5/A493358983.jpg\",\"year\":\"1957\",\"day\":5},{\"title\":\"世界上第一件比基尼泳装面世\",\"month\":7,\"img\":\"http://img.lssdjt.com/201107/4/7A225557718.gif\",\"year\":\"1946\",\"day\":5},{\"title\":\"库尔斯克战役爆发\",\"month\":7,\"img\":\"http://img.lssdjt.com/201108/20/C6211919785.jpg\",\"year\":\"1943\",\"day\":5},{\"title\":\"王稼祥首次提出“毛泽东思想”\",\"month\":7,\"img\":\"http://img.lssdjt.com/201108/20/8221193197.jpg\",\"year\":\"1943\",\"day\":5},{\"title\":\"周恩来在联共会议上作报告\",\"month\":7,\"year\":\"1930\",\"day\":5},{\"title\":\"孙殿英盗掘东陵\",\"month\":7,\"img\":\"http://img.lssdjt.com/200407/5/6B23220300.jpg\",\"year\":\"1928\",\"day\":5},{\"title\":\"中华民国军政府组成\",\"month\":7,\"year\":\"1918\",\"day\":5},{\"title\":\"光绪帝下谕奖励新学人材\",\"month\":7,\"year\":\"1898\",\"day\":5},{\"title\":\"《上海英法美租地章程》公布\",\"month\":7,\"year\":\"1854\",\"day\":5},{\"title\":\"第一次鸦片战争爆发\",\"month\":7,\"img\":\"http://img.lssdjt.com/201604/28225119923.jpg\",\"year\":\"1840\",\"day\":5},{\"title\":\"法国占领阿尔及利亚\",\"month\":7,\"year\":\"1830\",\"day\":5},{\"title\":\"委内瑞拉独立\",\"month\":7,\"year\":\"1811\",\"day\":5},{\"title\":\"艾萨克·牛顿发表《自然哲学的数学原理》\",\"month\":7,\"img\":\"http://img.lssdjt.com/201604/28231217573.jpg\",\"year\":\"1687\",\"day\":5}]}\n",
      "                }\n",
      "\n"
     ]
    }
   ],
   "source": [
    "# python3.6.5\n",
    "# 需要引入requests包 ：运行终端->进入python/Scripts ->输入：pip install requests\n",
    "from ShowapiRequest import ShowapiRequest\n",
    "\n",
    "r = ShowapiRequest(\"http://route.showapi.com/119-42\",\"115059\",\"86a9ac568d4e4d2ab6d9253f7b858cd3\" )\n",
    "r.addBodyPara(\"date\", \"0705\")\n",
    "res = r.post()\n",
    "print(res.text) # 返回信息"
   ]
  },
  {
   "cell_type": "code",
   "execution_count": null,
   "metadata": {},
   "outputs": [],
   "source": []
  }
 ],
 "metadata": {
  "kernelspec": {
   "display_name": "Python 3",
   "language": "python",
   "name": "python3"
  },
  "language_info": {
   "codemirror_mode": {
    "name": "ipython",
    "version": 3
   },
   "file_extension": ".py",
   "mimetype": "text/x-python",
   "name": "python",
   "nbconvert_exporter": "python",
   "pygments_lexer": "ipython3",
   "version": "3.6.8"
  },
  "varInspector": {
   "cols": {
    "lenName": 16,
    "lenType": 16,
    "lenVar": 40
   },
   "kernels_config": {
    "python": {
     "delete_cmd_postfix": "",
     "delete_cmd_prefix": "del ",
     "library": "var_list.py",
     "varRefreshCmd": "print(var_dic_list())"
    },
    "r": {
     "delete_cmd_postfix": ") ",
     "delete_cmd_prefix": "rm(",
     "library": "var_list.r",
     "varRefreshCmd": "cat(var_dic_list()) "
    }
   },
   "types_to_exclude": [
    "module",
    "function",
    "builtin_function_or_method",
    "instance",
    "_Feature"
   ],
   "window_display": false
  }
 },
 "nbformat": 4,
 "nbformat_minor": 2
}
