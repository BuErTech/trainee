{
 "cells": [
  {
   "cell_type": "code",
   "execution_count": null,
   "metadata": {},
   "outputs": [],
   "source": [
    "# 数据来源 http://ncov.nosensor.com:8080/api/\n",
    "# 读取数据\n",
    "with open('./ncp-data-from0115-0215.json', 'r') as f:\n",
    "    data = json.load(f)\n",
    "    \n",
    "data    "
   ]
  },
  {
   "cell_type": "code",
   "execution_count": null,
   "metadata": {},
   "outputs": [],
   "source": [
    "data['city']"
   ]
  },
  {
   "cell_type": "code",
   "execution_count": null,
   "metadata": {},
   "outputs": [],
   "source": [
    "cities = data['city']\n",
    "# 获得里面一共有多少数据\n",
    "len(cities)"
   ]
  },
  {
   "cell_type": "code",
   "execution_count": null,
   "metadata": {},
   "outputs": [],
   "source": [
    "cities[0]"
   ]
  },
  {
   "cell_type": "code",
   "execution_count": null,
   "metadata": {},
   "outputs": [],
   "source": [
    "cities[0]['Time']"
   ]
  },
  {
   "cell_type": "code",
   "execution_count": null,
   "metadata": {},
   "outputs": [],
   "source": [
    "cities[0]['CityDetail']"
   ]
  },
  {
   "cell_type": "code",
   "execution_count": null,
   "metadata": {},
   "outputs": [],
   "source": [
    "def writeOneRow(row):\n",
    "    f = open(\"./NCP2020-RESULT.csv\", \"a\")\n",
    "    f.write( row+\"\\n\" )\n",
    "    f.close()"
   ]
  },
  {
   "cell_type": "code",
   "execution_count": null,
   "metadata": {},
   "outputs": [],
   "source": [
    "# 用来保存最后结果\n",
    "header = \"'Time','Province','City','Confirmed','Dead','Cured','Severe','Critical'\"\n",
    "writeOneRow(header)"
   ]
  },
  {
   "cell_type": "code",
   "execution_count": null,
   "metadata": {},
   "outputs": [],
   "source": [
    "i = 0\n",
    "# 开始一个循环\n",
    "while i < len(cities):\n",
    "    # 获取计数日期\n",
    "    day = cities[i]['Time']\n",
    "    cityDetails = cities[i]['CityDetail']\n",
    "    j = 0\n",
    "    while j < len(cityDetails):\n",
    "        currenCityDetails = cityDetails[j]\n",
    "        dayRow = day + ',' + currenCityDetails['Province'] + ',' + currenCityDetails['City'] +',' + str(currenCityDetails['Confirmed']) +',' + str(currenCityDetails['Dead']) +',' + str(currenCityDetails['Cured']) +',' + str(currenCityDetails['Severe']) +',' + str(currenCityDetails['Critical']) \n",
    "        writeOneRow(dayRow)\n",
    "        j = j+1\n",
    "    i = i+1"
   ]
  },
  {
   "cell_type": "code",
   "execution_count": null,
   "metadata": {},
   "outputs": [],
   "source": []
  }
 ],
 "metadata": {
  "kernelspec": {
   "display_name": "Python 3",
   "language": "python",
   "name": "python3"
  },
  "language_info": {
   "codemirror_mode": {
    "name": "ipython",
    "version": 3
   },
   "file_extension": ".py",
   "mimetype": "text/x-python",
   "name": "python",
   "nbconvert_exporter": "python",
   "pygments_lexer": "ipython3",
   "version": "3.6.8"
  },
  "varInspector": {
   "cols": {
    "lenName": 16,
    "lenType": 16,
    "lenVar": 40
   },
   "kernels_config": {
    "python": {
     "delete_cmd_postfix": "",
     "delete_cmd_prefix": "del ",
     "library": "var_list.py",
     "varRefreshCmd": "print(var_dic_list())"
    },
    "r": {
     "delete_cmd_postfix": ") ",
     "delete_cmd_prefix": "rm(",
     "library": "var_list.r",
     "varRefreshCmd": "cat(var_dic_list()) "
    }
   },
   "types_to_exclude": [
    "module",
    "function",
    "builtin_function_or_method",
    "instance",
    "_Feature"
   ],
   "window_display": false
  }
 },
 "nbformat": 4,
 "nbformat_minor": 2
}
