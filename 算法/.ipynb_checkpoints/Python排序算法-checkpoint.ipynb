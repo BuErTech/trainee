{
 "cells": [
  {
   "cell_type": "markdown",
   "metadata": {},
   "source": [
    "   # 插入排序\n",
    "   \n",
    "   插入排序的基本操作就是将一个数据插入到已经排好序的有序数据中，从而得到一个新的、个数加一的有序数据，算法适用于少量数据的排序，时间复杂度为O(n^2)。是稳定的排序方法。\n",
    "   \n",
    "   插入算法把要排序的数组分成两部分：\n",
    "   \n",
    "   第一部分包含了这个数组的所有元素，但将最后一个元素除外（让数组多一个空间才有插入的位置），而第二部分就只包含这一个元素（即待插入元素）。\n",
    "   \n",
    "   在第一部分排序完成后，再将这个最后元素插入到已排好序的第一部分中。"
   ]
  },
  {
   "cell_type": "code",
   "execution_count": 1,
   "metadata": {},
   "outputs": [],
   "source": [
    "def insert_sort(lists):\n",
    "\n",
    "    count = len(lists)\n",
    "\n",
    "    for i in range(1, count):\n",
    "\n",
    "        key = lists[i]\n",
    "\n",
    "        j = i - 1\n",
    "\n",
    "        while j >= 0:\n",
    "\n",
    "            if lists[j] > key:\n",
    "\n",
    "                lists[j + 1] = lists[j]\n",
    "\n",
    "                lists[j] = key\n",
    "\n",
    "            j -= 1\n",
    "\n",
    "    return lists"
   ]
  },
  {
   "cell_type": "code",
   "execution_count": 2,
   "metadata": {},
   "outputs": [
    {
     "name": "stdout",
     "output_type": "stream",
     "text": [
      "[3, 4, 6, 8, 9]\n"
     ]
    }
   ],
   "source": [
    "alist = [3,4,6,8,9]\n",
    "\n",
    "insert_sort(alist)\n",
    "\n",
    "print(alist)"
   ]
  },
  {
   "cell_type": "code",
   "execution_count": 3,
   "metadata": {},
   "outputs": [
    {
     "name": "stdout",
     "output_type": "stream",
     "text": [
      "[2, 3, 6, 8, 9, 24]\n"
     ]
    }
   ],
   "source": [
    "alist = [3,2,24,6,8,9]\n",
    "\n",
    "insert_sort(alist)\n",
    "\n",
    "print(alist)"
   ]
  },
  {
   "cell_type": "markdown",
   "metadata": {},
   "source": [
    "   # 插入排序2"
   ]
  },
  {
   "cell_type": "code",
   "execution_count": 6,
   "metadata": {},
   "outputs": [
    {
     "name": "stdout",
     "output_type": "stream",
     "text": [
      "[1, 2, 3, 4, 5, 7, 7, 8]\n"
     ]
    }
   ],
   "source": [
    "'''\n",
    "\n",
    "插入排序：\n",
    "\n",
    "最优时间复杂度：O(n)\n",
    "\n",
    "最坏时间复杂度：O(n^2)\n",
    "\n",
    "'''\n",
    "\n",
    "def insert_sort(alist):\n",
    "\n",
    "    n = len(alist)\n",
    "\n",
    "    for i in range(1, n):\n",
    "\n",
    "        # 用该元素和前面的元素比较， 如果比前一个小，交换位置\n",
    "\n",
    "        for j in range(i, 0, -1):\n",
    "\n",
    "            if alist[j] < alist[j-1]:\n",
    "\n",
    "                alist[j], alist[j-1] = alist[j-1], alist[j]\n",
    "\n",
    "if __name__ == '__main__':\n",
    "\n",
    "    list = [2, 4, 7, 7, 5, 1, 8, 3]\n",
    "\n",
    "    insert_sort(list)\n",
    "\n",
    "    print(list)\n",
    "\n"
   ]
  },
  {
   "cell_type": "markdown",
   "metadata": {},
   "source": [
    "# 希尔排序\n",
    "\n",
    "希尔排序(Shell Sort)是插入排序的一种。也称缩小增量排序，是直接插入排序算法的一种更高效的改进版本。希尔排序是非稳定排序算法。该方法因DL．Shell于1959年提出而得名。 希尔排序是把记录按下标的一定增量分组，对每组使用直接插入排序算法排序；随着增量逐渐减少，每组包含的关键词越来越多，当增量减至1时，整个文件恰被分成一组，算法便终止。"
   ]
  },
  {
   "cell_type": "code",
   "execution_count": null,
   "metadata": {},
   "outputs": [],
   "source": [
    "def shell_sort(lists):\n",
    "\n",
    "    # 希尔排序\n",
    "\n",
    "    count = len(lists)\n",
    "\n",
    "    step = 2\n",
    "\n",
    "    group = count / step\n",
    "\n",
    "    while group > 0:\n",
    "\n",
    "        for i in range(0, group):\n",
    "\n",
    "            j = i + group\n",
    "\n",
    "            while j < count:\n",
    "\n",
    "                k = j - group\n",
    "\n",
    "                key = lists[j]\n",
    "\n",
    "                while k >= 0:\n",
    "\n",
    "                    if lists[k] > key:\n",
    "\n",
    "                        lists[k + group] = lists[k]\n",
    "\n",
    "                        lists[k] = key\n",
    "\n",
    "                    k -= group\n",
    "\n",
    "                j += group\n",
    "\n",
    "        group /= step\n",
    "\n",
    "    return lists"
   ]
  },
  {
   "cell_type": "markdown",
   "metadata": {},
   "source": [
    "# 冒泡排序\n",
    "\n",
    "它重复地走访过要排序的数列，一次比较两个元素，如果他们的顺序错误就把他们交换过来。走访数列的工作是重复地进行直到没有再需要交换，也就是说该数列已经排序完成。\n",
    "\n"
   ]
  },
  {
   "cell_type": "code",
   "execution_count": 8,
   "metadata": {},
   "outputs": [],
   "source": [
    "def bubble_sort(lists):\n",
    "\n",
    "    # 冒泡排序\n",
    "\n",
    "    count = len(lists)\n",
    "\n",
    "    for i in range(0, count):\n",
    "\n",
    "        for j in range(i + 1, count):\n",
    "\n",
    "            if lists[i] > lists[j]:\n",
    "\n",
    "                lists[i], lists[j] = lists[j], lists[i]\n",
    "\n",
    "    return lists"
   ]
  },
  {
   "cell_type": "markdown",
   "metadata": {},
   "source": [
    "# 快速排序\n",
    "\n",
    "通过一趟排序将要排序的数据分割成独立的两部分，其中一部分的所有数据都比另外一部分的所有数据都要小，然后再按此方法对这两部分数据分别进行快速排序，整个排序过程可以递归进行，以此达到整个数据变成有序序列。"
   ]
  },
  {
   "cell_type": "code",
   "execution_count": 9,
   "metadata": {},
   "outputs": [],
   "source": [
    "def quick_sort(lists, left, right):\n",
    "\n",
    "    # 快速排序\n",
    "\n",
    "    if left >= right:\n",
    "\n",
    "        return lists\n",
    "\n",
    "    key = lists[left]\n",
    "\n",
    "    low = left\n",
    "\n",
    "    high = right\n",
    "\n",
    "    while left < right:\n",
    "\n",
    "        while left < right and lists[right] >= key:\n",
    "\n",
    "            right -= 1\n",
    "\n",
    "        lists[left] = lists[right]\n",
    "\n",
    "        while left < right and lists[left] <= key:\n",
    "\n",
    "            left += 1\n",
    "\n",
    "        lists[right] = lists[left]\n",
    "\n",
    "    lists[right] = key\n",
    "\n",
    "    quick_sort(lists, low, left - 1)\n",
    "\n",
    "    quick_sort(lists, left + 1, high)\n",
    "\n",
    "    return lists"
   ]
  },
  {
   "cell_type": "markdown",
   "metadata": {},
   "source": [
    "# 直接选择排序\n",
    "\n",
    "\n",
    "基本思想：\n",
    "\n",
    "第1趟，在待排序记录r1 ~ r[n]中选出最小的记录，将它与r1交换；\n",
    "\n",
    "第2趟，在待排序记录r2 ~ r[n]中选出最小的记录，将它与r2交换；以此类推，第i趟在待排序记录r[i] ~ r[n]中选出最小的记录，将它与r[i]交换，使有序序列不断增长直到全部排序完毕。"
   ]
  },
  {
   "cell_type": "code",
   "execution_count": 10,
   "metadata": {},
   "outputs": [],
   "source": [
    "def select_sort(lists):\n",
    "\n",
    "    # 选择排序\n",
    "\n",
    "    count = len(lists)\n",
    "\n",
    "    for i in range(0, count):\n",
    "\n",
    "        min = i\n",
    "\n",
    "        for j in range(i + 1, count):\n",
    "\n",
    "            if lists[min] > lists[j]:\n",
    "\n",
    "                min = j\n",
    "\n",
    "        lists[min], lists[i] = lists[i], lists[min]\n",
    "\n",
    "    return lists"
   ]
  },
  {
   "cell_type": "markdown",
   "metadata": {},
   "source": [
    "# 堆排序\n",
    "\n",
    "堆排序(Heapsort)是指利用堆积树（堆）这种数据结构所设计的一种排序算法，它是选择排序的一种。\n",
    "\n",
    "可以利用数组的特点快速定位指定索引的元素。堆分为大根堆和小根堆，是完全二叉树。大根堆的要求是每个节点的值都不大于其父节点的值，即A[PARENT[i]] >= A[i]。在数组的非降序排序中，需要使用的就是大根堆，因为根据大根堆的要求可知，最大的值一定在堆顶。"
   ]
  }
 ],
 "metadata": {
  "kernelspec": {
   "display_name": "Python 3",
   "language": "python",
   "name": "python3"
  },
  "language_info": {
   "codemirror_mode": {
    "name": "ipython",
    "version": 3
   },
   "file_extension": ".py",
   "mimetype": "text/x-python",
   "name": "python",
   "nbconvert_exporter": "python",
   "pygments_lexer": "ipython3",
   "version": "3.7.0"
  }
 },
 "nbformat": 4,
 "nbformat_minor": 2
}
