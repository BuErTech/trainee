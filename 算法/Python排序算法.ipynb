{
 "cells": [
  {
   "cell_type": "markdown",
   "metadata": {},
   "source": [
    "   # 插入排序\n",
    "   \n",
    "   插入排序的基本操作就是将一个数据插入到已经排好序的有序数据中，从而得到一个新的、个数加一的有序数据，算法适用于少量数据的排序，时间复杂度为O(n^2)。是稳定的排序方法。\n",
    "   \n",
    "   插入算法把要排序的数组分成两部分：\n",
    "   \n",
    "   第一部分包含了这个数组的所有元素，但将最后一个元素除外（让数组多一个空间才有插入的位置），而第二部分就只包含这一个元素（即待插入元素）。\n",
    "   \n",
    "   在第一部分排序完成后，再将这个最后元素插入到已排好序的第一部分中。"
   ]
  },
  {
   "cell_type": "code",
   "execution_count": 1,
   "metadata": {},
   "outputs": [],
   "source": [
    "def insert_sort(lists):\n",
    "    # len 获取list的长度\n",
    "    count = len(lists)\n",
    "\n",
    "    for i in range(1, count):\n",
    "\n",
    "        key = lists[i]\n",
    "\n",
    "        j = i - 1\n",
    "\n",
    "        while j >= 0:\n",
    "\n",
    "            if lists[j] > key:\n",
    "\n",
    "                lists[j + 1] = lists[j]\n",
    "\n",
    "                lists[j] = key\n",
    "\n",
    "            j -= 1\n",
    "\n",
    "    return lists"
   ]
  },
  {
   "cell_type": "code",
   "execution_count": 2,
   "metadata": {},
   "outputs": [
    {
     "name": "stdout",
     "output_type": "stream",
     "text": [
      "[3, 4, 6, 8, 9]\n"
     ]
    }
   ],
   "source": [
    "alist = [3,4,6,8,9]\n",
    "\n",
    "insert_sort(alist)\n",
    "\n",
    "print(alist)"
   ]
  },
  {
   "cell_type": "code",
   "execution_count": 3,
   "metadata": {},
   "outputs": [
    {
     "name": "stdout",
     "output_type": "stream",
     "text": [
      "[2, 3, 6, 8, 9, 24]\n"
     ]
    }
   ],
   "source": [
    "alist = [3,2,24,6,8,9]\n",
    "\n",
    "insert_sort(alist)\n",
    "\n",
    "print(alist)"
   ]
  },
  {
   "cell_type": "markdown",
   "metadata": {},
   "source": [
    "   # 插入排序2"
   ]
  },
  {
   "cell_type": "code",
   "execution_count": 6,
   "metadata": {},
   "outputs": [
    {
     "name": "stdout",
     "output_type": "stream",
     "text": [
      "[1, 2, 3, 4, 5, 7, 7, 8]\n"
     ]
    }
   ],
   "source": [
    "'''\n",
    "\n",
    "插入排序：\n",
    "\n",
    "最优时间复杂度：O(n)\n",
    "\n",
    "最坏时间复杂度：O(n^2)\n",
    "\n",
    "'''\n",
    "\n",
    "def insert_sort(alist):\n",
    "\n",
    "    n = len(alist)\n",
    "\n",
    "    for i in range(1, n):\n",
    "\n",
    "        # 用该元素和前面的元素比较， 如果比前一个小，交换位置\n",
    "\n",
    "        for j in range(i, 0, -1):\n",
    "\n",
    "            if alist[j] < alist[j-1]:\n",
    "\n",
    "                alist[j], alist[j-1] = alist[j-1], alist[j]\n",
    "\n",
    "if __name__ == '__main__':\n",
    "\n",
    "    list = [2, 4, 7, 7, 5, 1, 8, 3]\n",
    "\n",
    "    insert_sort(list)\n",
    "\n",
    "    print(list)\n",
    "\n"
   ]
  },
  {
   "cell_type": "markdown",
   "metadata": {},
   "source": [
    "# 希尔排序\n",
    "\n",
    "希尔排序(Shell Sort)是插入排序的一种。也称缩小增量排序，是直接插入排序算法的一种更高效的改进版本。希尔排序是非稳定排序算法。该方法因DL．Shell于1959年提出而得名。 希尔排序是把记录按下标的一定增量分组，对每组使用直接插入排序算法排序；随着增量逐渐减少，每组包含的关键词越来越多，当增量减至1时，整个文件恰被分成一组，算法便终止。"
   ]
  },
  {
   "cell_type": "code",
   "execution_count": null,
   "metadata": {},
   "outputs": [],
   "source": [
    "def shell_sort(lists):\n",
    "\n",
    "    # 希尔排序\n",
    "\n",
    "    count = len(lists)\n",
    "\n",
    "    step = 2\n",
    "\n",
    "    group = count / step\n",
    "\n",
    "    while group > 0:\n",
    "\n",
    "        for i in range(0, group):\n",
    "\n",
    "            j = i + group\n",
    "\n",
    "            while j < count:\n",
    "\n",
    "                k = j - group\n",
    "\n",
    "                key = lists[j]\n",
    "\n",
    "                while k >= 0:\n",
    "\n",
    "                    if lists[k] > key:\n",
    "\n",
    "                        lists[k + group] = lists[k]\n",
    "\n",
    "                        lists[k] = key\n",
    "\n",
    "                    k -= group\n",
    "\n",
    "                j += group\n",
    "\n",
    "        group /= step\n",
    "\n",
    "    return lists"
   ]
  },
  {
   "cell_type": "markdown",
   "metadata": {},
   "source": [
    "# 冒泡排序\n",
    "\n",
    "它重复地走访过要排序的数列，一次比较两个元素，如果他们的顺序错误就把他们交换过来。走访数列的工作是重复地进行直到没有再需要交换，也就是说该数列已经排序完成。\n",
    "\n"
   ]
  },
  {
   "cell_type": "code",
   "execution_count": 8,
   "metadata": {},
   "outputs": [],
   "source": [
    "def bubble_sort(lists):\n",
    "\n",
    "    # 冒泡排序\n",
    "\n",
    "    count = len(lists)\n",
    "\n",
    "    for i in range(0, count):\n",
    "\n",
    "        for j in range(i + 1, count):\n",
    "\n",
    "            if lists[i] > lists[j]:\n",
    "\n",
    "                lists[i], lists[j] = lists[j], lists[i]\n",
    "\n",
    "    return lists"
   ]
  },
  {
   "cell_type": "markdown",
   "metadata": {},
   "source": [
    "# 快速排序\n",
    "\n",
    "通过一趟排序将要排序的数据分割成独立的两部分，其中一部分的所有数据都比另外一部分的所有数据都要小，然后再按此方法对这两部分数据分别进行快速排序，整个排序过程可以递归进行，以此达到整个数据变成有序序列。"
   ]
  },
  {
   "cell_type": "code",
   "execution_count": 9,
   "metadata": {},
   "outputs": [],
   "source": [
    "def quick_sort(lists, left, right):\n",
    "\n",
    "    # 快速排序\n",
    "\n",
    "    if left >= right:\n",
    "\n",
    "        return lists\n",
    "\n",
    "    key = lists[left]\n",
    "\n",
    "    low = left\n",
    "\n",
    "    high = right\n",
    "\n",
    "    while left < right:\n",
    "\n",
    "        while left < right and lists[right] >= key:\n",
    "\n",
    "            right -= 1\n",
    "\n",
    "        lists[left] = lists[right]\n",
    "\n",
    "        while left < right and lists[left] <= key:\n",
    "\n",
    "            left += 1\n",
    "\n",
    "        lists[right] = lists[left]\n",
    "\n",
    "    lists[right] = key\n",
    "\n",
    "    quick_sort(lists, low, left - 1)\n",
    "\n",
    "    quick_sort(lists, left + 1, high)\n",
    "\n",
    "    return lists"
   ]
  },
  {
   "cell_type": "markdown",
   "metadata": {},
   "source": [
    "# 直接选择排序\n",
    "\n",
    "\n",
    "基本思想：\n",
    "\n",
    "第1趟，在待排序记录r1 ~ r[n]中选出最小的记录，将它与r1交换；\n",
    "\n",
    "第2趟，在待排序记录r2 ~ r[n]中选出最小的记录，将它与r2交换；以此类推，第i趟在待排序记录r[i] ~ r[n]中选出最小的记录，将它与r[i]交换，使有序序列不断增长直到全部排序完毕。"
   ]
  },
  {
   "cell_type": "code",
   "execution_count": 11,
   "metadata": {},
   "outputs": [],
   "source": [
    "def select_sort(lists):\n",
    "\n",
    "    # 选择排序\n",
    "\n",
    "    count = len(lists)\n",
    "\n",
    "    for i in range(0, count):\n",
    "\n",
    "        min = i\n",
    "\n",
    "        for j in range(i + 1, count):\n",
    "\n",
    "            if lists[min] > lists[j]:\n",
    "\n",
    "                min = j\n",
    "\n",
    "        lists[min], lists[i] = lists[i], lists[min]\n",
    "\n",
    "    return lists"
   ]
  },
  {
   "cell_type": "markdown",
   "metadata": {},
   "source": [
    "# 堆排序\n",
    "\n",
    "堆排序(Heapsort)是指利用堆积树（堆）这种数据结构所设计的一种排序算法，它是选择排序的一种。\n",
    "\n",
    "可以利用数组的特点快速定位指定索引的元素。堆分为大根堆和小根堆，是完全二叉树。大根堆的要求是每个节点的值都不大于其父节点的值，即A[PARENT[i]] >= A[i]。在数组的非降序排序中，需要使用的就是大根堆，因为根据大根堆的要求可知，最大的值一定在堆顶。"
   ]
  },
  {
   "cell_type": "code",
   "execution_count": 12,
   "metadata": {},
   "outputs": [],
   "source": [
    "# 调整堆\n",
    "\n",
    "def adjust_heap(lists, i, size):\n",
    "\n",
    "    lchild = 2 * i + 1\n",
    "\n",
    "    rchild = 2 * i + 2\n",
    "\n",
    "    max = i\n",
    "\n",
    "    if i < size / 2:\n",
    "\n",
    "        if lchild < size and lists[lchild] > lists[max]:\n",
    "\n",
    "            max = lchild\n",
    "\n",
    "        if rchild < size and lists[rchild] > lists[max]:\n",
    "\n",
    "            max = rchild\n",
    "\n",
    "        if max != i:\n",
    "\n",
    "            lists[max], lists[i] = lists[i], lists[max]\n",
    "\n",
    "            adjust_heap(lists, max, size)\n",
    "\n",
    "\n",
    "\n",
    "# 创建堆\n",
    "\n",
    "def build_heap(lists, size):\n",
    "\n",
    "    for i in range(0, (size/2))[::-1]:\n",
    "\n",
    "        adjust_heap(lists, i, size)\n",
    "\n",
    "\n",
    "\n",
    "# 堆排序\n",
    "\n",
    "def heap_sort(lists):\n",
    "\n",
    "    size = len(lists)\n",
    "\n",
    "    build_heap(lists, size)\n",
    "\n",
    "    for i in range(0, size)[::-1]:\n",
    "\n",
    "        lists[0], lists[i] = lists[i], lists[0]\n",
    "\n",
    "        adjust_heap(lists, 0, i)"
   ]
  },
  {
   "cell_type": "markdown",
   "metadata": {},
   "source": [
    "# 归并排序\n",
    "\n",
    "归并排序是建立在归并操作上的一种有效的排序算法,该算法是采用分治法（Divide and Conquer）的一个非常典型的应用。将已有序的子序列合并，得到完全有序的序列；即先使每个子序列有序，再使子序列段间有序。若将两个有序表合并成一个有序表，称为二路归并。\n",
    "\n",
    "\n",
    "\n",
    "归并过程为：\n",
    "\n",
    "比较a[i]和a[j]的大小，若a[i]≤a[j]，则将第一个有序表中的元素a[i]复制到r[k]中，并令i和k分别加上1；否则将第二个有序表中的元素a[j]复制到r[k]中，并令j和k分别加上1，如此循环下去，直到其中一个有序表取完，然后再将另一个有序表中剩余的元素复制到r中从下标k到下标t的单元。归并排序的算法我们通常用递归实现，先把待排序区间[s,t]以中点二分，接着把左边子区间排序，再把右边子区间排序，最后把左区间和右区间用一次归并操作合并成有序的区间[s,t]。"
   ]
  },
  {
   "cell_type": "code",
   "execution_count": 13,
   "metadata": {},
   "outputs": [],
   "source": [
    "def merge(left, right):\n",
    "\n",
    "    i, j = 0, 0\n",
    "\n",
    "    result = []\n",
    "\n",
    "    while i < len(left) and j < len(right):\n",
    "\n",
    "        if left[i] <= right[j]:\n",
    "\n",
    "            result.append(left[i])\n",
    "\n",
    "            i += 1\n",
    "\n",
    "        else:\n",
    "\n",
    "            result.append(right[j])\n",
    "\n",
    "            j += 1\n",
    "\n",
    "    result += left[i:]\n",
    "\n",
    "    result += right[j:]\n",
    "\n",
    "    return result\n",
    "\n",
    "\n",
    "\n",
    "def merge_sort(lists):\n",
    "\n",
    "    # 归并排序\n",
    "\n",
    "    if len(lists) <= 1:\n",
    "\n",
    "        return lists\n",
    "\n",
    "    num = len(lists) / 2\n",
    "\n",
    "    left = merge_sort(lists[:num])\n",
    "\n",
    "    right = merge_sort(lists[num:])\n",
    "\n",
    "    return merge(left, right)\n",
    "\n"
   ]
  },
  {
   "cell_type": "markdown",
   "metadata": {},
   "source": [
    "# 基数排序\n",
    "\n",
    "基数排序（radix sort）属于“分配式排序”（distribution sort），又称“桶子法”（bucket sort）或bin sort，顾名思义，它是透过键值的部份资讯，将要排序的元素分配至某些“桶”中，藉以达到排序的作用，基数排序法是属于稳定性的排序，其时间复杂度为O (nlog(r)m)，其中r为所采取的基数，而m为堆数，在某些时候，基数排序法的效率高于其它的稳定性排序法。"
   ]
  },
  {
   "cell_type": "code",
   "execution_count": 14,
   "metadata": {},
   "outputs": [],
   "source": [
    "import math\n",
    "\n",
    "def radix_sort(lists, radix=10):\n",
    "\n",
    "    k = int(math.ceil(math.log(max(lists), radix)))\n",
    "\n",
    "    bucket = [[] for i in range(radix)]\n",
    "\n",
    "    for i in range(1, k+1):\n",
    "\n",
    "        for j in lists:\n",
    "\n",
    "            bucket[j/(radix**(i-1)) % (radix**i)].append(j)\n",
    "\n",
    "        del lists[:]\n",
    "\n",
    "        for z in bucket:\n",
    "\n",
    "            lists += z\n",
    "\n",
    "            del z[:]\n",
    "\n",
    "    return lists"
   ]
  },
  {
   "cell_type": "code",
   "execution_count": null,
   "metadata": {},
   "outputs": [],
   "source": []
  }
 ],
 "metadata": {
  "kernelspec": {
   "display_name": "Python 3",
   "language": "python",
   "name": "python3"
  },
  "language_info": {
   "codemirror_mode": {
    "name": "ipython",
    "version": 3
   },
   "file_extension": ".py",
   "mimetype": "text/x-python",
   "name": "python",
   "nbconvert_exporter": "python",
   "pygments_lexer": "ipython3",
   "version": "3.7.0"
  }
 },
 "nbformat": 4,
 "nbformat_minor": 2
}
