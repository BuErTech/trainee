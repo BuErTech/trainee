{
 "cells": [
  {
   "cell_type": "markdown",
   "metadata": {},
   "source": [
    "数据内容：\n",
    "\n",
    "\n",
    "时间 | 北京\n",
    "-- | --\n",
    "2009 | 1159\n",
    "2010 | 1298\n",
    "2011 | 1364\n",
    "2012 | 1794\n",
    "2013 | 1896.3\n",
    "\n",
    "通过09-13年的数值，估算出14年的数值来。\n",
    "\n",
    "主要运用sklearn包中的linear_model.LinearRegression方法。\n",
    "\n",
    "通过5年的数据构造一元线性回归分析模型，估算出2014年的北京数值。"
   ]
  },
  {
   "cell_type": "code",
   "execution_count": 5,
   "metadata": {},
   "outputs": [
    {
     "name": "stdout",
     "output_type": "stream",
     "text": [
      "[[2009.0], [2010.0], [2011.0], [2012.0], [2013.0]]\n",
      "[1159.0, 1298.0, 1364.0, 1794.0, 1896.3]\n",
      "-394785.4000000001\n",
      "[197.06]\n",
      "[2093.44]\n"
     ]
    }
   ],
   "source": [
    "# coding:utf-8\n",
    "# 一元线性回归分析例子\n",
    "\n",
    "from sklearn import linear_model\n",
    "import pandas as pd\n",
    "\n",
    "#Function to get data\n",
    "def get_data(file_name):\n",
    "    data = pd.read_csv(file_name)\n",
    "    X = []\n",
    "    Y = []\n",
    "    for time, city in zip(data['时间'], data['北京']):\n",
    "        X.append([float(time)])\n",
    "        Y.append(float(city))\n",
    "    return X, Y\n",
    "\n",
    "#Function for linear model\n",
    "def linear_model_main(X_parameters, Y_parameters, predict_value):\n",
    "    regr = linear_model.LinearRegression()\n",
    "    regr.fit(X_parameters, Y_parameters)\n",
    "    predict = regr.predict(predict_value)\n",
    "    predictions = {}\n",
    "    predictions['intercept'] = regr.intercept_   #截距\n",
    "    predictions['coefficient'] = regr.coef_   #回归系数\n",
    "    predictions['predicted_value'] = predict\n",
    "    return predictions\n",
    "\n",
    "X, Y = get_data(U'beijing.csv')\n",
    "print(X)\n",
    "print(Y)\n",
    "\n",
    "predict_time = 2014\n",
    "result = linear_model_main(X, Y, predict_time)\n",
    "print(result['intercept']) # \"Intercept value \"+\n",
    "print(result['coefficient']) # \"coefficient\"+\n",
    "print(result['predicted_value']) # \"Predicted value: \"+"
   ]
  },
  {
   "cell_type": "code",
   "execution_count": null,
   "metadata": {},
   "outputs": [],
   "source": []
  }
 ],
 "metadata": {
  "kernelspec": {
   "display_name": "Python 3",
   "language": "python",
   "name": "python3"
  },
  "language_info": {
   "codemirror_mode": {
    "name": "ipython",
    "version": 3
   },
   "file_extension": ".py",
   "mimetype": "text/x-python",
   "name": "python",
   "nbconvert_exporter": "python",
   "pygments_lexer": "ipython3",
   "version": "3.7.0"
  }
 },
 "nbformat": 4,
 "nbformat_minor": 2
}
