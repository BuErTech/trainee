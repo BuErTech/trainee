{
 "cells": [
  {
   "cell_type": "code",
   "execution_count": null,
   "metadata": {},
   "outputs": [],
   "source": []
  },
  {
   "cell_type": "code",
   "execution_count": 2,
   "metadata": {},
   "outputs": [
    {
     "name": "stdout",
     "output_type": "stream",
     "text": [
      "Database version : 5.7.23 \n"
     ]
    }
   ],
   "source": [
    "#!/usr/bin/python3\n",
    " \n",
    "import pymysql\n",
    " \n",
    "# 打开数据库连接\n",
    "db = pymysql.connect(\"localhost\",\"root\",\"123123c\",\"lsk20190827\" )\n",
    " \n",
    "# 使用 cursor() 方法创建一个游标对象 cursor\n",
    "cursor = db.cursor()\n",
    " \n",
    "# 使用 execute()  方法执行 SQL 查询 \n",
    "cursor.execute(\"SELECT VERSION()\")\n",
    " \n",
    "# 使用 fetchone() 方法获取单条数据.\n",
    "data = cursor.fetchone()\n",
    " \n",
    "print (\"Database version : %s \" % data)\n",
    " \n",
    "# 关闭数据库连接\n",
    "db.close()"
   ]
  },
  {
   "cell_type": "code",
   "execution_count": 7,
   "metadata": {},
   "outputs": [
    {
     "name": "stdout",
     "output_type": "stream",
     "text": [
      "艾丽丝 ,13130010417 ,None ,\n",
      "艾丽丝 ,13130010417 ,None ,\n",
      "艾丽丝 ,13130010417 ,None ,\n",
      "翟营 ,18604109812 ,None ,\n",
      "艾丽丝 ,13130010417 ,None ,\n",
      "艾丽丝 ,13130010417 ,None ,\n",
      "张浩 ,13591062075 ,None ,\n",
      "艾丽丝 ,13130010417 ,None ,\n"
     ]
    }
   ],
   "source": [
    "#!/usr/bin/python3\n",
    " \n",
    "import pymysql\n",
    " \n",
    "# 打开数据库连接\n",
    "db = pymysql.connect(\"localhost\",\"root\",\"123123c\",\"lsk20190827\" )\n",
    " \n",
    "# 使用 cursor() 方法创建一个游标对象 cursor\n",
    "cursor = db.cursor()\n",
    "sql = '''\n",
    "        \n",
    "        SELECT `o`.`name`,mobile,address FROM hjmallind_order as `o` \n",
    "\n",
    "        LEFT JOIN hjmallind_user as `u` ON `u`.id = `o`.user_id\n",
    "        LEFT JOIN hjmallind_order_detail as `od` ON `od`.order_id = `o`.id \n",
    "        LEFT JOIN hjmallind_goods as `g` ON `g`.id = `od`.goods_id \n",
    "\n",
    "        WHERE `o`.store_id=1 and `o`.mch_id=0\n",
    "\n",
    "        AND `o`.addtime between 1566835200 and 1566921599 \n",
    "\n",
    "\n",
    "        GROUP BY `o`.id \n",
    "''' \n",
    "# 使用 execute()  方法执行 SQL 查询 \n",
    "cursor.execute(sql)\n",
    " \n",
    "# 使用 fetchone() 方法获取单条数据.\n",
    "data = cursor.fetchall()\n",
    " \n",
    "# print (data)\n",
    "\n",
    "for i in range(len(data)):\n",
    "    row = data[i]\n",
    "    for j in range(len(row)):\n",
    "        print(row[j],end=' ,')\n",
    "    print()\n",
    "# 关闭数据库连接\n",
    "db.close()"
   ]
  },
  {
   "cell_type": "code",
   "execution_count": null,
   "metadata": {},
   "outputs": [],
   "source": [
    "#!/usr/bin/python3\n",
    " \n",
    "import pymysql\n",
    " \n",
    "# 打开数据库连接\n",
    "db = pymysql.connect(\"localhost\",\"root\",\"123123c\",\"lsk20190827\" )\n",
    " \n",
    "# 使用 cursor() 方法创建一个游标对象 cursor\n",
    "cursor = db.cursor()\n",
    "sql = '''\n",
    "        \n",
    "        select\n",
    "    adx_type,\n",
    "    count(*) as count_request,\n",
    "    count(distinct CASE WHEN (union_imei_source != “random”) THEN union_imei ELSE NULL END) as distinct_IDFA_IMEI_num,\n",
    "    count(CASE WHEN (union_imei_source != “random”) THEN union_imei ELSE NULL END)/count(*) as IDFA_IMEI,\n",
    "    sum(if(platform != 0, 1, 0))/count(*) as valid_platform,\n",
    "    sum(if(did != “”, 1, 0))/count(*) as valid_did,\n",
    "    sum(if(adslot_height > 0, 1, 0))/count(*) as valid_height,\n",
    "    sum(if(adslot_width > 0, 1, 0))/count(*) as valid_width,\n",
    "    sum(if(disable_ad = TRUE, 1, 0))/count(*) as valid_disable_true,\n",
    "    sum(if(age != -1, 1, 0))/count(*) as valid_age,\n",
    "    sum(if(gender != -1, 1, 0))/count(*) as valid_gender,\n",
    "    sum(if(ip != “”, 1, 0))/count(*) as valid_ip,\n",
    "    sum(if(user_agent != “”, 1, 0))/count(*) as valid_user_agent,\n",
    "    sum(if(ac != -1, 1, 0))/count(*) as valid_ac,\n",
    "    sum(if(model != “” and model is not NULL, 1, 0))/count(*) as valid_model,\n",
    "    sum(if(carrier_id != 0, 1, 0))/count(*) as valid_carrier,\n",
    "    sum(if(device_type != 0, 1, 0))/count(*) as valid_device_type,\n",
    "    sum(if(city_id != 0 and city_id is not NULL, 1, 0))/count(*) as valid_city_id,\n",
    "    sum(if(province_id != 0 and province_id is not NULL, 1, 0))/count(*) as valid_province_id,\n",
    "    sum(if(adxapplist is NOT NULL and size(adxapplist) != 0, 1, 0))/count(*) as valid_adxapplist\n",
    "from\n",
    "    ad_ods.ods_log_dsp_ad_request_log\n",
    "where\n",
    "    date = 20190730\n",
    "    —date >= 20190724\n",
    "—AND date <= 20190726\n",
    "group by\n",
    "    adx_type\n",
    "''' \n",
    "# 使用 execute()  方法执行 SQL 查询 \n",
    "cursor.execute(sql)\n",
    " \n",
    "# 使用 fetchone() 方法获取单条数据.\n",
    "data = cursor.fetchall()\n",
    " \n",
    "# print (data)\n",
    "\n",
    "for i in range(len(data)):\n",
    "    row = data[i]\n",
    "    for j in range(len(row)):\n",
    "        print(row[j],end=' ,')\n",
    "    print()\n",
    "# 关闭数据库连接\n",
    "db.close()"
   ]
  },
  {
   "cell_type": "code",
   "execution_count": null,
   "metadata": {},
   "outputs": [],
   "source": [
    "import pandas as pd \n",
    "\n",
    "\n",
    "/// "
   ]
  },
  {
   "cell_type": "code",
   "execution_count": null,
   "metadata": {},
   "outputs": [],
   "source": [
    "import matplotlib "
   ]
  }
 ],
 "metadata": {
  "kernelspec": {
   "display_name": "Python 3",
   "language": "python",
   "name": "python3"
  },
  "language_info": {
   "codemirror_mode": {
    "name": "ipython",
    "version": 3
   },
   "file_extension": ".py",
   "mimetype": "text/x-python",
   "name": "python",
   "nbconvert_exporter": "python",
   "pygments_lexer": "ipython3",
   "version": "3.6.8"
  },
  "varInspector": {
   "cols": {
    "lenName": 16,
    "lenType": 16,
    "lenVar": 40
   },
   "kernels_config": {
    "python": {
     "delete_cmd_postfix": "",
     "delete_cmd_prefix": "del ",
     "library": "var_list.py",
     "varRefreshCmd": "print(var_dic_list())"
    },
    "r": {
     "delete_cmd_postfix": ") ",
     "delete_cmd_prefix": "rm(",
     "library": "var_list.r",
     "varRefreshCmd": "cat(var_dic_list()) "
    }
   },
   "types_to_exclude": [
    "module",
    "function",
    "builtin_function_or_method",
    "instance",
    "_Feature"
   ],
   "window_display": false
  }
 },
 "nbformat": 4,
 "nbformat_minor": 2
}
