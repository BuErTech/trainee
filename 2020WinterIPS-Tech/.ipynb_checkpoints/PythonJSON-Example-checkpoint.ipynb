{
 "cells": [
  {
   "cell_type": "code",
   "execution_count": null,
   "metadata": {},
   "outputs": [],
   "source": []
  },
  {
   "cell_type": "code",
   "execution_count": 2,
   "metadata": {},
   "outputs": [],
   "source": [
    "# 假设条件，我已经通过 request 请求得到了一个返回结果\n",
    "\n",
    "# 如下\n",
    "\n",
    "datas = '''\n",
    "{\n",
    "    \"code\": 200,\n",
    "    \"message\": \"SUCCESS\",\n",
    "    \"data\": [\n",
    "        {\n",
    "            \"date\": \"01.28\",\n",
    "            \"confirm\": 5,\n",
    "            \"city\": \"大连\",\n",
    "            \"heal\": 0,\n",
    "            \"dead\": 0,\n",
    "            \"suspect\": 0,\n",
    "            \"confirm_add\": \"\"\n",
    "        },\n",
    "        {\n",
    "            \"date\": \"01.29\",\n",
    "            \"confirm\": 5,\n",
    "            \"city\": \"大连\",\n",
    "            \"heal\": 1,\n",
    "            \"dead\": 0,\n",
    "            \"suspect\": 0,\n",
    "            \"confirm_add\": \"\"\n",
    "        },\n",
    "        {\n",
    "            \"date\": \"01.30\",\n",
    "            \"confirm\": 5,\n",
    "            \"city\": \"大连\",\n",
    "            \"heal\": 1,\n",
    "            \"dead\": 0,\n",
    "            \"suspect\": 0,\n",
    "            \"confirm_add\": \"\"\n",
    "        },\n",
    "        {\n",
    "            \"date\": \"01.31\",\n",
    "            \"confirm\": 8,\n",
    "            \"city\": \"大连\",\n",
    "            \"heal\": 1,\n",
    "            \"dead\": 0,\n",
    "            \"suspect\": 0,\n",
    "            \"confirm_add\": \"\"\n",
    "        },\n",
    "        {\n",
    "            \"date\": \"02.01\",\n",
    "            \"confirm\": 10,\n",
    "            \"city\": \"大连\",\n",
    "            \"heal\": 1,\n",
    "            \"dead\": 0,\n",
    "            \"suspect\": 0,\n",
    "            \"confirm_add\": \"\"\n",
    "        },\n",
    "        {\n",
    "            \"date\": \"02.02\",\n",
    "            \"confirm\": 12,\n",
    "            \"city\": \"大连\",\n",
    "            \"heal\": 1,\n",
    "            \"dead\": 0,\n",
    "            \"suspect\": 0,\n",
    "            \"confirm_add\": \"\"\n",
    "        },\n",
    "        {\n",
    "            \"date\": \"02.03\",\n",
    "            \"confirm\": 12,\n",
    "            \"city\": \"大连\",\n",
    "            \"heal\": 1,\n",
    "            \"dead\": 0,\n",
    "            \"suspect\": 0,\n",
    "            \"confirm_add\": \"0\"\n",
    "        },\n",
    "        {\n",
    "            \"date\": \"02.04\",\n",
    "            \"confirm\": 13,\n",
    "            \"city\": \"大连\",\n",
    "            \"heal\": 2,\n",
    "            \"dead\": 0,\n",
    "            \"suspect\": 0,\n",
    "            \"confirm_add\": \"\"\n",
    "        },\n",
    "        {\n",
    "            \"date\": \"02.05\",\n",
    "            \"confirm\": 14,\n",
    "            \"city\": \"大连\",\n",
    "            \"heal\": 3,\n",
    "            \"dead\": 0,\n",
    "            \"suspect\": 0,\n",
    "            \"confirm_add\": \"\"\n",
    "        },\n",
    "        {\n",
    "            \"date\": \"02.08\",\n",
    "            \"confirm\": 16,\n",
    "            \"city\": \"大连\",\n",
    "            \"heal\": 3,\n",
    "            \"dead\": 0,\n",
    "            \"suspect\": 0,\n",
    "            \"confirm_add\": \"2\"\n",
    "        },\n",
    "        {\n",
    "            \"date\": \"02.12\",\n",
    "            \"confirm\": 16,\n",
    "            \"city\": \"大连\",\n",
    "            \"heal\": 4,\n",
    "            \"dead\": 0,\n",
    "            \"suspect\": 0,\n",
    "            \"confirm_add\": \"0\"\n",
    "        },\n",
    "        {\n",
    "            \"date\": \"02.13\",\n",
    "            \"confirm\": 17,\n",
    "            \"city\": \"大连\",\n",
    "            \"heal\": 4,\n",
    "            \"dead\": 0,\n",
    "            \"suspect\": 0,\n",
    "            \"confirm_add\": \"1\"\n",
    "        },\n",
    "        {\n",
    "            \"date\": \"02.14\",\n",
    "            \"confirm\": 18,\n",
    "            \"city\": \"大连\",\n",
    "            \"heal\": 4,\n",
    "            \"dead\": 0,\n",
    "            \"suspect\": 0,\n",
    "            \"confirm_add\": \"2\"\n",
    "        },\n",
    "        {\n",
    "            \"date\": \"02.16\",\n",
    "            \"confirm\": 18,\n",
    "            \"city\": \"大连\",\n",
    "            \"heal\": 5,\n",
    "            \"dead\": 0,\n",
    "            \"suspect\": 0,\n",
    "            \"confirm_add\": \"0\"\n",
    "        },\n",
    "        {\n",
    "            \"date\": \"02.17\",\n",
    "            \"confirm\": 19,\n",
    "            \"city\": \"大连\",\n",
    "            \"heal\": 5,\n",
    "            \"dead\": 0,\n",
    "            \"suspect\": 0,\n",
    "            \"confirm_add\": \"1\"\n",
    "        },\n",
    "        {\n",
    "            \"date\": \"02.19\",\n",
    "            \"confirm\": 19,\n",
    "            \"city\": \"大连\",\n",
    "            \"heal\": 9,\n",
    "            \"dead\": 0,\n",
    "            \"suspect\": 0,\n",
    "            \"confirm_add\": \"0\"\n",
    "        }\n",
    "    ]\n",
    "}\n",
    "\n",
    "'''"
   ]
  },
  {
   "cell_type": "code",
   "execution_count": 3,
   "metadata": {},
   "outputs": [
    {
     "data": {
      "text/plain": [
       "'\\n{\\n    \"code\": 200,\\n    \"message\": \"SUCCESS\",\\n    \"data\": [\\n        {\\n            \"date\": \"01.28\",\\n            \"confirm\": 5,\\n            \"city\": \"大连\",\\n            \"heal\": 0,\\n            \"dead\": 0,\\n            \"suspect\": 0,\\n            \"confirm_add\": \"\"\\n        },\\n        {\\n            \"date\": \"01.29\",\\n            \"confirm\": 5,\\n            \"city\": \"大连\",\\n            \"heal\": 1,\\n            \"dead\": 0,\\n            \"suspect\": 0,\\n            \"confirm_add\": \"\"\\n        },\\n        {\\n            \"date\": \"01.30\",\\n            \"confirm\": 5,\\n            \"city\": \"大连\",\\n            \"heal\": 1,\\n            \"dead\": 0,\\n            \"suspect\": 0,\\n            \"confirm_add\": \"\"\\n        },\\n        {\\n            \"date\": \"01.31\",\\n            \"confirm\": 8,\\n            \"city\": \"大连\",\\n            \"heal\": 1,\\n            \"dead\": 0,\\n            \"suspect\": 0,\\n            \"confirm_add\": \"\"\\n        },\\n        {\\n            \"date\": \"02.01\",\\n            \"confirm\": 10,\\n            \"city\": \"大连\",\\n            \"heal\": 1,\\n            \"dead\": 0,\\n            \"suspect\": 0,\\n            \"confirm_add\": \"\"\\n        },\\n        {\\n            \"date\": \"02.02\",\\n            \"confirm\": 12,\\n            \"city\": \"大连\",\\n            \"heal\": 1,\\n            \"dead\": 0,\\n            \"suspect\": 0,\\n            \"confirm_add\": \"\"\\n        },\\n        {\\n            \"date\": \"02.03\",\\n            \"confirm\": 12,\\n            \"city\": \"大连\",\\n            \"heal\": 1,\\n            \"dead\": 0,\\n            \"suspect\": 0,\\n            \"confirm_add\": \"0\"\\n        },\\n        {\\n            \"date\": \"02.04\",\\n            \"confirm\": 13,\\n            \"city\": \"大连\",\\n            \"heal\": 2,\\n            \"dead\": 0,\\n            \"suspect\": 0,\\n            \"confirm_add\": \"\"\\n        },\\n        {\\n            \"date\": \"02.05\",\\n            \"confirm\": 14,\\n            \"city\": \"大连\",\\n            \"heal\": 3,\\n            \"dead\": 0,\\n            \"suspect\": 0,\\n            \"confirm_add\": \"\"\\n        },\\n        {\\n            \"date\": \"02.08\",\\n            \"confirm\": 16,\\n            \"city\": \"大连\",\\n            \"heal\": 3,\\n            \"dead\": 0,\\n            \"suspect\": 0,\\n            \"confirm_add\": \"2\"\\n        },\\n        {\\n            \"date\": \"02.12\",\\n            \"confirm\": 16,\\n            \"city\": \"大连\",\\n            \"heal\": 4,\\n            \"dead\": 0,\\n            \"suspect\": 0,\\n            \"confirm_add\": \"0\"\\n        },\\n        {\\n            \"date\": \"02.13\",\\n            \"confirm\": 17,\\n            \"city\": \"大连\",\\n            \"heal\": 4,\\n            \"dead\": 0,\\n            \"suspect\": 0,\\n            \"confirm_add\": \"1\"\\n        },\\n        {\\n            \"date\": \"02.14\",\\n            \"confirm\": 18,\\n            \"city\": \"大连\",\\n            \"heal\": 4,\\n            \"dead\": 0,\\n            \"suspect\": 0,\\n            \"confirm_add\": \"2\"\\n        },\\n        {\\n            \"date\": \"02.16\",\\n            \"confirm\": 18,\\n            \"city\": \"大连\",\\n            \"heal\": 5,\\n            \"dead\": 0,\\n            \"suspect\": 0,\\n            \"confirm_add\": \"0\"\\n        },\\n        {\\n            \"date\": \"02.17\",\\n            \"confirm\": 19,\\n            \"city\": \"大连\",\\n            \"heal\": 5,\\n            \"dead\": 0,\\n            \"suspect\": 0,\\n            \"confirm_add\": \"1\"\\n        },\\n        {\\n            \"date\": \"02.19\",\\n            \"confirm\": 19,\\n            \"city\": \"大连\",\\n            \"heal\": 9,\\n            \"dead\": 0,\\n            \"suspect\": 0,\\n            \"confirm_add\": \"0\"\\n        }\\n    ]\\n}\\n\\n'"
      ]
     },
     "execution_count": 3,
     "metadata": {},
     "output_type": "execute_result"
    }
   ],
   "source": [
    "datas"
   ]
  },
  {
   "cell_type": "code",
   "execution_count": 5,
   "metadata": {},
   "outputs": [
    {
     "name": "stdout",
     "output_type": "stream",
     "text": [
      "200\n"
     ]
    }
   ],
   "source": [
    "import json\n",
    "\n",
    "pythonJsonDataObject = json.loads(datas)\n",
    "\n",
    "print(pythonJsonDataObject['code'])"
   ]
  },
  {
   "cell_type": "code",
   "execution_count": 6,
   "metadata": {},
   "outputs": [
    {
     "data": {
      "text/plain": [
       "'SUCCESS'"
      ]
     },
     "execution_count": 6,
     "metadata": {},
     "output_type": "execute_result"
    }
   ],
   "source": [
    "pythonJsonDataObject['message']"
   ]
  },
  {
   "cell_type": "code",
   "execution_count": 7,
   "metadata": {},
   "outputs": [
    {
     "data": {
      "text/plain": [
       "16"
      ]
     },
     "execution_count": 7,
     "metadata": {},
     "output_type": "execute_result"
    }
   ],
   "source": [
    "len(pythonJsonDataObject['data'])"
   ]
  },
  {
   "cell_type": "code",
   "execution_count": 9,
   "metadata": {},
   "outputs": [
    {
     "name": "stdout",
     "output_type": "stream",
     "text": [
      "01.28\t5\t大连\t0\t0\t0\t\n",
      "01.29\t5\t大连\t1\t0\t0\t\n",
      "01.30\t5\t大连\t1\t0\t0\t\n",
      "01.31\t8\t大连\t1\t0\t0\t\n",
      "02.01\t10\t大连\t1\t0\t0\t\n",
      "02.02\t12\t大连\t1\t0\t0\t\n",
      "02.03\t12\t大连\t1\t0\t0\t0\n",
      "02.04\t13\t大连\t2\t0\t0\t\n",
      "02.05\t14\t大连\t3\t0\t0\t\n",
      "02.08\t16\t大连\t3\t0\t0\t2\n",
      "02.12\t16\t大连\t4\t0\t0\t0\n",
      "02.13\t17\t大连\t4\t0\t0\t1\n",
      "02.14\t18\t大连\t4\t0\t0\t2\n",
      "02.16\t18\t大连\t5\t0\t0\t0\n",
      "02.17\t19\t大连\t5\t0\t0\t1\n",
      "02.19\t19\t大连\t9\t0\t0\t0\n"
     ]
    }
   ],
   "source": [
    "# 尝试遍历所有的数据\n",
    "\n",
    "for dataOfDay in pythonJsonDataObject['data']:\n",
    "    print(dataOfDay['date'],end='\\t')\n",
    "    print(dataOfDay['confirm'],end='\\t')\n",
    "    print(dataOfDay['city'],end='\\t')\n",
    "    print(dataOfDay['heal'],end='\\t')\n",
    "    print(dataOfDay['dead'],end='\\t')\n",
    "    print(dataOfDay['suspect'],end='\\t')\n",
    "    print(dataOfDay['confirm_add'])"
   ]
  },
  {
   "cell_type": "code",
   "execution_count": 10,
   "metadata": {},
   "outputs": [
    {
     "data": {
      "text/plain": [
       "<Response [200]>"
      ]
     },
     "execution_count": 10,
     "metadata": {},
     "output_type": "execute_result"
    }
   ],
   "source": [
    "# https://wuliang.art/ncov/statistics/getCityHistoryList?cityName=大连&provinceName=辽宁\n",
    "\n",
    "# 对某个地址发出请求！！！\n",
    "\n",
    "# 导包！\n",
    "import requests\n",
    "\n",
    "url = 'https://wuliang.art/ncov/statistics/getCityHistoryList?cityName=大连&provinceName=辽宁'\n",
    "\n",
    "response = requests.get(url)\n",
    "\n",
    "response.text"
   ]
  },
  {
   "cell_type": "code",
   "execution_count": null,
   "metadata": {},
   "outputs": [],
   "source": []
  }
 ],
 "metadata": {
  "kernelspec": {
   "display_name": "Python 3",
   "language": "python",
   "name": "python3"
  },
  "language_info": {
   "codemirror_mode": {
    "name": "ipython",
    "version": 3
   },
   "file_extension": ".py",
   "mimetype": "text/x-python",
   "name": "python",
   "nbconvert_exporter": "python",
   "pygments_lexer": "ipython3",
   "version": "3.6.8"
  },
  "varInspector": {
   "cols": {
    "lenName": 16,
    "lenType": 16,
    "lenVar": 40
   },
   "kernels_config": {
    "python": {
     "delete_cmd_postfix": "",
     "delete_cmd_prefix": "del ",
     "library": "var_list.py",
     "varRefreshCmd": "print(var_dic_list())"
    },
    "r": {
     "delete_cmd_postfix": ") ",
     "delete_cmd_prefix": "rm(",
     "library": "var_list.r",
     "varRefreshCmd": "cat(var_dic_list()) "
    }
   },
   "types_to_exclude": [
    "module",
    "function",
    "builtin_function_or_method",
    "instance",
    "_Feature"
   ],
   "window_display": false
  }
 },
 "nbformat": 4,
 "nbformat_minor": 2
}
