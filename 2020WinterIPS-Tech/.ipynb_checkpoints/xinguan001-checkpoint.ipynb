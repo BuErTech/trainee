{
 "cells": [
  {
   "cell_type": "code",
   "execution_count": null,
   "metadata": {},
   "outputs": [],
   "source": []
  },
  {
   "cell_type": "code",
   "execution_count": 3,
   "metadata": {},
   "outputs": [
    {
     "name": "stdout",
     "output_type": "stream",
     "text": [
      "请输入您的省份湖北\n",
      "请输入您的城市武汉\n"
     ]
    },
    {
     "data": {
      "text/plain": [
       "'https://wuliang.art/ncov/statistics/getCityHistoryList?cityName=武汉&provinceName=湖北'"
      ]
     },
     "execution_count": 3,
     "metadata": {},
     "output_type": "execute_result"
    }
   ],
   "source": [
    "# 作业一\n",
    "# https://wuliang.art/ncov/statistics/getCityHistoryList?cityName=大连&provinceName=辽宁\n",
    "\n",
    "# 对某个地址发出请求！！！\n",
    "\n",
    "# 导包！\n",
    "import requests\n",
    "\n",
    "province = input(\"请输入您的省份\")\n",
    "\n",
    "\n",
    "city = input('请输入您的城市')\n",
    "\n",
    "url = 'https://wuliang.art/ncov/statistics/getCityHistoryList?cityName=%s&provinceName=%s'%(city,province)\n",
    "\n",
    "url"
   ]
  },
  {
   "cell_type": "code",
   "execution_count": 4,
   "metadata": {},
   "outputs": [
    {
     "name": "stdout",
     "output_type": "stream",
     "text": [
      "01.23\t495\t武汉\t31\t23\t0\t70\n",
      "01.24\t572\t武汉\t32\t38\t0\t77\n",
      "01.25\t618\t武汉\t40\t45\t0\t46\n",
      "01.26\t698\t武汉\t42\t63\t0\t80\n",
      "01.27\t1590\t武汉\t44\t85\t0\t892\n",
      "01.28\t1905\t武汉\t51\t104\t0\t315\n",
      "01.29\t2261\t武汉\t54\t129\t0\t356\n",
      "01.30\t2639\t武汉\t98\t159\t0\t378\n",
      "01.31\t3215\t武汉\t106\t192\t0\t576\n",
      "02.01\t4109\t武汉\t181\t224\t0\t894\n",
      "02.02\t5142\t武汉\t224\t265\t0\t1033\n",
      "02.03\t6384\t武汉\t303\t313\t0\t1242\n",
      "02.04\t8351\t武汉\t373\t362\t0\t1967\n",
      "02.05\t10117\t武汉\t459\t414\t0\t1766\n",
      "02.06\t11618\t武汉\t534\t478\t0\t1501\n",
      "02.07\t13603\t武汉\t743\t545\t0\t1985\n",
      "02.08\t14982\t武汉\t877\t608\t0\t1379\n",
      "02.09\t16902\t武汉\t1034\t681\t0\t1921\n",
      "02.10\t18454\t武汉\t1206\t748\t0\t1552\n",
      "02.11\t19558\t武汉\t1377\t820\t0\t1104\n",
      "02.12\t32994\t武汉\t1915\t1036\t0\t13436\n",
      "02.13\t35991\t武汉\t2285\t1124\t0\t3910\n",
      "02.14\t37914\t武汉\t2502\t1123\t0\t1923\n",
      "02.15\t39462\t武汉\t2915\t1233\t0\t1548\n",
      "02.16\t41152\t武汉\t3458\t1309\t0\t1690\n",
      "02.17\t42752\t武汉\t4219\t1381\t0\t1600\n",
      "02.18\t44412\t武汉\t4895\t1497\t0\t1660\n",
      "02.19\t45027\t武汉\t5448\t1585\t0\t615\n",
      "02.20\t45346\t武汉\t6214\t1684\t0\t319\n",
      "02.21\t45660\t武汉\t7206\t1774\t0\t314\n",
      "02.22\t46201\t武汉\t8171\t1856\t0\t541\n",
      "02.23\t46201\t武汉\t8171\t1856\t0\t541\n"
     ]
    }
   ],
   "source": [
    "response = requests.get(url)\n",
    "\n",
    "datas = response.text\n",
    "\n",
    "\n",
    "import json\n",
    "\n",
    "pythonJsonDataObject = json.loads(datas)\n",
    "\n",
    "# print(pythonJsonDataObject['code'])\n",
    "\n",
    "# 尝试遍历所有的数据\n",
    "\n",
    "for dataOfDay in pythonJsonDataObject['data']:\n",
    "    print(dataOfDay['date'],end='\\t')\n",
    "    print(dataOfDay['confirm'],end='\\t')\n",
    "    print(dataOfDay['city'],end='\\t')\n",
    "    print(dataOfDay['heal'],end='\\t')\n",
    "    print(dataOfDay['dead'],end='\\t')\n",
    "    print(dataOfDay['suspect'],end='\\t')\n",
    "    print(dataOfDay['confirm_add'])"
   ]
  },
  {
   "cell_type": "code",
   "execution_count": null,
   "metadata": {},
   "outputs": [],
   "source": []
  }
 ],
 "metadata": {
  "kernelspec": {
   "display_name": "Python 3",
   "language": "python",
   "name": "python3"
  },
  "language_info": {
   "codemirror_mode": {
    "name": "ipython",
    "version": 3
   },
   "file_extension": ".py",
   "mimetype": "text/x-python",
   "name": "python",
   "nbconvert_exporter": "python",
   "pygments_lexer": "ipython3",
   "version": "3.6.8"
  },
  "varInspector": {
   "cols": {
    "lenName": 16,
    "lenType": 16,
    "lenVar": 40
   },
   "kernels_config": {
    "python": {
     "delete_cmd_postfix": "",
     "delete_cmd_prefix": "del ",
     "library": "var_list.py",
     "varRefreshCmd": "print(var_dic_list())"
    },
    "r": {
     "delete_cmd_postfix": ") ",
     "delete_cmd_prefix": "rm(",
     "library": "var_list.r",
     "varRefreshCmd": "cat(var_dic_list()) "
    }
   },
   "types_to_exclude": [
    "module",
    "function",
    "builtin_function_or_method",
    "instance",
    "_Feature"
   ],
   "window_display": false
  }
 },
 "nbformat": 4,
 "nbformat_minor": 2
}
