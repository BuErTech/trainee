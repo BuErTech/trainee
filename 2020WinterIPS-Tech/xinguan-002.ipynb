{
 "cells": [
  {
   "cell_type": "code",
   "execution_count": 6,
   "metadata": {},
   "outputs": [
    {
     "name": "stdout",
     "output_type": "stream",
     "text": [
      "我们要去爬取的页面https://wuliang.art/ncov/rumor/getRumorList?page=0\n",
      "我们要去爬取的页面https://wuliang.art/ncov/rumor/getRumorList?page=1\n",
      "我们要去爬取的页面https://wuliang.art/ncov/rumor/getRumorList?page=2\n",
      "我们要去爬取的页面https://wuliang.art/ncov/rumor/getRumorList?page=3\n",
      "我们要去爬取的页面https://wuliang.art/ncov/rumor/getRumorList?page=4\n",
      "我们要去爬取的页面https://wuliang.art/ncov/rumor/getRumorList?page=5\n",
      "我们要去爬取的页面https://wuliang.art/ncov/rumor/getRumorList?page=6\n",
      "我们要去爬取的页面https://wuliang.art/ncov/rumor/getRumorList?page=7\n",
      "我们要去爬取的页面https://wuliang.art/ncov/rumor/getRumorList?page=8\n",
      "我们要去爬取的页面https://wuliang.art/ncov/rumor/getRumorList?page=9\n",
      "我们要去爬取的页面https://wuliang.art/ncov/rumor/getRumorList?page=10\n",
      "我们要去爬取的页面https://wuliang.art/ncov/rumor/getRumorList?page=11\n",
      "我们要去爬取的页面https://wuliang.art/ncov/rumor/getRumorList?page=12\n",
      "我们要去爬取的页面https://wuliang.art/ncov/rumor/getRumorList?page=13\n",
      "我们要去爬取的页面https://wuliang.art/ncov/rumor/getRumorList?page=14\n",
      "我们要去爬取的页面https://wuliang.art/ncov/rumor/getRumorList?page=15\n",
      "我们要去爬取的页面https://wuliang.art/ncov/rumor/getRumorList?page=16\n",
      "我们要去爬取的页面https://wuliang.art/ncov/rumor/getRumorList?page=17\n",
      "我们要去爬取的页面https://wuliang.art/ncov/rumor/getRumorList?page=18\n",
      "我们要去爬取的页面https://wuliang.art/ncov/rumor/getRumorList?page=19\n",
      "我们要去爬取的页面https://wuliang.art/ncov/rumor/getRumorList?page=20\n",
      "我们要去爬取的页面https://wuliang.art/ncov/rumor/getRumorList?page=21\n",
      "我们要去爬取的页面https://wuliang.art/ncov/rumor/getRumorList?page=22\n",
      "我们要去爬取的页面https://wuliang.art/ncov/rumor/getRumorList?page=23\n",
      "我们要去爬取的页面https://wuliang.art/ncov/rumor/getRumorList?page=24\n",
      "我们要去爬取的页面https://wuliang.art/ncov/rumor/getRumorList?page=25\n",
      "我们要去爬取的页面https://wuliang.art/ncov/rumor/getRumorList?page=26\n",
      "我们要去爬取的页面https://wuliang.art/ncov/rumor/getRumorList?page=27\n",
      "我们要去爬取的页面https://wuliang.art/ncov/rumor/getRumorList?page=28\n",
      "我们要去爬取的页面https://wuliang.art/ncov/rumor/getRumorList?page=29\n",
      "我们要去爬取的页面https://wuliang.art/ncov/rumor/getRumorList?page=30\n",
      "我们要去爬取的页面https://wuliang.art/ncov/rumor/getRumorList?page=31\n",
      "我们要去爬取的页面https://wuliang.art/ncov/rumor/getRumorList?page=32\n",
      "我们要去爬取的页面https://wuliang.art/ncov/rumor/getRumorList?page=33\n",
      "我们要去爬取的页面https://wuliang.art/ncov/rumor/getRumorList?page=34\n",
      "我们要去爬取的页面https://wuliang.art/ncov/rumor/getRumorList?page=35\n",
      "我们要去爬取的页面https://wuliang.art/ncov/rumor/getRumorList?page=36\n"
     ]
    }
   ],
   "source": [
    "\n",
    "import requests \n",
    "import json\n",
    "\n",
    "\n",
    "for i in range(37):\n",
    "    url = 'https://wuliang.art/ncov/rumor/getRumorList?page=%d'%i\n",
    "    print('我们要去爬取的页面'+url)\n",
    "    response = requests.get(url)\n",
    "    \n",
    "    datas = response.text\n",
    "\n",
    "    pythonJsonDataObject = json.loads(datas)\n",
    "    \n",
    "    for row in pythonJsonDataObject['data']:\n",
    "        rowString = ''\n",
    "        \n",
    "        rowString += row['date']+','\n",
    "        rowString += row['explain']+','\n",
    "        rowString += row['arttype']+','\n",
    "        rowString += row['author']+','\n",
    "        rowString += row['section']+','\n",
    "        rowString += row['abstract']+','\n",
    "        rowString += row['title']+','\n",
    "        rowString += str(row['type'])+','\n",
    "        rowString += row['coversqual']+','\n",
    "        rowString += row['result']+','\n",
    "        rowString += row['cover']+','\n",
    "        rowString += str(row['iscolled'])+','\n",
    "        rowString += row['videourl']+','\n",
    "        rowString += row['authordesc']+','\n",
    "        rowString += row['coverrect']+','\n",
    "        rowString += row['markstyle']+','\n",
    "        rowString += row['id']+','\n",
    "        for st in row['tag']:\n",
    "            rowString += st+'|'\n",
    "        rowString += '\\n'\n",
    "        with open('./result.csv','a') as f:\n",
    "            f.write(rowString)\n",
    "        \n",
    "    \n",
    "    \n",
    "    "
   ]
  },
  {
   "cell_type": "code",
   "execution_count": null,
   "metadata": {},
   "outputs": [],
   "source": []
  }
 ],
 "metadata": {
  "kernelspec": {
   "display_name": "Python 3",
   "language": "python",
   "name": "python3"
  },
  "language_info": {
   "codemirror_mode": {
    "name": "ipython",
    "version": 3
   },
   "file_extension": ".py",
   "mimetype": "text/x-python",
   "name": "python",
   "nbconvert_exporter": "python",
   "pygments_lexer": "ipython3",
   "version": "3.6.8"
  },
  "varInspector": {
   "cols": {
    "lenName": 16,
    "lenType": 16,
    "lenVar": 40
   },
   "kernels_config": {
    "python": {
     "delete_cmd_postfix": "",
     "delete_cmd_prefix": "del ",
     "library": "var_list.py",
     "varRefreshCmd": "print(var_dic_list())"
    },
    "r": {
     "delete_cmd_postfix": ") ",
     "delete_cmd_prefix": "rm(",
     "library": "var_list.r",
     "varRefreshCmd": "cat(var_dic_list()) "
    }
   },
   "types_to_exclude": [
    "module",
    "function",
    "builtin_function_or_method",
    "instance",
    "_Feature"
   ],
   "window_display": false
  }
 },
 "nbformat": 4,
 "nbformat_minor": 2
}
