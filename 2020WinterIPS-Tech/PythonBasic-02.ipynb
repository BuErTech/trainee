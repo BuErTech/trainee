{
 "cells": [
  {
   "cell_type": "code",
   "execution_count": null,
   "metadata": {},
   "outputs": [],
   "source": []
  },
  {
   "cell_type": "code",
   "execution_count": null,
   "metadata": {},
   "outputs": [],
   "source": []
  },
  {
   "cell_type": "code",
   "execution_count": null,
   "metadata": {},
   "outputs": [],
   "source": [
    "[1,2,3,4,5,'Six',[1,2,3,4,5]]"
   ]
  },
  {
   "cell_type": "code",
   "execution_count": 1,
   "metadata": {},
   "outputs": [
    {
     "name": "stdout",
     "output_type": "stream",
     "text": [
      "(1, 3)\n",
      "[3, 'a']\n"
     ]
    }
   ],
   "source": [
    "hello = (1,2,3)\n",
    "\n",
    "list1 = [1,'2',[3,'a'],(1,3),hello]\n",
    "\n",
    "\n",
    "li = [1,\"2\",[3,'a'],(1,3)]\n",
    "\n",
    "print(li[3])\n",
    "\n",
    "\n",
    "print(li[-2])\n"
   ]
  },
  {
   "cell_type": "code",
   "execution_count": 2,
   "metadata": {},
   "outputs": [
    {
     "name": "stdout",
     "output_type": "stream",
     "text": [
      "[1, '2', [3, 'a'], (1, 3), (1, 2, 3)]\n"
     ]
    }
   ],
   "source": [
    "hello = (1,2,3)\n",
    "\n",
    "\n",
    "li = [1,'2',[3,'a'],(1,3),hello]\n",
    "\n",
    "\n",
    "print(li)"
   ]
  },
  {
   "cell_type": "code",
   "execution_count": 4,
   "metadata": {},
   "outputs": [
    {
     "name": "stdout",
     "output_type": "stream",
     "text": [
      "['2']\n"
     ]
    }
   ],
   "source": [
    "print(li[1:2]) # 从下标 1 开始获取，到 2 结束（不包含 2），获取多少个值？？ 2-1\n",
    "\n"
   ]
  },
  {
   "cell_type": "code",
   "execution_count": 5,
   "metadata": {},
   "outputs": [
    {
     "name": "stdout",
     "output_type": "stream",
     "text": [
      "[1, '2']\n"
     ]
    }
   ],
   "source": [
    "print(li[:2]) # 省略：前面的部分，代表从下标 0 开始获取，到 2 结束（不包含 2），获取多少个值？？ 2-0"
   ]
  },
  {
   "cell_type": "code",
   "execution_count": 6,
   "metadata": {},
   "outputs": [
    {
     "name": "stdout",
     "output_type": "stream",
     "text": [
      "[1, '2', [3, 'a'], (1, 3), (1, 2, 3)]\n"
     ]
    }
   ],
   "source": [
    "print(li[:]) "
   ]
  },
  {
   "cell_type": "code",
   "execution_count": 7,
   "metadata": {},
   "outputs": [
    {
     "name": "stdout",
     "output_type": "stream",
     "text": [
      "[[3, 'a'], (1, 3), (1, 2, 3)]\n"
     ]
    }
   ],
   "source": [
    "print(li[2:]) "
   ]
  },
  {
   "cell_type": "code",
   "execution_count": 8,
   "metadata": {},
   "outputs": [
    {
     "name": "stdout",
     "output_type": "stream",
     "text": [
      "['2', (1, 3)]\n"
     ]
    }
   ],
   "source": [
    "print(li[1:-1:2]) # 从下标 1 开始，到-1 结束，2 是步长，每次跳过 2 个！\n",
    "\n"
   ]
  },
  {
   "cell_type": "code",
   "execution_count": 9,
   "metadata": {},
   "outputs": [
    {
     "name": "stdout",
     "output_type": "stream",
     "text": [
      "[1, '2', [3, 'a'], (1, 3), (1, 2, 3)]\n"
     ]
    }
   ],
   "source": [
    "print(li[::]) "
   ]
  },
  {
   "cell_type": "code",
   "execution_count": 10,
   "metadata": {},
   "outputs": [
    {
     "name": "stdout",
     "output_type": "stream",
     "text": [
      "[1, '2', [3, 'a'], (1, 3)]\n"
     ]
    }
   ],
   "source": [
    "print(li[0:-1:1]) "
   ]
  },
  {
   "cell_type": "code",
   "execution_count": null,
   "metadata": {},
   "outputs": [],
   "source": [
    "li = [0, 1, 2, 3, 4, 5, 6, 7, 8, 9, ['a', 'b', 'c']]  \n",
    "\n",
    "print(li[1:-1:2][1:3]) # (3, 5)  \n"
   ]
  },
  {
   "cell_type": "code",
   "execution_count": null,
   "metadata": {},
   "outputs": [],
   "source": [
    "print(li[-1][1:3]) # ['b', 'c']  \n",
    "print(li[-1][1]) # b  "
   ]
  },
  {
   "cell_type": "code",
   "execution_count": 11,
   "metadata": {},
   "outputs": [
    {
     "data": {
      "text/plain": [
       "[0, 1, 2, 3, 22, 5]"
      ]
     },
     "execution_count": 11,
     "metadata": {},
     "output_type": "execute_result"
    }
   ],
   "source": [
    "li = [0, 1, 2, 3, 4, 5]  \n",
    "li[len(li) - 2] = 22 # 修改 [0, 1, 2, 22, 4, 5]  \n",
    "li"
   ]
  },
  {
   "cell_type": "code",
   "execution_count": 12,
   "metadata": {},
   "outputs": [
    {
     "data": {
      "text/plain": [
       "[0, 1, 2, 33, 22, 5]"
      ]
     },
     "execution_count": 12,
     "metadata": {},
     "output_type": "execute_result"
    }
   ],
   "source": [
    "li[3] = 33 # 修改 [0, 1, 2, 33, 4, 5]  \n",
    "li"
   ]
  },
  {
   "cell_type": "code",
   "execution_count": 13,
   "metadata": {},
   "outputs": [
    {
     "data": {
      "text/plain": [
       "[0, 9, 9, 5]"
      ]
     },
     "execution_count": 13,
     "metadata": {},
     "output_type": "execute_result"
    }
   ],
   "source": [
    "li[1:-1] = [9, 9] # 替换 [0, 9, 9, 5]  \n",
    "li  "
   ]
  },
  {
   "cell_type": "code",
   "execution_count": 14,
   "metadata": {},
   "outputs": [
    {
     "data": {
      "text/plain": [
       "[0, 5]"
      ]
     },
     "execution_count": 14,
     "metadata": {},
     "output_type": "execute_result"
    }
   ],
   "source": [
    "li[1:-1] = [] # 删除 [0, 5]\n",
    "li"
   ]
  },
  {
   "cell_type": "code",
   "execution_count": null,
   "metadata": {},
   "outputs": [],
   "source": [
    "li = [0, 1, 2, 3, 4, 5]   "
   ]
  },
  {
   "cell_type": "code",
   "execution_count": null,
   "metadata": {},
   "outputs": [],
   "source": [
    "del li[3] # [0, 1, 2, 4, 5]  \n",
    "del li[2:-1] # [0, 1, 5] "
   ]
  },
  {
   "cell_type": "code",
   "execution_count": null,
   "metadata": {},
   "outputs": [],
   "source": [
    "[1, 2, 3] + [3, 4, 5] # [1, 2, 3, 3, 4, 5]  \n"
   ]
  },
  {
   "cell_type": "code",
   "execution_count": null,
   "metadata": {},
   "outputs": [],
   "source": [
    "[1, 2, 3] * 2 # [1, 2, 3, 1, 2, 3]  \n"
   ]
  },
  {
   "cell_type": "code",
   "execution_count": null,
   "metadata": {},
   "outputs": [],
   "source": [
    "3 in [1, 2, 3] # True  \n"
   ]
  },
  {
   "cell_type": "code",
   "execution_count": null,
   "metadata": {},
   "outputs": [],
   "source": [
    "for x in [1, 2, 3]: print(x) # 1 2 3  "
   ]
  },
  {
   "cell_type": "code",
   "execution_count": null,
   "metadata": {},
   "outputs": [],
   "source": []
  },
  {
   "cell_type": "code",
   "execution_count": null,
   "metadata": {},
   "outputs": [],
   "source": [
    "vec = [2, 4, 6]  \n",
    "[(x, x**2) for x in vec]  \n",
    "# [(2, 4), (4, 16), (6, 36)]  "
   ]
  },
  {
   "cell_type": "code",
   "execution_count": null,
   "metadata": {},
   "outputs": [],
   "source": [
    "freshfruit = [' banana', ' loganberry ', 'passion fruit ']  \n",
    "[weapon.strip() for weapon in freshfruit]  \n",
    "# ['banana', 'loganberry', 'passion fruit']  "
   ]
  },
  {
   "cell_type": "code",
   "execution_count": null,
   "metadata": {},
   "outputs": [],
   "source": [
    "vec = [2, 4, 6]  \n",
    "[3*x for x in vec if x > 3]  \n",
    "# [12, 18]  \n",
    "\n",
    "result = []\n",
    "for x in vec:\n",
    "    if x>3:\n",
    "        result.append(3*x)\n",
    "        \n"
   ]
  },
  {
   "cell_type": "code",
   "execution_count": null,
   "metadata": {},
   "outputs": [],
   "source": [
    "vec1 = [2, 4, 6]  \n",
    "vec2 = [4, 3, -9]  \n",
    "[x*y for x in vec1 for y in vec2]  \n",
    "# [8, 6, -18, 16, 12, -36, 24, 18, -54]  \n",
    "\n",
    "for x in vec1:\n",
    "    for y in vec2:\n",
    "        x*y\n"
   ]
  },
  {
   "cell_type": "code",
   "execution_count": null,
   "metadata": {},
   "outputs": [],
   "source": [
    "[vec1[i]*vec2[i] for i in range(len(vec1))]  \n",
    "# [8, 12, -54]  \n",
    "\n",
    "for i in range(len(vecl1)):\n",
    "    vec1[i]*vec2[i]"
   ]
  },
  {
   "cell_type": "code",
   "execution_count": null,
   "metadata": {},
   "outputs": [],
   "source": [
    "matrix = [  \n",
    "[1, 2, 3],  \n",
    "[4, 5, 6],  \n",
    "[7, 8, 9],  \n",
    "]  \n"
   ]
  },
  {
   "cell_type": "code",
   "execution_count": null,
   "metadata": {},
   "outputs": [],
   "source": [
    "new_matrix = [[row[i] for row in matrix] for i in range(len(matrix[0]))]  \n",
    "print(new_matrix)  \n",
    "# [[1, 4, 7], [2, 5, 8], [3, 6, 9]]  \n",
    "\n",
    "\n",
    "\n",
    "new_matrix = [[row[i] for row in matrix] for i in range(len(matrix[0]))]  \n",
    "\n",
    "for i in range(len(matrix[0])):\n",
    "    for row in matrix:\n",
    "        row[i]"
   ]
  },
  {
   "cell_type": "code",
   "execution_count": null,
   "metadata": {},
   "outputs": [],
   "source": [
    "dayOfWeek = ('Sunday','','')"
   ]
  },
  {
   "cell_type": "code",
   "execution_count": null,
   "metadata": {},
   "outputs": [],
   "source": [
    "a, b, c = (1, 2, 3)  # 同时给 a b c 赋值 \n",
    "print(a, b, c) "
   ]
  },
  {
   "cell_type": "code",
   "execution_count": 15,
   "metadata": {},
   "outputs": [
    {
     "name": "stdout",
     "output_type": "stream",
     "text": [
      "(12, 34.56, 'abc', 'xyz')\n"
     ]
    }
   ],
   "source": [
    "tup1 = (12, 34.56);  \n",
    "tup2 = ('abc', 'xyz')  \n",
    "tup3 = tup1 + tup2;  \n",
    "print (tup3)  \n",
    "# (12, 34.56, 'abc', 'xyz')  "
   ]
  },
  {
   "cell_type": "code",
   "execution_count": null,
   "metadata": {},
   "outputs": [],
   "source": [
    "t = 1, 2, 3  \n",
    "print(t)  \n",
    "# (1, 2, 3)  \n",
    "u = t, (3, 4, 5)  \n",
    "print(u)  \n",
    "# ((1, 2, 3), (3, 4, 5))  "
   ]
  }
 ],
 "metadata": {
  "kernelspec": {
   "display_name": "Python 3",
   "language": "python",
   "name": "python3"
  },
  "language_info": {
   "codemirror_mode": {
    "name": "ipython",
    "version": 3
   },
   "file_extension": ".py",
   "mimetype": "text/x-python",
   "name": "python",
   "nbconvert_exporter": "python",
   "pygments_lexer": "ipython3",
   "version": "3.6.8"
  },
  "varInspector": {
   "cols": {
    "lenName": 16,
    "lenType": 16,
    "lenVar": 40
   },
   "kernels_config": {
    "python": {
     "delete_cmd_postfix": "",
     "delete_cmd_prefix": "del ",
     "library": "var_list.py",
     "varRefreshCmd": "print(var_dic_list())"
    },
    "r": {
     "delete_cmd_postfix": ") ",
     "delete_cmd_prefix": "rm(",
     "library": "var_list.r",
     "varRefreshCmd": "cat(var_dic_list()) "
    }
   },
   "types_to_exclude": [
    "module",
    "function",
    "builtin_function_or_method",
    "instance",
    "_Feature"
   ],
   "window_display": false
  }
 },
 "nbformat": 4,
 "nbformat_minor": 2
}
