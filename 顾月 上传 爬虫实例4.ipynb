{
 "cells": [
  {
   "cell_type": "code",
   "execution_count": 2,
   "metadata": {},
   "outputs": [
    {
     "name": "stdout",
     "output_type": "stream",
     "text": [
      "\n",
      "\n",
      "\n",
      "\n",
      "同事拈花脑袋长的像个酒葫芦。每每问及原因，他总说是遗传的原因。可他父母脑袋都挺圆的。昨天晚上喝酒，都喝多了，抬头又看到他的脑袋。借着酒劲，终于问出了实话，他说：“那是我八岁那年，正在家里玩。听到街上有娶媳妇儿吹喇叭的声音，就打开门看热闹儿。刚从两扇大铁门里伸出半个脑袋，花车都没看到。忽然门后刮来一阵风。脑袋两边跟着传来钻心的剧痛，要不是我爹赶巧到家推住门，我脑袋估计得夹成工字钢那样式的。。。。。。”[捂脸][捂脸]\n",
      "\n",
      "\n",
      "\n"
     ]
    }
   ],
   "source": [
    "\n",
    "# coding=utf-8\n",
    " \n",
    "import requests\n",
    "from bs4 import BeautifulSoup\n",
    " \n",
    "# 获取html文档\n",
    "def get_html(url):\n",
    "    \"\"\"get the content of the url\"\"\"\n",
    "    response = requests.get(url)\n",
    "    response.encoding = 'utf-8'\n",
    "    return response.text\n",
    "    \n",
    "# 获取笑话\n",
    "def get_certain_joke(html):\n",
    "    \"\"\"get the joke of the html\"\"\"\n",
    "    soup = BeautifulSoup(html, 'lxml')\n",
    "    joke_content = soup.select('div.content')[0].get_text()\n",
    " \n",
    "    return joke_content\n",
    " \n",
    "url_joke = \"https://www.qiushibaike.com\"\n",
    "html = get_html(url_joke)\n",
    "joke_content = get_certain_joke(html)\n",
    "print(joke_content)"
   ]
  },
  {
   "cell_type": "code",
   "execution_count": null,
   "metadata": {},
   "outputs": [],
   "source": []
  }
 ],
 "metadata": {
  "kernelspec": {
   "display_name": "Python 3",
   "language": "python",
   "name": "python3"
  },
  "language_info": {
   "codemirror_mode": {
    "name": "ipython",
    "version": 3
   },
   "file_extension": ".py",
   "mimetype": "text/x-python",
   "name": "python",
   "nbconvert_exporter": "python",
   "pygments_lexer": "ipython3",
   "version": "3.7.0"
  }
 },
 "nbformat": 4,
 "nbformat_minor": 2
}
