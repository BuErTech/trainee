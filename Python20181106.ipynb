{
 "cells": [
  {
   "cell_type": "code",
   "execution_count": 5,
   "metadata": {},
   "outputs": [
    {
     "name": "stdout",
     "output_type": "stream",
     "text": [
      "需要几项？5\n",
      "斐波那契数列:\n",
      "0 , 1 , 1 , 2 , 3 , \n",
      "请输入一个数字: 10\n",
      "10 不是阿姆斯特朗数\n"
     ]
    }
   ],
   "source": [
    "num=int(input(\"需要几项？\"))\n",
    "n1=0\n",
    "n2=1\n",
    "count=2\n",
    "if num<=0:\n",
    "    print(\"请输入一个整数。\")\n",
    "elif num==1:\n",
    "    print(\"斐波那契数列:\")\n",
    "    print(n1)\n",
    "elif num==2:\n",
    "    print(\"斐波那契数列:\")\n",
    "    print(n1,\",\",n2)\n",
    "else:\n",
    "    print(\"斐波那契数列:\")\n",
    "    print(n1,\",\",n2,end=\" , \")\n",
    "    while count<num:\n",
    "        sum=n1+n2\n",
    "        print(sum,end=\" , \")\n",
    "        n1=n2\n",
    "        n2=sum\n",
    "        count+=1\n",
    "print()\n",
    "#阿姆斯特朗数\n",
    "#如果一个n位正整数等于其各位数字的n次方之和, 则称该数为阿姆斯特朗数。 例如1^3 + 5^3 + 3^3 = 153。\n",
    "num = int(input(\"请输入一个数字: \"))\n",
    "sum = 0\n",
    "n = len(str(num))\n",
    "temp = num\n",
    "while temp > 0:\n",
    "    digit = temp % 10\n",
    "    sum += digit ** n\n",
    "    temp //= 10\n",
    "if num == sum:\n",
    "    print(num, \"是阿姆斯特朗数\")\n",
    "else:\n",
    "    print(num, \"不是阿姆斯特朗数\")\n",
    "\n"
   ]
  },
  {
   "cell_type": "code",
   "execution_count": null,
   "metadata": {},
   "outputs": [],
   "source": []
  }
 ],
 "metadata": {
  "kernelspec": {
   "display_name": "Python 3",
   "language": "python",
   "name": "python3"
  },
  "language_info": {
   "codemirror_mode": {
    "name": "ipython",
    "version": 3
   },
   "file_extension": ".py",
   "mimetype": "text/x-python",
   "name": "python",
   "nbconvert_exporter": "python",
   "pygments_lexer": "ipython3",
   "version": "3.7.0"
  }
 },
 "nbformat": 4,
 "nbformat_minor": 2
}
