{
 "cells": [
  {
   "cell_type": "markdown",
   "metadata": {},
   "source": [
    " **题目**：编写一个函数，输入n为偶数时，调用函数求1/2+1/4+...+1/n,当输入n为奇数时，调用函数1/1+1/3+...+1/n   \n",
    " **程序分析**：无。   \n",
    " 程序源代码："
   ]
  },
  {
   "cell_type": "code",
   "execution_count": null,
   "metadata": {},
   "outputs": [],
   "source": [
    "#!/usr/bin/python\n",
    "# -*- coding: UTF-8 -*-\n",
    " \n",
    "def peven(n):\n",
    "    i = 0\n",
    "    s = 0.0\n",
    "    for i in range(2,n + 1,2):\n",
    "        s += 1.0 / i   # Python里，整数除整数，只能得出整数，所以需要使用 浮点数 1.0\n",
    "    return s\n",
    " \n",
    "def podd(n):\n",
    "    s = 0.0\n",
    "    for i in range(1, n + 1,2):\n",
    "        s += 1.0 / i    # Python里，整数除整数，只能得出整数，所以需要使用 浮点数 1.0\n",
    "    return s\n",
    " \n",
    "def dcall(fp,n):\n",
    "    s = fp(n)\n",
    "    return s\n",
    " \n",
    "if __name__ == '__main__':\n",
    "    n = int(input('input a number:\\n'))\n",
    "    if n % 2 == 0:\n",
    "        sum = dcall(peven,n)\n",
    "    else:\n",
    "        sum = dcall(podd,n)\n",
    "    print (sum)"
   ]
  },
  {
   "cell_type": "code",
   "execution_count": null,
   "metadata": {},
   "outputs": [],
   "source": []
  }
 ],
 "metadata": {
  "kernelspec": {
   "display_name": "Python 3",
   "language": "python",
   "name": "python3"
  },
  "language_info": {
   "codemirror_mode": {
    "name": "ipython",
    "version": 3
   },
   "file_extension": ".py",
   "mimetype": "text/x-python",
   "name": "python",
   "nbconvert_exporter": "python",
   "pygments_lexer": "ipython3",
   "version": "3.7.0"
  }
 },
 "nbformat": 4,
 "nbformat_minor": 2
}
