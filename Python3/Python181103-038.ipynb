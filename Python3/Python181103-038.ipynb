{
 "cells": [
  {
   "cell_type": "markdown",
   "metadata": {},
   "source": [
    "**题目：**求一个3*3矩阵主对角线元素之和。\n",
    "\n",
    "**程序分析：**利用双重for循环控制输入二维数组，再将a[i][i]累加后输出。\n",
    "\n",
    "程序源代码："
   ]
  },
  {
   "cell_type": "code",
   "execution_count": 7,
   "metadata": {},
   "outputs": [
    {
     "name": "stdout",
     "output_type": "stream",
     "text": [
      "input num:\n",
      "11\n",
      "input num:\n",
      "22\n",
      "input num:\n",
      "33\n",
      "input num:\n",
      "44\n",
      "input num:\n",
      "55\n",
      "input num:\n",
      "66\n",
      "input num:\n",
      "77\n",
      "input num:\n",
      "88\n",
      "input num:\n",
      "99\n",
      "165.0\n"
     ]
    }
   ],
   "source": [
    "#!/usr/bin/python\n",
    "# -*- coding: UTF-8 -*-\n",
    " \n",
    "if __name__ == '__main__':\n",
    "    a = []\n",
    "    sum = 0.0\n",
    "    for i in range(3):\n",
    "        a.append([])\n",
    "        for j in range(3):\n",
    "            a[i].append(float(input(\"input num:\\n\")))\n",
    "    for i in range(3):\n",
    "        sum += a[i][i]\n",
    "    print (sum)"
   ]
  },
  {
   "cell_type": "code",
   "execution_count": null,
   "metadata": {},
   "outputs": [],
   "source": []
  }
 ],
 "metadata": {
  "kernelspec": {
   "display_name": "Python 3",
   "language": "python",
   "name": "python3"
  },
  "language_info": {
   "codemirror_mode": {
    "name": "ipython",
    "version": 3
   },
   "file_extension": ".py",
   "mimetype": "text/x-python",
   "name": "python",
   "nbconvert_exporter": "python",
   "pygments_lexer": "ipython3",
   "version": "3.7.0"
  }
 },
 "nbformat": 4,
 "nbformat_minor": 2
}
