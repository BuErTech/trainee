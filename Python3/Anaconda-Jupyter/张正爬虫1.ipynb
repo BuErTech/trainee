{
 "cells": [
  {
   "cell_type": "markdown",
   "metadata": {},
   "source": [
    "# 实现一个简单的爬虫，爬取百度贴吧图片\n",
    "- 将图片存在F:/zdl/文件下"
   ]
  },
  {
   "cell_type": "code",
   "execution_count": 23,
   "metadata": {},
   "outputs": [
    {
     "name": "stdout",
     "output_type": "stream",
     "text": [
      "正在下载第1张\n",
      "正在下载第2张\n",
      "正在下载第3张\n",
      "正在下载第4张\n",
      "正在下载第5张\n",
      "正在下载第6张\n",
      "正在下载第7张\n",
      "正在下载第8张\n",
      "正在下载第9张\n",
      "正在下载第10张\n",
      "正在下载第11张\n",
      "正在下载第12张\n",
      "正在下载第13张\n",
      "正在下载第14张\n",
      "正在下载第15张\n",
      "正在下载第16张\n",
      "正在下载第17张\n",
      "正在下载第18张\n",
      "正在下载第19张\n",
      "正在下载第20张\n",
      "正在下载第21张\n",
      "正在下载第22张\n",
      "正在下载第23张\n",
      "正在下载第24张\n",
      "正在下载第25张\n",
      "正在下载第26张\n",
      "正在下载第27张\n",
      "正在下载第28张\n",
      "正在下载第29张\n",
      "正在下载第30张\n",
      "正在下载第31张\n",
      "正在下载第32张\n",
      "正在下载第33张\n",
      "正在下载第34张\n",
      "正在下载第35张\n",
      "正在下载第36张\n",
      "正在下载第37张\n",
      "正在下载第38张\n",
      "正在下载第39张\n",
      "正在下载第40张\n",
      "正在下载第41张\n",
      "正在下载第42张\n",
      "正在下载第43张\n",
      "正在下载第44张\n",
      "正在下载第45张\n",
      "正在下载第46张\n",
      "正在下载第47张\n",
      "正在下载第48张\n",
      "正在下载第49张\n",
      "正在下载第50张\n",
      "正在下载第51张\n"
     ]
    }
   ],
   "source": [
    "#!/usr/bin/python\n",
    "# coding:utf-8\n",
    "# 实现一个简单的爬虫，爬取百度贴吧图片\n",
    "import urllib\n",
    "import re\n",
    "\n",
    "# 根据url获取网页html内容\n",
    "def getHtmlContent(url):\n",
    "    page = urllib.request.urlopen(url)\n",
    "    return page.read()\n",
    "\n",
    "# 从html中解析出所有jpg图片的url\n",
    "# 百度贴吧html中jpg图片的url格式为：<img ... src=\"XXX.jpg\" width=...>\n",
    "def getJPGs(html):\n",
    "    # 解析jpg图片url的正则\n",
    "    jpgReg = re.compile(r'<img.+?src=\"(.+?\\.jpg)\" width')  # 注：这里最后加一个'width'是为了提高匹配精确度\n",
    "    # 解析出jpg的url列表\n",
    "    html = html.decode('utf-8')\n",
    "    jpgs = re.findall(jpgReg, html)\n",
    "    return jpgs\n",
    "\n",
    "# 用图片url下载图片并保存成制定文件名\n",
    "def downloadJPG(imgUrl, fileName):\n",
    "    urllib.request.urlretrieve(imgUrl, fileName)\n",
    "\n",
    "# 批量下载图片，保存到F盘zdl文件夹\n",
    "def batchDownloadJPGs(imgUrls, path='F:/zdl/'):\n",
    "    # 用于给图片命名\n",
    "    count = 1\n",
    "    for url in imgUrls:\n",
    "        downloadJPG(url, ''.join([path, '{0}.jpg'.format(count)]))\n",
    "        print ('正在下载第'+str(count)+'张')\n",
    "        count = count + 1\n",
    "\n",
    "# 封装：从百度贴吧网页下载图片\n",
    "def download(url):\n",
    "    html = getHtmlContent(url)\n",
    "    jpgs = getJPGs(html)\n",
    "    batchDownloadJPGs(jpgs)\n",
    "\n",
    "def down():\n",
    "    url = 'http://tieba.baidu.com/p/2256306796'\n",
    "    download(url)\n",
    "\n",
    "if __name__ == '__main__':\n",
    "    down()"
   ]
  },
  {
   "cell_type": "code",
   "execution_count": null,
   "metadata": {
    "collapsed": true
   },
   "outputs": [],
   "source": []
  }
 ],
 "metadata": {
  "kernelspec": {
   "display_name": "Python 3",
   "language": "python",
   "name": "python3"
  },
  "language_info": {
   "codemirror_mode": {
    "name": "ipython",
    "version": 3
   },
   "file_extension": ".py",
   "mimetype": "text/x-python",
   "name": "python",
   "nbconvert_exporter": "python",
   "pygments_lexer": "ipython3",
   "version": "3.6.2"
  }
 },
 "nbformat": 4,
 "nbformat_minor": 2
}
