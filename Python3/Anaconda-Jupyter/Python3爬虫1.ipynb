{
 "cells": [
  {
   "cell_type": "code",
   "execution_count": 14,
   "metadata": {},
   "outputs": [
    {
     "name": "stdout",
     "output_type": "stream",
     "text": [
      "<!DOCTYPE HTML>\n",
      "<html lang=\"zh-CN\">\n",
      "<head>\n",
      "    <!-- shouji -->\n",
      "    <meta http-equiv=\"Content-Type\" content=\"text/html; charset=gbk\" />\n",
      "    <title>【华为荣耀9i】荣耀9i 4GB+64GB 魅海蓝 移动联通电信4G全面屏手机 双卡双待【行情 报价 价格 评测】-京东</title>\n",
      "    <meta name=\"keywords\" content=\"HUAWEI荣耀9i,华为荣耀9i,华为荣耀9i报价,HUAWEI荣耀9i报价\"/>\n",
      "    <meta name=\"description\" content=\"【华为荣耀9i】京东JD.COM提供华为荣耀9i正品行货，并包括HUAWEI荣耀9i网购指南，以及华为荣耀9i图片、荣耀9i参数、荣耀9i评论、荣耀9i心得、荣耀9i技巧等信息，网购华为荣耀9i上京东,放心又轻松\" />\n",
      "    <meta name=\"format-detection\" content=\"telephone=no\">\n",
      "    <meta http-equiv=\"mobile-agent\" content=\"format=xhtml; url=//item.m.jd.com/product/7479820.html\">\n",
      "    <meta http-equiv=\"mobile-agent\" content=\"format=html5; url=//item.m.jd.com/product/7479820.html\">\n",
      "    <meta http-equiv=\"X-UA-Compatible\" content=\"IE=Edge\">\n",
      "    <link rel=\"canonical\" href=\"//item.jd.com/7479820.html\"/>\n",
      "        <link rel=\"dns-prefetch\" href=\"//misc.360buyimg.com\"/>\n",
      "    <link rel=\"dns-prefetch\" href=\"//static.360buyimg.com\"/>\n",
      "    <link rel=\"dns-prefetch\" href=\"//img10.360buyimg\n"
     ]
    }
   ],
   "source": [
    "import requests\n",
    "url =\"https://item.jd.com/7479820.html\"\n",
    "try:\n",
    "    r = requests.get(url)\n",
    "    r.raise_for_status()\n",
    "    r.encoding = r.apparent_encoding\n",
    "    print (r.text[:1000])\n",
    "except:\n",
    "    print (\"爬取失败\")\n"
   ]
  },
  {
   "cell_type": "code",
   "execution_count": null,
   "metadata": {},
   "outputs": [],
   "source": []
  },
  {
   "cell_type": "code",
   "execution_count": null,
   "metadata": {},
   "outputs": [],
   "source": []
  },
  {
   "cell_type": "code",
   "execution_count": null,
   "metadata": {},
   "outputs": [],
   "source": []
  },
  {
   "cell_type": "code",
   "execution_count": null,
   "metadata": {},
   "outputs": [],
   "source": []
  },
  {
   "cell_type": "code",
   "execution_count": null,
   "metadata": {},
   "outputs": [],
   "source": []
  }
 ],
 "metadata": {
  "kernelspec": {
   "display_name": "Python 3",
   "language": "python",
   "name": "python3"
  },
  "language_info": {
   "codemirror_mode": {
    "name": "ipython",
    "version": 3
   },
   "file_extension": ".py",
   "mimetype": "text/x-python",
   "name": "python",
   "nbconvert_exporter": "python",
   "pygments_lexer": "ipython3",
   "version": "3.7.0"
  }
 },
 "nbformat": 4,
 "nbformat_minor": 2
}
