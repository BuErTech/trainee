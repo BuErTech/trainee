{
 "cells": [
  {
   "cell_type": "code",
   "execution_count": 4,
   "metadata": {},
   "outputs": [
    {
     "name": "stdout",
     "output_type": "stream",
     "text": [
      "\n",
      "\n",
      "\n",
      "\n",
      "记得我之前上初中的时候，一个暗恋我的小姑娘跟我表白被我拒绝了，当时我身高180cm.而她只有150cm多一点吧。我跟她说我180的个子，找女朋友要找165以上的才好。那姑娘嘟着小嘴快哭的问我你为什么会那么高。我于心不忍，就忽悠她说我是我从小喝牛奶的原因。结果那妹子挺乐呵的说那等我到了165cm再来找我。一年后。“现在我可以做你女朋友了吧”看着她那将近170的个头。我心中不停的问自己到底是哪个牌子的牛奶! ! !\n",
      "\n",
      "\n",
      "\n"
     ]
    }
   ],
   "source": [
    "# coding=utf-8\n",
    " \n",
    "import requests\n",
    "from bs4 import BeautifulSoup\n",
    " \n",
    "# 获取html文档\n",
    "def get_html(url):\n",
    "    \"\"\"get the content of the url\"\"\"\n",
    "    response = requests.get(url)\n",
    "    response.encoding = 'utf-8'\n",
    "    return response.text\n",
    "    \n",
    "# 获取笑话\n",
    "def get_certain_joke(html):\n",
    "    \"\"\"get the joke of the html\"\"\"\n",
    "    soup = BeautifulSoup(html, 'lxml')\n",
    "    joke_content = soup.select('div.content')[0].get_text()\n",
    " \n",
    "    return joke_content\n",
    " \n",
    "url_joke = \"https://www.qiushibaike.com\"\n",
    "html = get_html(url_joke)\n",
    "joke_content = get_certain_joke(html)\n",
    "print (joke_content)"
   ]
  },
  {
   "cell_type": "code",
   "execution_count": null,
   "metadata": {},
   "outputs": [],
   "source": []
  },
  {
   "cell_type": "code",
   "execution_count": null,
   "metadata": {},
   "outputs": [],
   "source": []
  },
  {
   "cell_type": "code",
   "execution_count": null,
   "metadata": {},
   "outputs": [],
   "source": []
  }
 ],
 "metadata": {
  "kernelspec": {
   "display_name": "Python 3",
   "language": "python",
   "name": "python3"
  },
  "language_info": {
   "codemirror_mode": {
    "name": "ipython",
    "version": 3
   },
   "file_extension": ".py",
   "mimetype": "text/x-python",
   "name": "python",
   "nbconvert_exporter": "python",
   "pygments_lexer": "ipython3",
   "version": "3.7.0"
  }
 },
 "nbformat": 4,
 "nbformat_minor": 2
}
