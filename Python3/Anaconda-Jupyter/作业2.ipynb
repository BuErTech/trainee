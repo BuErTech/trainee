{
 "cells": [
  {
   "cell_type": "code",
   "execution_count": 6,
   "metadata": {
    "scrolled": true
   },
   "outputs": [
    {
     "name": "stdout",
     "output_type": "stream",
     "text": [
      "正在抓取第1首歌曲热评...\n",
      "第1首歌曲热评抓取成功\n",
      "正在抓取第2首歌曲热评...\n"
     ]
    },
    {
     "ename": "UnicodeEncodeError",
     "evalue": "'gbk' codec can't encode character '\\u200b' in position 63: illegal multibyte sequence",
     "output_type": "error",
     "traceback": [
      "\u001b[1;31m---------------------------------------------------------------------------\u001b[0m",
      "\u001b[1;31mUnicodeEncodeError\u001b[0m                        Traceback (most recent call last)",
      "\u001b[1;32m<ipython-input-6-6c459b400679>\u001b[0m in \u001b[0;36m<module>\u001b[1;34m()\u001b[0m\n\u001b[0;32m     61\u001b[0m \u001b[1;32mwhile\u001b[0m \u001b[0mnum\u001b[0m \u001b[1;33m<\u001b[0m \u001b[0mlen\u001b[0m\u001b[1;33m(\u001b[0m\u001b[0mhot_song_name\u001b[0m\u001b[1;33m)\u001b[0m\u001b[1;33m:\u001b[0m    \u001b[1;31m#保存所有热歌榜中的热评\u001b[0m\u001b[1;33m\u001b[0m\u001b[0m\n\u001b[0;32m     62\u001b[0m     \u001b[0mprint\u001b[0m\u001b[1;33m(\u001b[0m\u001b[1;34m'正在抓取第%d首歌曲热评...'\u001b[0m\u001b[1;33m%\u001b[0m\u001b[1;33m(\u001b[0m\u001b[0mnum\u001b[0m\u001b[1;33m+\u001b[0m\u001b[1;36m1\u001b[0m\u001b[1;33m)\u001b[0m\u001b[1;33m)\u001b[0m\u001b[1;33m\u001b[0m\u001b[0m\n\u001b[1;32m---> 63\u001b[1;33m     \u001b[0mget_hotComments\u001b[0m\u001b[1;33m(\u001b[0m\u001b[0mhot_song_name\u001b[0m\u001b[1;33m[\u001b[0m\u001b[0mnum\u001b[0m\u001b[1;33m]\u001b[0m\u001b[1;33m,\u001b[0m\u001b[0mhot_song_id\u001b[0m\u001b[1;33m[\u001b[0m\u001b[0mnum\u001b[0m\u001b[1;33m]\u001b[0m\u001b[1;33m)\u001b[0m\u001b[1;33m\u001b[0m\u001b[0m\n\u001b[0m\u001b[0;32m     64\u001b[0m     \u001b[0mprint\u001b[0m\u001b[1;33m(\u001b[0m\u001b[1;34m'第%d首歌曲热评抓取成功'\u001b[0m\u001b[1;33m%\u001b[0m\u001b[1;33m(\u001b[0m\u001b[0mnum\u001b[0m\u001b[1;33m+\u001b[0m\u001b[1;36m1\u001b[0m\u001b[1;33m)\u001b[0m\u001b[1;33m)\u001b[0m\u001b[1;33m\u001b[0m\u001b[0m\n\u001b[0;32m     65\u001b[0m     \u001b[0mnum\u001b[0m\u001b[1;33m+=\u001b[0m\u001b[1;36m1\u001b[0m\u001b[1;33m\u001b[0m\u001b[0m\n",
      "\u001b[1;32m<ipython-input-6-6c459b400679>\u001b[0m in \u001b[0;36mget_hotComments\u001b[1;34m(hot_song_name, hot_song_id)\u001b[0m\n\u001b[0;32m     49\u001b[0m     \u001b[1;32mfor\u001b[0m \u001b[0mitem\u001b[0m \u001b[1;32min\u001b[0m \u001b[0mhot_commit\u001b[0m\u001b[1;33m:\u001b[0m\u001b[1;33m\u001b[0m\u001b[0m\n\u001b[0;32m     50\u001b[0m         \u001b[0mnum\u001b[0m\u001b[1;33m+=\u001b[0m\u001b[1;36m1\u001b[0m\u001b[1;33m\u001b[0m\u001b[0m\n\u001b[1;32m---> 51\u001b[1;33m         \u001b[0mfhandle\u001b[0m\u001b[1;33m.\u001b[0m\u001b[0mwrite\u001b[0m\u001b[1;33m(\u001b[0m\u001b[0mstr\u001b[0m\u001b[1;33m(\u001b[0m\u001b[0mnum\u001b[0m\u001b[1;33m)\u001b[0m\u001b[1;33m+\u001b[0m\u001b[1;34m'.'\u001b[0m\u001b[1;33m+\u001b[0m\u001b[0mitem\u001b[0m\u001b[1;33m[\u001b[0m\u001b[1;34m'content'\u001b[0m\u001b[1;33m]\u001b[0m\u001b[1;33m+\u001b[0m\u001b[1;34m'\\n'\u001b[0m\u001b[1;33m)\u001b[0m\u001b[1;33m\u001b[0m\u001b[0m\n\u001b[0m\u001b[0;32m     52\u001b[0m     \u001b[0mfhandle\u001b[0m\u001b[1;33m.\u001b[0m\u001b[0mwrite\u001b[0m\u001b[1;33m(\u001b[0m\u001b[1;34m'\\n==============================================\\n\\n'\u001b[0m\u001b[1;33m)\u001b[0m\u001b[1;33m\u001b[0m\u001b[0m\n\u001b[0;32m     53\u001b[0m     \u001b[0mfhandle\u001b[0m\u001b[1;33m.\u001b[0m\u001b[0mclose\u001b[0m\u001b[1;33m(\u001b[0m\u001b[1;33m)\u001b[0m\u001b[1;33m\u001b[0m\u001b[0m\n",
      "\u001b[1;31mUnicodeEncodeError\u001b[0m: 'gbk' codec can't encode character '\\u200b' in position 63: illegal multibyte sequence"
     ]
    }
   ],
   "source": [
    "#!/usr/bin/env python3\n",
    "# -*- coding: utf-8 -*-\n",
    "\n",
    "import re\n",
    "import urllib.request\n",
    "import urllib.error\n",
    "import urllib.parse\n",
    "import json\n",
    "\n",
    "\n",
    "\n",
    "def get_all_hotSong():     #获取热歌榜所有歌曲名称和id\n",
    "    url='http://music.163.com/discover/toplist?id=3778678'    #网易云云音乐热歌榜url\n",
    "    header={    #请求头部\n",
    "        'User-Agent':'Mozilla/5.0 (X11; Fedora; Linux x86_64) AppleWebKit/537.36 (KHTML, like Gecko) Chrome/58.0.3029.110 Safari/537.36'\n",
    "    }\n",
    "    request=urllib.request.Request(url=url, headers=header)\n",
    "    html=urllib.request.urlopen(request).read().decode('utf8','ignore')   #打开url\n",
    "    html=str(html)     #转换成str\n",
    "    pat1=r'<ul class=\"f-hide\"><li><a href=\"/song\\?id=\\d*?\">.*</a></li></ul>'  #进行第一次筛选的正则表达式\n",
    "    result=re.compile(pat1).findall(html)     #用正则表达式进行筛选\n",
    "    result=result[0]     #获取tuple的第一个元素\n",
    "\n",
    "    pat2=r'<li><a href=\"/song\\?id=\\d*?\">(.*?)</a></li>' #进行歌名筛选的正则表达式\n",
    "    pat3=r'<li><a href=\"/song\\?id=(\\d*?)\">.*?</a></li>'  #进行歌ID筛选的正则表达式\n",
    "    hot_song_name=re.compile(pat2).findall(result)    #获取所有热门歌曲名称\n",
    "    hot_song_id=re.compile(pat3).findall(result)    #获取所有热门歌曲对应的Id\n",
    "\n",
    "    return hot_song_name,hot_song_id\n",
    "\n",
    "def get_hotComments(hot_song_name,hot_song_id):\n",
    "    url='http://music.163.com/weapi/v1/resource/comments/R_SO_4_' + hot_song_id + '?csrf_token='   #歌评url\n",
    "    header={    #请求头部\n",
    "   'User-Agent':'Mozilla/5.0 (X11; Fedora; Linux x86_64) AppleWebKit/537.36 (KHTML, like Gecko) Chrome/58.0.3029.110 Safari/537.36'\n",
    "}\n",
    "    #post请求表单数据\n",
    "    data={'params':'zC7fzWBKxxsm6TZ3PiRjd056g9iGHtbtc8vjTpBXshKIboaPnUyAXKze+KNi9QiEz/IieyRnZfNztp7yvTFyBXOlVQP/JdYNZw2+GRQDg7grOR2ZjroqoOU2z0TNhy+qDHKSV8ZXOnxUF93w3DA51ADDQHB0IngL+v6N8KthdVZeZBe0d3EsUFS8ZJltNRUJ','encSecKey':'4801507e42c326dfc6b50539395a4fe417594f7cf122cf3d061d1447372ba3aa804541a8ae3b3811c081eb0f2b71827850af59af411a10a1795f7a16a5189d163bc9f67b3d1907f5e6fac652f7ef66e5a1f12d6949be851fcf4f39a0c2379580a040dc53b306d5c807bf313cc0e8f39bf7d35de691c497cda1d436b808549acc'}\n",
    "    postdata=urllib.parse.urlencode(data).encode('utf8')  #进行编码\n",
    "    request=urllib.request.Request(url,headers=header,data=postdata)\n",
    "    reponse=urllib.request.urlopen(request).read().decode('utf8','ignore')\n",
    "    json_dict=json.loads(reponse)   #获取json\n",
    "    hot_commit=json_dict['hotComments']  #获取json中的热门评论\n",
    "\n",
    "\n",
    "    num=0\n",
    "    fhandle=open('./song_comments','a')  #写入文件\n",
    "    fhandle.write(hot_song_name+':'+'\\n')\n",
    "\n",
    "    for item in hot_commit:\n",
    "        num+=1\n",
    "        fhandle.write(str(num)+'.'+item['content']+'\\n')\n",
    "    fhandle.write('\\n==============================================\\n\\n')\n",
    "    fhandle.close()\n",
    "\n",
    "\n",
    "\n",
    "\n",
    "hot_song_name,hot_song_id=get_all_hotSong()  #获取热歌榜所有歌曲名称和id\n",
    "\n",
    "num=0\n",
    "while num < len(hot_song_name):    #保存所有热歌榜中的热评\n",
    "    print('正在抓取第%d首歌曲热评...'%(num+1))\n",
    "    get_hotComments(hot_song_name[num],hot_song_id[num])\n",
    "    print('第%d首歌曲热评抓取成功'%(num+1))\n",
    "    num+=1\n"
   ]
  },
  {
   "cell_type": "code",
   "execution_count": null,
   "metadata": {},
   "outputs": [],
   "source": []
  }
 ],
 "metadata": {
  "kernelspec": {
   "display_name": "Python 3",
   "language": "python",
   "name": "python3"
  },
  "language_info": {
   "codemirror_mode": {
    "name": "ipython",
    "version": 3
   },
   "file_extension": ".py",
   "mimetype": "text/x-python",
   "name": "python",
   "nbconvert_exporter": "python",
   "pygments_lexer": "ipython3",
   "version": "3.6.4"
  }
 },
 "nbformat": 4,
 "nbformat_minor": 2
}
