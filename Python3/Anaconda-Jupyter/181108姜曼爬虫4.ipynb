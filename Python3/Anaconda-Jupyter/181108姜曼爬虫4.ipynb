{
 "cells": [
  {
   "cell_type": "code",
   "execution_count": 5,
   "metadata": {},
   "outputs": [
    {
     "name": "stdout",
     "output_type": "stream",
     "text": [
      "\n",
      "\n",
      "\n",
      "\n",
      "一回到家就看到媳妇儿板着个脸:“说吧，你上次说出差半个月究竟是咋回事？”我悬着的心终于放下了笑着说:\"就是给老板娘开车去云南自驾游去了，你也知道我的技术可是一流的。”“别给我说没用的，抓重点。”“有什么重点？\"“你和老板的小姨子咋回事？你老板娘可都告诉我闺蜜了。\"“你想多了，老板娘的妹妹可是跆拳道黑带6段高手，我就是有那个贼心也没那个贼胆啊。”“什么黑带6段7段的，衣服脱了都白带一段。”说完媳妇儿自己都笑了\n",
      "\n",
      "\n",
      "\n"
     ]
    }
   ],
   "source": [
    "\n",
    "# coding=utf-8\n",
    " \n",
    "import requests\n",
    "from bs4 import BeautifulSoup\n",
    " \n",
    "# 获取html文档\n",
    "def get_html(url):\n",
    "    \"\"\"get the content of the url\"\"\"\n",
    "    response = requests.get(url)\n",
    "    response.encoding = 'utf-8'\n",
    "    return response.text\n",
    "    \n",
    "# 获取笑话\n",
    "def get_certain_joke(html):\n",
    "    \"\"\"get the joke of the html\"\"\"\n",
    "    soup = BeautifulSoup(html, 'lxml')\n",
    "    joke_content = soup.select('div.content')[0].get_text()\n",
    " \n",
    "    return joke_content\n",
    " \n",
    "url_joke = \"https://www.qiushibaike.com\"\n",
    "html = get_html(url_joke)\n",
    "joke_content = get_certain_joke(html)\n",
    "print (joke_content)\n"
   ]
  },
  {
   "cell_type": "code",
   "execution_count": null,
   "metadata": {},
   "outputs": [],
   "source": []
  }
 ],
 "metadata": {
  "kernelspec": {
   "display_name": "Python 3",
   "language": "python",
   "name": "python3"
  },
  "language_info": {
   "codemirror_mode": {
    "name": "ipython",
    "version": 3
   },
   "file_extension": ".py",
   "mimetype": "text/x-python",
   "name": "python",
   "nbconvert_exporter": "python",
   "pygments_lexer": "ipython3",
   "version": "3.7.0"
  }
 },
 "nbformat": 4,
 "nbformat_minor": 2
}
