{
 "cells": [
  {
   "cell_type": "markdown",
   "metadata": {},
   "source": [
    "## 题目：创建一个链表。\n",
    "\n",
    "## 程序分析：无。\n",
    "### 程序"
   ]
  },
  {
   "cell_type": "code",
   "execution_count": 13,
   "metadata": {},
   "outputs": [
    {
     "name": "stdout",
     "output_type": "stream",
     "text": [
      "please input a number:\n",
      "2\n",
      "please input a number:\n",
      "3\n",
      "please input a number:\n",
      "5\n",
      "please input a number:\n",
      "7\n",
      "please input a number:\n",
      "8\n",
      "[2, 3, 5, 7, 8]\n"
     ]
    }
   ],
   "source": [
    "#!/usr/bin/python\n",
    "# -*- coding: UTF-8 -*-\n",
    " \n",
    "if __name__ == '__main__':\n",
    "    ptr = []\n",
    "    for i in range(5):\n",
    "        num = int(input('please input a number:\\n'))\n",
    "        ptr.append(num)\n",
    "    print (ptr)"
   ]
  },
  {
   "cell_type": "code",
   "execution_count": null,
   "metadata": {},
   "outputs": [],
   "source": []
  }
 ],
 "metadata": {
  "kernelspec": {
   "display_name": "Python 3",
   "language": "python",
   "name": "python3"
  },
  "language_info": {
   "codemirror_mode": {
    "name": "ipython",
    "version": 3
   },
   "file_extension": ".py",
   "mimetype": "text/x-python",
   "name": "python",
   "nbconvert_exporter": "python",
   "pygments_lexer": "ipython3",
   "version": "3.7.0"
  }
 },
 "nbformat": 4,
 "nbformat_minor": 2
}
