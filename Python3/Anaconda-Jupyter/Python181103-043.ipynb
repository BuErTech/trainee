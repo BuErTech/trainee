{
 "cells": [
  {
   "cell_type": "markdown",
   "metadata": {},
   "source": [
    "**题目**：模仿静态变量(static)另一案例。\n",
    "\n",
    "**程序分析**：演示一个python作用域使用方法\n",
    "\n",
    "程序源代码："
   ]
  },
  {
   "cell_type": "code",
   "execution_count": 7,
   "metadata": {},
   "outputs": [
    {
     "name": "stdout",
     "output_type": "stream",
     "text": [
      "The num = 3\n",
      "nNum = 2\n",
      "The num = 4\n",
      "nNum = 3\n",
      "The num = 5\n",
      "nNum = 4\n"
     ]
    }
   ],
   "source": [
    "#!/usr/bin/python\n",
    "# -*- coding: UTF-8 -*-\n",
    "\n",
    "class Num:\n",
    "    nNum = 1\n",
    "    def inc(self):\n",
    "        self.nNum += 1\n",
    "        print ('nNum = %d' % self.nNum)\n",
    "\n",
    "if __name__ == '__main__':\n",
    "    nNum = 2\n",
    "    inst = Num()\n",
    "    for i in range(3):\n",
    "        nNum += 1\n",
    "        print ('The num = %d' % nNum)\n",
    "        inst.inc()"
   ]
  },
  {
   "cell_type": "code",
   "execution_count": null,
   "metadata": {},
   "outputs": [],
   "source": []
  }
 ],
 "metadata": {
  "kernelspec": {
   "display_name": "Python 3",
   "language": "python",
   "name": "python3"
  },
  "language_info": {
   "codemirror_mode": {
    "name": "ipython",
    "version": 3
   },
   "file_extension": ".py",
   "mimetype": "text/x-python",
   "name": "python",
   "nbconvert_exporter": "python",
   "pygments_lexer": "ipython3",
   "version": "3.7.0"
  }
 },
 "nbformat": 4,
 "nbformat_minor": 2
}
