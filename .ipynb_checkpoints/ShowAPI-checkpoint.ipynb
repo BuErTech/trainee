{
 "cells": [
  {
   "cell_type": "code",
   "execution_count": 1,
   "metadata": {},
   "outputs": [],
   "source": [
    "import requests\n",
    "from urllib import parse\n",
    "#全局请求头\n",
    "files = {}\n",
    "headers = {}\n",
    "body = {}\n",
    "timeouts = {}\n",
    "resHeader = {}\n",
    "\n",
    "class ShowapiRequest:\n",
    "    def __init__(self, url, my_appId, my_appSecret):\n",
    "        self.url = url\n",
    "        self.my_appId = my_appId\n",
    "        self.my_appSecret = my_appSecret\n",
    "        body[\"showapi_appid\"] = my_appId\n",
    "        body[\"showapi_sign\"] = my_appSecret\n",
    "        headers[\"User-Agent\"] = \"Mozilla/5.0 (Windows NT 6.1; WOW64) AppleWebKit/537.36 (KHTML, like Gecko) Chrome/45.0.2427.7 Safari/537.36\"\n",
    "\n",
    "    def addFilePara(self, key, value_url):\n",
    "        files[key] = open(r\"%s\" % (value_url), 'rb')\n",
    "        return self\n",
    "\n",
    "    def addHeadPara(self, key, value):\n",
    "        headers[key] = value\n",
    "        return self\n",
    "\n",
    "    def addBodyPara(self, key, value):\n",
    "        body[key] = value\n",
    "        return self\n",
    "    #设置连接时间和读取时间\n",
    "    def setTimeout(self, connecttimout, readtimeout):\n",
    "        timeouts[\"connecttimout\"] = connecttimout\n",
    "        timeouts[\"readtimeout\"] = readtimeout\n",
    "        return self\n",
    "\n",
    "\n",
    "    def get(self):\n",
    "        get_url = self.url + \"?\" + parse.urlencode(body)\n",
    "        if not timeouts:\n",
    "            res = requests.get(get_url, headers=headers)\n",
    "        else:\n",
    "            timeout = (timeouts[\"connecttimout\"], timeouts[\"readtimeout\"])\n",
    "            res = requests.get(get_url, headers=headers, timeout=timeouts)\n",
    "        return res\n",
    "\n",
    "    def post(self):\n",
    "        if not timeouts:\n",
    "            res = requests.post(self.url, files=files, data=body, headers=headers)\n",
    "        else:\n",
    "            timeout = (timeouts[\"connecttimout\"], timeouts[\"readtimeout\"])\n",
    "            res = requests.post(self.url, files=files, data=body, headers=headers, timeout=timeout)\n",
    "        return res\n",
    "\n",
    "\n",
    "\n"
   ]
  },
  {
   "cell_type": "code",
   "execution_count": null,
   "metadata": {},
   "outputs": [],
   "source": [
    "# python3.6.5\n",
    "# 需要引入requests包 ：运行终端->进入python/Scripts ->输入：pip install requests\n",
    "from ShowapiRequest import ShowapiRequest\n",
    "\n",
    "r = ShowapiRequest(\"http://route.showapi.com/119-42\",\"115059\",\"86a9ac568d4e4d2ab6d9253f7b858cd3\" )\n",
    "r.addBodyPara(\"date\", \"0705\")\n",
    "res = r.post()\n",
    "print(res.text) # 返回信息"
   ]
  }
 ],
 "metadata": {
  "kernelspec": {
   "display_name": "Python 3",
   "language": "python",
   "name": "python3"
  },
  "language_info": {
   "codemirror_mode": {
    "name": "ipython",
    "version": 3
   },
   "file_extension": ".py",
   "mimetype": "text/x-python",
   "name": "python",
   "nbconvert_exporter": "python",
   "pygments_lexer": "ipython3",
   "version": "3.6.8"
  },
  "varInspector": {
   "cols": {
    "lenName": 16,
    "lenType": 16,
    "lenVar": 40
   },
   "kernels_config": {
    "python": {
     "delete_cmd_postfix": "",
     "delete_cmd_prefix": "del ",
     "library": "var_list.py",
     "varRefreshCmd": "print(var_dic_list())"
    },
    "r": {
     "delete_cmd_postfix": ") ",
     "delete_cmd_prefix": "rm(",
     "library": "var_list.r",
     "varRefreshCmd": "cat(var_dic_list()) "
    }
   },
   "types_to_exclude": [
    "module",
    "function",
    "builtin_function_or_method",
    "instance",
    "_Feature"
   ],
   "window_display": false
  }
 },
 "nbformat": 4,
 "nbformat_minor": 2
}
