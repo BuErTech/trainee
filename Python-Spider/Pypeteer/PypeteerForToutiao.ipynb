{
 "cells": [
  {
   "cell_type": "markdown",
   "metadata": {},
   "source": [
    "# Pyppeteer 用来抓取头条的收藏\n",
    "\n",
    "\n",
    "> 文章地址： https://www.toutiao.com/i6802921787945386510/"
   ]
  },
  {
   "cell_type": "code",
   "execution_count": null,
   "metadata": {},
   "outputs": [],
   "source": [
    "# 安装 pyppeteer\n",
    "!source /Users/lw/anaconda3/bin/activate\n",
    "!python3 -V"
   ]
  },
  {
   "cell_type": "code",
   "execution_count": null,
   "metadata": {},
   "outputs": [],
   "source": [
    "# pip install -i https://pypi.douban.com/simple <需要安装的包>\n",
    "# 比如：\n",
    "# pip install -i https://pypi.douban.com/simple requests\n",
    "!python3 -m pip install -i https://pypi.douban.com/simple pyppeteer"
   ]
  },
  {
   "cell_type": "code",
   "execution_count": null,
   "metadata": {},
   "outputs": [],
   "source": [
    "!python3 -m pip install -i https://pypi.douban.com/simple nest_asyncio"
   ]
  },
  {
   "cell_type": "markdown",
   "metadata": {},
   "source": [
    "## 官网和介绍\n",
    "\n",
    "### 1. 官网\n",
    "\n",
    "https://github.com/miyakogi/pyppeteer\n",
    "\n",
    "### 2. 官方介绍\n",
    "\n",
    "Unofficial Python port of puppeteer JavaScript (headless) chrome/chromium browser automation library.\n",
    "\n",
    "Free software: MIT license (including the work distributed under the Apache 2.0 license)\n",
    "Documentation: https://miyakogi.github.io/pyppeteer\n",
    "\n",
    "-- \n",
    "\n",
    "puppeteer JavaScript（无头）chrome / chrome浏览器自动化库的非官方Python实现。\n",
    "\n",
    "免费软件：MIT许可证（包括根据Apache 2.0许可证分发的工作）\n",
    "文档：https://miyakogi.github.io/pyppeteer\n",
    "\n",
    "## 安装与使用\n",
    "\n",
    "### 1).极简安装\n",
    "\n",
    "\n",
    "使用pip install pyppeteer命令就能完成pyppeteer库的安装，至于chromium浏览器，只需要一条pyppeteer-install命令就会自动下载对应的最新版本chromium浏览器到pyppeteer的默认位置。\n",
    "\n",
    "![](https://tva1.sinaimg.cn/large/00831rSTly1gd08prkhobj30cn01omxp.jpg)\n",
    "\n",
    "如果不运行pyppeteer-install命令，在第一次使用pyppeteer的时候也会自动下载并安装chromium浏览器，效果是一样的。总的来说，pyppeteer比起selenium省去了driver配置的环节。\n",
    "\n",
    "![](https://tva1.sinaimg.cn/large/00831rSTly1gd0a564jc0j30r401wmyk.jpg)\n",
    "\n",
    "当然，出于某种原因，也可能会出现chromium自动安装无法顺利完成的情况，这时可以考虑手动安装：首先，从下列网址中找到自己系统的对应版本，下载chromium压缩包；\n",
    "\n",
    "\n",
    "然后，将压缩包放到pyppeteer的指定目录下解压缩，windows系统的默认目录。其他系统下的默认目录可以参照下面这幅图：\n",
    "\n",
    "![](https://tva1.sinaimg.cn/large/00831rSTly1gd08ovkkywj31fq08yqbk.jpg)\n",
    "\n",
    "### 2).使用\n",
    "\n",
    "安装完后就来试试效果。一起来看下面这段代码，在main函数中，先是建立一个浏览器对象，然后打开新的标签页，访问百度主页，对当前页面截图并保存为“example.png”，最后关闭浏览器。前文也提到过，pyppeteer是基于asyncio构建的，所以在使用的时候需要用到async/await结构"
   ]
  },
  {
   "cell_type": "markdown",
   "metadata": {},
   "source": [
    "## 示例 1，打开页面并保存截图"
   ]
  },
  {
   "cell_type": "code",
   "execution_count": null,
   "metadata": {},
   "outputs": [],
   "source": [
    "import nest_asyncio\n",
    "nest_asyncio.apply()\n",
    "import asyncio\n",
    "from pyppeteer import launch\n",
    "\n",
    "async def main():\n",
    "    browser = await launch()\n",
    "    page = await browser.newPage()\n",
    "    await page.goto('http://example.com')\n",
    "    await page.screenshot({'path': 'example.png'})\n",
    "    await browser.close()\n",
    "\n",
    "asyncio.get_event_loop().run_until_complete(main())"
   ]
  },
  {
   "cell_type": "markdown",
   "metadata": {},
   "source": [
    "> FAQ:\n",
    "    \n",
    "    1. RuntimeError: This event loop is already running\n",
    "    \n",
    "        I got the issue resolved by using the nest_async\n",
    "\n",
    "        ```\n",
    "        pip install nest_asyncio\n",
    "        ```\n",
    "\n",
    "        and adding below lines in my file.\n",
    "\n",
    "        ```\n",
    "        import nest_asyncio\n",
    "        nest_asyncio.apply()\n",
    "        ```\n",
    "        \n",
    "     2. PermissionError: [Errno 13] Permission denied:\n",
    "     \n",
    "        指定到最终的执行的 exe 或者 Mac 上的文件"
   ]
  },
  {
   "cell_type": "code",
   "execution_count": null,
   "metadata": {},
   "outputs": [],
   "source": [
    "import nest_asyncio\n",
    "nest_asyncio.apply()\n",
    "import asyncio\n",
    "import pyppeteer\n",
    "from pyppeteer import launch\n",
    "\n",
    "async def main():\n",
    "    # browser = await launch()\n",
    "    browser = await pyppeteer.launch({\n",
    "        'headless': False, # 关闭无头模式\n",
    "        'devtools': True, # 打开 chromium 的 devtools\n",
    "        # 'executablePath': '你下载的Chromium.app/Contents/MacOS/Chromiu',\n",
    "        'executablePath': '/Users/lw/Library/Application Support/pyppeteer/local-chromium/575458/chrome-mac/Chromium.app/Contents/MacOS/Chromium',\n",
    "        'args': [ \n",
    "            '--disable-extensions',\n",
    "            '--hide-scrollbars',\n",
    "            '--disable-bundled-ppapi-flash',\n",
    "            '--mute-audio',\n",
    "            '--no-sandbox',\n",
    "            '--disable-setuid-sandbox',\n",
    "            '--disable-gpu',\n",
    "        ],\n",
    "        'dumpio': True,  \n",
    "    })\n",
    "\n",
    "    page = await browser.newPage()\n",
    "    await page.goto('https://www.baidu.com')\n",
    "    await page.screenshot({'path': 'baidu.png'})\n",
    "    await browser.close()\n",
    "\n",
    "asyncio.get_event_loop().run_until_complete(main())"
   ]
  },
  {
   "cell_type": "code",
   "execution_count": null,
   "metadata": {},
   "outputs": [],
   "source": []
  }
 ],
 "metadata": {
  "kernelspec": {
   "display_name": "Python 3",
   "language": "python",
   "name": "python3"
  },
  "language_info": {
   "codemirror_mode": {
    "name": "ipython",
    "version": 3
   },
   "file_extension": ".py",
   "mimetype": "text/x-python",
   "name": "python",
   "nbconvert_exporter": "python",
   "pygments_lexer": "ipython3",
   "version": "3.6.8"
  },
  "varInspector": {
   "cols": {
    "lenName": 16,
    "lenType": 16,
    "lenVar": 40
   },
   "kernels_config": {
    "python": {
     "delete_cmd_postfix": "",
     "delete_cmd_prefix": "del ",
     "library": "var_list.py",
     "varRefreshCmd": "print(var_dic_list())"
    },
    "r": {
     "delete_cmd_postfix": ") ",
     "delete_cmd_prefix": "rm(",
     "library": "var_list.r",
     "varRefreshCmd": "cat(var_dic_list()) "
    }
   },
   "types_to_exclude": [
    "module",
    "function",
    "builtin_function_or_method",
    "instance",
    "_Feature"
   ],
   "window_display": false
  }
 },
 "nbformat": 4,
 "nbformat_minor": 2
}
