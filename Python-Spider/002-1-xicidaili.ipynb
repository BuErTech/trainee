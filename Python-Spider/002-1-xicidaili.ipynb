{
 "cells": [
  {
   "cell_type": "code",
   "execution_count": 1,
   "metadata": {},
   "outputs": [],
   "source": [
    "import json\n",
    "import requests\n",
    "import time\n",
    "from bs4 import BeautifulSoup as Soup\n",
    "import threading"
   ]
  },
  {
   "cell_type": "code",
   "execution_count": 2,
   "metadata": {},
   "outputs": [],
   "source": [
    "header = {'User-Agent': 'Mozilla/5.0 (Windows NT 10.0; Win64; x64) '\n",
    "                        'AppleWebKit/537.36 (KHTML, like Gecko) '\n",
    "                        'Chrome/64.0.3282.186 Safari/537.36'}\n",
    "\n",
    "\n",
    "def dict2proxy(dic):\n",
    "    s = dic['type'] + '://' + dic['ip'] + ':' + str(dic['port'])\n",
    "    return {'http': s, 'https': s}\n"
   ]
  },
  {
   "cell_type": "code",
   "execution_count": 3,
   "metadata": {},
   "outputs": [],
   "source": [
    "def parse_items(items):\n",
    "    # 存放ip信息字典的列表\n",
    "    ips = []\n",
    "    for item in items:\n",
    "        tds = item.find_all('td')\n",
    "        # 从对应位置获取ip，端口，类型\n",
    "        ip, port, _type = tds[1].text, int(tds[2].text), tds[5].text.lower()\n",
    "        ips.append({'ip': ip, 'port': port, 'type': _type})\n",
    "\n",
    "    return ips\n",
    "\n",
    "\n",
    "def check_ip(ip, good_proxies):\n",
    "    try:\n",
    "        pro = dict2proxy(ip)\n",
    "        # print(pro)\n",
    "        url = 'https://www.ipip.net/'\n",
    "        r = requests.get(url, headers=header, proxies=pro, timeout=5)\n",
    "        r.raise_for_status()\n",
    "        print(r.status_code, ip['ip'])\n",
    "    except Exception as e:\n",
    "        # print(e)\n",
    "        pass\n",
    "    else:\n",
    "        good_proxies.append(ip)\n",
    "\n",
    "\n",
    "def write_to_json(ips):\n",
    "    with open('proxies.json', 'w', encoding='utf-8') as f:\n",
    "        json.dump(ips, f, indent=4)"
   ]
  },
  {
   "cell_type": "code",
   "execution_count": 4,
   "metadata": {},
   "outputs": [],
   "source": [
    "class GetThread(threading.Thread):\n",
    "    '''对Thread进行封装'''\n",
    "    def __init__(self, args):\n",
    "        threading.Thread.__init__(self, args=args)\n",
    "        self.good_proxies = []\n",
    "\n",
    "    def run(self):\n",
    "        url = 'http://www.xicidaili.com/nt/%d' % self._args[0]\n",
    "        # 发起网络访问\n",
    "        r = requests.get(url, headers=header)\n",
    "        r.encoding = r.apparent_encoding\n",
    "        r.raise_for_status()\n",
    "        soup = Soup(r.text, 'lxml')\n",
    "        # 第一个是显示最上方的信息的，需要丢掉\n",
    "        items = soup.find_all('tr')[1:]\n",
    "        ips = parse_items(items)\n",
    "        threads = []\n",
    "        for ip in ips:\n",
    "            # 开启多线程\n",
    "            t = threading.Thread(target=check_ip, args=[ip, self.good_proxies])\n",
    "            t.start()\n",
    "            time.sleep(0.1)\n",
    "            threads.append(t)\n",
    "        [t.join() for t in threads]\n",
    "\n",
    "    def get_result(self):\n",
    "        return self.good_proxies"
   ]
  },
  {
   "cell_type": "code",
   "execution_count": 5,
   "metadata": {},
   "outputs": [
    {
     "name": "stdout",
     "output_type": "stream",
     "text": [
      "200 14.20.235.201\n",
      "200 112.65.52.28\n",
      "200 222.223.182.66\n",
      "200 222.240.184.126\n",
      "200 125.123.129.113\n",
      "200 210.26.64.44\n",
      "200 211.101.154.105\n",
      "200 14.118.130.213\n",
      "200 219.159.38.206\n",
      "200 14.20.235.40\n",
      "200 125.123.140.175\n",
      "200 114.249.119.221\n"
     ]
    }
   ],
   "source": [
    "#if __name__ == '__main__':\n",
    "    # 主函数使用多线程\n",
    "    threads = []\n",
    "    for i in range(1, 30):\n",
    "        t = GetThread(args=[i])\n",
    "        t.start()\n",
    "        time.sleep(10)\n",
    "        threads.append(t)\n",
    "    [t.join() for t in threads]\n",
    "    for t in threads:\n",
    "        proxies = t.get_result()"
   ]
  },
  {
   "cell_type": "code",
   "execution_count": null,
   "metadata": {},
   "outputs": [],
   "source": []
  }
 ],
 "metadata": {
  "kernelspec": {
   "display_name": "Python 3",
   "language": "python",
   "name": "python3"
  },
  "language_info": {
   "codemirror_mode": {
    "name": "ipython",
    "version": 3
   },
   "file_extension": ".py",
   "mimetype": "text/x-python",
   "name": "python",
   "nbconvert_exporter": "python",
   "pygments_lexer": "ipython3",
   "version": "3.6.8"
  }
 },
 "nbformat": 4,
 "nbformat_minor": 2
}
