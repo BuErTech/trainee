{
 "cells": [
  {
   "cell_type": "code",
   "execution_count": 1,
   "metadata": {},
   "outputs": [
    {
     "name": "stdout",
     "output_type": "stream",
     "text": [
      "[[ 71  39 120 -21]\n",
      " [ 39 149  25  53]\n",
      " [120  25 251 -98]\n",
      " [-21  53 -98 226]]\n",
      "[375.01196148 226.84205474   5.73203208  89.4139517 ]\n",
      "[[ 0.34165906  0.30620264 -0.87887255  0.13073662]\n",
      " [ 0.01560502  0.66570031  0.12868282 -0.73487435]\n",
      " [ 0.76499903  0.28911355  0.45124888  0.35716143]\n",
      " [-0.54571243  0.61603279  0.08601286  0.56151877]]\n"
     ]
    }
   ],
   "source": [
    "import numpy as np\n",
    "\n",
    "C=np.random.randint(-10,10,(4,4))\n",
    "A=np.dot(C.T,C)\n",
    "print(A)#生成正定对称矩阵\n",
    "\n",
    "vals,vecs=np.linalg.eig(A)\n",
    "print(vals)\n",
    "print(vecs)#返回"
   ]
  },
  {
   "cell_type": "code",
   "execution_count": 2,
   "metadata": {},
   "outputs": [
    {
     "name": "stdout",
     "output_type": "stream",
     "text": [
      "[ 128.12623343    5.85206772  286.88378706 -204.64868821] \n",
      " [ 128.12623343    5.85206772  286.88378706 -204.64868821]\n"
     ]
    }
   ],
   "source": [
    "x=np.dot(A,vecs[:,0])\n",
    "y=np.dot(vals[0],vecs[:,0])\n",
    "print(x,\"\\n\",y)#验证Ax=λx"
   ]
  },
  {
   "cell_type": "code",
   "execution_count": null,
   "metadata": {},
   "outputs": [],
   "source": [
    "Lambda=np.diag(vals)\n",
    "x=numpy.linalg.inv(vecs)\n",
    "B=np.dot(np.dot(vecs,Lambda),x)\n",
    "print(B)"
   ]
  }
 ],
 "metadata": {
  "kernelspec": {
   "display_name": "Python 3",
   "language": "python",
   "name": "python3"
  },
  "language_info": {
   "codemirror_mode": {
    "name": "ipython",
    "version": 3
   },
   "file_extension": ".py",
   "mimetype": "text/x-python",
   "name": "python",
   "nbconvert_exporter": "python",
   "pygments_lexer": "ipython3",
   "version": "3.6.8"
  },
  "varInspector": {
   "cols": {
    "lenName": 16,
    "lenType": 16,
    "lenVar": 40
   },
   "kernels_config": {
    "python": {
     "delete_cmd_postfix": "",
     "delete_cmd_prefix": "del ",
     "library": "var_list.py",
     "varRefreshCmd": "print(var_dic_list())"
    },
    "r": {
     "delete_cmd_postfix": ") ",
     "delete_cmd_prefix": "rm(",
     "library": "var_list.r",
     "varRefreshCmd": "cat(var_dic_list()) "
    }
   },
   "types_to_exclude": [
    "module",
    "function",
    "builtin_function_or_method",
    "instance",
    "_Feature"
   ],
   "window_display": false
  }
 },
 "nbformat": 4,
 "nbformat_minor": 2
}
