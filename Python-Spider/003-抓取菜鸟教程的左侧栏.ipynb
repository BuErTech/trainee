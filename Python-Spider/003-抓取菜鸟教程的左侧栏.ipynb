{
 "cells": [
  {
   "cell_type": "code",
   "execution_count": 4,
   "metadata": {},
   "outputs": [
    {
     "name": "stdout",
     "output_type": "stream",
     "text": [
      "Python3 教程\n",
      "Python3 环境搭建\n",
      "Python3 基础语法\n",
      "Python3 基本数据类型\n",
      "Python3 解释器\n",
      "Python3 注释\n",
      "Python3 运算符\n",
      "Python3 数字(Number)\n",
      "Python3 字符串\n",
      "Python3 列表\n",
      "Python3 元组\n",
      "Python3 字典\n",
      "Python3 集合\n",
      "Python3 编程第一步\n",
      "Python3 条件控制\n",
      "Python3 循环语句\n",
      "Python3 迭代器与生成器\n",
      "Python3 函数\n",
      "Python3 数据结构\n",
      "Python3 模块\n",
      "Python3 输入和输出\n",
      "Python3 File\n",
      "Python3 OS\n",
      "Python3 错误和异常\n",
      "Python3 面向对象\n",
      "Python3 标准库概览\n",
      "Python3 实例\n",
      "Python 测验\n",
      "Python3 正则表达式\n",
      "Python3 CGI编程\n",
      "Python3 MySQL(mysql-connector)\n",
      "Python3 MySQL(PyMySQL)\n",
      "Python3 网络编程\n",
      "Python3 SMTP发送邮件\n",
      "Python3 多线程\n",
      "Python3 XML 解析\n",
      "Python3 JSON\n",
      "Python3 日期和时间\n",
      "Python3 内置函数\n",
      "Python MongoDB\n",
      "Python uWSGI  安装配置\n"
     ]
    }
   ],
   "source": [
    "# -*- coding: utf-8 -*-  \n",
    "import requests\n",
    "\n",
    "from lxml import etree\n",
    "\n",
    "target = \"https://www.runoob.com/python3/python3-tutorial.html\"\n",
    "# 获取页面源码\n",
    "r = requests.get(target)\n",
    "# 解析页面源码\n",
    "selector = etree.HTML(r.content.decode('utf-8').encode('utf-8'))\n",
    "links = selector.xpath(\"//div[@class='sidebar-box gallery-list']//a/text()\")\n",
    "for link in links:\n",
    "    print(link.strip( ))"
   ]
  },
  {
   "cell_type": "code",
   "execution_count": 5,
   "metadata": {},
   "outputs": [
    {
     "name": "stdout",
     "output_type": "stream",
     "text": [
      "/python3/python3-tutorial.html\n",
      "python3-install.html\n",
      "python3-basic-syntax.html\n",
      "python3-data-type.html\n",
      "/python3/python3-interpreter.html\n",
      "/python3/python3-comment.html\n",
      "python3-basic-operators.html\n",
      "/python3/python3-number.html\n",
      "/python3/python3-string.html\n",
      "/python3/python3-list.html\n",
      "python3-tuple.html\n",
      "python3-dictionary.html\n",
      "python3-set.html\n",
      "/python3/python3-step1.html\n",
      "/python3/python3-conditional-statements.html\n",
      "/python3/python3-loop.html\n",
      "python3-iterator-generator.html\n",
      "/python3/python3-function.html\n",
      "/python3/python3-data-structure.html\n",
      "/python3/python3-module.html\n",
      "/python3/python3-inputoutput.html\n",
      "python3-file-methods.html\n",
      "python3-os-file-methods.html\n",
      "/python3/python3-errors-execptions.html\n",
      "/python3/python3-class.html\n",
      "/python3/python3-stdlib.html\n",
      "/python3/python3-examples.html\n",
      "/quiz/python-quiz.html\n",
      "/python3/python3-reg-expressions.html\n",
      "/python3/python3-cgi-programming.html\n",
      "python-mysql-connector.html\n",
      "/python3/python3-mysql.html\n",
      "/python3/python3-socket.html\n",
      "/python3/python3-smtp.html\n",
      "/python3/python3-multithreading.html\n",
      "/python3/python3-xml-processing.html\n",
      "/python3/python3-json.html\n",
      "/python3/python3-date-time.html\n",
      "/python3/python3-built-in-functions.html\n",
      "/python3/python-mongodb.html\n",
      "/python3/python-uwsgi.html\n"
     ]
    }
   ],
   "source": [
    "hrefs = selector.xpath(\"//div[@class='sidebar-box gallery-list']//a/@href\")\n",
    "for href in hrefs:\n",
    "    print(href.strip( ))"
   ]
  },
  {
   "cell_type": "code",
   "execution_count": null,
   "metadata": {},
   "outputs": [],
   "source": []
  }
 ],
 "metadata": {
  "kernelspec": {
   "display_name": "Python 3",
   "language": "python",
   "name": "python3"
  },
  "language_info": {
   "codemirror_mode": {
    "name": "ipython",
    "version": 3
   },
   "file_extension": ".py",
   "mimetype": "text/x-python",
   "name": "python",
   "nbconvert_exporter": "python",
   "pygments_lexer": "ipython3",
   "version": "3.6.8"
  },
  "varInspector": {
   "cols": {
    "lenName": 16,
    "lenType": 16,
    "lenVar": 40
   },
   "kernels_config": {
    "python": {
     "delete_cmd_postfix": "",
     "delete_cmd_prefix": "del ",
     "library": "var_list.py",
     "varRefreshCmd": "print(var_dic_list())"
    },
    "r": {
     "delete_cmd_postfix": ") ",
     "delete_cmd_prefix": "rm(",
     "library": "var_list.r",
     "varRefreshCmd": "cat(var_dic_list()) "
    }
   },
   "types_to_exclude": [
    "module",
    "function",
    "builtin_function_or_method",
    "instance",
    "_Feature"
   ],
   "window_display": false
  }
 },
 "nbformat": 4,
 "nbformat_minor": 2
}
