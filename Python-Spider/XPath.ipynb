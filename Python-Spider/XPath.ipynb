{
 "cells": [
  {
   "cell_type": "code",
   "execution_count": 22,
   "metadata": {},
   "outputs": [
    {
     "name": "stdout",
     "output_type": "stream",
     "text": [
      "b'<html><body><div>\\n    <ul>\\n         <li class=\"item-0\"><a href=\"link1.html\">first item</a></li>\\n\\nem\\n<li class=\"item-1\"><a href=\"link2.html\">second item</a>\\n</li><li class=\"item-inactive\"><a href=\"link3.html\">third it\\n  18 19 20 21 22 23 24 25 26 27 28 29 30\\n<li class=\"item-1\"><a href=\"link4.html\">fourth item</a>\\n</li>\\n</a></li></ul></div> </body></html>'\n"
     ]
    }
   ],
   "source": [
    "from lxml import etree\n",
    "text = '''\n",
    "<div>\n",
    "    <ul>\n",
    "         <li class=\"item-0\"><a href=\"link1.html\">first item</a></li>\n",
    "</li>\n",
    "em</a></li>\n",
    "<li class=\"item-1\"><a href=\"link2.html\">second item</a>\n",
    "<li class=\"item-inactive\"><a href=\"link3.html\">third it\n",
    "  18 19 20 21 22 23 24 25 26 27 28 29 30\n",
    "<li class=\"item-1\"><a href=\"link4.html\">fourth item</a>\n",
    "</li>\n",
    "</div> '''\n",
    "html = etree.HTML(text)\n",
    "result = etree.tostring(html)\n",
    "print(result)"
   ]
  },
  {
   "cell_type": "code",
   "execution_count": 28,
   "metadata": {},
   "outputs": [
    {
     "name": "stdout",
     "output_type": "stream",
     "text": [
      "b'<div> \\n    <ul>\\n        <li> </li>\\n        <li class=\"item-0\"><a href=\"link1.html\">first item</a></li>\\n        <li class=\"item-1\"><a href=\"link2.html\">second item</a></li>\\n        <li class=\"item-inactive\"><a href=\"link3.html\"><span class=\"bold\">third item</span></a></li>\\n        <li class=\"item-1\"><a href=\"link4.html\">fourth item</a></li>\\n        <li class=\"item-0\"><a href=\"link5.html\">fifth item</a></li>\\n    </ul> \\n</div>\\n'\n"
     ]
    }
   ],
   "source": [
    "from lxml import etree\n",
    "\n",
    "html = etree.parse('hello.html')\n",
    "\n",
    "result = etree.tostring(html, pretty_print=True)\n",
    "print(result)"
   ]
  },
  {
   "cell_type": "code",
   "execution_count": 29,
   "metadata": {},
   "outputs": [
    {
     "name": "stdout",
     "output_type": "stream",
     "text": [
      "<class 'lxml.etree._ElementTree'>\n",
      "[<Element li at 0x11f5f9448>, <Element li at 0x11ca348c8>, <Element li at 0x102175e48>, <Element li at 0x102175688>, <Element li at 0x11f609048>, <Element li at 0x102187dc8>]\n",
      "6\n",
      "<class 'list'>\n",
      "<class 'lxml.etree._Element'>\n"
     ]
    }
   ],
   "source": [
    "from lxml import etree\n",
    "\n",
    "html = etree.parse('hello.html')\n",
    "print(type(html))\n",
    "\n",
    "result = html.xpath('//li')\n",
    "\n",
    "print(result)\n",
    "\n",
    "print(len(result))\n",
    "\n",
    "print(type(result))\n",
    "\n",
    "print(type(result[0]))"
   ]
  },
  {
   "cell_type": "code",
   "execution_count": 30,
   "metadata": {},
   "outputs": [
    {
     "name": "stdout",
     "output_type": "stream",
     "text": [
      "['item-0', 'item-1', 'item-inactive', 'item-1', 'item-0']\n"
     ]
    }
   ],
   "source": [
    "result = html.xpath('//li/@class')\n",
    "print(result)"
   ]
  },
  {
   "cell_type": "code",
   "execution_count": 38,
   "metadata": {},
   "outputs": [
    {
     "name": "stdout",
     "output_type": "stream",
     "text": [
      "first item\n"
     ]
    }
   ],
   "source": [
    "result = html.xpath('//li/a[@href=\"link1.html\"]')\n",
    "print(result[0].text)"
   ]
  },
  {
   "cell_type": "code",
   "execution_count": 39,
   "metadata": {},
   "outputs": [
    {
     "data": {
      "text/plain": [
       "['导演: 弗兰克·德拉邦特 Frank Darabont&nbsp;&nbsp;&nbsp;', ': 蒂姆·罗宾斯 Tim Robbins /... ']"
      ]
     },
     "execution_count": 39,
     "metadata": {},
     "output_type": "execute_result"
    }
   ],
   "source": [
    "str = \"导演: 弗兰克·德拉邦特 Frank Darabont&nbsp;&nbsp;&nbsp;主演: 蒂姆·罗宾斯 Tim Robbins /... \"\n",
    "\n",
    "\n",
    "arrs = str.split(\"主演\")\n",
    "\n",
    "arrs"
   ]
  },
  {
   "cell_type": "code",
   "execution_count": null,
   "metadata": {},
   "outputs": [],
   "source": []
  }
 ],
 "metadata": {
  "kernelspec": {
   "display_name": "Python 3",
   "language": "python",
   "name": "python3"
  },
  "language_info": {
   "codemirror_mode": {
    "name": "ipython",
    "version": 3
   },
   "file_extension": ".py",
   "mimetype": "text/x-python",
   "name": "python",
   "nbconvert_exporter": "python",
   "pygments_lexer": "ipython3",
   "version": "3.6.8"
  },
  "varInspector": {
   "cols": {
    "lenName": 16,
    "lenType": 16,
    "lenVar": 40
   },
   "kernels_config": {
    "python": {
     "delete_cmd_postfix": "",
     "delete_cmd_prefix": "del ",
     "library": "var_list.py",
     "varRefreshCmd": "print(var_dic_list())"
    },
    "r": {
     "delete_cmd_postfix": ") ",
     "delete_cmd_prefix": "rm(",
     "library": "var_list.r",
     "varRefreshCmd": "cat(var_dic_list()) "
    }
   },
   "types_to_exclude": [
    "module",
    "function",
    "builtin_function_or_method",
    "instance",
    "_Feature"
   ],
   "window_display": false
  }
 },
 "nbformat": 4,
 "nbformat_minor": 2
}
