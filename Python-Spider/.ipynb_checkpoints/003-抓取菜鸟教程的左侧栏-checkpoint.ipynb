{
 "cells": [
  {
   "cell_type": "code",
   "execution_count": null,
   "metadata": {},
   "outputs": [],
   "source": [
    "# -*- coding: utf-8 -*-  \n",
    "import requests\n",
    "\n",
    "from lxml import etree\n",
    "\n",
    "target = \"https://www.runoob.com/python3/python3-tutorial.html\"\n",
    "# 获取页面源码\n",
    "r = requests.get(target)\n",
    "# 解析页面源码\n",
    "selector = etree.HTML(r.content.decode('utf-8').encode('utf-8'))\n",
    "links = selector.xpath(\"//div[@class='sidebar-box gallery-list']//a/text()\")\n",
    "for link in links:\n",
    "    print(link.strip( ))"
   ]
  },
  {
   "cell_type": "code",
   "execution_count": 3,
   "metadata": {},
   "outputs": [
    {
     "ename": "IndentationError",
     "evalue": "expected an indented block (<ipython-input-3-111f1d769fec>, line 4)",
     "output_type": "error",
     "traceback": [
      "\u001b[0;36m  File \u001b[0;32m\"<ipython-input-3-111f1d769fec>\"\u001b[0;36m, line \u001b[0;32m4\u001b[0m\n\u001b[0;31m    print(href.strip( ))\u001b[0m\n\u001b[0m        ^\u001b[0m\n\u001b[0;31mIndentationError\u001b[0m\u001b[0;31m:\u001b[0m expected an indented block\n"
     ]
    }
   ],
   "source": [
    "hrefs = selector.xpath(\"//div[@class='sidebar-box gallery-list']//a/@href\")\n",
    "for href in hrefs:\n",
    "    print(href.strip( ))"
   ]
  },
  {
   "cell_type": "code",
   "execution_count": null,
   "metadata": {},
   "outputs": [],
   "source": []
  }
 ],
 "metadata": {
  "kernelspec": {
   "display_name": "Python 3",
   "language": "python",
   "name": "python3"
  },
  "language_info": {
   "codemirror_mode": {
    "name": "ipython",
    "version": 3
   },
   "file_extension": ".py",
   "mimetype": "text/x-python",
   "name": "python",
   "nbconvert_exporter": "python",
   "pygments_lexer": "ipython3",
   "version": "3.6.8"
  }
 },
 "nbformat": 4,
 "nbformat_minor": 2
}
