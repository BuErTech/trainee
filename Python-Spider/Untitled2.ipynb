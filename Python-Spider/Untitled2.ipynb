{
 "cells": [
  {
   "cell_type": "code",
   "execution_count": 3,
   "metadata": {},
   "outputs": [
    {
     "name": "stdout",
     "output_type": "stream",
     "text": [
      "{\"message\": \"success\", \"data\": [{\"open_url\": \"/group/6749061956851728907/\", \"group_id\": \"6749061956851728907\", \"image_url\": \"//p1.pstatp.com/list/240x240/pgc-image/RbKmXH06rR151b\", \"title\": \"\\u91cd\\u78c5\\uff01\\u8bc1\\u76d1\\u4f1a\\u6b63\\u5f0f\\u53d1\\u5e03\\u91cd\\u7ec4\\u65b0\\u89c4\\uff0c\\u5141\\u8bb8\\u521b\\u4e1a\\u677f\\u501f\\u58f3\\u4e0a\\u5e02\\uff0c\\u6062\\u590d\\u914d\\u5957\\u878d\\u8d44\\uff0c\\u7b80\\u5316\\u8ba4\\u5b9a\\u6807\\u51c6\\uff0c\\u4e0a\\u5e02\\u516c\\u53f8\\u91cd\\u7ec4\\u529e\\u6cd5\\u4e94\\u65b9\\u9762\\u91cd\\u5927\\u4fee\\u6539\"}, {\"open_url\": \"/group/6749023919732179459/\", \"group_id\": \"6749023919732179459\", \"image_url\": \"//p1.pstatp.com/medium/dfic-imagehandler/e513fbae-44dd-4e96-b82a-7f63e697045b\", \"title\": \"\\u90ce\\u6717\\u5e26\\u8001\\u5a46\\u4e0a\\u8282\\u76ee\\u4e89\\u505a\\u5bb6\\u52a1\\u6c42\\u751f\\u6b32\\u592a\\u5f3a\\uff0c\\u4f46\\u6559\\u4e2d\\u6587\\u90a3\\u91cc\\u5374\\u88ab\\u5410\\u69fd\\u592a\\u51f6\"}, {\"open_url\": \"/group/1647796609699843/\", \"group_id\": \"1647796609699843\", \"image_url\": \"//p9.pstatp.com/list/240x240/pgc-image/71c8977025b441e6b077d78603c730c2\", \"title\": \"#\\u519b\\u62a5\\u5feb\\u8baf# \\u3010\\u519b\\u8fd0\\u4f1a\\u9996\\u91d1\\u6765\\u5566\\uff01\\u8f6c\\u53d1\\u795d\\u8d3a[\\u9f13\\u638c]\\u3011\\u5728\\u521a\\u521a\\u7ed3\\u675f\\u7684\\u519b\\u8fd0\\u4f1a\\u7537\\u5b5025\\u7c73\\u624b\\u67aa\\u519b\\u4e8b\\u901f\\u5c04\\u56e2\\u4f53\\u9879\\u76ee\\u4e2d\\uff0c\\u7531\\u8c22\\u632f\\u7fd4\\u3001\\u91d1\\u6cf3\\u5fb7\\u548c\\u59da\\u5146\\u6960\\u7ec4\\u6210\\u7684\\u4e2d\\u56fd\\u961f\\u4ee51747\\u73af\\u593a\\u5f97\\u51a0\\u519b\\uff0c\\u6210\\u529f\\u536b\\u5195\\u3002\\u8fd9\\u4e5f\\u662f\\u4e2d\\u56fd\\u4ee3\\u8868\\u56e2\\u5728\\u672c\\u5c4a\\u519b\\u8fd0\\u4f1a\\u4e0a\\u593a\\u5f97\\u7684\\u9996\\u679a\\u91d1\\u724c\\u3002\\uff08\\u5f20\\u6653\\u541b\\uff09 \\u200b\\u200b\\u200b\\u200b\"}, {\"open_url\": \"/group/6749182930230182404/\", \"group_id\": \"6749182930230182404\", \"image_url\": \"//p1.pstatp.com/list/240x240/pgc-image/RfGpvuA40h8A2G\", \"title\": \"\\u7f55\\u89c1\\u5927\\u7f5a\\u5355\\uff01500\\u591a\\u4ebf\\u8fdd\\u89c4\\uff0c\\u4e2d\\u56fd\\u94f6\\u884c\\u4e24\\u5206\\u884c\\u88ab\\u7f5a5150\\u4e07\\uff0c\\u66f4\\u67093\\u4eba\\u88ab\\u7ec8\\u8eab\\u7981\\u4e1a\"}, {\"open_url\": \"/group/6749120229193810440/\", \"group_id\": \"6749120229193810440\", \"image_url\": \"//p3.pstatp.com/list/240x240/pgc-image/RfEm1PN6iaNaQ6\", \"title\": \"\\u7ecf\\u6d4e\\u89c2\\u5bdf\\uff1a\\u4e09\\u5b63\\u5ea6GDP\\u589e\\u957f6%\\u5bf9\\u4e2d\\u56fd\\u610f\\u5473\\u7740\\u4ec0\\u4e48\\uff1f\"}, {\"open_url\": \"/group/6749313304281219596/\", \"group_id\": \"6749313304281219596\", \"image_url\": \"//p1.pstatp.com/list/240x240/pgc-image/7afa9245b0ca4762a546f1d570d25b5d\", \"title\": \"\\u4e2d\\u56fd\\u6700\\u5e74\\u8f7b\\u5343\\u4ebf\\u5bcc\\u8c6a\\uff1a25\\u5c81\\u63a5\\u73ed\\u8eab\\u5bb61200\\u4ebf\\uff0c\\u7236\\u4eb2\\u5a36\\u5b66\\u751f\\u4e3a\\u59bb\"}, {\"open_url\": \"/group/6749322586062062091/\", \"group_id\": \"6749322586062062091\", \"image_url\": \"//p1.pstatp.com/list/240x240/pgc-image/RfJ2Mi47w0u7QT\", \"title\": \"\\u4e2d\\u76d0\\u539f\\u638c\\u95e8\\u88ab\\u53cc\\u5f00\\uff0c\\u957f\\u671f\\u5360\\u7528\\u56f0\\u96be\\u804c\\u5de5\\u516c\\u623f\\uff0c\\u88ab\\u4e3e\\u62a5\\u8c6a\\u996e\\u4e07\\u5143\\u62c9\\u83f2\"}, {\"open_url\": \"/group/6749321495534633484/\", \"group_id\": \"6749321495534633484\", \"image_url\": \"//p1.pstatp.com/list/240x240/pgc-image/007e7805a4874f2eaead9dfd25cd5d3a\", \"title\": \"\\u4e24\\u5929\\u53bb\\u4e24\\u6b21\\u6c11\\u653f\\u5c40\\u8fd8\\u6ca1\\u7ed3\\u5a5a\\uff1f\\u6700\\u91cd\\u8981\\u662f\\u4ed6\\u548c\\u5979\\u4ec0\\u4e48\\u65f6\\u5019\\u5206\\u624b\\u7684\"}, {\"open_url\": \"/group/6749252686828290573/\", \"group_id\": \"6749252686828290573\", \"image_url\": \"//p1.pstatp.com/list/240x240/pgc-image/ReGUoWrEHePiY5\", \"title\": \"\\u4fc4\\u7f57\\u65af\\u6b63\\u5f0f\\u63d0\\u8bae\\uff1a\\u8054\\u5408\\u56fd\\u5927\\u4f1a\\u7b2c\\u4e00\\u59d4\\u5458\\u4f1a\\u8fc1\\u51fa\\u7f8e\\u56fd\"}, {\"open_url\": \"/group/6749327380935868932/\", \"group_id\": \"6749327380935868932\", \"image_url\": \"//p1.pstatp.com/list/240x240/pgc-image/RfJ73FjHoZizG9\", \"title\": \"\\u65b9\\u5174322\\u53f7\\u5151\\u4ed8\\u5371\\u673a\\uff1a\\u4ee3\\u9500\\u673a\\u6784\\u6012\\u603c\\u56fd\\u901a\\u4fe1\\u6258\\uff0c\\u6295\\u8d44\\u4eba\\u8d28\\u7591\\u5176\\u672a\\u52e4\\u52c9\\u5c3d\\u8d23\"}, {\"open_url\": \"/group/6749348938425303565/\", \"group_id\": \"6749348938425303565\", \"image_url\": \"//p1.pstatp.com/list/240x240/pgc-image/RfJN61x1yruxGB\", \"title\": \"700\\u4ebf\\\"\\u9ed1\\u5929\\u9e45\\\"\\uff01\\u8d3e\\u8dc3\\u4ead\\u5ba3\\u5e03\\u7834\\u4ea7\\uff0c\\u4e00\\u957f\\u4e32\\u673a\\u6784\\u201c\\u4e2d\\u62db\\u201d:\\u5e73\\u5b89\\u3001\\u82f1\\u5927\\u3001\\u4e2d\\u4fe1\\u3001\\u62db\\u884c\\u2026\"}, {\"open_url\": \"/group/6749327400376467971/\", \"group_id\": \"6749327400376467971\", \"image_url\": \"//p3.pstatp.com/list/240x240/pgc-image/RfJ70cXBjLyzGj\", \"title\": \"\\u65e0\\u9521\\u8de8\\u6865\\u4fa7\\u7ffb\\u540e\\u7eed\\uff1a\\u6d89\\u4e8b\\u516c\\u53f8\\u9760\\u8d85\\u8f7d\\u6bcf\\u6708\\u591a\\u8d5a250\\u4e07\\uff01\\u66b4\\u5229\\u7ec8\\u7ed3\\uff0c\\u94a2\\u8d38\\u7269\\u6d41\\u6216\\u6d17\\u724c\"}, {\"open_url\": \"/group/6749121234203574792/\", \"group_id\": \"6749121234203574792\", \"image_url\": \"//p3.pstatp.com/list/240x240/pgc-image/RfFrdwoGLt6oZm\", \"title\": \"\\u7f51\\u8d37\\u884c\\u4e1a\\u52a0\\u901f\\u51fa\\u6e05\\uff01\\u6e56\\u5357\\u5168\\u90e8\\u53d6\\u7f14\\uff0c\\u5c71\\u4e1c\\u5ba3\\u5e03\\u201c\\u6536\\u7f51\\u201d\"}, {\"open_url\": \"/group/6749333652502479363/\", \"group_id\": \"6749333652502479363\", \"image_url\": \"//p1.pstatp.com/list/240x240/pgc-image/RfJDAEJ4Ol4KGz\", \"title\": \"\\u957f\\u6c5f\\u7279\\u5927\\u975e\\u6cd5\\u6355\\u635e\\u9cd7\\u9c7c\\u82d7\\u6848\\u518d\\u5f00\\u5ead\\uff1a59\\u540d\\u88ab\\u544a\\u8981\\u8d54900\\u4e07\"}, {\"open_url\": \"/group/1647793137370126/\", \"group_id\": \"1647793137370126\", \"image_url\": \"//p3.pstatp.com/list/240x240/tos-cn-i-0022/272c501f23004cc49649342253113276\", \"title\": \"\\u4e3a\\u53cb\\u4eba\\u9898\\u5b57\\uff0c\\u4e3a\\u53c2\\u5c55\\u5199\\u5b57\\u3002\\u8fd9\\u662f\\u6211\\u751f\\u6d3b\\u4e2d\\u6709\\u8da3\\u7684\\u4e00\\u5c0f\\u90e8\\u5206\\u3002\\u6211\\u8fd9\\u8f88\\u4eba\\uff0c\\u4ece\\u5c0f\\u5b66\\u5c31\\u6709\\u5927\\u5b57\\u8bfe\\uff0c\\u6bcf\\u5929\\u8981\\u6367\\u7740\\u781a\\u53f0\\uff0c\\u4e66\\u5305\\u4e2d\\u8981\\u6709\\u6bdb\\u7b14\\u3002\\u63cf\\u7ea2\\u4e34\\u5e16\\uff0c\\u8001\\u5e08\\u7559\\u4f5c\\u4e1a\\uff0c\\u56de\\u5bb6\\u8fd8\\u8981\\u5199\\u3002\\n\\u5982\\u4e0d\\u95f4\\u65ad\\uff0c\\u81f3\\u4eca\\u4e66\\u5199\\u516d\\u4e03\\u5341\\u5e74\\uff0c\\u7b97\\u6765\\u6709\\u70b9\\u529f\\u592b\\u5427\\u3002\\u53ea\\u662f\\u4ece\\u5c0f\\u5b66\\u5230\\u4e8e\\u4eca\\uff0c\\u8001\\u5e08\\uff0c\\u5bb6\\u957f\\u4ece\\u6ca1\\u4ee5\\u5c06\\u6765\\u5f53\\u4e66\\u6cd5\\u5bb6\\u6fc0\\u52b1\\u6211\\u548c\\u5468\\u8fb9\\u8fd9\\u6279\\u5c0f\\u5c0f\\u8398\\u8398\\u5b66\\u751f\\u3002\\u56e0\\u6b64\\uff0c\\u6ca1\\u4e0b\\u8fc7\\u90a3\\u94c1\\u6775\\u78e8\\u9488\\u7684\\u529f\\u592b\\uff0c\\u81ea\"}, {\"open_url\": \"/group/6749170849804190211/\", \"group_id\": \"6749170849804190211\", \"image_url\": \"//p1.pstatp.com/list/240x240/pgc-image/59918ad658794bd7894a05c1026d02ad\", \"title\": \"\\u5e74\\u5ea6\\u7b2c\\u4e00\\u7206\\u6b3e\\uff0c\\u53ef\\u4e0d\\u53ea\\u662f\\u723d\\u8fd9\\u4e48\\u7b80\\u5355\"}, {\"open_url\": \"/group/6749340732810592772/\", \"group_id\": \"6749340732810592772\", \"image_url\": \"//p1.pstatp.com/list/240x240/pgc-image/RfJK5lt5O8SWGU\", \"title\": \"\\u5e0c\\u62c9\\u91cc\\u201c\\u7535\\u90ae\\u95e8\\u201d\\u8c03\\u67e5\\u7ed3\\u679c\\u51fa\\u7089\\uff1a38\\u540d\\u7f8e\\u56fd\\u5b98\\u5458\\u6d89\\u5acc\\u8fdd\\u89c4\"}, {\"open_url\": \"/group/1647796094969867/\", \"group_id\": \"1647796094969867\", \"image_url\": \"//p3.pstatp.com/list/240x240/tos-cn-i-0022/d4053f240d114f5e9836a98a97b94b31\", \"title\": \"\\u3010\\u5218\\u9e64\\u79f0\\u4e2d\\u56fd\\u6709\\u4fe1\\u5fc3\\u6709\\u80fd\\u529b\\u786e\\u4fdd\\u5b9e\\u73b0\\u5b8f\\u89c2\\u7ecf\\u6d4e\\u65e2\\u5b9a\\u76ee\\u6807\\u3011\\u56fd\\u52a1\\u9662\\u526f\\u603b\\u7406\\u5218\\u9e6410\\u670819\\u65e5\\u5728\\u51fa\\u5e2d2019\\u5e74\\u4e16\\u754cVR\\u4ea7\\u4e1a\\u5927\\u4f1a\\u65f6\\u79f0\\uff0c\\u4e2d\\u56fd\\u6709\\u5145\\u6ee1\\u6d3b\\u529b\\u7684\\u5fae\\u89c2\\u57fa\\u7840\\u3001\\u5177\\u6709\\u97e7\\u6027\\u7684\\u5de8\\u5927\\u56de\\u65cb\\u7a7a\\u95f4\\u3001\\u5145\\u8db3\\u5b8f\\u89c2\\u653f\\u7b56\\u5de5\\u5177\\uff0c\\u4e0d\\u62c5\\u5fc3\\u77ed\\u671f\\u7ecf\\u6d4e\\u6ce2\\u52a8\\uff0c\\u5b8c\\u5168\\u6709\\u4fe1\\u5fc3\\u3001\\u6709\\u80fd\\u529b\\u786e\\u4fdd\\u5b9e\\u73b0\\u5b8f\\u89c2\\u7ecf\\u6d4e\\u65e2\\u5b9a\\u76ee\\u6807\\u3002#\\u56fd\\u662f\\u8bba\\u575b#\"}, {\"open_url\": \"/group/6749349618120671757/\", \"group_id\": \"6749349618120671757\", \"image_url\": \"//p1.pstatp.com/list/240x240/pgc-image/RfJSk5F4oqECsV\", \"title\": \"\\u6d77\\u822a\\u8463\\u4e8b\\u957f\\u4e4b\\u5b50\\u9648\\u6653\\u5cf0\\u5347\\u4efb\\u603b\\u88c1\\uff0c\\u5f20\\u5cad\\u5c06\\u4e0d\\u518d\\u517c\\u4efb\"}]}\n"
     ]
    }
   ],
   "source": [
    "import requests\n",
    "\n",
    "url = \"https://www.toutiao.com/api/pc/realtime_news/\"\n",
    "\n",
    "headers = {\n",
    "    'accept': \"text/javascript, text/html, application/xml, text/xml, */*\",\n",
    "    'accept-encoding': \"gzip, deflate, br\",\n",
    "    'accept-language': \"zh-CN,zh;q=0.9,en;q=0.8,id;q=0.7,ru;q=0.6,fil;q=0.5,ja;q=0.4,vi;q=0.3\",\n",
    "    'cache-control': \"no-cache,no-cache\",\n",
    "    'content-type': \"application/x-www-form-urlencoded\",\n",
    "    'cookie': \"tt_webid=6731919482417530379; WEATHER_CITY=%E5%8C%97%E4%BA%AC; tt_webid=6731919482417530379; csrftoken=50a3f20f6f41e94163da63880763da64; sso_uid_tt=f3298e20f2b75303beb59f6cad278866; toutiao_sso_user=38926b7ec5a0fcd7a18bf850f3d4c4a1; login_flag=d3df3347d1551c491569c8b5f87ffbb1; sessionid=bcee07e010eba3d60442b2eab4c1d0e6; uid_tt=af7ae1da766cb380fbb840264d988bb0; sid_tt=bcee07e010eba3d60442b2eab4c1d0e6; sid_guard='bcee07e010eba3d60442b2eab4c1d0e6|1567664869|15552000|Tue\\054 03-Mar-2020 06:27:49 GMT'; __tea_sdk__ssid=undefined; ccid=38926b7ec5a0fcd7a18bf850f3d4c4a1; uuid='w:4d2b302e4a2043e2a4128df58d27d81e'; _ga=GA1.2.1878121630.1569137806; s_v_web_id=3b999585c0c5ca0f96e6df43f212dd2d; sso_auth_status=d3a9a01cba7bd876d25b481b986efe88; _mp_auth_key=d3a9a01cba7bd876d25b481b986efe88; __tasessionId=02bv9svjn1571465551347\",\n",
    "    'dnt': \"1\",\n",
    "    'pragma': \"no-cache\",\n",
    "    'referer': \"https://www.toutiao.com/\",\n",
    "    'sec-fetch-mode': \"cors\",\n",
    "    'sec-fetch-site': \"same-origin\",\n",
    "    'user-agent': \"Mozilla/5.0 (Macintosh; Intel Mac OS X 10_15_0) AppleWebKit/537.36 (KHTML, like Gecko) Chrome/77.0.3865.120 Safari/537.36\",\n",
    "    'x-requested-with': \"XMLHttpRequest\",\n",
    "    'Postman-Token': \"9c1ad8a8-097c-4b1c-a8c1-15d14c0e8c4e,2f92ee67-4df6-4446-8a09-25f8a7cca890\",\n",
    "    'Host': \"www.toutiao.com\",\n",
    "    'Connection': \"keep-alive\"\n",
    "    }\n",
    "\n",
    "response = requests.request(\"GET\", url, headers=headers)\n",
    "\n",
    "print(response.text)"
   ]
  },
  {
   "cell_type": "code",
   "execution_count": null,
   "metadata": {},
   "outputs": [],
   "source": []
  }
 ],
 "metadata": {
  "kernelspec": {
   "display_name": "Python 3",
   "language": "python",
   "name": "python3"
  },
  "language_info": {
   "codemirror_mode": {
    "name": "ipython",
    "version": 3
   },
   "file_extension": ".py",
   "mimetype": "text/x-python",
   "name": "python",
   "nbconvert_exporter": "python",
   "pygments_lexer": "ipython3",
   "version": "3.6.8"
  },
  "varInspector": {
   "cols": {
    "lenName": 16,
    "lenType": 16,
    "lenVar": 40
   },
   "kernels_config": {
    "python": {
     "delete_cmd_postfix": "",
     "delete_cmd_prefix": "del ",
     "library": "var_list.py",
     "varRefreshCmd": "print(var_dic_list())"
    },
    "r": {
     "delete_cmd_postfix": ") ",
     "delete_cmd_prefix": "rm(",
     "library": "var_list.r",
     "varRefreshCmd": "cat(var_dic_list()) "
    }
   },
   "types_to_exclude": [
    "module",
    "function",
    "builtin_function_or_method",
    "instance",
    "_Feature"
   ],
   "window_display": false
  }
 },
 "nbformat": 4,
 "nbformat_minor": 2
}
