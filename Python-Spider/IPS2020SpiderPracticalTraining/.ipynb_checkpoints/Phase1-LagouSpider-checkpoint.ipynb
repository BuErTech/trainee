{
 "cells": [
  {
   "cell_type": "code",
   "execution_count": 1,
   "metadata": {},
   "outputs": [
    {
     "name": "stdout",
     "output_type": "stream",
     "text": [
      "请输入你要搜索的关键词数据分析\n"
     ]
    },
    {
     "data": {
      "text/plain": [
       "'https://www.lagou.com/jobs/list_数据分析?labelWords=&fromSearch=true&suginput='"
      ]
     },
     "execution_count": 1,
     "metadata": {},
     "output_type": "execute_result"
    }
   ],
   "source": [
    "currentSite = 'LaGou'\n",
    "\n",
    "keyWord = input(\"请输入你要搜索的关键词\")\n",
    "\n",
    "keywordURL = \"https://www.lagou.com/jobs/list_%s?labelWords=&fromSearch=true&suginput=\"%keyWord\n",
    "\n",
    "\n",
    "keywordURL\n",
    "\n",
    "\n"
   ]
  },
  {
   "cell_type": "code",
   "execution_count": 2,
   "metadata": {},
   "outputs": [
    {
     "name": "stdout",
     "output_type": "stream",
     "text": [
      "b'{\"status\":false,\"msg\":\"\\xe6\\x82\\xa8\\xe6\\x93\\x8d\\xe4\\xbd\\x9c\\xe5\\xa4\\xaa\\xe9\\xa2\\x91\\xe7\\xb9\\x81,\\xe8\\xaf\\xb7\\xe7\\xa8\\x8d\\xe5\\x90\\x8e\\xe5\\x86\\x8d\\xe8\\xae\\xbf\\xe9\\x97\\xae\",\"clientIp\":\"123.185.180.127\",\"state\":2402}\\n'\n"
     ]
    }
   ],
   "source": [
    "## 第一页\n",
    "\n",
    "\n",
    "import requests\n",
    "\n",
    "url = \"https://www.lagou.com/jobs/positionAjax.json?needAddtionalResult=false\"\n",
    "\n",
    "\n",
    "payload = \"first=true&pn=1&kd=%E6%95%B0%E6%8D%AE%E5%88%86%E6%9E%90\"\n",
    "\n",
    "\n",
    "headers = {\n",
    "  'Connection': 'keep-alive',\n",
    "  'Pragma': 'no-cache',\n",
    "  'Cache-Control': 'no-cache',\n",
    "  'DNT': '1',\n",
    "  'X-Anit-Forge-Code': '0',\n",
    "  'User-Agent': 'Mozilla/5.0 (Macintosh; Intel Mac OS X 10_15_3) AppleWebKit/537.36 (KHTML, like Gecko) Chrome/80.0.3987.122 Safari/537.36',\n",
    "  'Content-Type': 'application/x-www-form-urlencoded; charset=UTF-8',\n",
    "  'Accept': 'application/json, text/javascript, */*; q=0.01',\n",
    "  'Sec-Fetch-Dest': 'empty',\n",
    "  'X-Requested-With': 'XMLHttpRequest',\n",
    "  'X-Anit-Forge-Token': 'None',\n",
    "  'Origin': 'https://www.lagou.com',\n",
    "  'Sec-Fetch-Site': 'same-origin',\n",
    "  'Sec-Fetch-Mode': 'cors',\n",
    "  'Referer': 'https://www.lagou.com/jobs/list_%E6%95%B0%E6%8D%AE%E5%88%86%E6%9E%90?labelWords=&fromSearch=true&suginput=',\n",
    "  'Accept-Language': 'zh-CN,zh;q=0.9,en;q=0.8',\n",
    "  'Cookie': '_ga=GA1.2.1249676929.1575169092; user_trace_token=20191201105812-699aa83e-13e6-11ea-a68e-5254005c3644; LGUID=20191201105812-699aab38-13e6-11ea-a68e-5254005c3644; WEBTJ-ID=20200103160406-16f6a6ed6ae79a-023b4d06154469-1d336b5a-2073600-16f6a6ed6af307; Hm_lvt_4233e74dff0ae5bd0a3d81c6ccf756e6=1582185650; index_location_city=%E5%85%A8%E5%9B%BD; lagou_utm_source=B; X_MIDDLE_TOKEN=a6eb7998821d096ebe7b7a58ba539bc1; JSESSIONID=ABAAABAABBGAACJ508D09066E7FEDE45886247FD21AFF9B; sensorsdata2015session=%7B%7D; sensorsdata2015jssdkcross=%7B%22distinct_id%22%3A%2216ebf6531b283-0f45daf44ba6cd-1c3b6a5b-2073600-16ebf6531b39d2%22%2C%22%24device_id%22%3A%2216ebf6531b283-0f45daf44ba6cd-1c3b6a5b-2073600-16ebf6531b39d2%22%2C%22props%22%3A%7B%22%24latest_traffic_source_type%22%3A%22%E8%87%AA%E7%84%B6%E6%90%9C%E7%B4%A2%E6%B5%81%E9%87%8F%22%2C%22%24latest_referrer%22%3A%22https%3A%2F%2Fwww.google.com%2F%22%2C%22%24latest_referrer_host%22%3A%22www.google.com%22%2C%22%24latest_search_keyword%22%3A%22%E6%9C%AA%E5%8F%96%E5%88%B0%E5%80%BC%22%2C%22%24os%22%3A%22MacOS%22%2C%22%24browser%22%3A%22Chrome%22%2C%22%24browser_version%22%3A%2280.0.3987.116%22%7D%7D; _gid=GA1.2.2069334043.1583224215; PRE_UTM=; PRE_HOST=; PRE_LAND=https%3A%2F%2Fwww.lagou.com%2Fjobs%2F4842134.html%3Fshow%3D062d02d7cef54556b647f5d53f3669a4; PRE_SITE=https%3A%2F%2Fwww.lagou.com; LGSID=20200304150315-9b92bd9e-3517-49d5-92eb-4877e60b7355; X_HTTP_TOKEN=0495b65b73d10fd3210603385194094b9c8e65fb22; Hm_lpvt_4233e74dff0ae5bd0a3d81c6ccf756e6=1583306010; TG-TRACK-CODE=search_code; LGRID=20200304152553-21c1bf94-4351-4264-bdad-82fc6e3b35ba; SEARCH_ID=66dea548769a477fb3e5edf287c35238'\n",
    "}\n",
    "\n",
    "response = requests.request(\"POST\", url, headers=headers, data = payload)\n",
    "\n",
    "print(response.text.encode('utf8'))\n"
   ]
  },
  {
   "cell_type": "code",
   "execution_count": null,
   "metadata": {},
   "outputs": [],
   "source": [
    "## 第二页\n",
    "\n",
    "\n",
    "import requests\n",
    "\n",
    "url = \"https://www.lagou.com/jobs/positionAjax.json?needAddtionalResult=false\"\n",
    "\n",
    "payload = \"first=false&pn=2&kd=%E6%95%B0%E6%8D%AE%E5%88%86%E6%9E%90&sid=92568fdcd56f4c149109129f69406364\"\n",
    "headers = {\n",
    "  'Connection': 'keep-alive',\n",
    "  'Pragma': 'no-cache',\n",
    "  'Cache-Control': 'no-cache',\n",
    "  'DNT': '1',\n",
    "  'X-Anit-Forge-Code': '0',\n",
    "  'User-Agent': 'Mozilla/5.0 (Macintosh; Intel Mac OS X 10_15_3) AppleWebKit/537.36 (KHTML, like Gecko) Chrome/80.0.3987.122 Safari/537.36',\n",
    "  'Content-Type': 'application/x-www-form-urlencoded; charset=UTF-8',\n",
    "  'Accept': 'application/json, text/javascript, */*; q=0.01',\n",
    "  'Sec-Fetch-Dest': 'empty',\n",
    "  'X-Requested-With': 'XMLHttpRequest',\n",
    "  'X-Anit-Forge-Token': 'None',\n",
    "  'Origin': 'https://www.lagou.com',\n",
    "  'Sec-Fetch-Site': 'same-origin',\n",
    "  'Sec-Fetch-Mode': 'cors',\n",
    "  'Referer': 'https://www.lagou.com/jobs/list_%E6%95%B0%E6%8D%AE%E5%88%86%E6%9E%90?labelWords=&fromSearch=true&suginput=',\n",
    "  'Accept-Language': 'zh-CN,zh;q=0.9,en;q=0.8',\n",
    "  'Cookie': '_ga=GA1.2.1249676929.1575169092; user_trace_token=20191201105812-699aa83e-13e6-11ea-a68e-5254005c3644; LGUID=20191201105812-699aab38-13e6-11ea-a68e-5254005c3644; WEBTJ-ID=20200103160406-16f6a6ed6ae79a-023b4d06154469-1d336b5a-2073600-16f6a6ed6af307; Hm_lvt_4233e74dff0ae5bd0a3d81c6ccf756e6=1582185650; index_location_city=%E5%85%A8%E5%9B%BD; lagou_utm_source=B; X_MIDDLE_TOKEN=a6eb7998821d096ebe7b7a58ba539bc1; JSESSIONID=ABAAABAABBGAACJ508D09066E7FEDE45886247FD21AFF9B; sensorsdata2015session=%7B%7D; sensorsdata2015jssdkcross=%7B%22distinct_id%22%3A%2216ebf6531b283-0f45daf44ba6cd-1c3b6a5b-2073600-16ebf6531b39d2%22%2C%22%24device_id%22%3A%2216ebf6531b283-0f45daf44ba6cd-1c3b6a5b-2073600-16ebf6531b39d2%22%2C%22props%22%3A%7B%22%24latest_traffic_source_type%22%3A%22%E8%87%AA%E7%84%B6%E6%90%9C%E7%B4%A2%E6%B5%81%E9%87%8F%22%2C%22%24latest_referrer%22%3A%22https%3A%2F%2Fwww.google.com%2F%22%2C%22%24latest_referrer_host%22%3A%22www.google.com%22%2C%22%24latest_search_keyword%22%3A%22%E6%9C%AA%E5%8F%96%E5%88%B0%E5%80%BC%22%2C%22%24os%22%3A%22MacOS%22%2C%22%24browser%22%3A%22Chrome%22%2C%22%24browser_version%22%3A%2280.0.3987.116%22%7D%7D; _gid=GA1.2.2069334043.1583224215; LGSID=20200304150315-9b92bd9e-3517-49d5-92eb-4877e60b7355; TG-TRACK-CODE=search_code; SEARCH_ID=66dea548769a477fb3e5edf287c35238; X_HTTP_TOKEN=0495b65b73d10fd3767603385194094b9c8e65fb22; Hm_lpvt_4233e74dff0ae5bd0a3d81c6ccf756e6=1583306765; LGRID=20200304154735-97d8a3f1-df81-4a2e-bfc3-a92b64d544ce'\n",
    "}\n",
    "\n",
    "response = requests.request(\"POST\", url, headers=headers, data = payload)\n",
    "\n",
    "print(response.text.encode('utf8'))\n"
   ]
  },
  {
   "cell_type": "code",
   "execution_count": null,
   "metadata": {},
   "outputs": [],
   "source": [
    "## 第二页\n",
    "\n",
    "\n",
    "def spider(pageNumber,keyword):\n",
    "    \n",
    "    import requests\n",
    "\n",
    "    url = \"https://www.lagou.com/jobs/positionAjax.json?needAddtionalResult=false\"\n",
    "\n",
    "    if(pageNumber == 1):\n",
    "        payload = \"first=true&pn=1&kd=\"+keyword\n",
    "    else: \n",
    "        payload = \"first=false&pn=\"+pageNumber+\"&kd=\"+keyword+\"&sid=92568fdcd56f4c149109129f69406364\"\n",
    "    \n",
    "    headers = {\n",
    "      'Connection': 'keep-alive',\n",
    "      'Pragma': 'no-cache',\n",
    "      'Cache-Control': 'no-cache',\n",
    "      'DNT': '1',\n",
    "      'X-Anit-Forge-Code': '0',\n",
    "      'User-Agent': 'Mozilla/5.0 (Macintosh; Intel Mac OS X 10_15_3) AppleWebKit/537.36 (KHTML, like Gecko) Chrome/80.0.3987.122 Safari/537.36',\n",
    "      'Content-Type': 'application/x-www-form-urlencoded; charset=UTF-8',\n",
    "      'Accept': 'application/json, text/javascript, */*; q=0.01',\n",
    "      'Sec-Fetch-Dest': 'empty',\n",
    "      'X-Requested-With': 'XMLHttpRequest',\n",
    "      'X-Anit-Forge-Token': 'None',\n",
    "      'Origin': 'https://www.lagou.com',\n",
    "      'Sec-Fetch-Site': 'same-origin',\n",
    "      'Sec-Fetch-Mode': 'cors',\n",
    "      'Referer': 'https://www.lagou.com/jobs/list_%E6%95%B0%E6%8D%AE%E5%88%86%E6%9E%90?labelWords=&fromSearch=true&suginput=',\n",
    "      'Accept-Language': 'zh-CN,zh;q=0.9,en;q=0.8',\n",
    "      'Cookie': '_ga=GA1.2.1249676929.1575169092; user_trace_token=20191201105812-699aa83e-13e6-11ea-a68e-5254005c3644; LGUID=20191201105812-699aab38-13e6-11ea-a68e-5254005c3644; WEBTJ-ID=20200103160406-16f6a6ed6ae79a-023b4d06154469-1d336b5a-2073600-16f6a6ed6af307; Hm_lvt_4233e74dff0ae5bd0a3d81c6ccf756e6=1582185650; index_location_city=%E5%85%A8%E5%9B%BD; lagou_utm_source=B; X_MIDDLE_TOKEN=a6eb7998821d096ebe7b7a58ba539bc1; JSESSIONID=ABAAABAABBGAACJ508D09066E7FEDE45886247FD21AFF9B; sensorsdata2015session=%7B%7D; sensorsdata2015jssdkcross=%7B%22distinct_id%22%3A%2216ebf6531b283-0f45daf44ba6cd-1c3b6a5b-2073600-16ebf6531b39d2%22%2C%22%24device_id%22%3A%2216ebf6531b283-0f45daf44ba6cd-1c3b6a5b-2073600-16ebf6531b39d2%22%2C%22props%22%3A%7B%22%24latest_traffic_source_type%22%3A%22%E8%87%AA%E7%84%B6%E6%90%9C%E7%B4%A2%E6%B5%81%E9%87%8F%22%2C%22%24latest_referrer%22%3A%22https%3A%2F%2Fwww.google.com%2F%22%2C%22%24latest_referrer_host%22%3A%22www.google.com%22%2C%22%24latest_search_keyword%22%3A%22%E6%9C%AA%E5%8F%96%E5%88%B0%E5%80%BC%22%2C%22%24os%22%3A%22MacOS%22%2C%22%24browser%22%3A%22Chrome%22%2C%22%24browser_version%22%3A%2280.0.3987.116%22%7D%7D; _gid=GA1.2.2069334043.1583224215; LGSID=20200304150315-9b92bd9e-3517-49d5-92eb-4877e60b7355; TG-TRACK-CODE=search_code; SEARCH_ID=66dea548769a477fb3e5edf287c35238; X_HTTP_TOKEN=0495b65b73d10fd3767603385194094b9c8e65fb22; Hm_lpvt_4233e74dff0ae5bd0a3d81c6ccf756e6=1583306765; LGRID=20200304154735-97d8a3f1-df81-4a2e-bfc3-a92b64d544ce'\n",
    "    }\n",
    "\n",
    "    response = requests.request(\"POST\", url, headers=headers, data = payload)\n",
    "    ### 进行保存\n",
    "    print(response.text.encode('utf8'))\n",
    "\n",
    "    \n",
    "    \n",
    "for i in range(300):\n",
    "    spider(i,'数据分析')"
   ]
  }
 ],
 "metadata": {
  "kernelspec": {
   "display_name": "Python 3",
   "language": "python",
   "name": "python3"
  },
  "language_info": {
   "codemirror_mode": {
    "name": "ipython",
    "version": 3
   },
   "file_extension": ".py",
   "mimetype": "text/x-python",
   "name": "python",
   "nbconvert_exporter": "python",
   "pygments_lexer": "ipython3",
   "version": "3.6.8"
  },
  "varInspector": {
   "cols": {
    "lenName": 16,
    "lenType": 16,
    "lenVar": 40
   },
   "kernels_config": {
    "python": {
     "delete_cmd_postfix": "",
     "delete_cmd_prefix": "del ",
     "library": "var_list.py",
     "varRefreshCmd": "print(var_dic_list())"
    },
    "r": {
     "delete_cmd_postfix": ") ",
     "delete_cmd_prefix": "rm(",
     "library": "var_list.r",
     "varRefreshCmd": "cat(var_dic_list()) "
    }
   },
   "types_to_exclude": [
    "module",
    "function",
    "builtin_function_or_method",
    "instance",
    "_Feature"
   ],
   "window_display": false
  }
 },
 "nbformat": 4,
 "nbformat_minor": 2
}
