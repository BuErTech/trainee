{
 "cells": [
  {
   "cell_type": "markdown",
   "metadata": {},
   "source": [
    "# 本例主要练习内容如下：\n",
    "* http request\n",
    "* lxml etree\n",
    "* xpath\n",
    "* python 基础"
   ]
  },
  {
   "cell_type": "code",
   "execution_count": 45,
   "metadata": {},
   "outputs": [],
   "source": [
    "# -*- coding: utf-8 -*-  \n",
    "import requests\n",
    "\n",
    "from lxml import etree\n",
    "from lxml import html\n",
    "\n",
    "target = \"http://down.admin5.com/c/\"\n",
    "header = {\"Accept\": \"text/html,application/xhtml+xml,application/xml;q=0.9,image/webp,image/apng,*/*;q=0.8,application/signed-exchange;v=b3\",\n",
    "\"Accept-Encoding\": \"gzip, deflate\",\n",
    "\"Accept-Language\": \"zh-CN,zh;q=0.9\",\n",
    "\"Cache-Control\": \"no-cache\",\n",
    "\"Connection\": \"keep-alive\",\n",
    "\"Cookie\": \"UM_distinctid=16bc0d06107176-0f719ba6f7906-e343166-1fa400-16bc0d061082; bdshare_firstime=1562308011631; Hm_lvt_a4f0a30534107c4710afbec9c3f13382=1562306784,1562313507,1562315623; CNZZDATA371885=cnzz_eid%3D1736460974-1562304271-http%253A%252F%252Fdown.admin5.com%252F%26ntime%3D1562376789; Hm_lpvt_a4f0a30534107c4710afbec9c3f13382=1562400517\",\n",
    "\"Host\": \"down.admin5.com\",\n",
    "\"Pragma\": \"no-cache\",\n",
    "\"Upgrade-Insecure-Requests\": \"1\",\n",
    "\"User-Agent\": \"Mozilla/5.0 (Windows NT 10.0; Win64; x64) AppleWebKit/537.36 (KHTML, like Gecko) Chrome/75.0.3770.100 Safari/537.36\"}\n",
    "\n",
    "# 获取页面源码\n",
    "r = requests.get(target,headers=header)\n",
    "\n",
    "# print(r.text)\n"
   ]
  },
  {
   "cell_type": "markdown",
   "metadata": {},
   "source": [
    "![](http://ww4.sinaimg.cn/large/006tNc79ly1g4s7l2pdpej30xz0i20ys.jpg)"
   ]
  },
  {
   "cell_type": "code",
   "execution_count": 46,
   "metadata": {},
   "outputs": [
    {
     "name": "stdout",
     "output_type": "stream",
     "text": [
      "19\n"
     ]
    }
   ],
   "source": [
    "# 编码\n",
    "# selector = etree.HTML(r.content.decode('utf-8').encode('utf-8'))\n",
    "selector = etree.HTML(r.content)\n",
    "# 获取所有左边的 div\n",
    "allDivs  = selector.xpath(\"//aside//div\")\n",
    "# 输出有多少个 div -> 检查\n",
    "print(len(allDivs))\n",
    "# 获取到 19 个就是对的了。"
   ]
  },
  {
   "cell_type": "code",
   "execution_count": 47,
   "metadata": {},
   "outputs": [
    {
     "name": "stdout",
     "output_type": "stream",
     "text": [
      "flip\n",
      "flip2\n",
      "flip3\n",
      "flip4\n",
      "flip6\n",
      "flip7\n",
      "flip14\n",
      "flip15\n",
      "flip17\n",
      "flip18\n",
      "flip19\n"
     ]
    }
   ],
   "source": [
    "# 根据上面的图片的特征\n",
    "# 如果 div 的 id 对应的 ul 存在的话，就说明可以点开\n",
    "# 如果不存在的话，就是直接的 div 中的地址\n",
    "\n",
    "# 获取到 div 的 id\n",
    "# ?? 想想下面两个语句的不同点\n",
    "# allIdsOfDiv = selector.xpath(\"//aside//div/@id\")\n",
    "allIdsOfDiv = selector.xpath(\"//aside//div/@id\")\n",
    "\n",
    "for id in allIdsOfDiv:\n",
    "    print(id)"
   ]
  },
  {
   "cell_type": "code",
   "execution_count": 48,
   "metadata": {},
   "outputs": [],
   "source": [
    "# 想想，为什么是 19 个 div，只能取出来 11 个呢？？\n",
    "\n",
    "\n",
    "# 切割字符串来拼装 UL 应该有的 id\n",
    "\n",
    "\n",
    "# 定义函数，用来查找 DIV id 中的数字部分\n",
    "def findNumberFromId(divId):\n",
    "    # 如果长度不够，返回空\n",
    "    if len(divId) <= 4:\n",
    "        return ''\n",
    "    # 返回从 4 开始最后\n",
    "    return divId[4:]\n",
    "\n"
   ]
  },
  {
   "cell_type": "code",
   "execution_count": 49,
   "metadata": {},
   "outputs": [
    {
     "name": "stdout",
     "output_type": "stream",
     "text": [
      "\n",
      "2\n",
      "3\n",
      "4\n",
      "6\n",
      "7\n",
      "14\n",
      "15\n",
      "17\n",
      "18\n",
      "19\n"
     ]
    }
   ],
   "source": [
    "# 测试刚才定义的函数\n",
    "for id in allIdsOfDiv:\n",
    "    print(findNumberFromId(id))"
   ]
  },
  {
   "cell_type": "code",
   "execution_count": 50,
   "metadata": {},
   "outputs": [],
   "source": [
    "# 开始组织 UL 的 id\n",
    "def orgUlID(idNumber):\n",
    "    if len(idNumber) == 0:\n",
    "        return \"panel2\"\n",
    "    \n",
    "    return \"panel2_\"+idNumber"
   ]
  },
  {
   "cell_type": "code",
   "execution_count": 51,
   "metadata": {},
   "outputs": [
    {
     "name": "stdout",
     "output_type": "stream",
     "text": [
      "panel2\n",
      "panel2_2\n",
      "panel2_3\n",
      "panel2_4\n",
      "panel2_6\n",
      "panel2_7\n",
      "panel2_14\n",
      "panel2_15\n",
      "panel2_17\n",
      "panel2_18\n",
      "panel2_19\n"
     ]
    }
   ],
   "source": [
    "# 测试刚才定义的函数\n",
    "for id in allIdsOfDiv:\n",
    "    print(orgUlID(findNumberFromId(id)))"
   ]
  },
  {
   "cell_type": "markdown",
   "metadata": {},
   "source": [
    "## 到目前为止，没有下一级的 DIV 和有下一级的 UL 都获取到了。可以组织一下。"
   ]
  },
  {
   "cell_type": "code",
   "execution_count": 52,
   "metadata": {},
   "outputs": [
    {
     "name": "stdout",
     "output_type": "stream",
     "text": [
      "b'<div class=\"no-child\" id=\"flip\"> <a href=\"/c/shequ/\">&#31038;&#21306;&#31995;&#32479;</a> <span class=\"icon_a\" id=\"panel\"/> </div>&#13;\\n    '\n",
      "b'<div class=\"no-child\" id=\"flip2\"> <a href=\"/c/boke/\">&#21338;&#23458;&#31995;&#32479;</a> <span class=\"icon_a\" id=\"panel_2\"/> </div>&#13;\\n    '\n",
      "b'<div class=\"no-child\" id=\"flip3\"> <a href=\"/c/cms/\">CMS&#31995;&#32479;</a> <span class=\"icon_a\" id=\"panel_3\"/> </div>&#13;\\n    '\n",
      "b'<div class=\"no-child\" id=\"flip4\"> <a href=\"/c/bangong/\">&#21150;&#20844;&#24037;&#20316;</a> <span class=\"icon_a\" id=\"panel_4\"/> </div>&#13;\\n    '\n",
      "b'<div class=\"no-child\" id=\"flip6\"> <a href=\"/c/shop/\">&#30005;&#21830;&#31995;&#32479;</a> <span class=\"icon_a\" id=\"panel_6\"/> </div>&#13;\\n    '\n",
      "b'<div class=\"no-child\" id=\"flip7\"> <a href=\"/c/shenghuo/\">&#22320;&#26041;&#29983;&#27963;</a> <span class=\"icon_a\" id=\"panel_7\"/> </div>&#13;\\n    '\n",
      "b'<div class=\"no-child\" id=\"flip14\"> <a href=\"/c/jinrong/\">&#20114;&#32852;&#32593;&#37329;&#34701;</a> <span class=\"icon_a\" id=\"panel_14\"/> </div>&#13;\\n    '\n",
      "b'<div class=\"no-child\" id=\"flip15\"> <a href=\"/c/hangye/\">&#22402;&#30452;&#34892;&#19994;</a> <span class=\"icon_a\" id=\"panel_15\"/> </div>&#13;\\n    '\n",
      "b'<div class=\"no-child\" id=\"flip17\"> <a href=\"/c/gongneng/\">&#21151;&#33021;&#27169;&#22359;</a> <span class=\"icon_a\" id=\"panel_17\"/> </div>&#13;\\n    '\n",
      "b'<div class=\"no-child\" id=\"flip18\"> <a href=\"/c/houduan/\">&#21518;&#31471;&#26694;&#26550;</a> <span class=\"icon_a\" id=\"panel_18\"/> </div>&#13;\\n    '\n",
      "b'<div class=\"no-child\" id=\"flip19\"> <a href=\"/c/qianduan/\">&#21069;&#31471;&#26694;&#26550;</a> <span class=\"icon_a\" id=\"panel_19\"/> </div>&#13;\\n    '\n"
     ]
    }
   ],
   "source": [
    "# 找到带 id 属性的 div\n",
    "\n",
    "allDivsWithId = selector.xpath(\"//aside//div[@id]\")\n",
    "\n",
    "for div in allDivsWithId:\n",
    "    print(etree.tostring(div))"
   ]
  },
  {
   "cell_type": "code",
   "execution_count": 53,
   "metadata": {},
   "outputs": [
    {
     "name": "stdout",
     "output_type": "stream",
     "text": [
      "b'<div class=\"no-child\"> <a href=\"/c/qiye/\">&#20225;&#19994;&#32593;&#31449;</a> </div>&#13;\\n    '\n",
      "b'<div class=\"no-child\"> <a href=\"/c/rencai/\">&#20154;&#25165;&#25307;&#32856;</a> </div>&#13;\\n    '\n",
      "b'<div class=\"no-child\"> <a href=\"/c/jiaoyou/\">&#20132;&#21451;&#24449;&#23130;</a> </div>&#13;\\n&#13;\\n&#13;\\n    '\n",
      "b'<div class=\"no-child\"> <a href=\"/c/dianying/\">&#30005;&#24433;&#32593;&#31449;</a> </div>&#13;\\n    '\n",
      "b'<div class=\"no-child\"> <a href=\"/c/xiaoshuo/\">&#23567;&#35828;&#31995;&#32479;</a> </div>&#13;\\n    '\n",
      "b'<div class=\"no-child\"> <a href=\"/c/zhibo/\">&#30452;&#25773;&#31995;&#32479;</a> </div>&#13;\\n    '\n",
      "b'<div class=\"no-child\"> <a href=\"/c/daohang/\">&#32593;&#22336;&#23548;&#33322;</a> </div>&#13;\\n    '\n",
      "b'<div class=\"no-child\"> <a href=\"/c/weixin/\">&#24494;&#20449;&#30456;&#20851;</a></div>&#13;\\n    '\n"
     ]
    }
   ],
   "source": [
    "# 找到不带 id 属性的 div\n",
    "\n",
    "allDivsWithoutId = selector.xpath(\"//aside//div[not(@id)]\")\n",
    "\n",
    "for div in allDivsWithoutId:\n",
    "    print(etree.tostring(div))"
   ]
  },
  {
   "cell_type": "code",
   "execution_count": 54,
   "metadata": {},
   "outputs": [
    {
     "name": "stdout",
     "output_type": "stream",
     "text": [
      "DIV0包含 ID 属性\n",
      "DIV1包含 ID 属性\n",
      "DIV2包含 ID 属性\n",
      "DIV3包含 ID 属性\n",
      "DIV4不包含 ID 属性\n",
      "DIV5包含 ID 属性\n",
      "DIV6包含 ID 属性\n",
      "DIV7不包含 ID 属性\n",
      "DIV8不包含 ID 属性\n",
      "DIV9不包含 ID 属性\n",
      "DIV10不包含 ID 属性\n",
      "DIV11不包含 ID 属性\n",
      "DIV12不包含 ID 属性\n",
      "DIV13包含 ID 属性\n",
      "DIV14包含 ID 属性\n",
      "DIV15不包含 ID 属性\n",
      "DIV16包含 ID 属性\n",
      "DIV17包含 ID 属性\n",
      "DIV18包含 ID 属性\n",
      "{'DIV0': {'name': 'flip', 'text': '社区系统', 'hasChild': True, 'selfURL': '/c/shequ/', 'childs': ['/c/sns/', '/c/luntan/', '/c/weibo/', '/c/wenda/']}, 'DIV1': {'name': 'flip2', 'text': '博客系统', 'hasChild': True, 'selfURL': '/c/boke/', 'childs': ['/c/boke-dan/', '/c/boke-duo/', '/c/qingbo/']}, 'DIV2': {'name': 'flip3', 'text': 'CMS系统', 'hasChild': True, 'selfURL': '/c/cms/', 'childs': ['/c/neirongguanli/', '/c/wenzhangguanli/']}, 'DIV3': {'name': 'flip4', 'text': '办公工作', 'hasChild': True, 'selfURL': '/c/bangong/', 'childs': ['/c/oa/', '/c/crm/', '/c/xiangmuguanli/']}, 'DIV4': {'text': '企业网站', 'name': 'DIV4', 'hasChild': False, 'selfURL': '/c/qiye/', 'childs': []}, 'DIV5': {'name': 'flip6', 'text': '电商系统', 'hasChild': True, 'selfURL': '/c/shop/', 'childs': ['/c/shop-dan/', '/c/shop-duo/', '/c/taobaoke/', '/c/tuangou/', '/c/witkey/']}, 'DIV6': {'name': 'flip7', 'text': '地方生活', 'hasChild': True, 'selfURL': '/c/shenghuo/', 'childs': ['/c/menhu/', '/c/fenleixinxi/']}, 'DIV7': {'text': '人才招聘', 'name': 'DIV7', 'hasChild': False, 'selfURL': '/c/rencai/', 'childs': []}, 'DIV8': {'text': '交友征婚', 'name': 'DIV8', 'hasChild': False, 'selfURL': '/c/jiaoyou/', 'childs': []}, 'DIV9': {'text': '电影网站', 'name': 'DIV9', 'hasChild': False, 'selfURL': '/c/dianying/', 'childs': []}, 'DIV10': {'text': '小说系统', 'name': 'DIV10', 'hasChild': False, 'selfURL': '/c/xiaoshuo/', 'childs': []}, 'DIV11': {'text': '直播系统', 'name': 'DIV11', 'hasChild': False, 'selfURL': '/c/zhibo/', 'childs': []}, 'DIV12': {'text': '网址导航', 'name': 'DIV12', 'hasChild': False, 'selfURL': '/c/daohang/', 'childs': []}, 'DIV13': {'name': 'flip14', 'text': '互联网金融', 'hasChild': True, 'selfURL': '/c/jinrong/', 'childs': ['/c/zhongchou/', '/c/wangdai/']}, 'DIV14': {'name': 'flip15', 'text': '垂直行业', 'hasChild': True, 'selfURL': '/c/hangye/', 'childs': ['/c/gov/', '/c/hotel/', '/c/yiliao/', '/c/lvyou/', '/c/sports/', '/c/canyin/', '/c/fangchan/', '/c/car/', '/c/school/', '/c/hunqing/']}, 'DIV15': {'text': '微信相关', 'name': 'DIV15', 'hasChild': False, 'selfURL': '/c/weixin/', 'childs': []}, 'DIV16': {'name': 'flip17', 'text': '功能模块', 'hasChild': True, 'selfURL': '/c/gongneng/', 'childs': ['/c/search/', '/c/vote/', '/c/wenjuan/', '/c/vip/', '/c/Backstage/']}, 'DIV17': {'name': 'flip18', 'text': '后端框架', 'hasChild': True, 'selfURL': '/c/houduan/', 'childs': ['/c/phpkj/', '/c/javakj/']}, 'DIV18': {'name': 'flip19', 'text': '前端框架', 'hasChild': True, 'selfURL': '/c/qianduan/', 'childs': ['/c/jskj/', '/c/CSSkj/']}}\n"
     ]
    }
   ],
   "source": [
    "# 找到带 id 属性的 div\n",
    "\n",
    "allDivsWithId    = selector.xpath(\"//aside//div[@id]\")\n",
    "\n",
    "#for div in allDivsWithId:\n",
    "#    print(etree.tostring(div))\n",
    "    \n",
    "# 找到不带 id 属性的 div\n",
    "\n",
    "allDivsWithoutId = selector.xpath(\"//aside//div[not(@id)]\")\n",
    "\n",
    "#for div in allDivsWithoutId:\n",
    "#    print(etree.tostring(div))\n",
    "\n",
    "\n",
    "# 下面先封装好，带 ID 的和不带 ID 的。\n",
    "# 使用如下的简单的数据结构来保存\n",
    "\n",
    "\n",
    "\n",
    "\n",
    "\n",
    "\n",
    "# # 首先处理带 ID 的\n",
    "# for div in allDivsWithId:\n",
    "#     # 当 id = flip 的时候，地址有点特殊，http://down.admin5.com/c/\n",
    "#     # print(etree.tostring(div))\n",
    "#     # 获取所有的属性\n",
    "#     attributes = div.attrib\n",
    "#     if 'id' in attributes:\n",
    "#         print(\"包含 ID 属性\")\n",
    "#         id = attributes['id']\n",
    "#     # 声明一个新的字典\n",
    "#     linksToSpide[id] = dict()\n",
    "#     linksToSpide[id]\n",
    "    \n",
    "# print(\"*******不包含 ID 的输出**********\")    \n",
    "# # 其次处理不带 ID 的    \n",
    "# for div in allDivsWithoutId:\n",
    "#     # print(etree.tostring(div))    \n",
    "#     attributes = div.attrib\n",
    "#     if 'id' in attributes:\n",
    "#         print(\"包含 ID 属性\")\n",
    "#         id = attributes['id']\n",
    "#     # print(id)\n",
    "\n",
    "allDivs = selector.xpath(\"//aside//div\")\n",
    "\n",
    "# linksToSpide:{\n",
    "#     “DIV1”:{\n",
    "#         \"name\":\"flip\"\n",
    "#         “hasChild”:\"True\",\n",
    "#         \"selfURL\":\"\",\n",
    "#         \"childs\":[\"CHILD1\",\"CHILD2\",\"CHILD3\"]\n",
    "#     },\n",
    "#     “DIV2”:{\n",
    "#         \"name\":\"DIV2\"\n",
    "#         “hasChild”:\"Flase\",\n",
    "#         \"selfURL\":\"\",\n",
    "#         \"childs\":[]\n",
    "#     },\n",
    "# }\n",
    "linksToSpide = dict()\n",
    "\n",
    "# 用来做计数\n",
    "\n",
    "divIndex = 0\n",
    "\n",
    "for div in allDivs:\n",
    "    # print(etree.tostring(div)) \n",
    "    \n",
    "    \n",
    "    IDNAME = \"DIV\" + str(divIndex)\n",
    "    \n",
    "    attributes = div.attrib\n",
    "    if 'id' in attributes:\n",
    "        id = attributes['id']\n",
    "        # print(id)\n",
    "        print(IDNAME + \"包含 ID 属性\")\n",
    "        \n",
    "        linksToSpide[IDNAME] = dict()\n",
    "        linksToSpide[IDNAME]['name'] = attributes['id']\n",
    "        linksToSpide[IDNAME]['text'] = div.find(\"a\").text\n",
    "        linksToSpide[IDNAME]['hasChild'] = True\n",
    "        # print(etree.tostring(div.find(\"a\")))\n",
    "        linksToSpide[IDNAME][\"selfURL\"] = div.find(\"a\").attrib['href']\n",
    "        # 找到 UL 的 ID\n",
    "        ulWithID = orgUlID(findNumberFromId(attributes['id']))\n",
    "        # print(ulWithID)\n",
    "        ulIDName  = \"//aside//ul[@id='\"+ulWithID+\"']//li//a\";\n",
    "        # print(ulIDName)\n",
    "        liAhrefs    = selector.xpath(ulIDName)\n",
    "        # print(lihref)\n",
    "        childsHref = list()\n",
    "        for ahref in liAhrefs:\n",
    "            childsHref.append(ahref.attrib['href'])\n",
    "        linksToSpide[IDNAME][\"childs\"] = childsHref\n",
    "        \n",
    "        \n",
    "    else:\n",
    "        print(IDNAME +\"不包含 ID 属性\")\n",
    "        \n",
    "        linksToSpide[IDNAME] = dict()\n",
    "        linksToSpide[IDNAME]['text'] = div.find(\"a\").text\n",
    "        linksToSpide[IDNAME]['name'] = \"DIV\"+ str(divIndex)\n",
    "        linksToSpide[IDNAME]['hasChild'] = False\n",
    "        # print(etree.tostring(div.find(\"a\")))\n",
    "        linksToSpide[IDNAME][\"selfURL\"] = div.find(\"a\").attrib['href']\n",
    "        linksToSpide[IDNAME][\"childs\"] = []\n",
    "        \n",
    "    divIndex = divIndex + 1\n",
    "        \n",
    "        \n",
    "        \n",
    "print(linksToSpide)"
   ]
  },
  {
   "cell_type": "markdown",
   "metadata": {},
   "source": [
    "## 截止到目前，要爬取什么页面就取到了。\n",
    "## 同时，发现规律如下：\n",
    "\n",
    "1. 如果有下一级，就没有必须要爬取自己的啦。自己爬取下一级\n",
    "2. 如果没有下一级，爬取自己的这一页。\n",
    "\n",
    "![](http://ww4.sinaimg.cn/large/006tNc79ly1g4sgjat82sj30yh0p5wke.jpg)"
   ]
  },
  {
   "cell_type": "code",
   "execution_count": 55,
   "metadata": {},
   "outputs": [],
   "source": [
    "# 定义一个函数，专门用来爬取每个页面\n",
    "\n",
    "def singlePage(targetURL):\n",
    "    \n",
    "    target = \"http://down.admin5.com\"+targetURL\n",
    "    # print(\"正在爬取--->\"+target)\n",
    "    # 获取页面源码\n",
    "    r = requests.get(target,headers=header)\n",
    "    selector = etree.HTML(r.content)\n",
    "    # 获取所有左边的 div\n",
    "    allDivs  = selector.xpath(\"//div[@class='detail_1']//div[@class='system_01']//div\")\n",
    "    # print(\"爬取完了，div 多少\"+str(len(allDivs)))\n",
    "    return allDivs\n",
    "\n",
    "# print(len(singlePage('/c/rencai')))\n"
   ]
  },
  {
   "cell_type": "code",
   "execution_count": 56,
   "metadata": {},
   "outputs": [],
   "source": [
    "# 定义一个函数，取到每一个系统的详细信息\n",
    "\n",
    "# 1. 名称\n",
    "# 2. 简介\n",
    "# 3. 下载地址\n",
    "\n",
    "def detailsFromSingleInfo(div):\n",
    "    \n",
    "    name = div.find(\"p[@class='h_1']\").text\n",
    "    intr = div.find(\"p[@class='p_1']\").text\n",
    "    href = div.find(\"ul//li//a\").attrib['href']\n",
    "    # print(etree.tostring(div.getparent().getparent().getparent()))\n",
    "    cate = div.getparent().getparent().getparent().find(\"div[@class='tit']//h1\").text\n",
    "    # print(cate)\n",
    "    # print(name+intr+href)\n",
    "     \n",
    "    return name,intr,href,cate\n",
    "    # print(name+intr+href)\n",
    "    "
   ]
  },
  {
   "cell_type": "code",
   "execution_count": 58,
   "metadata": {},
   "outputs": [],
   "source": [
    "for info in singlePage('/c/sns/'):\n",
    "    detailsFromSingleInfo(info)"
   ]
  },
  {
   "cell_type": "code",
   "execution_count": null,
   "metadata": {},
   "outputs": [],
   "source": [
    "\n",
    "# 专门用来进行输出的方法\n",
    "\n",
    "def output(divID,divText,selfURL,hasChild,childs):\n",
    "    \n",
    "    print(divID+\"->\"+str(hasChild))\n",
    "    \n",
    "    outputList = []\n",
    "    \n",
    "    prefix = str(divID)+divText+selfURL+str(hasChild)\n",
    "    \n",
    "    \n",
    "    \n",
    "    if(hasChild):\n",
    "        for child in childs:\n",
    "            print(\"有下一级，在爬取\"+child)\n",
    "            for info in singlePage(child):\n",
    "                outputString = prefix;\n",
    "                name,intr,href = detailsFromSingleInfo(info)\n",
    "                outputString = outputString + name\n",
    "                outputString = outputString + intr\n",
    "                outputString = outputString + href\n",
    "                outputList.append(outputString)\n",
    "                \n",
    "    else:\n",
    "        for info in singlePage(selfURL):\n",
    "            outputString = prefix;\n",
    "            name,intr,href = detailsFromSingleInfo(info)\n",
    "            outputString = outputString + name\n",
    "            outputString = outputString + intr\n",
    "            outputString = outputString + href\n",
    "            outputList.append(outputString)\n",
    "    \n",
    "    print(outputList)\n",
    "\n",
    "\n",
    "\n",
    "\n",
    "# 根据组织的大字典进行全局的循环\n",
    "\n",
    "# 获取所有的 key\n",
    "\n",
    "for key in linksToSpide:\n",
    "    \n",
    "    # 获取字典中的一个个的对象\n",
    "    \n",
    "    divDictObject = linksToSpide[key]\n",
    "    \n",
    "    output(divDictObject['name'],divDictObject['text'],divDictObject['selfURL'],divDictObject['hasChild'],divDictObject['childs'])\n",
    "    \n",
    "    \n",
    "    \n",
    "    \n",
    "    \n",
    "    \n"
   ]
  },
  {
   "cell_type": "code",
   "execution_count": 59,
   "metadata": {},
   "outputs": [],
   "source": [
    "import csv"
   ]
  },
  {
   "cell_type": "code",
   "execution_count": 60,
   "metadata": {},
   "outputs": [],
   "source": [
    "# def write_csv():\n",
    "#     path  = \"admin5.csv\"\n",
    "#     with open(path,'a+') as f:\n",
    "#         csv_write = csv.writer(f)\n",
    "#         data_row = [\"1\",\"2\"]\n",
    "#         csv_write.writerow(data_row)\n",
    "# write_csv()"
   ]
  },
  {
   "cell_type": "code",
   "execution_count": 61,
   "metadata": {},
   "outputs": [],
   "source": [
    "def write_csv(data_row):\n",
    "    path  = \"admin5.csv\"\n",
    "    # print(\"*********************\")\n",
    "    # print(data_row)\n",
    "    # print(\"*********************\")\n",
    "    with open(path,'a+') as f:\n",
    "        csv_write = csv.writer(f)\n",
    "        csv_write.writerow(data_row)"
   ]
  },
  {
   "cell_type": "code",
   "execution_count": 62,
   "metadata": {},
   "outputs": [],
   "source": [
    "# 保存 CSV 信息\n",
    "def saveInfo(divID,divText,selfURL,hasChild,info):\n",
    "    row = [str(divID),divText,selfURL,str(hasChild)]\n",
    "    name,intr,href,cate = detailsFromSingleInfo(info)\n",
    "    row.append(cate)\n",
    "    row.append(name)\n",
    "    row.append(intr)\n",
    "    row.append(href)\n",
    "    write_csv(row)\n",
    "    \n",
    "    \n",
    "    \n",
    "# 专门用来进行输出的方法\n",
    "def outputCSV(divID,divText,selfURL,hasChild,childs):\n",
    "\n",
    "    if(hasChild):\n",
    "        for child in childs:\n",
    "            for info in singlePage(child):\n",
    "                saveInfo(divID,divText,selfURL,hasChild,info)\n",
    "    else:\n",
    "        for info in singlePage(selfURL):\n",
    "            saveInfo(divID,divText,selfURL,hasChild,info)\n",
    "\n",
    "\n",
    "# 根据组织的大字典进行全局的循环\n",
    "# 获取所有的 key\n",
    "for key in linksToSpide:    \n",
    "    # 获取字典中的一个个的对象    \n",
    "    divDictObject = linksToSpide[key]   \n",
    "    outputCSV(divDictObject['name'],divDictObject['text'],divDictObject['selfURL'],divDictObject['hasChild'],divDictObject['childs'])\n",
    "    \n"
   ]
  },
  {
   "cell_type": "code",
   "execution_count": null,
   "metadata": {},
   "outputs": [],
   "source": []
  }
 ],
 "metadata": {
  "kernelspec": {
   "display_name": "Python 3",
   "language": "python",
   "name": "python3"
  },
  "language_info": {
   "codemirror_mode": {
    "name": "ipython",
    "version": 3
   },
   "file_extension": ".py",
   "mimetype": "text/x-python",
   "name": "python",
   "nbconvert_exporter": "python",
   "pygments_lexer": "ipython3",
   "version": "3.6.8"
  }
 },
 "nbformat": 4,
 "nbformat_minor": 2
}
