{
 "cells": [
  {
   "cell_type": "code",
   "execution_count": 2,
   "metadata": {},
   "outputs": [
    {
     "name": "stdout",
     "output_type": "stream",
     "text": [
      "('永远看不腻的喜剧。', 0.290288, 0.354917, 0.709712, 0)\n"
     ]
    }
   ],
   "source": [
    "from aip import AipNlp\n",
    "\n",
    "import pandas as pd\n",
    "\n",
    "\"\"\" 你的 APPID AK SK \"\"\"\n",
    "\n",
    "APP_ID = '16836505'\n",
    "\n",
    "API_KEY = '0dufPiiYDaGGGx7luLmWg0sA'\n",
    "\n",
    "SECRET_KEY = 'evtFQ2XTduwikDOhL5U5UW0sOsV3tOBh'\n",
    "\n",
    " \n",
    "\n",
    "client = AipNlp(APP_ID, API_KEY, SECRET_KEY)\n",
    "\n",
    " \n",
    "\n",
    "# demotext = \"百度情感分析API棒棒的！\"\n",
    "\n",
    "demotext = \"永远看不腻的喜剧。\"\n",
    " \n",
    "\n",
    "\"\"\" 调用情感倾向分析，返回具体数值 \"\"\"\n",
    "\n",
    "def get_sentiment(text):\n",
    "\n",
    "    #print (text)\n",
    "\n",
    "    json_data=client.sentimentClassify(text)   \n",
    "\n",
    "    text=json_data['text']\n",
    "\n",
    "    items=json_data['items']\n",
    "\n",
    "    items=items[0]\n",
    "\n",
    "    positive_prob=items['positive_prob']\n",
    "\n",
    "    confidence=items['confidence']\n",
    "\n",
    "    negative_prob=items['negative_prob']\n",
    "\n",
    "    sentiment=items['sentiment']\n",
    "\n",
    "    return text,positive_prob,confidence,negative_prob,sentiment\n",
    "\n",
    " \n",
    "\n",
    "print (get_sentiment(demotext))"
   ]
  },
  {
   "cell_type": "code",
   "execution_count": 12,
   "metadata": {},
   "outputs": [
    {
     "name": "stdout",
     "output_type": "stream",
     "text": [
      "Start : Thu Jul 18 17:06:54 2019\n",
      "End : Thu Jul 18 17:06:56 2019\n",
      "('希望让人自由。', 0.561697, 0.0259935, 0.438303, 2)\n",
      "Start : Thu Jul 18 17:06:56 2019\n",
      "End : Thu Jul 18 17:06:58 2019\n",
      "('风华绝代。', 0.566833, 0.0374059, 0.433167, 2)\n",
      "Start : Thu Jul 18 17:06:58 2019\n",
      "End : Thu Jul 18 17:07:00 2019\n",
      "('怪蜀黍和小萝莉不得不说的故事。', 0.526851, 0.46298, 0.473149, 1)\n",
      "Start : Thu Jul 18 17:07:00 2019\n",
      "End : Thu Jul 18 17:07:02 2019\n",
      "('一部美国近现代史。', 0.533607, 0.327856, 0.466393, 1)\n",
      "Start : Thu Jul 18 17:07:02 2019\n",
      "End : Thu Jul 18 17:07:04 2019\n",
      "('最美的谎言。', 0.693574, 0.319053, 0.306426, 2)\n",
      "Start : Thu Jul 18 17:07:04 2019\n",
      "End : Thu Jul 18 17:07:06 2019\n",
      "('最好的宫崎骏，最好的久石让。 ', 0.959889, 0.910863, 0.0401114, 2)\n",
      "Start : Thu Jul 18 17:07:07 2019\n",
      "End : Thu Jul 18 17:07:09 2019\n",
      "('失去的才是永恒的。 ', 0.390924, 0.13128, 0.609076, 0)\n",
      "Start : Thu Jul 18 17:07:09 2019\n",
      "End : Thu Jul 18 17:07:11 2019\n",
      "('拯救一个人，就是拯救整个世界。', 0.624548, 0.165663, 0.375451, 2)\n",
      "Start : Thu Jul 18 17:07:11 2019\n",
      "End : Thu Jul 18 17:07:13 2019\n",
      "('诺兰给了我们一场无法盗取的梦。', 0.365526, 0.18772, 0.634474, 0)\n",
      "Start : Thu Jul 18 17:07:13 2019\n",
      "End : Thu Jul 18 17:07:15 2019\n",
      "('永远都不能忘记你所爱的人。', 0.764438, 0.476529, 0.235562, 2)\n"
     ]
    }
   ],
   "source": [
    "import pandas as pd \n",
    "import time\n",
    " \n",
    "\n",
    "\n",
    "df = pd.read_csv(\"./Python-Spider/doubanMoviesTop250.csv\",header=None)\n",
    "\n",
    "for row in range(0,10):\n",
    "    print(\"Start : %s\" % time.ctime())\n",
    "    time.sleep( 2 )\n",
    "    print(\"End : %s\" % time.ctime())\n",
    "    print (get_sentiment(df.values[[row],[5]][0]))\n",
    "    \n",
    "    "
   ]
  },
  {
   "cell_type": "code",
   "execution_count": null,
   "metadata": {},
   "outputs": [],
   "source": []
  }
 ],
 "metadata": {
  "kernelspec": {
   "display_name": "Python 3",
   "language": "python",
   "name": "python3"
  },
  "language_info": {
   "codemirror_mode": {
    "name": "ipython",
    "version": 3
   },
   "file_extension": ".py",
   "mimetype": "text/x-python",
   "name": "python",
   "nbconvert_exporter": "python",
   "pygments_lexer": "ipython3",
   "version": "3.6.8"
  }
 },
 "nbformat": 4,
 "nbformat_minor": 2
}
