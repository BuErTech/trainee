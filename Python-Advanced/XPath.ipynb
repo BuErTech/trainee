{
 "cells": [
  {
   "cell_type": "markdown",
   "metadata": {},
   "source": [
    "# 文章来源\n",
    "\n",
    "https://zhuanlan.zhihu.com/p/29436838\n",
    "\n",
    "## 1. Markdown 真是一个好的文本表达方式\n",
    "\n",
    "## 2. 它简单实用\n",
    "\n",
    "    - 1. 语法简单\n",
    "    - 2. 格式清楚\n",
    "    - 3. ~没有坏处~可能是它最大的缺点"
   ]
  },
  {
   "cell_type": "code",
   "execution_count": 2,
   "metadata": {},
   "outputs": [
    {
     "name": "stdout",
     "output_type": "stream",
     "text": [
      "<html><body><div>\n",
      "    <ul>\n",
      "         <li class=\"item-0\">\n",
      "             <a href=\"https://ask.hellobi.com/link1.html\">first item</a>\n",
      "         </li>\n",
      "         <li class=\"item-1\">\n",
      "             <a href=\"https://ask.hellobi.com/link2.html\">second item</a>\n",
      "         </li>\n",
      "         <li class=\"item-inactive\">\n",
      "             <a href=\"https://ask.hellobi.com/link3.html\">third item</a>\n",
      "         </li>\n",
      "         <li class=\"item-1\">\n",
      "             <a href=\"https://ask.hellobi.com/link4.html\">fourth item</a>\n",
      "         </li>\n",
      "         <li class=\"item-0\">\n",
      "             <a href=\"https://ask.hellobi.com/link5.html\">fifth item</a>\n",
      "         </li>\n",
      "     </ul>\n",
      " </div>\n",
      "</body></html>\n"
     ]
    }
   ],
   "source": [
    "from lxml import etree\n",
    "\n",
    "\n",
    "text = '''\n",
    "<div>\n",
    "    <ul>\n",
    "         <li class=\"item-0\"><a href=\"https://ask.hellobi.com/link1.html\">first item</a></li>\n",
    "         <li class=\"item-1\">\n",
    "             <a href=\"https://ask.hellobi.com/link2.html\">second item</a>\n",
    "         </li>\n",
    "         <li class=\"item-inactive\">\n",
    "             <a href=\"https://ask.hellobi.com/link3.html\">third item</a>\n",
    "         </li>\n",
    "         <li class=\"item-1\">\n",
    "             <a href=\"https://ask.hellobi.com/link4.html\">fourth item</a>\n",
    "         </li>\n",
    "         <li class=\"item-0\">\n",
    "             <a href=\"https://ask.hellobi.com/link5.html\">fifth item</a>\n",
    "         </li>\n",
    "     </ul>\n",
    " </div>\n",
    "'''\n",
    "html = etree.HTML(text)\n",
    "result = etree.tostring(html)\n",
    "print(result.decode('utf-8'))"
   ]
  },
  {
   "cell_type": "code",
   "execution_count": 3,
   "metadata": {},
   "outputs": [
    {
     "name": "stdout",
     "output_type": "stream",
     "text": [
      "<!DOCTYPE html PUBLIC \"-//W3C//DTD HTML 4.0 Transitional//EN\" \"http://www.w3.org/TR/REC-html40/loose.dtd\">\n",
      "<html><body><div>\n",
      "    <ul>\n",
      "         <li class=\"item-0\">\n",
      "             <a href=\"https://ask.hellobi.com/link1.html\">first item</a>\n",
      "         </li>\n",
      "         <li class=\"item-1\">\n",
      "             <a href=\"https://ask.hellobi.com/link2.html\">second item</a>\n",
      "         </li>\n",
      "         <li class=\"item-inactive\">\n",
      "             <a href=\"https://ask.hellobi.com/link3.html\">third item</a>\n",
      "         </li>\n",
      "         <li class=\"item-1\">\n",
      "             <a href=\"https://ask.hellobi.com/link4.html\">fourth item</a>\n",
      "         </li>\n",
      "         <li class=\"item-0\">\n",
      "             <a href=\"https://ask.hellobi.com/link5.html\">fifth item</a>\n",
      "         </li>\n",
      "     </ul>\n",
      " </div>\n",
      "</body></html>\n"
     ]
    }
   ],
   "source": [
    "from lxml import etree\n",
    "\n",
    "html = etree.parse('./test.html', etree.HTMLParser())\n",
    "result = etree.tostring(html)\n",
    "print(result.decode('utf-8'))"
   ]
  },
  {
   "cell_type": "code",
   "execution_count": 4,
   "metadata": {},
   "outputs": [
    {
     "name": "stdout",
     "output_type": "stream",
     "text": [
      "[<Element html at 0x10a4cba08>, <Element body at 0x10a47e408>, <Element div at 0x1082f6f88>, <Element ul at 0x108427e88>, <Element li at 0x10a4cba48>, <Element a at 0x10a4cbac8>, <Element li at 0x10a4cbb08>, <Element a at 0x10a4cbb48>, <Element li at 0x10a4cbb88>, <Element a at 0x10a4cba88>, <Element li at 0x10a4cbbc8>, <Element a at 0x10a4cbc08>, <Element li at 0x10a4cbc48>, <Element a at 0x10a4cbc88>]\n"
     ]
    }
   ],
   "source": [
    "from lxml import etree\n",
    "html = etree.parse('./test.html', etree.HTMLParser())\n",
    "\n",
    "\n",
    "\n",
    "\n",
    "\n",
    "result = html.xpath('//*')\n",
    "print(result)"
   ]
  },
  {
   "cell_type": "code",
   "execution_count": 5,
   "metadata": {},
   "outputs": [
    {
     "name": "stdout",
     "output_type": "stream",
     "text": [
      "[<Element li at 0x108427e08>, <Element li at 0x10a4cbe88>, <Element li at 0x10a4cbec8>, <Element li at 0x10a4cbf08>, <Element li at 0x10a4cbf48>]\n",
      "<Element li at 0x108427e08>\n"
     ]
    }
   ],
   "source": [
    "from lxml import etree\n",
    "html = etree.parse('./test.html', etree.HTMLParser())\n",
    "\n",
    "\n",
    "\n",
    "result = html.xpath('//li')\n",
    "print(result)\n",
    "print(result[0])"
   ]
  },
  {
   "cell_type": "code",
   "execution_count": 6,
   "metadata": {},
   "outputs": [
    {
     "name": "stdout",
     "output_type": "stream",
     "text": [
      "[<Element a at 0x10a47e388>, <Element a at 0x10a4cb948>, <Element a at 0x10a4cbb08>, <Element a at 0x10a4cbdc8>, <Element a at 0x10a4cbb48>]\n"
     ]
    }
   ],
   "source": [
    "from lxml import etree\n",
    "\n",
    "html = etree.parse('./test.html', etree.HTMLParser())\n",
    "result = html.xpath('//li/a')\n",
    "print(result)"
   ]
  },
  {
   "cell_type": "code",
   "execution_count": 7,
   "metadata": {},
   "outputs": [
    {
     "name": "stdout",
     "output_type": "stream",
     "text": [
      "[<Element a at 0x10a4cbd88>, <Element a at 0x10a4cbd08>, <Element a at 0x10a4cba88>, <Element a at 0x10a4cba08>, <Element a at 0x10a4cbbc8>]\n"
     ]
    }
   ],
   "source": [
    "from lxml import etree\n",
    "\n",
    "html = etree.parse('./test.html', etree.HTMLParser())\n",
    "result = html.xpath('//ul//a')\n",
    "print(result)"
   ]
  },
  {
   "cell_type": "code",
   "execution_count": 8,
   "metadata": {},
   "outputs": [
    {
     "name": "stdout",
     "output_type": "stream",
     "text": [
      "[]\n"
     ]
    }
   ],
   "source": [
    "from lxml import etree\n",
    "\n",
    "html = etree.parse('./test.html', etree.HTMLParser())\n",
    "result = html.xpath('//ul/a')\n",
    "print(result)"
   ]
  },
  {
   "cell_type": "code",
   "execution_count": 9,
   "metadata": {},
   "outputs": [
    {
     "name": "stdout",
     "output_type": "stream",
     "text": [
      "['item-1']\n"
     ]
    }
   ],
   "source": [
    "from lxml import etree\n",
    "\n",
    "html = etree.parse('./test.html', etree.HTMLParser())\n",
    "\n",
    "\n",
    "result = html.xpath('//a[@href=\"https://ask.hellobi.com/link4.html\"]/../@class')\n",
    "print(result)"
   ]
  },
  {
   "cell_type": "code",
   "execution_count": 10,
   "metadata": {},
   "outputs": [
    {
     "name": "stdout",
     "output_type": "stream",
     "text": [
      "['item-1']\n"
     ]
    }
   ],
   "source": [
    "from lxml import etree\n",
    "\n",
    "html = etree.parse('./test.html', etree.HTMLParser())\n",
    "result = html.xpath('//a[@href=\"https://ask.hellobi.com/link4.html\"]/parent::*/@class')\n",
    "print(result)"
   ]
  },
  {
   "cell_type": "code",
   "execution_count": 11,
   "metadata": {},
   "outputs": [
    {
     "name": "stdout",
     "output_type": "stream",
     "text": [
      "[<Element li at 0x108427c48>, <Element li at 0x10a4cba08>]\n"
     ]
    }
   ],
   "source": [
    "from lxml import etree\n",
    "html = etree.parse('./test.html', etree.HTMLParser())\n",
    "result = html.xpath('//li[@class=\"item-0\"]')\n",
    "print(result)"
   ]
  },
  {
   "cell_type": "code",
   "execution_count": 18,
   "metadata": {},
   "outputs": [
    {
     "name": "stdout",
     "output_type": "stream",
     "text": [
      "['SimpleText']\n"
     ]
    }
   ],
   "source": [
    "from lxml import etree\n",
    "\n",
    "html = etree.parse('./test.html', etree.HTMLParser())\n",
    "result = html.xpath('//li[@class=\"item-0\"]/text()')\n",
    "print(result)"
   ]
  },
  {
   "cell_type": "code",
   "execution_count": 19,
   "metadata": {},
   "outputs": [
    {
     "name": "stdout",
     "output_type": "stream",
     "text": [
      "['first item', 'fifth item']\n"
     ]
    }
   ],
   "source": [
    "from lxml import etree\n",
    "\n",
    "html = etree.parse('./test.html', etree.HTMLParser())\n",
    "result = html.xpath('//li[@class=\"item-0\"]/a/text()')\n",
    "print(result)"
   ]
  },
  {
   "cell_type": "code",
   "execution_count": 20,
   "metadata": {},
   "outputs": [
    {
     "name": "stdout",
     "output_type": "stream",
     "text": [
      "['first item', 'fifth item']\n"
     ]
    }
   ],
   "source": [
    "from lxml import etree\n",
    "\n",
    "html = etree.parse('./test.html', etree.HTMLParser())\n",
    "result = html.xpath('//li[@class=\"item-0\"]//text()')\n",
    "print(result)"
   ]
  },
  {
   "cell_type": "code",
   "execution_count": 21,
   "metadata": {},
   "outputs": [
    {
     "name": "stdout",
     "output_type": "stream",
     "text": [
      "['https://ask.hellobi.com/link1.html', 'https://ask.hellobi.com/link2.html', 'https://ask.hellobi.com/link3.html', 'https://ask.hellobi.com/link4.html', 'https://ask.hellobi.com/link5.html']\n"
     ]
    }
   ],
   "source": [
    "from lxml import etree\n",
    "\n",
    "html = etree.parse('./test.html', etree.HTMLParser())\n",
    "result = html.xpath('//li/a/@href')\n",
    "print(result)"
   ]
  },
  {
   "cell_type": "code",
   "execution_count": 23,
   "metadata": {},
   "outputs": [
    {
     "name": "stdout",
     "output_type": "stream",
     "text": [
      "['first item']\n"
     ]
    }
   ],
   "source": [
    "from lxml import etree\n",
    "text = '''\n",
    "<li class=\"li li-first\"><a href=\"https://ask.hellobi.com/link.html\">first item</a></li>\n",
    "'''\n",
    "html = etree.HTML(text)\n",
    "result = html.xpath('//li[@class=\"li\"]/a/text()')\n",
    "print(result)"
   ]
  },
  {
   "cell_type": "code",
   "execution_count": null,
   "metadata": {},
   "outputs": [],
   "source": [
    "from lxml import etree\n",
    "text = '''\n",
    "<li class=\"li li-first\"><a href=\"https://ask.hellobi.com/link.html\">first item</a></li>\n",
    "'''\n",
    "html = etree.HTML(text)\n",
    "result = html.xpath('//li[contains(@class, \"li\")]/a/text()')\n",
    "print(result)"
   ]
  },
  {
   "cell_type": "code",
   "execution_count": 24,
   "metadata": {},
   "outputs": [
    {
     "name": "stdout",
     "output_type": "stream",
     "text": [
      "['first item']\n"
     ]
    }
   ],
   "source": [
    "from lxml import etree\n",
    "text = '''\n",
    "<li class=\"li li-first\" name=\"item\"><a href=\"https://ask.hellobi.com/link.html\">first item</a></li>\n",
    "'''\n",
    "html = etree.HTML(text)\n",
    "result = html.xpath('//li[contains(@class, \"li\") and @name=\"item\"]/a/text()')\n",
    "print(result)"
   ]
  },
  {
   "cell_type": "code",
   "execution_count": 25,
   "metadata": {},
   "outputs": [
    {
     "name": "stdout",
     "output_type": "stream",
     "text": [
      "['first item']\n",
      "['fifth item']\n",
      "['first item', 'second item']\n",
      "['third item']\n"
     ]
    }
   ],
   "source": [
    "from lxml import etree\n",
    "\n",
    "text = '''\n",
    "<div>\n",
    "    <ul>\n",
    "         <li class=\"item-0\"><a href=\"https://ask.hellobi.com/link1.html\">first item</a></li>\n",
    "         <li class=\"item-1\"><a href=\"https://ask.hellobi.com/link2.html\">second item</a></li>\n",
    "         <li class=\"item-inactive\"><a href=\"https://ask.hellobi.com/link3.html\">third item</a></li>\n",
    "         <li class=\"item-1\"><a href=\"https://ask.hellobi.com/link4.html\">fourth item</a></li>\n",
    "         <li class=\"item-0\"><a href=\"https://ask.hellobi.com/link5.html\">fifth item</a>\n",
    "     </ul>\n",
    " </div>\n",
    "'''\n",
    "html = etree.HTML(text)\n",
    "result = html.xpath('//li[1]/a/text()')\n",
    "print(result)\n",
    "result = html.xpath('//li[last()]/a/text()')\n",
    "print(result)\n",
    "result = html.xpath('//li[position()<3]/a/text()')\n",
    "print(result)\n",
    "result = html.xpath('//li[last()-2]/a/text()')\n",
    "print(result)"
   ]
  },
  {
   "cell_type": "code",
   "execution_count": 26,
   "metadata": {},
   "outputs": [
    {
     "name": "stdout",
     "output_type": "stream",
     "text": [
      "[<Element html at 0x10a4e6c08>, <Element body at 0x10a4e6c88>, <Element div at 0x10a4e6cc8>, <Element ul at 0x10a4e6d08>]\n",
      "[<Element div at 0x10a4e6cc8>]\n",
      "['item-0']\n",
      "[<Element a at 0x10a4dfc88>]\n",
      "[<Element span at 0x10a4e6c88>]\n",
      "[<Element a at 0x10a4dfc88>]\n",
      "[<Element li at 0x10a4e6c88>, <Element li at 0x10a4e6d08>, <Element li at 0x10a4e6d48>, <Element li at 0x10a4e6d88>]\n"
     ]
    }
   ],
   "source": [
    "from lxml import etree\n",
    "\n",
    "text = '''\n",
    "<div>\n",
    "    <ul>\n",
    "         <li class=\"item-0\"><a href=\"https://ask.hellobi.com/link1.html\"><span>first item</span></a></li>\n",
    "         <li class=\"item-1\"><a href=\"https://ask.hellobi.com/link2.html\">second item</a></li>\n",
    "         <li class=\"item-inactive\"><a href=\"https://ask.hellobi.com/link3.html\">third item</a></li>\n",
    "         <li class=\"item-1\"><a href=\"https://ask.hellobi.com/link4.html\">fourth item</a></li>\n",
    "         <li class=\"item-0\"><a href=\"https://ask.hellobi.com/link5.html\">fifth item</a>\n",
    "     </ul>\n",
    " </div>\n",
    "'''\n",
    "html = etree.HTML(text)\n",
    "result = html.xpath('//li[1]/ancestor::*')\n",
    "print(result)\n",
    "result = html.xpath('//li[1]/ancestor::div')\n",
    "print(result)\n",
    "result = html.xpath('//li[1]/attribute::*')\n",
    "print(result)\n",
    "result = html.xpath('//li[1]/child::a[@href=\"https://ask.hellobi.com/link1.html\"]')\n",
    "print(result)\n",
    "result = html.xpath('//li[1]/descendant::span')\n",
    "print(result)\n",
    "result = html.xpath('//li[1]/following::*[2]')\n",
    "print(result)\n",
    "result = html.xpath('//li[1]/following-sibling::*')\n",
    "print(result)"
   ]
  },
  {
   "cell_type": "code",
   "execution_count": null,
   "metadata": {},
   "outputs": [],
   "source": []
  }
 ],
 "metadata": {
  "kernelspec": {
   "display_name": "Python 3",
   "language": "python",
   "name": "python3"
  },
  "language_info": {
   "codemirror_mode": {
    "name": "ipython",
    "version": 3
   },
   "file_extension": ".py",
   "mimetype": "text/x-python",
   "name": "python",
   "nbconvert_exporter": "python",
   "pygments_lexer": "ipython3",
   "version": "3.6.8"
  }
 },
 "nbformat": 4,
 "nbformat_minor": 2
}
