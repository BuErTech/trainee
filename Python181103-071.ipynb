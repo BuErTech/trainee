{
 "cells": [
  {
   "cell_type": "markdown",
   "metadata": {},
   "source": [
    "# 题目：编写input()和output()函数输入，输出5个学生的数据记录\n",
    "# 程序分析：无"
   ]
  },
  {
   "cell_type": "code",
   "execution_count": null,
   "metadata": {},
   "outputs": [],
   "source": [
    "#!/usr/bin/python\n",
    "# -*- coding: UTF-8 -*-\n",
    " \n",
    "N = 3\n",
    "#stu\n",
    "# num : string\n",
    "# name : string\n",
    "# score[4]: list\n",
    "student = []\n",
    "for i in range(5):\n",
    "    student.append(['','',[]])\n",
    " \n",
    "def input_stu(stu):\n",
    "    for i in range(N):\n",
    "        stu[i][0] = input('input student num:\\n')\n",
    "        stu[i][1] = input('input student name:\\n')\n",
    "        for j in range(3):\n",
    "            stu[i][2].append(int(input('score:\\n')))\n",
    " \n",
    "def output_stu(stu):\n",
    "    for i in range(N):\n",
    "        print( '%-6s%-10s') % ( stu[i][0],stu[i][1] )\n",
    "        for j in range(3):\n",
    "            print( '%-8d') % (stu[i][2][j])\n",
    " \n",
    "if __name__ == '__main__':\n",
    "    input_stu(student)\n",
    "    print( student)\n",
    "    output_stu(student)\n"
   ]
  },
  {
   "cell_type": "code",
   "execution_count": null,
   "metadata": {},
   "outputs": [],
   "source": []
  }
 ],
 "metadata": {
  "kernelspec": {
   "display_name": "Python 3",
   "language": "python",
   "name": "python3"
  },
  "language_info": {
   "codemirror_mode": {
    "name": "ipython",
    "version": 3
   },
   "file_extension": ".py",
   "mimetype": "text/x-python",
   "name": "python",
   "nbconvert_exporter": "python",
   "pygments_lexer": "ipython3",
   "version": "3.7.0"
  }
 },
 "nbformat": 4,
 "nbformat_minor": 2
}
