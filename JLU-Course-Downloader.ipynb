{
 "cells": [
  {
   "cell_type": "code",
   "execution_count": 30,
   "metadata": {},
   "outputs": [
    {
     "name": "stdout",
     "output_type": "stream",
     "text": [
      "['http:', '', 'dec3.jlu.edu.cn', 'webcourse', 'T000116', 'ppt', '']\n",
      "/Users/lw/WorkSpace/国际人课程视频录制/吉林大学高等数学/ppt/\n",
      "http://dec3.jlu.edu.cn/webcourse/T000116/ppt/D1_10_23.ppt\n",
      "/Users/lw/WorkSpace/国际人课程视频录制/吉林大学高等数学/ppt/D1_10_23.ppt\n",
      "http://dec3.jlu.edu.cn/webcourse/T000116/ppt/D1_1_1-3.ppt\n",
      "/Users/lw/WorkSpace/国际人课程视频录制/吉林大学高等数学/ppt/D1_1_1-3.ppt\n",
      "http://dec3.jlu.edu.cn/webcourse/T000116/ppt/D1_2_6-7.ppt\n",
      "/Users/lw/WorkSpace/国际人课程视频录制/吉林大学高等数学/ppt/D1_2_6-7.ppt\n",
      "http://dec3.jlu.edu.cn/webcourse/T000116/ppt/D1_3_8-9.ppt\n",
      "/Users/lw/WorkSpace/国际人课程视频录制/吉林大学高等数学/ppt/D1_3_8-9.ppt\n",
      "http://dec3.jlu.edu.cn/webcourse/T000116/ppt/D1_4_10.ppt\n",
      "/Users/lw/WorkSpace/国际人课程视频录制/吉林大学高等数学/ppt/D1_4_10.ppt\n",
      "http://dec3.jlu.edu.cn/webcourse/T000116/ppt/D1_5_11-12.ppt\n",
      "/Users/lw/WorkSpace/国际人课程视频录制/吉林大学高等数学/ppt/D1_5_11-12.ppt\n",
      "http://dec3.jlu.edu.cn/webcourse/T000116/ppt/D1_6_13.ppt\n",
      "/Users/lw/WorkSpace/国际人课程视频录制/吉林大学高等数学/ppt/D1_6_13.ppt\n",
      "http://dec3.jlu.edu.cn/webcourse/T000116/ppt/D1_7_14.ppt\n",
      "/Users/lw/WorkSpace/国际人课程视频录制/吉林大学高等数学/ppt/D1_7_14.ppt\n",
      "http://dec3.jlu.edu.cn/webcourse/T000116/ppt/D1_8_21.ppt\n",
      "/Users/lw/WorkSpace/国际人课程视频录制/吉林大学高等数学/ppt/D1_8_21.ppt\n",
      "http://dec3.jlu.edu.cn/webcourse/T000116/ppt/D1_9_22.ppt\n",
      "/Users/lw/WorkSpace/国际人课程视频录制/吉林大学高等数学/ppt/D1_9_22.ppt\n",
      "http://dec3.jlu.edu.cn/webcourse/T000116/ppt/D1xiti26-28.ppt\n",
      "/Users/lw/WorkSpace/国际人课程视频录制/吉林大学高等数学/ppt/D1xiti26-28.ppt\n",
      "http://dec3.jlu.edu.cn/webcourse/T000116/ppt/D2_1_29-30.ppt\n",
      "/Users/lw/WorkSpace/国际人课程视频录制/吉林大学高等数学/ppt/D2_1_29-30.ppt\n",
      "http://dec3.jlu.edu.cn/webcourse/T000116/ppt/D2_2_31.ppt\n",
      "/Users/lw/WorkSpace/国际人课程视频录制/吉林大学高等数学/ppt/D2_2_31.ppt\n",
      "http://dec3.jlu.edu.cn/webcourse/T000116/ppt/D2_3_32.ppt\n",
      "/Users/lw/WorkSpace/国际人课程视频录制/吉林大学高等数学/ppt/D2_3_32.ppt\n",
      "http://dec3.jlu.edu.cn/webcourse/T000116/ppt/D2_4_33.ppt\n",
      "/Users/lw/WorkSpace/国际人课程视频录制/吉林大学高等数学/ppt/D2_4_33.ppt\n",
      "http://dec3.jlu.edu.cn/webcourse/T000116/ppt/D2_5_34.ppt\n",
      "/Users/lw/WorkSpace/国际人课程视频录制/吉林大学高等数学/ppt/D2_5_34.ppt\n",
      "http://dec3.jlu.edu.cn/webcourse/T000116/ppt/D2xiti47.ppt\n",
      "/Users/lw/WorkSpace/国际人课程视频录制/吉林大学高等数学/ppt/D2xiti47.ppt\n",
      "http://dec3.jlu.edu.cn/webcourse/T000116/ppt/D3_1_39.ppt\n",
      "/Users/lw/WorkSpace/国际人课程视频录制/吉林大学高等数学/ppt/D3_1_39.ppt\n",
      "http://dec3.jlu.edu.cn/webcourse/T000116/ppt/D3_2_40.ppt\n",
      "/Users/lw/WorkSpace/国际人课程视频录制/吉林大学高等数学/ppt/D3_2_40.ppt\n",
      "http://dec3.jlu.edu.cn/webcourse/T000116/ppt/D3_4_41.ppt\n",
      "/Users/lw/WorkSpace/国际人课程视频录制/吉林大学高等数学/ppt/D3_4_41.ppt\n",
      "http://dec3.jlu.edu.cn/webcourse/T000116/ppt/D3_5_42-43.ppt\n",
      "/Users/lw/WorkSpace/国际人课程视频录制/吉林大学高等数学/ppt/D3_5_42-43.ppt\n",
      "http://dec3.jlu.edu.cn/webcourse/T000116/ppt/D3xiti48.ppt\n",
      "/Users/lw/WorkSpace/国际人课程视频录制/吉林大学高等数学/ppt/D3xiti48.ppt\n",
      "http://dec3.jlu.edu.cn/webcourse/T000116/ppt/disi79-93.ppt\n",
      "/Users/lw/WorkSpace/国际人课程视频录制/吉林大学高等数学/ppt/disi79-93.ppt\n",
      "http://dec3.jlu.edu.cn/webcourse/T000116/ppt/disixiti94-111.ppt\n",
      "/Users/lw/WorkSpace/国际人课程视频录制/吉林大学高等数学/ppt/disixiti94-111.ppt\n",
      "http://dec3.jlu.edu.cn/webcourse/T000116/ppt/diwu112-116.ppt\n",
      "/Users/lw/WorkSpace/国际人课程视频录制/吉林大学高等数学/ppt/diwu112-116.ppt\n",
      "http://dec3.jlu.edu.cn/webcourse/T000116/ppt/diwuxiti117-123.ppt\n",
      "/Users/lw/WorkSpace/国际人课程视频录制/吉林大学高等数学/ppt/diwuxiti117-123.ppt\n"
     ]
    }
   ],
   "source": [
    "from lxml import etree\n",
    "import requests\n",
    "import os\n",
    "\n",
    "'''\n",
    "这是一个专门用来抓取吉林大学的 PPT 的程序\n",
    "\n",
    "@author Lincoln\n",
    "@date   2019年08月25日11:51:43\n",
    "'''\n",
    "\n",
    "# URL 地址\n",
    "jlu = 'http://dec3.jlu.edu.cn/webcourse/T000133/esource/dzja/'\n",
    "# 字符串分割\n",
    "exploded = jlu.split('/')\n",
    "\n",
    "# 打印出来看看\n",
    "print(exploded)\n",
    "\n",
    "# 要保存到的地址，如果是 Windows 的，要进行修改。\n",
    "baseDir = \"/Users/lw/WorkSpace/国际人课程视频录制/吉林大学统计学\"\n",
    "\n",
    "# 取倒数第二个。\n",
    "dir = exploded[-2]\n",
    "# 再打印出来看看\n",
    "print(baseDir+\"/\"+dir+\"/\")\n",
    "\n",
    "content = requests.get(jlu).content\n",
    "# print(content)\n",
    "selector = etree.HTML(content)\n",
    "result = selector.xpath('//body/pre/a/@href')\n",
    "\n",
    "for link in result:\n",
    "    if link.endswith('.ppt'):\n",
    "        print('http://dec3.jlu.edu.cn'+link)\n",
    "        \n",
    "        htmlContent = requests.get('http://dec3.jlu.edu.cn'+link).content\n",
    "        \n",
    "        fileNames = link.split('/')\n",
    "        if not os.path.exists(baseDir+\"/\"+dir+\"/\"):\n",
    "            os.makedirs(baseDir+\"/\"+dir+\"/\")\n",
    "            \n",
    "        finalFileName = baseDir+\"/\"+dir+\"/\"+fileNames[-1]\n",
    "        \n",
    "        print(finalFileName)\n",
    "        with open(finalFileName, 'wb') as fp:\n",
    "            fp.write(htmlContent)"
   ]
  },
  {
   "cell_type": "code",
   "execution_count": null,
   "metadata": {},
   "outputs": [],
   "source": []
  }
 ],
 "metadata": {
  "kernelspec": {
   "display_name": "Python 3",
   "language": "python",
   "name": "python3"
  },
  "language_info": {
   "codemirror_mode": {
    "name": "ipython",
    "version": 3
   },
   "file_extension": ".py",
   "mimetype": "text/x-python",
   "name": "python",
   "nbconvert_exporter": "python",
   "pygments_lexer": "ipython3",
   "version": "3.6.8"
  },
  "varInspector": {
   "cols": {
    "lenName": 16,
    "lenType": 16,
    "lenVar": 40
   },
   "kernels_config": {
    "python": {
     "delete_cmd_postfix": "",
     "delete_cmd_prefix": "del ",
     "library": "var_list.py",
     "varRefreshCmd": "print(var_dic_list())"
    },
    "r": {
     "delete_cmd_postfix": ") ",
     "delete_cmd_prefix": "rm(",
     "library": "var_list.r",
     "varRefreshCmd": "cat(var_dic_list()) "
    }
   },
   "types_to_exclude": [
    "module",
    "function",
    "builtin_function_or_method",
    "instance",
    "_Feature"
   ],
   "window_display": false
  }
 },
 "nbformat": 4,
 "nbformat_minor": 2
}
