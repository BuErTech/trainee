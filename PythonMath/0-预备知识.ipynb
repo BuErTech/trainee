{
 "cells": [
  {
   "cell_type": "markdown",
   "metadata": {},
   "source": [
    "![](https://tva1.sinaimg.cn/large/006y8mN6ly1g9dvbxu9dfj30mo0crn01.jpg)\n",
    "\n",
    "\n",
    "预备知识：\n",
    "\n",
    "1. sympy\n",
    "\n",
    "Python有一个神奇的函数库叫 SymPy的符号库。至今，它的版本也是0.7，但已经很有用了。\n",
    "已有人写了非常好的教程让我们体验这个函数库的魅力！\n",
    "[sympy/sympy](https://github.com/sympy/sympy/wiki/Quick-examples)\n",
    "\n",
    "[帮助文档](https://docs.sympy.org/latest/tutorial/index.html)\n",
    "\n",
    "\n",
    "2. SciPy 求解非线性方程组\n",
    "\n",
    "当然，SciPy 也可以用来求解线性方程组，这是因为 scipy.optimize.fsolve 本质上是最小二乘法来逼近真实结果.\n",
    "\n",
    "3. SymPy 通吃一切\n"
   ]
  },
  {
   "cell_type": "code",
   "execution_count": null,
   "metadata": {},
   "outputs": [],
   "source": []
  },
  {
   "cell_type": "code",
   "execution_count": null,
   "metadata": {},
   "outputs": [],
   "source": []
  }
 ],
 "metadata": {
  "kernelspec": {
   "display_name": "Python 3",
   "language": "python",
   "name": "python3"
  },
  "language_info": {
   "codemirror_mode": {
    "name": "ipython",
    "version": 3
   },
   "file_extension": ".py",
   "mimetype": "text/x-python",
   "name": "python",
   "nbconvert_exporter": "python",
   "pygments_lexer": "ipython3",
   "version": "3.6.8"
  }
 },
 "nbformat": 4,
 "nbformat_minor": 2
}
