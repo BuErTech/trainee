{
 "cells": [
  {
   "cell_type": "code",
   "execution_count": 1,
   "metadata": {},
   "outputs": [
    {
     "name": "stdout",
     "output_type": "stream",
     "text": [
      "Current Thread Name Thread-6, Url: http://www.pythontab.com/html/pythonjichu/2.html \n",
      "Current Thread Name Thread-7, Url: http://www.pythontab.com/html/pythonjichu/3.html \n",
      "Current Thread Name Thread-8, Url: http://www.pythontab.com/html/pythonjichu/4.html Current Thread Name Thread-9, Url: http://www.pythontab.com/html/pythonjichu/5.html \n",
      "\n",
      "Current Thread Name Thread-7, Url: http://www.pythontab.com/html/pythonjichu/6.html \n",
      "Current Thread Name Thread-6, Url: http://www.pythontab.com/html/pythonjichu/7.html \n",
      "Current Thread Name Thread-8, Url: http://www.pythontab.com/html/pythonjichu/8.html \n",
      "Current Thread Name Thread-9, Url: http://www.pythontab.com/html/pythonjichu/9.html \n",
      "Done, Time cost: 3.10254168510437 \n"
     ]
    }
   ],
   "source": [
    "# coding=utf-8\n",
    "import threading, queue, time, urllib\n",
    "from urllib import request\n",
    "baseUrl = 'http://www.pythontab.com/html/pythonjichu/'\n",
    "urlQueue = queue.Queue()\n",
    "for i in range(2, 10):\n",
    " url = baseUrl + str(i) + '.html'\n",
    " urlQueue.put(url)\n",
    " #print(url)\n",
    "def fetchUrl(urlQueue):\n",
    " while True:\n",
    "  try:\n",
    "   #不阻塞的读取队列数据\n",
    "   url = urlQueue.get_nowait()\n",
    "   i = urlQueue.qsize()\n",
    "  except Exception as e:\n",
    "   break\n",
    "  print ('Current Thread Name %s, Url: %s ' % (threading.currentThread().name, url))\n",
    "  try:\n",
    "   response = urllib.request.urlopen(url)\n",
    "   responseCode = response.getcode()\n",
    "  except Exception as e:\n",
    "   continue\n",
    "  if responseCode == 200:\n",
    "   #抓取内容的数据处理可以放到这里\n",
    "   #为了突出效果， 设置延时\n",
    "   time.sleep(1)\n",
    "if __name__ == '__main__':\n",
    " startTime = time.time()\n",
    " threads = []\n",
    " # 可以调节线程数， 进而控制抓取速度\n",
    " threadNum = 4\n",
    " for i in range(0, threadNum):\n",
    "  t = threading.Thread(target=fetchUrl, args=(urlQueue,))\n",
    "  threads.append(t)\n",
    " for t in threads:\n",
    "  t.start()\n",
    " for t in threads:\n",
    "  #多线程多join的情况下，依次执行各线程的join方法, 这样可以确保主线程最后退出， 且各个线程间没有阻塞\n",
    "  t.join()\n",
    " endTime = time.time()\n",
    " print ('Done, Time cost: %s ' % (endTime - startTime))"
   ]
  },
  {
   "cell_type": "code",
   "execution_count": null,
   "metadata": {},
   "outputs": [],
   "source": []
  }
 ],
 "metadata": {
  "kernelspec": {
   "display_name": "Python 3",
   "language": "python",
   "name": "python3"
  },
  "language_info": {
   "codemirror_mode": {
    "name": "ipython",
    "version": 3
   },
   "file_extension": ".py",
   "mimetype": "text/x-python",
   "name": "python",
   "nbconvert_exporter": "python",
   "pygments_lexer": "ipython3",
   "version": "3.7.0"
  }
 },
 "nbformat": 4,
 "nbformat_minor": 2
}
