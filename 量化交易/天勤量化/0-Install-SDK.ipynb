{
 "cells": [
  {
   "cell_type": "code",
   "execution_count": 1,
   "metadata": {},
   "outputs": [
    {
     "name": "stdout",
     "output_type": "stream",
     "text": [
      "Collecting tqsdk\n",
      "\u001b[?25l  Downloading https://files.pythonhosted.org/packages/13/99/374edf8ee5d189d6648a6b46f59cf6b4558e7e90fd798814915a83e61c5e/tqsdk-1.8.3-py3-none-any.whl (2.2MB)\n",
      "\u001b[K    100% |████████████████████████████████| 2.2MB 60kB/s \n",
      "\u001b[?25hRequirement already satisfied: certifi in /Users/lw/anaconda3/lib/python3.6/site-packages (from tqsdk) (2019.6.16)\n",
      "Requirement already satisfied: pandas>=0.24.0 in /Users/lw/anaconda3/lib/python3.6/site-packages (from tqsdk) (1.0.3)\n",
      "Requirement already satisfied: simplejson in /Users/lw/anaconda3/lib/python3.6/site-packages (from tqsdk) (3.16.0)\n",
      "Requirement already satisfied: scipy in /Users/lw/anaconda3/lib/python3.6/site-packages (from tqsdk) (1.2.0)\n",
      "Requirement already satisfied: numpy in /Users/lw/anaconda3/lib/python3.6/site-packages (from tqsdk) (1.18.1)\n",
      "Collecting websockets>=8.1 (from tqsdk)\n",
      "\u001b[?25l  Downloading https://files.pythonhosted.org/packages/1b/d0/df088c0bcb09efdf643f26df5ba3e40bb7e79cae34b3fa48d547da658c5c/websockets-8.1-cp36-cp36m-macosx_10_6_intel.whl (66kB)\n",
      "\u001b[K    100% |████████████████████████████████| 71kB 72kB/s \n",
      "\u001b[?25hRequirement already satisfied: requests in /Users/lw/anaconda3/lib/python3.6/site-packages (from tqsdk) (2.21.0)\n",
      "Requirement already satisfied: pyjwt in /Users/lw/anaconda3/lib/python3.6/site-packages (from tqsdk) (1.7.1)\n",
      "Collecting aiohttp (from tqsdk)\n",
      "\u001b[?25l  Downloading https://files.pythonhosted.org/packages/6c/f5/d4e0798a6fbbd0c59d0ac2d24a1d29ece7279d9bb7403b01da2c2d2bd841/aiohttp-3.6.2-cp36-cp36m-macosx_10_13_x86_64.whl (646kB)\n",
      "\u001b[K    100% |████████████████████████████████| 655kB 46kB/s \n",
      "\u001b[?25hRequirement already satisfied: pytz>=2017.2 in /Users/lw/anaconda3/lib/python3.6/site-packages (from pandas>=0.24.0->tqsdk) (2018.7)\n",
      "Requirement already satisfied: python-dateutil>=2.6.1 in /Users/lw/anaconda3/lib/python3.6/site-packages (from pandas>=0.24.0->tqsdk) (2.7.5)\n",
      "Requirement already satisfied: idna<2.9,>=2.5 in /Users/lw/anaconda3/lib/python3.6/site-packages (from requests->tqsdk) (2.8)\n",
      "Requirement already satisfied: chardet<3.1.0,>=3.0.2 in /Users/lw/anaconda3/lib/python3.6/site-packages (from requests->tqsdk) (3.0.4)\n",
      "Requirement already satisfied: urllib3<1.25,>=1.21.1 in /Users/lw/anaconda3/lib/python3.6/site-packages (from requests->tqsdk) (1.24.1)\n",
      "Collecting typing-extensions>=3.6.5; python_version < \"3.7\" (from aiohttp->tqsdk)\n",
      "  Downloading https://files.pythonhosted.org/packages/60/7a/e881b5abb54db0e6e671ab088d079c57ce54e8a01a3ca443f561ccadb37e/typing_extensions-3.7.4.3-py3-none-any.whl\n",
      "Requirement already satisfied: attrs>=17.3.0 in /Users/lw/anaconda3/lib/python3.6/site-packages (from aiohttp->tqsdk) (18.2.0)\n",
      "Collecting async-timeout<4.0,>=3.0 (from aiohttp->tqsdk)\n",
      "  Downloading https://files.pythonhosted.org/packages/e1/1e/5a4441be21b0726c4464f3f23c8b19628372f606755a9d2e46c187e65ec4/async_timeout-3.0.1-py3-none-any.whl\n",
      "Collecting yarl<2.0,>=1.0 (from aiohttp->tqsdk)\n",
      "\u001b[?25l  Downloading https://files.pythonhosted.org/packages/08/1a/51cc6eafd7493d584359eef352526aefeedca94892d49a58ab8791aac193/yarl-1.5.1-cp36-cp36m-macosx_10_14_x86_64.whl (129kB)\n",
      "\u001b[K    100% |████████████████████████████████| 133kB 62kB/s \n",
      "\u001b[?25hCollecting idna-ssl>=1.0; python_version < \"3.7\" (from aiohttp->tqsdk)\n",
      "  Downloading https://files.pythonhosted.org/packages/46/03/07c4894aae38b0de52b52586b24bf189bb83e4ddabfe2e2c8f2419eec6f4/idna-ssl-1.1.0.tar.gz\n",
      "Collecting multidict<5.0,>=4.5 (from aiohttp->tqsdk)\n",
      "\u001b[?25l  Downloading https://files.pythonhosted.org/packages/4f/d8/7c41de9ead20a74aa5c43a6b87d22152d525cb41b1803486e38514233f5b/multidict-4.7.6-cp36-cp36m-macosx_10_14_x86_64.whl (48kB)\n",
      "\u001b[K    100% |████████████████████████████████| 51kB 42kB/s \n",
      "\u001b[?25hRequirement already satisfied: six>=1.5 in /Users/lw/anaconda3/lib/python3.6/site-packages (from python-dateutil>=2.6.1->pandas>=0.24.0->tqsdk) (1.12.0)\n",
      "Building wheels for collected packages: idna-ssl\n",
      "  Running setup.py bdist_wheel for idna-ssl ... \u001b[?25ldone\n",
      "\u001b[?25h  Stored in directory: /Users/lw/Library/Caches/pip/wheels/d3/00/b3/32d613e19e08a739751dd6bf998cfed277728f8b2127ad4eb7\n",
      "Successfully built idna-ssl\n",
      "Installing collected packages: websockets, typing-extensions, async-timeout, multidict, yarl, idna-ssl, aiohttp, tqsdk\n",
      "  Found existing installation: websockets 7.0\n",
      "    Uninstalling websockets-7.0:\n",
      "      Successfully uninstalled websockets-7.0\n",
      "Successfully installed aiohttp-3.6.2 async-timeout-3.0.1 idna-ssl-1.1.0 multidict-4.7.6 tqsdk-1.8.3 typing-extensions-3.7.4.3 websockets-8.1 yarl-1.5.1\n"
     ]
    }
   ],
   "source": [
    "!pip install tqsdk"
   ]
  },
  {
   "cell_type": "code",
   "execution_count": null,
   "metadata": {},
   "outputs": [],
   "source": []
  }
 ],
 "metadata": {
  "kernelspec": {
   "display_name": "Python 3",
   "language": "python",
   "name": "python3"
  },
  "language_info": {
   "codemirror_mode": {
    "name": "ipython",
    "version": 3
   },
   "file_extension": ".py",
   "mimetype": "text/x-python",
   "name": "python",
   "nbconvert_exporter": "python",
   "pygments_lexer": "ipython3",
   "version": "3.6.8"
  }
 },
 "nbformat": 4,
 "nbformat_minor": 2
}
