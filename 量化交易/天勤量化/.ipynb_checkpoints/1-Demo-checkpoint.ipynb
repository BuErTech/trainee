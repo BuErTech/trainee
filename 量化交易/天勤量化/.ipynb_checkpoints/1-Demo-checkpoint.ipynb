{
 "cells": [
  {
   "cell_type": "code",
   "execution_count": null,
   "metadata": {},
   "outputs": [],
   "source": [
    "from tqsdk import TqApi\n",
    "# 创建API实例 \n",
    "api = TqApi()\n",
    "# 获得上期所 cu2001 的行情引用，当行情有变化时 quote 中的字段会对应更新\n",
    "quote = api.get_quote(\"SHFE.cu2001\")\n",
    "while True:\n",
    "    # 调用 wait_update 等待业务信息发生变化，例如: 行情发生变化, 委托单状态变化, 发生成交等等\n",
    "    api.wait_update()\n",
    "    # 每当业务信息有变化时就输出 cu2001 的最新行情时间和最新价\n",
    "    # 注意：其他合约的行情的更新也会触发业务信息变化，因此这里可能会将同一笔行情输出多次\n",
    "    print(quote.datetime, quote.last_price)"
   ]
  }
 ],
 "metadata": {
  "kernelspec": {
   "display_name": "Python 3",
   "language": "python",
   "name": "python3"
  },
  "language_info": {
   "codemirror_mode": {
    "name": "ipython",
    "version": 3
   },
   "file_extension": ".py",
   "mimetype": "text/x-python",
   "name": "python",
   "nbconvert_exporter": "python",
   "pygments_lexer": "ipython3",
   "version": "3.6.8"
  }
 },
 "nbformat": 4,
 "nbformat_minor": 2
}
