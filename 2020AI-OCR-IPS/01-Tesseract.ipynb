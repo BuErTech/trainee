{
 "cells": [
  {
   "cell_type": "markdown",
   "metadata": {},
   "source": [
    "## 简介\n",
    "\n",
    "\n",
    "可以使用pytesseract库从图像中提取文本。[Tesseract](https://github.com/tesseract-ocr/tesseract)是一款由Google赞助的开源OCR。 pytesseract是python包装器，它为可执行文件提供了pythonic API。\n",
    "\n",
    "Tesseract(/'tesərækt/) 这个词的意思是\"超立方体\"，指的是几何学里的四维标准方体，又称\"正八胞体\"。下图是一个正八胞体绕着两个四维空间中互相正交的平面进行双旋转时的透视投影。不过这里要讲的，是一款以其命名的开源 OCR(Optical Character Recognition, 光学字符识别) 软件。\n",
    "\n",
    "所谓 OCR 是图像识别领域中的一个子领域，该领域专注于对图片中的文字信息进行识别并转换成能被常规文本编辑器编辑的文本。\n",
    "\n",
    "Tesseract 已经有 30 年历史，开始它是惠普实验室的一款专利软件，然后在 2005 年开源，自 2006 年后由 Google 赞助进行后续的开发和维护。\n",
    "\n",
    "在 1995 年 Tesseract 曾是世界前三的 OCR 引擎，而且在现在的免费 OCR 引擎中，其识别精度也仍然是出类拔萃的。因为其免费与较好的效果，许多的个人开发者以及一些较小的团队在使用着 Tesseract ，诸如验证码识别、车牌号识别等应用中，不难见到 Tesseract 的身影。 \n",
    "\n",
    "\n",
    "## 安装  https://github.com/tesseract-ocr/tesseract/wiki\n",
    "\n",
    "\n",
    "以ubuntu 16.04为例\n",
    "\n",
    "```shell\n",
    "# pip3 install pytesseract\n",
    "# apt install tesseract-ocr tesseract-ocr-chi-sim\n",
    "```\n",
    "\n",
    "以Mac为例,https://www.jianshu.com/p/719c053f170b\n",
    "\n",
    "\n",
    "This formula contains only the \"eng\", \"osd\", and \"snum\" language data files.\n",
    "If you need any other supported languages, run `brew install tesseract-lang`.\n",
    "\n",
    "```shell\n",
    "# pip3 install pytesseract\n",
    "# apt install tesseract-ocr tesseract-ocr-chi-sim\n",
    "```\n",
    "\n",
    "\n",
    "```\n",
    "==> Downloading https://homebrew.bintray.com/bottles/tesseract-lang-4.0.0.catalina.bottle.tar.gz\n",
    "==> Downloading from https://d29vzk4ow07wi7.cloudfront.net/5cfe25847d5eaa4983c7b5ae2b6973bd036ce7363b4332cc66e1ab1b8d41a0d5?response-content-dispositio\n",
    "######################################################################## 100.0%\n",
    "==> Pouring tesseract-lang-4.0.0.catalina.bottle.tar.gz\n",
    "🍺  /usr/local/Cellar/tesseract-lang/4.0.0: 163 files, 651.8MB\n",
    "```"
   ]
  },
  {
   "cell_type": "code",
   "execution_count": 1,
   "metadata": {},
   "outputs": [
    {
     "name": "stdout",
     "output_type": "stream",
     "text": [
      "英文:\n",
      "This is an image containing text.\n",
      "And some numbers 123456789\n",
      "\n",
      "And also special characters: !|@#5%%&*(_+\n",
      "中文:\n",
      "python自动化测试人工智能\n"
     ]
    }
   ],
   "source": [
    "#!/usr/bin/python\n",
    "# -*- coding: utf-8 -*-\n",
    "# CreateDate: 2018-04-25\n",
    "import pytesseract as pt\n",
    "import requests\n",
    "from PIL import Image\n",
    "\n",
    "#img = Image.open(\"textinimage.png\")\n",
    "print(\"英文:\")\n",
    "url = \"./python_lib_ocr_en.png\"\n",
    "# img = Image.open(requests.get(url, stream=True).raw)\n",
    "img = Image.open(url)\n",
    "text = pt.image_to_string(img)\n",
    "print(text)\n",
    "#img = Image.open(\"textinimage.png\")\n",
    "print(\"中文:\")\n",
    "url = \"./python_lib_ocr.PNG\"\n",
    "# img = Image.open(requests.get(url, stream=True).raw)\n",
    "img = Image.open(url)\n",
    "# TesseractError: (1, 'Error opening data file /usr/local/share/tessdata/chi_sim.traineddata \n",
    "# Please make sure the TESSDATA_PREFIX environment variable is set to your \"tessdata\" directory. \n",
    "# Failed loading language \\'chi_sim\\' Tesseract couldn\\'t load any languages! Could not initialize tesseract.')\n",
    "text = pt.image_to_string(img,lang='chi_sim')\n",
    "print(text)"
   ]
  },
  {
   "cell_type": "code",
   "execution_count": 7,
   "metadata": {},
   "outputs": [
    {
     "name": "stdout",
     "output_type": "stream",
     "text": [
      "中文:\n",
      "8:357                               中 全 国国)\n",
      "\n",
      "&        详情\n",
      "\n",
      "WwWW\n",
      "\n",
      "何 有没有跟我一起免费参加大学生在线实训项\n",
      "目的，4大项目 (拌音运营、竞品分析、阿里\n",
      "云认证等) ，利用课余时间锻炼自己的求职\n",
      "技能，丰富自己的个人简历。\n",
      "\n",
      "[免费报名| 参加在线实训项目，丰富个人\n",
      "E拘肌 简历，get高薪 offer~\n",
      "\n",
      "昨天 下午7:02 删除\n",
      "\"天\n",
      "\n",
      "口 何交              昨天 下午7:02\n",
      "听参加过项目的同学说，这个项目对我们挺有\n",
      "帮助，文章最末端就可以报名参加。\n"
     ]
    }
   ],
   "source": [
    "#!/usr/bin/python\n",
    "# -*- coding: utf-8 -*-\n",
    "# CreateDate: 2018-04-25\n",
    "import pytesseract as pt\n",
    "import requests\n",
    "from PIL import Image\n",
    "\n",
    "#img = Image.open(\"textinimage.png\")\n",
    "print(\"中文:\")\n",
    "url = \"./IMG_20200724_093601.jpg\"\n",
    "# img = Image.open(requests.get(url, stream=True).raw)\n",
    "img = Image.open(url)\n",
    "# TesseractError: (1, 'Error opening data file /usr/local/share/tessdata/chi_sim.traineddata \n",
    "# Please make sure the TESSDATA_PREFIX environment variable is set to your \"tessdata\" directory. \n",
    "# Failed loading language \\'chi_sim\\' Tesseract couldn\\'t load any languages! Could not initialize tesseract.')\n",
    "text = pt.image_to_string(img,lang='chi_sim')\n",
    "print(text)"
   ]
  }
 ],
 "metadata": {
  "kernelspec": {
   "display_name": "Python 3",
   "language": "python",
   "name": "python3"
  },
  "language_info": {
   "codemirror_mode": {
    "name": "ipython",
    "version": 3
   },
   "file_extension": ".py",
   "mimetype": "text/x-python",
   "name": "python",
   "nbconvert_exporter": "python",
   "pygments_lexer": "ipython3",
   "version": "3.6.8"
  },
  "toc": {
   "base_numbering": 1,
   "nav_menu": {},
   "number_sections": true,
   "sideBar": true,
   "skip_h1_title": false,
   "title_cell": "Table of Contents",
   "title_sidebar": "Contents",
   "toc_cell": false,
   "toc_position": {},
   "toc_section_display": true,
   "toc_window_display": false
  },
  "varInspector": {
   "cols": {
    "lenName": 16,
    "lenType": 16,
    "lenVar": 40
   },
   "kernels_config": {
    "python": {
     "delete_cmd_postfix": "",
     "delete_cmd_prefix": "del ",
     "library": "var_list.py",
     "varRefreshCmd": "print(var_dic_list())"
    },
    "r": {
     "delete_cmd_postfix": ") ",
     "delete_cmd_prefix": "rm(",
     "library": "var_list.r",
     "varRefreshCmd": "cat(var_dic_list()) "
    }
   },
   "types_to_exclude": [
    "module",
    "function",
    "builtin_function_or_method",
    "instance",
    "_Feature"
   ],
   "window_display": false
  }
 },
 "nbformat": 4,
 "nbformat_minor": 2
}
