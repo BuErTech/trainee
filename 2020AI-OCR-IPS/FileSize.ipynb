{
 "cells": [
  {
   "cell_type": "code",
   "execution_count": 4,
   "metadata": {},
   "outputs": [
    {
     "name": "stdout",
     "output_type": "stream",
     "text": [
      "filename is /Users/lw/WorkSpace/BuEr/trainee/.git/objects/pack/pack-1e3162b0ca4ac973172210987a3c7800d6265355.pack , and size is 149494829\n",
      "filename is /Users/lw/WorkSpace/BuEr/trainee/PythonAnalysis/信用卡欺诈/creditcard.csv , and size is 150828752\n",
      "filename is /Users/lw/WorkSpace/BuEr/trainee/pydata-book/datasets/fec/P00000001-ALL.csv , and size is 157871393\n",
      "filename is /Users/lw/WorkSpace/BuEr/trainee/PythonAnalysis/pydata-book/datasets/fec/P00000001-ALL.csv , and size is 157871393\n",
      "filename is /Users/lw/WorkSpace/BuEr/trainee/Computing-Intelligence/jupyters_and_slides/.git/objects/pack/pack-808d67bff05be83effa68c10715af12000f9cba6.pack , and size is 310986035\n"
     ]
    }
   ],
   "source": [
    "# -*-coding:utf-8-*-\n",
    "import os\n",
    "\n",
    "filePath = '/Users/lw/WorkSpace/BuEr/trainee/'\n",
    "\n",
    "fileMap = {}\n",
    "size = 0\n",
    "\n",
    "# 遍历filePath下的文件、文件夹（包括子目录）\n",
    "for parent, dirnames, filenames in os.walk(filePath):\n",
    "    #for dirname in dirnames:\n",
    "        #print('parent is %s, dirname is %s' % (parent, dirname))\n",
    "\n",
    "    for filename in filenames:\n",
    "        # print('parent is %s, filename is %s' % (parent, filename))\n",
    "        # print('the full name of the file is %s' % os.path.join(parent, filename))\n",
    "        \n",
    "        size = os.path.getsize(os.path.join(parent, filename))\n",
    "        fileMap.setdefault(os.path.join(parent, filename), size)\n",
    "\n",
    "filelist = sorted(fileMap.items(), key=lambda d: d[1], reverse=False)\n",
    "for filename, size in filelist:\n",
    "    if size >=100000000:\n",
    "        print(\"filename is %s , and size is %d\" % (filename, size))"
   ]
  },
  {
   "cell_type": "code",
   "execution_count": null,
   "metadata": {},
   "outputs": [],
   "source": []
  }
 ],
 "metadata": {
  "kernelspec": {
   "display_name": "Python 3",
   "language": "python",
   "name": "python3"
  },
  "language_info": {
   "codemirror_mode": {
    "name": "ipython",
    "version": 3
   },
   "file_extension": ".py",
   "mimetype": "text/x-python",
   "name": "python",
   "nbconvert_exporter": "python",
   "pygments_lexer": "ipython3",
   "version": "3.6.8"
  },
  "toc": {
   "base_numbering": 1,
   "nav_menu": {},
   "number_sections": true,
   "sideBar": true,
   "skip_h1_title": false,
   "title_cell": "Table of Contents",
   "title_sidebar": "Contents",
   "toc_cell": false,
   "toc_position": {},
   "toc_section_display": true,
   "toc_window_display": false
  },
  "varInspector": {
   "cols": {
    "lenName": 16,
    "lenType": 16,
    "lenVar": 40
   },
   "kernels_config": {
    "python": {
     "delete_cmd_postfix": "",
     "delete_cmd_prefix": "del ",
     "library": "var_list.py",
     "varRefreshCmd": "print(var_dic_list())"
    },
    "r": {
     "delete_cmd_postfix": ") ",
     "delete_cmd_prefix": "rm(",
     "library": "var_list.r",
     "varRefreshCmd": "cat(var_dic_list()) "
    }
   },
   "types_to_exclude": [
    "module",
    "function",
    "builtin_function_or_method",
    "instance",
    "_Feature"
   ],
   "window_display": false
  }
 },
 "nbformat": 4,
 "nbformat_minor": 2
}
