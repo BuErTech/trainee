{
 "cells": [
  {
   "cell_type": "markdown",
   "metadata": {},
   "source": [
    "想要实现此demo，首先我们得确保电脑上已安装 openCV 和 Python 两个工具以及scikit-image和imutils两个库：\n",
    "\n",
    "安装方法，在这里不多说，我安装的是Python3.6 和openCV2，安装方法网上自行百度谷歌；\n",
    "\n",
    "进入正题：\n",
    "\n",
    "新建一个新的Python文件并命名为copmarePicture.py，写入下面的代码：\n",
    "\n",
    "```python\n",
    "from skimage.measure import compare_ssim\n",
    "#~ import skimage  as ssim\n",
    "import argparse\n",
    "import imutils\n",
    "import cv2\n",
    "```\n",
    "\n",
    "加载两张图片并将他们转换为灰度：\n",
    "\n",
    "```python\n",
    "imageA = cv2.imread(\"D:/111test/111.png\")\n",
    "imageB = cv2.imread(\"D:/111test/444.png\")\n",
    "\n",
    "grayA = cv2.cvtColor(imageA,cv2.COLOR_BGR2GRAY)\n",
    "grayB = cv2.cvtColor(imageB,cv2.COLOR_BGR2GRAY)\n",
    "```\n",
    "\n",
    "\n",
    "接下来，计算两个灰度图像之间的结构相似度指数：\n",
    "\n",
    "```python\n",
    "(score,diff) = compare_ssim(grayA,grayB,full = True)\n",
    "diff = (diff *255).astype(\"uint8\")\n",
    "print(\"SSIM:{}\".format(score))\n",
    "```\n",
    "\n",
    "\n",
    "找到不同点的轮廓以致于我们可以在被标识为“不同”的区域周围放置矩形：\n",
    "\n",
    "```python\n",
    "thresh = cv2.threshold(diff,0,255,cv2.THRESH_BINARY_INV | cv2.THRESH_OTSU)[1]\n",
    "cnts = cv2.findContours(thresh.copy(),cv2.RETR_EXTERNAL,cv2.CHAIN_APPROX_SIMPLE)\n",
    "cnts = cnts[0] if imutils.is_cv2() else cnts[1]\n",
    "```\n",
    "\n",
    "找到一系列区域，在区域周围放置矩形：\n",
    "\n",
    "```python\n",
    "for c in cnts:                                                                                                                                                                                                                                        \n",
    "    (x,y,w,h) = cv2.boundingRect(c)                                                                                                                                                                                              \n",
    "    cv2.rectangle(imageA,(x,y),(x+w,y+h),(0,0,255),2)                                                                                                                                                                         \n",
    "    cv2.rectangle(imageB,(x,y),(x+w,y+h),(0,0,255),2)\n",
    "```\n",
    "\n",
    "\n",
    "用cv2.imshow 展现最终对比之后的图片，cv2.imwrite 保存最终的结果图片\n",
    "\n",
    "```python\n",
    "cv2.imshow(\"Modified\",imageB)\n",
    "cv2.imwrite(\"haha2.png\",imageB)\n",
    "cv2.waitKey(0)\n",
    "```\n",
    "\n",
    "\n",
    "到这已经实现两张图片的对比并标识出不同。结果如下所示：（图1图2对比，图3为对标结果）\n",
    "\n",
    "![](https://tva1.sinaimg.cn/large/007S8ZIlly1ghcqvjspn8j30u01hc77x.jpg)\n",
    "\n",
    "![](https://tva1.sinaimg.cn/large/007S8ZIlly1ghcqvwwwzcj30u01hcgp7.jpg)\n",
    "\n",
    "![](https://tva1.sinaimg.cn/large/007S8ZIlly1ghcqw534ybj30u01hcn0x.jpg)"
   ]
  },
  {
   "cell_type": "code",
   "execution_count": null,
   "metadata": {},
   "outputs": [],
   "source": []
  }
 ],
 "metadata": {
  "kernelspec": {
   "display_name": "Python 3",
   "language": "python",
   "name": "python3"
  },
  "language_info": {
   "codemirror_mode": {
    "name": "ipython",
    "version": 3
   },
   "file_extension": ".py",
   "mimetype": "text/x-python",
   "name": "python",
   "nbconvert_exporter": "python",
   "pygments_lexer": "ipython3",
   "version": "3.6.8"
  },
  "toc": {
   "base_numbering": 1,
   "nav_menu": {},
   "number_sections": true,
   "sideBar": true,
   "skip_h1_title": false,
   "title_cell": "Table of Contents",
   "title_sidebar": "Contents",
   "toc_cell": false,
   "toc_position": {},
   "toc_section_display": true,
   "toc_window_display": false
  },
  "varInspector": {
   "cols": {
    "lenName": 16,
    "lenType": 16,
    "lenVar": 40
   },
   "kernels_config": {
    "python": {
     "delete_cmd_postfix": "",
     "delete_cmd_prefix": "del ",
     "library": "var_list.py",
     "varRefreshCmd": "print(var_dic_list())"
    },
    "r": {
     "delete_cmd_postfix": ") ",
     "delete_cmd_prefix": "rm(",
     "library": "var_list.r",
     "varRefreshCmd": "cat(var_dic_list()) "
    }
   },
   "types_to_exclude": [
    "module",
    "function",
    "builtin_function_or_method",
    "instance",
    "_Feature"
   ],
   "window_display": false
  }
 },
 "nbformat": 4,
 "nbformat_minor": 2
}
