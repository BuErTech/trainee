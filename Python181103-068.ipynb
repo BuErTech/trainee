{
 "cells": [
  {
   "cell_type": "code",
   "execution_count": 3,
   "metadata": {},
   "outputs": [
    {
     "name": "stdout",
     "output_type": "stream",
     "text": [
      "整数 n 为:\n",
      "8\n",
      "向后移 m 个位置为:\n",
      "5\n",
      "输入一个数字:\n",
      "2\n",
      "输入一个数字:\n",
      "8\n",
      "输入一个数字:\n",
      "6\n",
      "输入一个数字:\n",
      "1\n",
      "输入一个数字:\n",
      "78\n",
      "输入一个数字:\n",
      "45\n",
      "输入一个数字:\n",
      "34\n",
      "输入一个数字:\n",
      "2\n",
      "原始列表: [2, 8, 6, 1, 78, 45, 34, 2]\n",
      "移动之后: [1, 78, 45, 34, 2, 2, 8, 6]\n"
     ]
    }
   ],
   "source": [
    "#!/usr/bin/python\n",
    "# -*- coding: UTF-8 -*-\n",
    " \n",
    "if __name__ == '__main__':\n",
    "    n = int(input('整数 n 为:\\n'))\n",
    "    m = int(input('向后移 m 个位置为:\\n'))\n",
    " \n",
    "    def move(array,n,m):\n",
    "        array_end = array[n - 1]\n",
    "        for i in range(n - 1,-1,- 1):\n",
    "            array[i] = array[i - 1]\n",
    "        array[0] = array_end\n",
    "        m -= 1\n",
    "        if m > 0:move(array,n,m)\n",
    "        \n",
    "    number = []\n",
    "    for i in range(n):\n",
    "        number.append(int(input('输入一个数字:\\n')))\n",
    "    print('原始列表:',number)\n",
    " \n",
    "    move(number,n,m)\n",
    " \n",
    "    print('移动之后:',number)"
   ]
  },
  {
   "cell_type": "code",
   "execution_count": null,
   "metadata": {},
   "outputs": [],
   "source": []
  }
 ],
 "metadata": {
  "kernelspec": {
   "display_name": "Python 3",
   "language": "python",
   "name": "python3"
  },
  "language_info": {
   "codemirror_mode": {
    "name": "ipython",
    "version": 3
   },
   "file_extension": ".py",
   "mimetype": "text/x-python",
   "name": "python",
   "nbconvert_exporter": "python",
   "pygments_lexer": "ipython3",
   "version": "3.7.0"
  }
 },
 "nbformat": 4,
 "nbformat_minor": 2
}
